{
 "cells": [
  {
   "cell_type": "markdown",
   "metadata": {},
   "source": [
    "# 2110443 - Computer Vision (2020/2)\n",
    "## Lab 4 - Color Processing\n",
    "In this lab, we will learn to use color feature in different color spaces to extract useful information from images. This notebook includes both coding and written questions. Please hand in this notebook file with all outputs and your answer"
   ]
  },
  {
   "cell_type": "markdown",
   "metadata": {},
   "source": [
    "Import OpenCV, Numpy and Matplotlib as always"
   ]
  },
  {
   "cell_type": "code",
   "execution_count": null,
   "metadata": {},
   "outputs": [],
   "source": [
    "import cv2\n",
    "import math\n",
    "import time\n",
    "import threading\n",
    "import numpy as np\n",
    "import random as rng\n",
    "from matplotlib import pyplot as plt\n",
    "from ipywidgets import interact,interactive\n",
    "import ipywidgets as widgets\n",
    "from IPython.display import display, HTML,clear_output\n",
    "import IPython.display\n",
    "%matplotlib inline"
   ]
  },
  {
   "cell_type": "markdown",
   "metadata": {},
   "source": [
    "## Grayscale Image Thresholding\n",
    "Thresholding is the simplest method of image segmentation. This non-linear operation converts a grayscale image into a binary image where the two colors (black/white) are assigned to pixels that are below or above the specified threshold. <br>\n",
    "Lena comes again! Can you adjust both sliders to segment lena's skin?"
   ]
  },
  {
   "cell_type": "code",
   "execution_count": null,
   "metadata": {},
   "outputs": [],
   "source": [
    "inputImage = cv2.imread(\"assets/lena_std.tif\",cv2.IMREAD_GRAYSCALE)\n",
    "def grayscaleThresholding(minValue,maxValue):\n",
    "    thresholdImage = np.logical_and(inputImage > minValue, inputImage < maxValue)\n",
    "    inputImageCopy = inputImage.copy()\n",
    "    cv2.rectangle(inputImageCopy,(250,400),(340,500),255,3)\n",
    "    cropRegion = inputImage[400:500,250:340]\n",
    "    \n",
    "    plt.figure(figsize=(10,10))\n",
    "    plt.subplot(131)\n",
    "    plt.title(\"Lena Image\")\n",
    "    plt.imshow(inputImageCopy, cmap='gray')\n",
    "    \n",
    "    plt.subplot(132)\n",
    "    plt.title(\"Segmentation Mask\")\n",
    "    plt.imshow(thresholdImage, cmap='gray')\n",
    "    \n",
    "    plt.subplot(133)\n",
    "    plt.title(\"Pixel Value Distribution\")\n",
    "    plt.hist(cropRegion,range=(0,255))\n",
    "    plt.show()\n",
    "interact(grayscaleThresholding, minValue=widgets.IntSlider(min=0,max=255,step=1,value=1),maxValue=widgets.IntSlider(min=0,max=255,step=1,value=1));"
   ]
  },
  {
   "cell_type": "markdown",
   "metadata": {},
   "source": [
    "## Simple Image Segmentation using Color"
   ]
  },
  {
   "cell_type": "markdown",
   "metadata": {},
   "source": [
    "As you can see from the above sample, only grayscale information is usually not enough to segment \"things\" from the images. In this section we will apply simple color segmentation on various colorspaces. The following block is code snippet which retrive image from your webcam and apply thresholding on BGR image using defined value."
   ]
  },
  {
   "cell_type": "code",
   "execution_count": null,
   "metadata": {},
   "outputs": [],
   "source": [
    "bMin = 50; bMax = 120\n",
    "gMin = 6; gMax = 60\n",
    "rMin = 5; rMax = 60\n",
    "cameraNo = 0"
   ]
  },
  {
   "cell_type": "code",
   "execution_count": null,
   "metadata": {},
   "outputs": [],
   "source": [
    "# You can press \"Interupt Kernel Button to stop webcam\"\n",
    "inputStream = cv2.VideoCapture(cameraNo) \n",
    "try:\n",
    "    while True:\n",
    "        _, videoFrameBGR = inputStream.read()\n",
    "        if videoFrameBGR is not None:\n",
    "            outputVideoFrameBGR = videoFrameBGR.copy()\n",
    "\n",
    "            # Draw ROI\n",
    "            cv2.rectangle(outputVideoFrameBGR,(100,100),(200,200),(0,255,0),3)\n",
    "            # Cropped Region\n",
    "            croppedRegion = videoFrameBGR[100:200,100:200,:]\n",
    "            \n",
    "           \n",
    "            \n",
    "            mask = cv2.inRange(videoFrameBGR,(bMin,gMin,rMin),(bMax,gMax,rMax))[:,:,np.newaxis]\n",
    "            mask = np.repeat(mask,3,axis=2)\n",
    "            \n",
    "            ## Draw Min/Max pixel value in BGR order on image\n",
    "            cv2.putText(outputVideoFrameBGR,str(np.min(croppedRegion[:,:,0]))+'/'+str(np.min(croppedRegion[:,:,1]))+'/'+str(np.min(croppedRegion[:,:,2])),(20,20),cv2.FONT_HERSHEY_SIMPLEX,1.0,(0,0,255))\n",
    "            cv2.putText(outputVideoFrameBGR,str(np.max(croppedRegion[:,:,0]))+'/'+str(np.max(croppedRegion[:,:,1]))+'/'+str(np.max(croppedRegion[:,:,2])),(20,50),cv2.FONT_HERSHEY_SIMPLEX,1.0,(0,0,255))\n",
    "            \n",
    "            outputVideoFrameBGR = np.hstack((outputVideoFrameBGR,mask))\n",
    "            \n",
    "            # Encode image as jpg numpy array\n",
    "            _, buf = cv2.imencode(\".jpg\", outputVideoFrameBGR)\n",
    "            # Draw result\n",
    "            IPython.display.display(IPython.display.Image(data=buf))\n",
    "        \n",
    "            clear_output(wait=True) \n",
    "        else:\n",
    "            print(\"Cannot Open Webcam, hw problem?\")\n",
    "            break\n",
    "except KeyboardInterrupt:\n",
    "    print (\"Stream stopped\")\n",
    "inputStream.release()"
   ]
  },
  {
   "cell_type": "markdown",
   "metadata": {},
   "source": [
    "Since the slider widget does not support for-loop webcam retrival method that we use, we may use build-in OpenCV GUI library to create a color range slider by using the following code. (The window name <b>\"Color Segmentation\"</b> will popup!)"
   ]
  },
  {
   "cell_type": "code",
   "execution_count": null,
   "metadata": {},
   "outputs": [],
   "source": [
    "def sliderCallback(x):\n",
    "    pass\n",
    "# Create a OpenCV Window\n",
    "windowName = 'Color Segmentation'\n",
    "cv2.namedWindow(windowName)\n",
    "cv2.createTrackbar('bMin',windowName,0,255,sliderCallback)\n",
    "cv2.createTrackbar('gMin',windowName,0,255,sliderCallback)\n",
    "cv2.createTrackbar('rMin',windowName,0,255,sliderCallback)\n",
    "cv2.createTrackbar('bMax',windowName,0,255,sliderCallback)\n",
    "cv2.createTrackbar('gMax',windowName,0,255,sliderCallback)\n",
    "cv2.createTrackbar('rMax',windowName,0,255,sliderCallback)\n",
    "\n",
    "inputStream = cv2.VideoCapture(cameraNo) \n",
    "try:\n",
    "    while True:\n",
    "        _, videoFrameBGR = inputStream.read()\n",
    "        if videoFrameBGR is not None:\n",
    "            \n",
    "            \n",
    "            bMin = cv2.getTrackbarPos('bMin',windowName)\n",
    "            gMin = cv2.getTrackbarPos('gMin',windowName)\n",
    "            rMin = cv2.getTrackbarPos('rMin',windowName)\n",
    "            \n",
    "            bMax = cv2.getTrackbarPos('bMax',windowName)\n",
    "            gMax = cv2.getTrackbarPos('gMax',windowName)\n",
    "            rMax = cv2.getTrackbarPos('rMax',windowName)\n",
    "            \n",
    "            mask = cv2.inRange(videoFrameBGR,(bMin,gMin,rMin),(bMax,gMax,rMax))[:,:,np.newaxis]\n",
    "            mask = np.repeat(mask,3,axis=2)\n",
    "            outputVideoFrameBGR = videoFrameBGR.copy()\n",
    "            outputVideoFrameBGR = np.hstack((outputVideoFrameBGR,mask))\n",
    "            \n",
    "            cv2.imshow(windowName,outputVideoFrameBGR)\n",
    "            if cv2.waitKey(1) == ord('q'):\n",
    "                cv2.destroyAllWindows()\n",
    "                break\n",
    "        else:\n",
    "            print(\"Cannot Open Webcam, hw problem?\")\n",
    "            break\n",
    "except KeyboardInterrupt:\n",
    "    print (\"Stream stopped\")\n",
    "inputStream.release()\n",
    "cv2.destroyAllWindows()"
   ]
  },
  {
   "cell_type": "markdown",
   "metadata": {},
   "source": [
    "OpenCV supports many well-known colorspaces. You can apply the colorspace transformation by using <a href=\"https://docs.opencv.org/3.4.2/d7/d1b/group__imgproc__misc.html#ga397ae87e1288a81d2363b61574eb8cab\">cv2.cvtColor</a> and see the list of suppoted transformation flags <a href=\"https://docs.opencv.org/3.4.2/d7/d1b/group__imgproc__misc.html#ga4e0972be5de079fed4e3a10e24ef5ef0\">here</a>. Try tp apply color segmention on any object in other colorspace <b>(NOT BGR!!)</b> by fill the following block."
   ]
  },
  {
   "cell_type": "code",
   "execution_count": null,
   "metadata": {},
   "outputs": [],
   "source": [
    "### FILL HERE ###\n"
   ]
  },
  {
   "cell_type": "markdown",
   "metadata": {},
   "source": [
    "## Morphological Transformations"
   ]
  },
  {
   "cell_type": "markdown",
   "metadata": {},
   "source": [
    "The field of mathematical morphology contributes a wide range of operators to image processing, all based around a simple mathematical concepts from set theory. Morphological transformations are the operations based on the image shape employed on binay images. This operation needs needs two inputs, one is binary image, second one is called <b>structuring element or kernel</b> which decides the operation output. You can design the kernel to suit your application needs. Two basic morphological operators are Erosion and Dilation"
   ]
  },
  {
   "cell_type": "markdown",
   "metadata": {},
   "source": [
    "The following mask image is segmented by using color information. You can see that there are some hand's pixels which are not connect into a perfect hand shape. We can correct these by using the basic morphological operaters."
   ]
  },
  {
   "cell_type": "code",
   "execution_count": null,
   "metadata": {},
   "outputs": [],
   "source": [
    "handMask = cv2.imread('assets/Lab4-SegmentedHand.png',cv2.IMREAD_GRAYSCALE)\n",
    "plt.title('Segmented Hand Mask')\n",
    "plt.imshow(handMask,cmap='gray')\n",
    "plt.show()"
   ]
  },
  {
   "cell_type": "code",
   "execution_count": null,
   "metadata": {},
   "outputs": [],
   "source": [
    "def openAndCloseMorph(kernelSize,kernelShape, morphType):\n",
    "    kernel = cv2.getStructuringElement(kernelShape,(kernelSize,kernelSize))\n",
    "    \n",
    "    outputImage = handMask.copy()\n",
    "    \n",
    "    if morphType == 'erode':\n",
    "        outputImage = cv2.erode(outputImage,kernel,iterations = 1)\n",
    "    else:\n",
    "        outputImage = cv2.dilate(outputImage,kernel,iterations = 1)\n",
    "\n",
    "    plt.figure(figsize=(5,5))\n",
    "    plt.imshow(outputImage, cmap='gray')\n",
    "    plt.show()\n",
    "    \n",
    "    print('Morphology Kernel Shape:')\n",
    "    display(kernel)\n",
    "    \n",
    "interact(openAndCloseMorph, kernelSize=widgets.IntSlider(min=1,max=11,step=1,value=1), \n",
    "         kernelShape=widgets.Dropdown(\n",
    "                        options=[cv2.MORPH_RECT,cv2.MORPH_ELLIPSE, cv2.MORPH_CROSS],\n",
    "                        value=cv2.MORPH_RECT,\n",
    "                        description='kernelShape:',\n",
    "                        disabled=False),\n",
    "        morphType=widgets.Dropdown(\n",
    "                        options=['erode','dilate'],\n",
    "                        value='erode',\n",
    "                        description='Morph Type:',\n",
    "                        disabled=False)\n",
    ");"
   ]
  },
  {
   "cell_type": "markdown",
   "metadata": {},
   "source": [
    "This <a href=\"https://docs.opencv.org/3.4.2/d9/d61/tutorial_py_morphological_ops.html\">page</a> shows a good morphological operation exmple, try to write an interactive visualization like the above sample on <b>Opening and Closing</b> operations. See the output results by yourself."
   ]
  },
  {
   "cell_type": "code",
   "execution_count": null,
   "metadata": {},
   "outputs": [],
   "source": [
    "### FILL HERE ###\n",
    "\n",
    "#################"
   ]
  },
  {
   "cell_type": "markdown",
   "metadata": {},
   "source": [
    "## Assignment 1 - Color Based Face Detector <br>\n",
    "\n",
    "<img src=\"assets/Lab4-funnyface.gif\"/>\n",
    "By using the knowledge from lecture 1-4, you should be able to write your own simple color based face detector. Use the above code snippets to help you write it. The output should be a code which retrive video feed from <b>your webcam</b> and draw bounding boxes around detected faces. Write the detection results into video file and hand in with this notebook. There should be <b>two video sequences</b>, in good lighting and other lighting condition. The output video should show robustness of your designed alogorithm. (Optional) You will get extra points if you can use <b>same parameters</b> for both sequences.\n",
    "\n",
    "<b>Basic Guidance:<b>\n",
    "1. Create a \"face color segmentation mask\" using your choice colorspace.\n",
    "2. Filter out the outlier pixel!\n",
    "3. Categorize each connected component into group by using cv2.findContours (from Lab 3)\n",
    "4. Find the bounding box which can enclose those connect components by <a href=\"https://docs.opencv.org/3.4.2/d3/dc0/group__imgproc__shape.html#gacb413ddce8e48ff3ca61ed7cf626a366\">cv2.boundingRect</a>\n",
    "\n",
    "<b>Hints:</b>\n",
    "- From today lecture, how do to discard noise/fill small hole from color segmentation mask output?\n",
    "- Since this is a color-based problem, you can use old knowledge from lecture 1-3 to improve segmentation result by apply <b>?</b> on input image\n",
    "- You can use some specific threshold based on shape properties or simple morphological operations to keep only potential contours\n",
    "- To achieve a better result for both lighting conditions, you may need to apply some data analysis on the <b>region of interest</b> by plotting each channel value and see their data distributions.\n",
    "- Internet is your friend. You can search for relavent research papers and use their algorithms/implementations, but you must <b>give proper credits</b> by citing them in this notebook. "
   ]
  },
  {
   "cell_type": "code",
   "execution_count": null,
   "metadata": {},
   "outputs": [],
   "source": [
    "### Describe how your algorithm work here (Thai or English). You can provide any visualization if you want.\n",
    "'''\n",
    "1. ..\n",
    "2. ..\n",
    "3. ..\n",
    "'''"
   ]
  },
  {
   "cell_type": "code",
   "execution_count": null,
   "metadata": {},
   "outputs": [],
   "source": [
    "### FILL HERE ###"
   ]
  },
  {
   "cell_type": "markdown",
   "metadata": {},
   "source": [
    "## Assignment 2 - Invisibility Cloak \n",
    "By using the knowledge from lecture 1-4, you should be able to mimic a invisibility cloak from famous Harry Potter franchise by using color segmentation<br>\n",
    "<img src=\"assets/Lab4-invisibilitycloak.gif\"><br>\n",
    "<b>Basic Guidance:<b>\n",
    "1. Create a \"invisibility cloak color segmentation mask\" using your choice colorspace.\n",
    "2. Filter out the outlier pixel using some specify (you can think by your own!) criteria.\n",
    "3. Replace each invisible cloak area with store static background image.\n",
    "4. Make a short video clip to demonstrate/show your algorithm\n",
    "\n",
    "<b>Hints:</b>\n",
    "- From today lecture, how do to discard noise/fill small hole from color segmentation mask output?\n",
    "- Since this is a color-based problem, you can use old knowledge from lecture 1-3 to improve segmentation result by apply <b>?</b> on input image\n",
    "- Internet is your friend. You can search for relavent research papers and use their algorithm, but you must <b>give proper credits</b> by citing them in this notebook. "
   ]
  },
  {
   "cell_type": "code",
   "execution_count": null,
   "metadata": {},
   "outputs": [],
   "source": []
  }
 ],
 "metadata": {
  "kernelspec": {
   "display_name": "Python 3",
   "language": "python",
   "name": "python3"
  },
  "language_info": {
   "codemirror_mode": {
    "name": "ipython",
    "version": 3
   },
   "file_extension": ".py",
   "mimetype": "text/x-python",
   "name": "python",
   "nbconvert_exporter": "python",
   "pygments_lexer": "ipython3",
   "version": "3.8.6"
  }
 },
 "nbformat": 4,
 "nbformat_minor": 4
}
