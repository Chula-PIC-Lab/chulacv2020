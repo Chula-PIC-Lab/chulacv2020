{
  "nbformat": 4,
  "nbformat_minor": 0,
  "metadata": {
    "colab": {
      "name": "Lab 8 - Convolutional Neural Network",
      "provenance": [],
      "collapsed_sections": [
        "zy4dlzpNdgoy",
        "i1C8f4hcav0u"
      ],
      "toc_visible": true
    },
    "kernelspec": {
      "name": "python3",
      "display_name": "Python 3"
    },
    "accelerator": "GPU"
  },
  "cells": [
    {
      "cell_type": "markdown",
      "metadata": {
        "id": "XzfDLX7pqfti"
      },
      "source": [
        "# **2110443 - Computer Vision (2020/2)**\n",
        "#**Lab 8 - Convolutional Neural Network** <br>\n",
        "In this lab, we will learn how to use Convolutional Neural Network to perform image classification in the provided real world dataset using PyTorch. This notebook includes both coding and written questions. Please hand in this notebook file with all outputs and your answer"
      ]
    },
    {
      "cell_type": "code",
      "metadata": {
        "id": "ebIwwHpaAhLJ"
      },
      "source": [
        "import random\n",
        "import torch\n",
        "import torch.nn.functional as F\n",
        "import numpy as np\n",
        "import cv2\n",
        "import pickle\n",
        "from matplotlib import pyplot as plt\n",
        "from torchvision.datasets import ImageFolder\n",
        "from scipy.spatial.distance import cdist"
      ],
      "execution_count": null,
      "outputs": []
    },
    {
      "cell_type": "markdown",
      "metadata": {
        "id": "F84Y895v5jEA"
      },
      "source": [
        "# 1.Pixel as feature on CIFAR-10 Dataset"
      ]
    },
    {
      "cell_type": "markdown",
      "metadata": {
        "id": "28ow5Awn5wZ3"
      },
      "source": [
        "The CIFAR-10 dataset consists of 60000 32x32 colour images in 10 classes. The 10 different classes represent airplanes, cars, birds, cats, deer, dogs, frogs, horses, ships, and trucks. There are 6,000 images of each class. Here are the  10 random images from class:\n",
        "![CIFAR-10 samples image](https://github.com/Chula-PIC-Lab/AI4Engineer/raw/master/cifar-10-samples.png)"
      ]
    },
    {
      "cell_type": "code",
      "metadata": {
        "id": "Wt7875tWBNwX"
      },
      "source": [
        "### CIFAR-10 dataset helper function ###\n",
        "\n",
        "'''\n",
        "data -- a 10000x3072 numpy array of uint8s. Each row of the array stores a 32x32 colour image. The first 1024 entries contain the red channel values, the next 1024 the green, and the final 1024 the blue. The image is stored in row-major order, so that the first 32 entries of the array are the red channel values of the first row of the image.\n",
        "labels -- a list of 10000 numbers in the range 0-9. The number at index i indicates the label of the ith image in the array data.\n",
        "'''\n",
        "def unpickle(file):\n",
        "    with open(file, 'rb') as fo:\n",
        "        dict = pickle.load(fo, encoding='bytes')\n",
        "    return dict\n",
        "  \n",
        "def cifar10Loader(setName='train', datasetDir='cifar-10-batches-py/'):\n",
        "  cifarImages = []\n",
        "  cifarLabels = []\n",
        "\n",
        "  if setName == 'train':\n",
        "    fileNamePrefix = 'data_batch_'\n",
        "    for batchNo in range(1,6):\n",
        "      batchData = unpickle(datasetDir + fileNamePrefix + str(batchNo))\n",
        "      cifarImages.append(batchData[b'data'])\n",
        "      cifarLabels.append(batchData[b'labels'])\n",
        "    cifarImages = np.concatenate(cifarImages)\n",
        "    cifarLabels = np.concatenate(cifarLabels)\n",
        "    return cifarImages, cifarLabels\n",
        "\n",
        "  else:\n",
        "    batchData = unpickle(datasetDir + 'test_batch')\n",
        "    return batchData[b'data'], batchData[b'labels']\n",
        "\n",
        "def cifar10Labels(datasetDir='cifar-10-batches-py/'):\n",
        "  byteLabels = unpickle(datasetDir + 'batches.meta')[b'label_names']\n",
        "  return [label.decode(\"utf-8\")  for label in byteLabels]"
      ],
      "execution_count": null,
      "outputs": []
    },
    {
      "cell_type": "markdown",
      "metadata": {
        "id": "lo8cMp8B_v9W"
      },
      "source": [
        "## 1.1 Download and Inspect CIFAR-10 dataset"
      ]
    },
    {
      "cell_type": "code",
      "metadata": {
        "id": "015C3uNFBN6z"
      },
      "source": [
        "### Download and Extract CIFAR-10 Dataset ###\n",
        "!wget -O cifar-10-python.tar.gz https://www.cs.toronto.edu/~kriz/cifar-10-python.tar.gz\n",
        "!tar xf cifar-10-python.tar.gz"
      ],
      "execution_count": null,
      "outputs": []
    },
    {
      "cell_type": "code",
      "metadata": {
        "id": "hTatdyMlBOID"
      },
      "source": [
        "cifarTrainImages, cifarTrainLabels = cifar10Loader(setName='train')\n",
        "cifarTestImages, cifarTestLabels = cifar10Loader(setName='test')\n",
        "cifarLabelNames = cifar10Labels()\n",
        "\n",
        "cifarTrainImages = cifarTrainImages.reshape(-1, 3, 32, 32).transpose(0,2,3,1)\n",
        "cifarTestImages = cifarTestImages.reshape(-1, 3, 32, 32).transpose(0,2,3,1)\n",
        "totalTrainImages = len(cifarTrainLabels)\n",
        "totalTestImages = len(cifarTestLabels)\n",
        "\n",
        "print('Total train images :', totalTrainImages)\n",
        "print('Total test images :', totalTestImages)\n",
        "print('Labels :',cifarLabelNames)\n",
        "print('cifarTrainImages shape :', cifarTrainImages.shape)\n",
        "print('cifarTestImages shape :', cifarTestImages.shape)"
      ],
      "execution_count": null,
      "outputs": []
    },
    {
      "cell_type": "code",
      "metadata": {
        "id": "KM4V2049EFSh"
      },
      "source": [
        "### Randomly show train images and their labels ###\n",
        "randTrainIdx = random.sample(range(0, totalTrainImages), 8)\n",
        "sampleTrainImages = np.concatenate([cifarTrainImages[idx, :] for idx in randTrainIdx],axis=1)\n",
        "\n",
        "plt.figure(figsize=(10,10))\n",
        "plt.imshow(sampleTrainImages, interpolation='nearest')\n",
        "print([ cifarLabelNames[labelIdx] for labelIdx in cifarTrainLabels[randTrainIdx]])"
      ],
      "execution_count": null,
      "outputs": []
    },
    {
      "cell_type": "markdown",
      "metadata": {
        "id": "Hjn7Q0Jo_9Xy"
      },
      "source": [
        "## 1.2 CIFAR-10 classification using nearest neighbour\n"
      ]
    },
    {
      "cell_type": "code",
      "metadata": {
        "id": "nXJDjH5yElGj"
      },
      "source": [
        "### Randomly pick a image from test set ###\n",
        "randTestIdx = random.randint(0, totalTestImages) \n",
        "sampleTestImages = cifarTestImages[randTestIdx, :]\n",
        "\n",
        "plt.figure(figsize=(2,2))\n",
        "plt.imshow(sampleTestImages, interpolation='nearest')\n",
        "\n",
        "### Find a nearest image from train set using euclidean distance ### \n",
        "distance = ((sampleTestImages - cifarTrainImages)**2).reshape(totalTrainImages,-1)\n",
        "distance = np.sqrt(np.sum(distance,axis=1))\n",
        "minDistance = np.min(distance)\n",
        "minIdx = np.argmin(distance)\n",
        "\n",
        "nearestTrainImage = cifarTrainImages[minIdx, :]\n",
        "\n",
        "plt.figure(figsize=(2,2))\n",
        "plt.imshow(nearestTrainImage, interpolation='nearest')\n",
        "print('Sample image real label =>', cifarLabelNames[cifarTestLabels[randTestIdx]],' Nearest label in train set =>', cifarLabelNames[cifarTrainLabels[minIdx]])\n",
        "\n",
        "#### The output result will be very bad ==> pixel as feature is not enough ###"
      ],
      "execution_count": null,
      "outputs": []
    },
    {
      "cell_type": "markdown",
      "metadata": {
        "id": "KA6SGP3I79dz"
      },
      "source": [
        "# 2.Convolutional Neural Networks Building Block\n",
        "![alt text](http://cs231n.github.io/assets/cnn/convnet.jpeg)\n",
        "Image from CS231n Convolutional Neural Networks for Visual Recognition [CS231n Convolutional Neural Networks for Visual Recognition](http://cs231n.github.io/convolutional-networks/)"
      ]
    },
    {
      "cell_type": "markdown",
      "metadata": {
        "id": "lm5prR0H8YQB"
      },
      "source": [
        "## 2.1 Convolution Layer"
      ]
    },
    {
      "cell_type": "code",
      "metadata": {
        "id": "-XRyQb1rAWkE"
      },
      "source": [
        "%%html\n",
        "<iframe src=\"https://cs231n.github.io/assets/conv-demo/index.html\" width=\"800\" height=\"700\"></iframe>"
      ],
      "execution_count": null,
      "outputs": []
    },
    {
      "cell_type": "markdown",
      "metadata": {
        "id": "cty-iqH59YzL"
      },
      "source": [
        "## 2.2 Pooling Layer\n",
        "<br>\n",
        "<img src=\"http://cs231n.github.io/assets/cnn/pool.jpeg\" width=\"36%\">\n",
        "<img src=\"http://cs231n.github.io/assets/cnn/maxpool.jpeg\" width=\"59%\">"
      ]
    },
    {
      "cell_type": "code",
      "metadata": {
        "id": "n0VjEUHJJiY8"
      },
      "source": [
        "import random\n",
        "import numpy as np\n",
        "import cv2\n",
        "from matplotlib import pyplot as plt\n",
        "from tqdm.notebook import tqdm\n",
        "\n",
        "import torch\n",
        "import torch.nn.functional as F\n",
        "import torch.nn as nn\n",
        "import torch.optim as optim\n",
        "from torch.utils.data import DataLoader\n",
        "from torchvision.datasets import ImageFolder"
      ],
      "execution_count": null,
      "outputs": []
    },
    {
      "cell_type": "markdown",
      "metadata": {
        "id": "L-r1fuwwAan9"
      },
      "source": [
        "## 2.3 Get familiar with PyTorch layers"
      ]
    },
    {
      "cell_type": "code",
      "metadata": {
        "id": "G3AVRAzXEyjc"
      },
      "source": [
        "### Convolution & MaxPool operators in PyTorch ###\n",
        "sampleInput = torch.tensor([[[[1,2,3,4],[5,6,7,8],[9,10,11,12],[13,14,15,16]]]],dtype=torch.float32)\n",
        "print(sampleInput)\n",
        "\n",
        "print('=== Convolution ===')\n",
        "kernel = torch.tensor([[[[1,1],[1,1]]]], dtype=torch.float32)\n",
        "convOutput = F.conv2d(sampleInput, kernel, padding=0)\n",
        "print(convOutput, convOutput.shape)\n",
        "\n",
        "print('=== Maxpool ===')\n",
        "maxPoolOutput = F.max_pool2d(sampleInput, kernel_size=2)\n",
        "print(maxPoolOutput)"
      ],
      "execution_count": null,
      "outputs": []
    },
    {
      "cell_type": "markdown",
      "metadata": {
        "id": "_bWIF7C8-8s2"
      },
      "source": [
        "# 3.Example CNN real world usage : Fastener Classification"
      ]
    },
    {
      "cell_type": "code",
      "metadata": {
        "id": "U12iH2ZZxPTJ"
      },
      "source": [
        "import random\n",
        "import numpy as np\n",
        "import cv2\n",
        "from matplotlib import pyplot as plt\n",
        "from tqdm.notebook import tqdm\n",
        "\n",
        "import torch\n",
        "import torch.nn.functional as F\n",
        "import torch.nn as nn\n",
        "import torch.optim as optim\n",
        "from torch.utils.data import DataLoader\n",
        "from torchvision.datasets import ImageFolder\n",
        "from torchvision import transforms\n",
        "from torchvision import models as models\n",
        "from sklearn.metrics import confusion_matrix\n",
        "\n",
        "# To guarantee reproducible results \n",
        "torch.manual_seed(2)\n",
        "torch.backends.cudnn.deterministic = True\n",
        "torch.backends.cudnn.benchmark = False\n",
        "np.random.seed(2)"
      ],
      "execution_count": null,
      "outputs": []
    },
    {
      "cell_type": "markdown",
      "metadata": {
        "id": "fU7Zog_MBBIq"
      },
      "source": [
        "## 3.1 GPU status check"
      ]
    },
    {
      "cell_type": "code",
      "metadata": {
        "id": "7bsZRFhIxXTJ"
      },
      "source": [
        "!nvidia-smi"
      ],
      "execution_count": null,
      "outputs": []
    },
    {
      "cell_type": "markdown",
      "metadata": {
        "id": "UOAXhY3oBExo"
      },
      "source": [
        "## 3.2 Download and inspect train fastener dataset\n",
        "You can download the dataset to your computer from [here](https://github.com/Chula-PIC-Lab/AI4Engineer/raw/master/fastenerDataset.zip)"
      ]
    },
    {
      "cell_type": "code",
      "metadata": {
        "id": "afFrpx5jF3OK"
      },
      "source": [
        "### Download fastener dataset ###\n",
        "!wget  -O fastenerDataset.zip http://www.piclab.ai/classes/cv2020/fastenerDataset.zip\n",
        "!unzip -qo fastenerDataset.zip"
      ],
      "execution_count": null,
      "outputs": []
    },
    {
      "cell_type": "code",
      "metadata": {
        "id": "ZdIWROFm4yhu"
      },
      "source": [
        "### Helper function to display image from dataset ###\n",
        "def getImageFromDataset(dataset, idx):\n",
        "  sampleImage, sampleLabel = dataset.__getitem__(idx)\n",
        "  ### Revert transformation ###\n",
        "  sampleImage = ((sampleImage.permute(1,2,0).numpy() * np.array([0.229, 0.224, 0.225])) + np.array([0.485, 0.456, 0.406]))*255\n",
        "  sampleImage = sampleImage.astype(np.uint8)\n",
        "  sampleClassName = dataset.classes[sampleLabel]\n",
        "  return sampleImage, sampleClassName"
      ],
      "execution_count": null,
      "outputs": []
    },
    {
      "cell_type": "code",
      "metadata": {
        "id": "PKHJO4HbaRyE"
      },
      "source": [
        "### Dataloader for our dataset ###\n",
        "transform = transforms.Compose([transforms.Resize((224,224)), transforms.ToTensor(), transforms.Normalize(mean=[0.485, 0.456, 0.406], std=[0.229, 0.224, 0.225])])\n",
        "fastenerTrainDataset = ImageFolder('fastenerDataset/train/', transform=transform)\n",
        "fastenerTestDataset = ImageFolder('fastenerDataset/test/', transform=transform)\n",
        "\n",
        "print('Total train set images :', len(fastenerTrainDataset))\n",
        "print('Total test set images :', len(fastenerTestDataset))"
      ],
      "execution_count": null,
      "outputs": []
    },
    {
      "cell_type": "markdown",
      "metadata": {
        "id": "B-jpwB_rBQAP"
      },
      "source": [
        "## 3.3 Fastener dataset visualization"
      ]
    },
    {
      "cell_type": "code",
      "metadata": {
        "id": "v4ELkLntbXc_"
      },
      "source": [
        "nonClipImage, nonClipClassName = getImageFromDataset(fastenerTrainDataset, 4)\n",
        "clipExistImage, clipExistClassName = getImageFromDataset(fastenerTrainDataset, 700)\n",
        "\n",
        "_, figure = plt.subplots(1,2)\n",
        "\n",
        "figure[0].imshow(nonClipImage)\n",
        "figure[0].title.set_text(nonClipClassName)\n",
        "\n",
        "figure[1].imshow(clipExistImage)\n",
        "figure[1].title.set_text(clipExistClassName)\n",
        "plt.show()"
      ],
      "execution_count": null,
      "outputs": []
    },
    {
      "cell_type": "markdown",
      "metadata": {
        "id": "4kbEc_XdCBp3"
      },
      "source": [
        "## 3.4 Define simple CNN network for fastener classification based on VGG-8.\n",
        "![vgg-8.png](data:image/png;base64,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)\n"
      ]
    },
    {
      "cell_type": "code",
      "metadata": {
        "id": "jNf6I_S5H1uN"
      },
      "source": [
        "### Build simple CNN ###\n",
        "class simpleFastenerNet(nn.Module):\n",
        "  def __init__(self):\n",
        "    super(simpleFastenerNet, self).__init__()\n",
        "    self.conv1 = nn.Conv2d(3, 64, kernel_size=3, stride=1, padding=1)\n",
        "    self.pool1 = nn.MaxPool2d(kernel_size=2, stride=2)\n",
        "\n",
        "    self.conv2 = nn.Conv2d(64, 128, kernel_size=3, padding=1)\n",
        "    self.pool2 = nn.MaxPool2d(kernel_size=2, stride=2)\n",
        "\n",
        "    self.conv3 = nn.Conv2d(128, 256, kernel_size=3, padding=1)\n",
        "    self.pool3 = nn.MaxPool2d(kernel_size=2, stride=2)\n",
        "\n",
        "    self.conv4 = nn.Conv2d(256, 512, kernel_size=3, padding=1)\n",
        "    self.pool4 = nn.MaxPool2d(kernel_size=2, stride=2)\n",
        "\n",
        "\n",
        "    self.conv5 = nn.Conv2d(512, 512, kernel_size=3, padding=1)\n",
        "    self.pool5 = nn.MaxPool2d(kernel_size=2, stride=2)\n",
        "\n",
        "    self.fc6 = nn.Linear(512*7*7, 4096)\n",
        "    self.fc7 = nn.Linear(4096, 2)\n",
        "\n",
        "\n",
        "  def forward(self, input): # 1 x 3 x 224 x 224\n",
        "    x = self.pool1(F.relu(self.conv1(input)))\n",
        "    x = self.pool2(F.relu(self.conv2(x)))\n",
        "    x = self.pool3(F.relu(self.conv3(x)))\n",
        "    x = self.pool4(F.relu(self.conv4(x)))\n",
        "    x = self.pool5(F.relu(self.conv5(x))) # 512x7x7\n",
        "    \n",
        "    \n",
        "    x = x.view(-1, 512*7*7)\n",
        "\n",
        "    x = F.relu(self.fc6(x))\n",
        "    x = self.fc7(x)\n",
        "    return x\n",
        "  "
      ],
      "execution_count": null,
      "outputs": []
    },
    {
      "cell_type": "markdown",
      "metadata": {
        "id": "DKwFFGPnC4Lu"
      },
      "source": [
        "## 3.5 Construct the model, optimizer and loss function"
      ]
    },
    {
      "cell_type": "code",
      "metadata": {
        "id": "cCjI9WSLOs0y"
      },
      "source": [
        "net = simpleFastenerNet()\n",
        "net.cuda()\n",
        "\n",
        "criterion = nn.CrossEntropyLoss()\n",
        "optimizer = optim.Adam(net.parameters(), lr=0.001)\n",
        "scheduler = optim.lr_scheduler.ReduceLROnPlateau(optimizer, patience=5, verbose=True)\n",
        "\n",
        "fastenerTrainDatasetLoader = DataLoader(fastenerTrainDataset, batch_size=16, shuffle=True, num_workers=2, pin_memory=True)\n",
        "fastenerTestDatasetLoader = DataLoader(fastenerTestDataset, batch_size=16, shuffle=False, num_workers=2, pin_memory=True)"
      ],
      "execution_count": null,
      "outputs": []
    },
    {
      "cell_type": "markdown",
      "metadata": {
        "id": "aW9z0YV9DQTu"
      },
      "source": [
        "## 3.6 Train the model"
      ]
    },
    {
      "cell_type": "code",
      "metadata": {
        "id": "JkOVXTfkXAN3"
      },
      "source": [
        "### Train and test helper function ###\n",
        "def testModel(testDatasetLoader, net):\n",
        "  net.eval()\n",
        "  correctImages = 0\n",
        "  totalImages = 0\n",
        "  allLabels = []\n",
        "  allPredicted = []\n",
        "  testingProgressbar = tqdm(enumerate(testDatasetLoader), total=len(testDatasetLoader), ncols='100%')\n",
        "  with torch.no_grad():\n",
        "    for batchIdx, batchData in testingProgressbar:\n",
        "      images, labels = batchData\n",
        "      \n",
        "      images, labels = images.cuda(), labels.cuda()\n",
        "      outputs = net(images)\n",
        "      _, predicted = torch.max(outputs, 1)\n",
        "\n",
        "      correctImages += (predicted == labels).sum().item()\n",
        "      totalImages += labels.size(0)\n",
        "\n",
        "      accumulateAccuracy = round((correctImages/totalImages)*100,4)\n",
        "      testingProgressbar.set_description(\"Testing accuracy: {}\".format(accumulateAccuracy ) )\n",
        "    \n",
        "      allLabels.append(labels)\n",
        "      allPredicted.append(predicted)\n",
        "  allLabels = torch.cat(allLabels).cpu().numpy()\n",
        "  allPredicted = torch.cat(allPredicted).cpu().numpy()\n",
        "  return correctImages, totalImages, allLabels, allPredicted\n",
        "\n",
        "def trainAndTestModel(trainDatasetLoader, testDatasetLoader, net, optimizer,scheduler, criterion, trainEpoch):\n",
        "  \n",
        "  bestAccuracy = 0\n",
        "  correctImages = 0\n",
        "  totalImages = 0\n",
        "  for currentEpoch in tqdm(range(trainEpoch), desc='Overall Training Progress:', ncols='100%'):\n",
        "    trainingLoss = 0.0\n",
        "    net.train()\n",
        "    print('Epoch',str(currentEpoch+1),'/',str(trainEpoch))\n",
        "    trainingProgressbar = tqdm(enumerate(trainDatasetLoader), total=len(trainDatasetLoader), ncols='100%')\n",
        "    for batchIdx, batchData in trainingProgressbar:\n",
        "      images, labels = batchData\n",
        "      images, labels = images.cuda(), labels.cuda()\n",
        "\n",
        "      # zero the parameter gradients\n",
        "      optimizer.zero_grad()\n",
        "\n",
        "      # forward + backward + optimize\n",
        "      outputs = net(images)\n",
        "      loss = criterion(outputs, labels)\n",
        "    \n",
        "      _, predicted = torch.max(outputs, 1)\n",
        "      correctImages += (predicted == labels).sum().item()\n",
        "      totalImages += labels.size(0)\n",
        "    \n",
        "      loss.backward()\n",
        "      optimizer.step()\n",
        "      \n",
        "\n",
        "      trainingLoss += loss.item()\n",
        "      accumulateAccuracy = round((correctImages/totalImages)*100,4)\n",
        "      trainingProgressbar.set_description(\"Training accuracy: {} loss: {}\".format(accumulateAccuracy, round(loss.item(),4) ) )\n",
        "    scheduler.step(trainingLoss)\n",
        "    correctImages, totalImages, allLabels, allPredicted = testModel(testDatasetLoader, net)\n",
        "    testAccuracy = round((correctImages/totalImages)*100,2)\n",
        "\n",
        "    print('='*10)\n",
        "    \n",
        "    if testAccuracy > bestAccuracy:\n",
        "      bestAccuracy = testAccuracy\n",
        "      bestPredicted = allPredicted\n",
        "      bestNet = net\n",
        "\n",
        "  return bestAccuracy, bestPredicted, allLabels, bestNet"
      ],
      "execution_count": null,
      "outputs": []
    },
    {
      "cell_type": "code",
      "metadata": {
        "id": "FOg-YPNqP7Fo"
      },
      "source": [
        "bestAccuracy, bestPredicted, allLabels, bestNet = trainAndTestModel(fastenerTrainDatasetLoader, fastenerTestDatasetLoader, \n",
        "                                                                    net, \n",
        "                                                                    optimizer, scheduler, criterion, \n",
        "                                                                    trainEpoch=5)"
      ],
      "execution_count": null,
      "outputs": []
    },
    {
      "cell_type": "markdown",
      "metadata": {
        "id": "28XdgtJtFfZt"
      },
      "source": [
        "## 3.7 Find the confusion matrix and calculate TP, TN, FP, and FN"
      ]
    },
    {
      "cell_type": "code",
      "metadata": {
        "id": "nnDajk9p3dNx"
      },
      "source": [
        "### Confusion matrix plot helper function from https://www.kaggle.com/grfiv4/plot-a-confusion-matrix ###\n",
        "def plot_confusion_matrix(cm,target_names,title='Confusion matrix',cmap=None,normalize=True):\n",
        "    import matplotlib.pyplot as plt\n",
        "    import numpy as np\n",
        "    import itertools\n",
        "\n",
        "    accuracy = np.trace(cm) / float(np.sum(cm))\n",
        "    misclass = 1 - accuracy\n",
        "\n",
        "    if cmap is None:\n",
        "        cmap = plt.get_cmap('Blues')\n",
        "\n",
        "    plt.figure(figsize=(8, 6))\n",
        "    plt.imshow(cm, interpolation='nearest', cmap=cmap)\n",
        "    plt.title(title)\n",
        "    plt.colorbar()\n",
        "\n",
        "    if target_names is not None:\n",
        "        tick_marks = np.arange(len(target_names))\n",
        "        plt.xticks(tick_marks, target_names, rotation=45)\n",
        "        plt.yticks(tick_marks, target_names)\n",
        "\n",
        "    if normalize:\n",
        "        cm = cm.astype('float') / cm.sum(axis=1)[:, np.newaxis]\n",
        "\n",
        "\n",
        "    thresh = cm.max() / 1.5 if normalize else cm.max() / 2\n",
        "    for i, j in itertools.product(range(cm.shape[0]), range(cm.shape[1])):\n",
        "        if normalize:\n",
        "            plt.text(j, i, \"{:0.4f}\".format(cm[i, j]),\n",
        "                     horizontalalignment=\"center\",\n",
        "                     color=\"white\" if cm[i, j] > thresh else \"black\")\n",
        "        else:\n",
        "            plt.text(j, i, \"{:,}\".format(cm[i, j]),\n",
        "                     horizontalalignment=\"center\",\n",
        "                     color=\"white\" if cm[i, j] > thresh else \"black\")\n",
        "            \n",
        "    plt.tight_layout()\n",
        "    plt.ylabel('True label')\n",
        "    plt.xlabel('Predicted label\\naccuracy={:0.4f}; misclass={:0.4f}'.format(accuracy, misclass))\n",
        "    plt.show()"
      ],
      "execution_count": null,
      "outputs": []
    },
    {
      "cell_type": "code",
      "metadata": {
        "id": "0rcKeB2DFl9Y"
      },
      "source": [
        "confusionMatrix = confusion_matrix(allLabels, bestPredicted)\n",
        "plot_confusion_matrix(cm           = confusionMatrix, \n",
        "                      normalize    = False,\n",
        "                      target_names = fastenerTrainDataset.classes,\n",
        "                      title        = \"Fastener Classification Confusion Matrix\")\n",
        "tn, fp, fn, tp = confusionMatrix.ravel()\n",
        "print('TP:{} TN:{} FP:{} FN:{}'.format(tn, fp, fn, tp))"
      ],
      "execution_count": null,
      "outputs": []
    },
    {
      "cell_type": "code",
      "metadata": {
        "id": "Drcqw8RRVj_D"
      },
      "source": [
        "#### Calculcate  Specificity, Sensitivity ###\n",
        "sensitivity = tp / (tp+fn)\n",
        "specificity = tn / (fp+tn)"
      ],
      "execution_count": null,
      "outputs": []
    },
    {
      "cell_type": "markdown",
      "metadata": {
        "id": "Y_T29Lugqoow"
      },
      "source": [
        "## 3.8 Show Classification Results"
      ]
    },
    {
      "cell_type": "code",
      "metadata": {
        "id": "-HIo-k1wq1M1"
      },
      "source": [
        "def showRandomSamples(labels, predicted, testDataset, sampleNum=5):\n",
        "  equals = labels == predicted\n",
        "  correctIdx = np.where(equals == 1)[0].tolist()\n",
        "  incorrectIdx = np.where(equals == 0)[0].tolist()\n",
        "\n",
        "  randomCorrectIdx = random.sample(correctIdx, sampleNum)\n",
        "  randomIncorrectIdx  = random.sample(incorrectIdx, sampleNum)\n",
        "\n",
        "  _, figure = plt.subplots(2,sampleNum,figsize=(30,10))\n",
        "\n",
        "  ### Plot Correct ###\n",
        "  for imageIdx in range(len(randomCorrectIdx)):\n",
        "    image, className = getImageFromDataset(testDataset, randomCorrectIdx[imageIdx])\n",
        "    figure[0,imageIdx].imshow(image,cmap='gray')\n",
        "    figure[0,imageIdx].title.set_text('[CORRECT] '+className)\n",
        "\n",
        "  for imageIdx in range(len(randomIncorrectIdx)):\n",
        "    image, className = getImageFromDataset(testDataset, randomIncorrectIdx[imageIdx])\n",
        "    figure[1,imageIdx].imshow(image,cmap='gray')\n",
        "    predictedClassName = testDataset.classes[predicted[randomIncorrectIdx[imageIdx]]]\n",
        "    figure[1,imageIdx].title.set_text('Actual:'+className+' Predicted:' + predictedClassName)\n",
        "\n",
        "  plt.show()"
      ],
      "execution_count": null,
      "outputs": []
    },
    {
      "cell_type": "code",
      "metadata": {
        "id": "iHPEN8OLq4UH"
      },
      "source": [
        "showRandomSamples(allLabels,bestPredicted,fastenerTestDataset,sampleNum=5)"
      ],
      "execution_count": null,
      "outputs": []
    },
    {
      "cell_type": "markdown",
      "metadata": {
        "id": "K1HgkEphGs9-"
      },
      "source": [
        "## 3.9 Transfer learning from pretrained model\n",
        "\n",
        "Available pretrained models in PyTorch : https://pytorch.org/docs/stable/torchvision/models.html"
      ]
    },
    {
      "cell_type": "code",
      "metadata": {
        "id": "dQPVr9AxJJTK"
      },
      "source": [
        "pretrainNet = models.resnet34(pretrained=True)\n",
        "pretrainNet.fc = nn.Linear(512, 2)\n",
        "pretrainNet.cuda()\n",
        "\n",
        "criterion = nn.CrossEntropyLoss()\n",
        "optimizer = optim.Adam(pretrainNet.parameters(), lr=0.001)\n",
        "scheduler = optim.lr_scheduler.ReduceLROnPlateau(optimizer, patience=5, verbose=True)\n",
        "\n",
        "fastenerTrainDatasetLoader = DataLoader(fastenerTrainDataset, batch_size=16, shuffle=True, num_workers=4, pin_memory=True)\n",
        "fastenerTestDatasetLoader = DataLoader(fastenerTestDataset, batch_size=16, shuffle=False, num_workers=4, pin_memory=True)"
      ],
      "execution_count": null,
      "outputs": []
    },
    {
      "cell_type": "code",
      "metadata": {
        "id": "Bj5V12ZouAvj"
      },
      "source": [
        "bestAccuracy, bestPredicted, allLabels, bestNet = trainAndTestModel(fastenerTrainDatasetLoader, fastenerTestDatasetLoader, \n",
        "                                                                    pretrainNet, \n",
        "                                                                    optimizer, scheduler, criterion, \n",
        "                                                                    trainEpoch=10)"
      ],
      "execution_count": null,
      "outputs": []
    },
    {
      "cell_type": "code",
      "metadata": {
        "id": "8BEHxIX25oJd"
      },
      "source": [
        "confusionMatrix = confusion_matrix(allLabels, bestPredicted)\n",
        "plot_confusion_matrix(cm           = confusionMatrix, \n",
        "                      normalize    = False,\n",
        "                      target_names = fastenerTrainDataset.classes,\n",
        "                      title        = \"Fastener Classification Confusion Matrix\")\n",
        "tn, fp, fn, tp = confusionMatrix.ravel()\n",
        "print('TP:{} TN:{} FP:{} FN:{}'.format(tn, fp, fn, tp))"
      ],
      "execution_count": null,
      "outputs": []
    },
    {
      "cell_type": "markdown",
      "metadata": {
        "id": "xWNUx8t6Fmgv"
      },
      "source": [
        "# 4.Exercise on real world dataset : Chest X-Ray Images (Pneumonia) \n",
        "This dataset is taken from https://www.kaggle.com/paultimothymooney/chest-xray-pneumonia\n",
        "![Dataset samples](https://i.imgur.com/jZqpV51.png)\n",
        "\n",
        "The dataset is organized into 3 folders (train, test, val) and contains subfolders for each image category (Pneumonia/Normal). There are 5,863 X-Ray images (JPEG) and 2 categories (Pneumonia/Normal).\n",
        "\n",
        "Chest X-ray images (anterior-posterior) were selected from retrospective cohorts of pediatric patients of one to five years old from Guangzhou Women and Children’s Medical Center, Guangzhou. All chest X-ray imaging was performed as part of patients’ routine clinical care."
      ]
    },
    {
      "cell_type": "code",
      "metadata": {
        "id": "NRgJUQSUhoDk"
      },
      "source": [
        "!pip install captum"
      ],
      "execution_count": null,
      "outputs": []
    },
    {
      "cell_type": "code",
      "metadata": {
        "id": "uTpeCJfUWB42"
      },
      "source": [
        "import random\n",
        "import numpy as np\n",
        "import cv2\n",
        "from matplotlib import pyplot as plt\n",
        "from tqdm.notebook import tqdm\n",
        "\n",
        "import torch\n",
        "import torch.nn.functional as F\n",
        "import torch.nn as nn\n",
        "import torch.optim as optim\n",
        "from torch.utils.data import DataLoader\n",
        "from torchvision.datasets import ImageFolder\n",
        "from torchvision import transforms\n",
        "from torchvision import models as models\n",
        "from sklearn.metrics import confusion_matrix\n",
        "\n",
        "from captum.attr import LayerGradCam, LayerAttribution\n",
        "# To guarantee reproducible results \n",
        "torch.manual_seed(2)\n",
        "torch.backends.cudnn.deterministic = True\n",
        "torch.backends.cudnn.benchmark = False\n",
        "np.random.seed(2)"
      ],
      "execution_count": null,
      "outputs": []
    },
    {
      "cell_type": "markdown",
      "metadata": {
        "id": "oEs2u-mhdMTA"
      },
      "source": [
        "## 4.1 GPU status check"
      ]
    },
    {
      "cell_type": "code",
      "metadata": {
        "id": "H6MdQTScc_fo"
      },
      "source": [
        "!nvidia-smi"
      ],
      "execution_count": null,
      "outputs": []
    },
    {
      "cell_type": "markdown",
      "metadata": {
        "id": "v0X7YMu7HrhG"
      },
      "source": [
        "## 4.2 Download and inspect pneumonia chest-xray dataset"
      ]
    },
    {
      "cell_type": "code",
      "metadata": {
        "id": "lbgJfCTOQ1ev"
      },
      "source": [
        "!wget -O chest_xray.zip https://www.piclab.ai/classes/cv2020/chest_xray.zip\n",
        "!unzip -qo chest_xray.zip"
      ],
      "execution_count": null,
      "outputs": []
    },
    {
      "cell_type": "code",
      "metadata": {
        "id": "hTIYi-SbTh90"
      },
      "source": [
        "### Helper function to display image from dataset ###\n",
        "def getImageFromDataset(dataset, idx):\n",
        "  sampleImage, sampleLabel = dataset.__getitem__(idx)\n",
        "  ### Revert transformation ###\n",
        "  sampleImage = ((sampleImage.permute(1,2,0).numpy() * np.array([0.229, 0.224, 0.225])) + np.array([0.485, 0.456, 0.406]))*255\n",
        "  sampleImage = sampleImage.astype(np.uint8)\n",
        "  sampleClassName = dataset.classes[sampleLabel]\n",
        "  return sampleImage, sampleClassName"
      ],
      "execution_count": null,
      "outputs": []
    },
    {
      "cell_type": "code",
      "metadata": {
        "id": "JX5nenj2Tiom"
      },
      "source": [
        "### Dataset Augmentation (https://pytorch.org/docs/stable/torchvision/transforms.html) ###\n",
        "transformTrain = transforms.Compose([        \n",
        "        transforms.RandomResizedCrop(size=256, scale=(0.8, 1.0)),\n",
        "        transforms.RandomRotation(degrees=15),\n",
        "        transforms.ColorJitter(),\n",
        "        transforms.RandomHorizontalFlip(),\n",
        "        transforms.CenterCrop(size=(224,224)),\n",
        "        transforms.ToTensor(),\n",
        "        transforms.Normalize([0.485, 0.456, 0.406],[0.229, 0.224, 0.225])])\n",
        "\n",
        "transformTest =  transforms.Compose([\n",
        "        transforms.Resize(size=(224,224)),\n",
        "        transforms.ToTensor(),\n",
        "        transforms.Normalize([0.485, 0.456, 0.406], [0.229, 0.224, 0.225])])\n",
        "\n",
        "### Dataloader for our dataset ###\n",
        "pneumoniaTrainDataset = ImageFolder('chest_xray/train/', transform=transformTrain)\n",
        "pneumoniaTestDataset = ImageFolder('chest_xray/test/', transform=transformTest)\n",
        "\n",
        "print('Total train set images :', len(pneumoniaTrainDataset))\n",
        "print('Total test set images :', len(pneumoniaTestDataset))"
      ],
      "execution_count": null,
      "outputs": []
    },
    {
      "cell_type": "markdown",
      "metadata": {
        "id": "-jXt4pVMHI4M"
      },
      "source": [
        "\n",
        "## 4.3 Dataset visualization"
      ]
    },
    {
      "cell_type": "code",
      "metadata": {
        "id": "7puG0Xn6SDxI"
      },
      "source": [
        "normalImage, normalClassName = getImageFromDataset(pneumoniaTrainDataset, 0)\n",
        "pneumoniaImage, pneumoniaClassName = getImageFromDataset(pneumoniaTrainDataset, 3000)\n",
        "\n",
        "\n",
        "_, figure = plt.subplots(1,2)\n",
        "\n",
        "figure[0].imshow(normalImage,cmap='gray')\n",
        "figure[0].title.set_text(normalClassName)\n",
        "\n",
        "figure[1].imshow(pneumoniaImage,cmap='gray')\n",
        "figure[1].title.set_text(pneumoniaClassName)\n",
        "plt.show()"
      ],
      "execution_count": null,
      "outputs": []
    },
    {
      "cell_type": "markdown",
      "metadata": {
        "id": "SY0cKzZ-SF21"
      },
      "source": [
        "## 4.4 Define CNN network for pneumonia classification based on modified VGG-8\n",
        "![vgg8-mod.png](data:image/png;base64,iVBORw0KGgoAAAANSUhEUgAAAoUAAAFOCAYAAADw7mc+AAAAAXNSR0IArs4c6QAAAHhlWElmTU0AKgAAAAgABAEaAAUAAAABAAAAPgEbAAUAAAABAAAARgEoAAMAAAABAAIAAIdpAAQAAAABAAAATgAAAAAAAABIAAAAAQAAAEgAAAABAAOgAQADAAAAAQABAACgAgAEAAAAAQAAAoWgAwAEAAAAAQAAAU4AAAAAFwIyUAAAAAlwSFlzAAALEwAACxMBAJqcGAAAQABJREFUeAHsvXeUXcdx519vcsAMMDPIaWaQcyIJEgQIEiDBKFGkSEm0gmVZybs6v5/DsfZ4j4/P7h/e/cs+x2uv/Eu2ZVsiLVuWKFqkKDEHkBQJMCIHIuccJoc3v++n7u03F8OJRODM6PXMe/e+eztWV1dXV1VXpzoULBuyEMhCIAuBLASyEMhCIAuBqwiBlMJVzD6b9RWAQM4VyCObRRYCWQhkIZCFQBYCWQhkIZCFwBCHQJYpHOIdmK1+FgJZCGQhkIVAFgJZCGQhcCUgkGUKrwQUs3lkIZCFQBYCWQhkIZCFQBYCQxwCWaZwiHdgtvpZCGQhkIVAFgJZCGQhkIXAlYBAlim8ElDM5pGFQBYCWQhkIZCFQBYCWQgMcQjkXav6s8k5u/FI0I43e/umb23Eurow6bCO9rRZrsoZQEerp4xPKp22jpxo3XAtVg8OE+Bz1eAieJjg4dDwFqo/1LK+9t8DvBSRSM8VePpD3WdD/yEQwX9g2EjuwwvWV4QWapx4PvH4TObZkY5xO9Ex/UHzCNKkTVt7m8hGXoA716EfOkTPUjG8Lrc1gVYl8yP/AdGuuA+pS8gnWcdQRvJ9v+qdyDfET+afzC9ZXojb2zVZpxAv5B1+Z69DGwLXjCmEGXKEEryuNBL5YIz7IZUTCNnAO2agA2TgJdD4mMAKHoFB9HzC84+VaU+JVAb5ilbBymRCziW/Mo/DDdMCITCE4flVv4IjItowox4GCJOAB+BX730Jc5IbsXcdTBT9aRmRosmW1AJsfxINuTiM0Y+zUHHYq7+6pg19EgARjc/wq39XZ3J8XPcv/qCPFWhhN/DqT927wvSjaeLxrXEu9I4C1/4wRErQls4RQ6gFoeM7yYcJrgveSdg5rg6AxoS0Pn9BvxMhvEs86vu2m/5Pzo3Uz8cj/RZwRrkm43RbSDf5Es/r2OWdlxHobT/y7goz8uTTZ526rWj24WCEQEpIdyl2X+FaJieZNEWxiv0YBN6rqfQ5ubleQ8+Xu3jg0Ag1Jp62mb4jUhauRA1vw7Nw9TdKC2I70lNP5XtVgtcxypki0pLkfewBRV7JeicqnGag08DciKBkXlEozwk0MXGf6Svar37yl4qf05/JhPwuMyQJq/d3Ir/+wMjTOFDV9u7qrXYJ2mpW9N6ZckkAnTDSD+IOO/gN6ICNPn4PP0gS0w35C2gRcUxUcIjfgoed7aKNHyPEuOhwJbnDSqADF3XvwlZHuoHl3dHRHuFgnN/AUg+e2I6fAUaqVpikB1rDS9Ipv0ATI3yOGJ8OEFchAlncn97HvZfGGFCqDFnwMdC/VVPvGX/SbwUngkMF2qY5qD9YnqRJwAV4dmWMyJe+Je/MgpaH/QlkGNfN5x/S6BnlZmgeeTOGoMOBLvcn7y5xPH/ypjx9QjuivNU25e3vuqTr/SdQVH7KN4e28OklqMzeI/SSNvvq2kDgqksKHQeEgG1tbdbc3CzkFm5LnTnQQD4QvwIlzcnJjRAa5FZobW211pbWCB9TeULstBA0x9qFrAjFOsDDdLsGWa7GVFra1PBOgwCCl5auRFEKCgosPz9fOZLvwOtIXfoMqgvMK5VtU71b9Bn4QOwshbTUOy8vzwel15z26qaltcU6WjqsXUCHD+IhMAzlAdO0CEGOCCQMe9RiiIbgFxeRm5drhQWFgt1VgkdnU6I71am1pcWahCs51IKKUHeIeC9VoH3U2yc1tSU3X/UuLIyYibgMWgietLfzIVOgxUIglhr6E8oRvNC36X1UJHH1aVe+ecpTDwsK8ywFwz0MApNCS0uz8LHd0f7j93XKiouLMiMnjP0WYK7xT192pAVfAdBxkGEAMBkPBHVwJBWMftKnDE8myDyNyyLhOXGGavCaU3+112mWdLS0d6AhLTwkG8ZynsZnAcxCAi7QuOYmwVx0DfiymIFlcVrXS2G+3FZ1csS9p9O5ll+Qq3GUn+nPXpIO+lfgeFt7u8Ode6DSHzzvEKwdb6GPgjF0tlB46Lgdtxr8bGb8tGmO0R/oDN72FsBtVknk4zhP3vl5lg8djwUfZMQ4gVZBy+l3Ql95Q9aoQzKQhrmtgP6kTPJWBGgtuOg/QFAeOqImU3fee707f/od8zl5p1T3XpJ2SZX9OVghcNWZQhrOYGxsatZE3+SMiwkHBxoYbAWF+ZYnxg4aGBHTCPNB6oamRmvWpNYh1UeE2bokkTwge5Sk852i5YhzLCFvIbYPJsXRuLk6ITFaYQjr6up8kA5UGheIErCFyI0oHRFJt8hflW8XE9zU2GDWeI4WWkdrk1meiJn+OtqaLdUmOBWrvUrrTHG+GL86xRlRpDQtdqGg1Ad6YVGhCEmU7uoA5NJcYeAhgs0iVnQBC4A0DH0/OgQYQjjbJVkq7CjwekPQM0GwaW/R4qSlXqviC6LJEHFNzLqm20tFNSWR6oA5GqHJ8LzAUiYCLRi6iEsTZWuptRaV6GeR5RaUmch3JuuhfAP+AG8YZoAeMWr9axH9QnpCvia1jrRwJTApwFvvGoWH9fWN1pbTZIViYprTrZYnRhzmRazKJQUV5uRbk94X5uRZi5gajXYrTpVa0QjhdzyhXZJgKP0IOCy4wERAE4HfQEkNTB4MX67GRlFJsRVoMvYQ5w9z0nKhxaxOlNBxlxKAc+8l+TqpVfShQnQAOlIxytQNfSXzogf9V4ynTU1NzhAhNIjYor5qDrQFb9EIYMgCnE8SkmgVYMKbW6Ed/V/kB5oGgwazWaK+hIZlmMK4aoyvxsbGaEErWjjQQDkwbeXl5VHSeFxSpuctmDTr83ECeZcUlwoXRQthZmMc/Dh5ZdMMDghcE6aQpiLFKSzIF+Jr8r10HugTEgyaRjF9ra1tkkREwzEV28vARPgTSQjPNqfsRFO+FeZqVYikR4MJY+nWtg4rUkub2nMkadQ7CIIoYL7etYiJHJXXYtVFTD9ImjRR6X1y0PdZwYFEUH1pj9dNRJ1QWFjgA4t7xhSv+xOYVC9evCgmKiIUTmTiQYkov00tyq0/b4V1hz27lCaSdG5hZ9YXO28zd/XMASJSuUXWWlWjH8X6fdWgERWrBtNkZyZiBoMHRcXFViRp30ACsIhwRZJjpFCXBJWjvm1p7bCK1OuWmxajkioT40FcRRQYHfTqlnRHvggdBJ7HksSKWWwXEW1um2cdxXOijrok76H7A3zM10SXl5fvjB0T5kCCL0DE4ATmkLTgIsx2LtIQQbgh55TVtZ7UWGz1SRacatefZBeCfrMY7Hz9gkFnXxSSW/7SVpQSg15QY1qqeKCujufx76F08QWYKhzBBriYlWpCZbFLcLrgN/6zxy/wuqW5xeob6qNFNhNyIjjsctJWcKjQCg9q4afXOeIRxa97SIkesvnMsV0CXMuP791mQvguYll/U7NeqK9SAxt/XsBg/BLewHAFpg6Guj8h0BAW33UXOglmpi+VJ7icZmEpaXijmKt0kh6rkICzoX9D/1M+99CsklItfNJFGRwIquMQlzgIVRCA8IzQU77hvUfSFwwhDKAHH5fSeKjeoQ08R4tHGaG8cOVduA/5hnIZ7whSSlV3cC7UmTTZMHQhcM2YQkAEwYdZyRmg2g0kdClQYBi6wJshgtSnBXUTV9cGS+ojBq+1VYyRrk26wiZFQkrlp2cteobtDczgJxUEEg2mSA000Dq0t4scOYGIiMQl6XkOvHTpkPQlt/midUhSmNvOirCb+MnEzjwWW7P6qUSwZ67oI0Uy9cDvqSvIEQLl6QOe5EkNLHrTr+A2q6QTwePTNYRsclNSq6k8PvkmLjjROiX3IPZPTIrUISxmUjA8YpRTkkZrMdKmxQkSMfE6wybQbtThqK8C8e+tcWFiIE6OVMLNKUZWYhwFYMdPmThbOgQ3dWwkdaGjxHZ0NAiMKWsSjN2sokPSizgfJpoo36hXfHKiwKEcQOxEQPUWbLGcznV5n4iauSUef72GJuXbqFVOg5i6XOG6Fr/ODCpRSox6hxbQOXou9LaU7rXqUWeIHmqDiRVJMpbXpP6ImNVeyxlCLyOcFTg+Br2FAcrN7XlskHcIyXuehd/hGp6Bz10XUn11f9c8Ql5cCcn3XfOPYkTfLkzBhjBhvhDSdr12zZf34eO5dTY9WUT2fohC4JoyhcBI6HQJ4nYLN40MnwCEfFyhf0wqPQZ/BWbGtnH6TbpWcTNIvdp8BUzJIUgGET+Db+rL1iakulpXr34XapBcxXVXLu1jFZsjqUpPIQzuHKnjIAIdUj3AAOeK3emERTepFRcBQqEkCule8u8m5RV5BKH0ujuhpTNjYpcgvN0VlFw4ROm7xkK1rNWt1Jg5rIpzxBwCie7y1eNck3gFzkU44nZWugUyKZjKFNLZnmHfteRB/TseZ45T4El38Eg2QHEIAYeia/iVjBjdR7GBncancM8NfZUaRoU+w+TDGUIMgCXld5iTnUsZSd1z3lEJQ/c7A5skTPuCf1/NVaapFsFV8M5rk5qeha8WkCyLLwkMcgKPEQzqirUdcM8Tow+V6JKC2EM+uPQPPIf49xEulX7F8xFpAEwvaJlk9rorwuc1slBfh/EWrt3FD8/6ypd4yXGcoaUhg67XRAf3J28frzG9CPW9XHTtWqXs708WAtecKaS5lw60ngEQBk7PMfQmHpgdUh9DxnLyOkkfEoi+ghsSDwKsdgIVTww+qLuRdH2kLb7KiyfRj7zsfNDW3Cq7I03HscgPRs8n6G7aDcTIFrByzzSuOeKaBXDDCaVKTBbruBDDpz+V8Ty6tA8JCZuMMlOBJj5xJVFDu820K9MHI6jokhj0ksjjDLUvpCeogQn9Gp+JvgjSf9RP3YUkcwH0Y9t9MSuK74gWpctpz9O7FpdgkU+6TT2VB+cSj2PK7NKn3ZU3qJ9R/xh23Umz+4PnfTIzwLSAcrhhARwxd/3eGCUzGwIGNcM59AvPAUCMc36JQJpBSV6HeSoVNojoWXd9S9yugbSBuer6rrvf/c2XtMTtidHzRRjDivbEob95U9+B1juUkb0Ofgh8Ikxhn0RNAyUMtABC7Oe6DT5fKD6qKVgYVsT+DGz3G13DfRgB4Tk5ch9NThi9hxi8ueYhHmyU2xeMIGjAJLSsu7rmSzXF+3zZCKVky4V9FwFZIYHBnSdChuJPWwR8Q1C+VIg52p0LVBpkazRCSbBJSkKMtFcr0G7UNM5oxJMnZTnhdKrcfcmBwId6QuCCPVBI0REkxq1lsTCKBQQTXyduhd3YgfA5UQUfvQ4aLoqe2yz4jQi5DoOr2pdk6PoDa8fPRP9ELm26hwVLEMfTHO3+lC1vrnCsPeykRH3aAT5q7Oq9jD2484xy3e4t9Gg8JhJldl/a4H6anEwdzuAWC5NE6GvsE7UrfUwkT9yqXyV9xUTUy5Dkn9/YjDpUNZ5g2FkoOWXIjK8I5hG1SGQ3TG4d7mpLf/Dcm0wfxW13l1VMMBlYxfmQX2yTF0cd8KWzlAEn7TYBtKsnRg9/sGAd5gthSAEP8Ip0XMN9YC4DjcBGkeA0NgDGn2S/hgMEri1TGFOZrkSwO0AGBO3u3UeeOcMYsFNkTuXAEEBcI4RnNRYhOmn9PjOwo3RULRCLj+R/LR/EI7Q/MAot7ql67EJkum3XrmwIjiDgalAYQBhKVrawwSm5xiAGTCObA2KgWUmrJuciQQbg9FVYT5X4WM8p8NLgk2AMm0vfXPor8rN26bPkL8+5UEyvOOEcVwGDGzRObxL5R4wJHCCQE6PiBDPKqa1Q0ivZvg234DaZalS/YQ0ABLO+xo3jmKKyuzVH21kxeejIxagd/NPmJ8dMZaV+SGkF4ipmxWccu1CWchSo10cxI3o3ZL7VBiZdFh8E7p1OJRjDPsc+SfsARLS81dhWvAjuSiJi4L/RqABrbbTLaYsGttt56hbpIJvtPEj7MixDDLtu8RykIyRoAfiNFwR2fOf5AiaKEr6TpJG4vTFjIU24JsdO1GfhTfIKDYoWDgPJmxyS+V+So/BOjYofRTgZ4uciKNCGljfeeMPOnz9nN920wsaPH2/Hjh2zDz5436ZPn2G1tbXuZi6AK5l39n5oQyBgxeBqhTAtOdB6rRxjmAHMcjgRggEtSBsGBtfkfRj4EQOgLJR+ACUnSvtkbkNbeirdVQR6GVaLkHrsCdkp5y1Na9OJCF2+OKT8lNR2TLpJeAkizF397oueKnItn/dVWfBFE2KTJKe0rF3G9MAxJWYFJgWfjTJ2c1tK3uWISYlULdg5xg0J12vZrmtQVl+g+0gVEhPnR94lHgRwMbEhaWlzi1UWJjDXwkqprbF3xU7TpYWhHzyPkFo/+lleouhBewtDEj4DrWTPzEOUk+NpDDZnJ0QaWQRGmgXsBWG8JSUUt+iMkeLCDOZKywKzGpFSXeEgf8NCco4ITU+Oi25p7mXgZbf5hYIvuV79vnA6qLYgCXz11VftP37xpBjB436/c+dOZwI3bdpse/fulbRfC2XanQTOJfXN/hiqEBj6S0GQEuRkgmE1pXt/pMk9Oi0kIr7cwxxBUGEYXSTOElpjTQoUT8Owg1wG9epg79S+XIektbp1VhlGR03NE5F32SHOx9TY1lTko6JJ0gIYnyLt9I2mi6jlwNFVzlefHl0xUPdGZJ2G0Sg1vggXDR2IC3GRIls2t4cTU5yCSWyxOu3cLJGn9NzciHlk2sQNEnDLhoFBgNHFYkvOoKKzuJUc6Sv+2HIlcW0XEw6r6CplLVg6nEGPyshJd5KorirrgdVicMbuDV8/bo0dzxnzgnI7jJ3Gfi5Ow/WH5BvGPC+2G2zNVZ8Uap99e77Wh3ruFEBJ5R4FJvI3LfQlpQ0L7CRcLqcPYawuJ32yHt3dO+PW3YtuntE24jfLvdSevR/aQ5950FavXm3nzp2zzZs3W0NDwyWuazxvoVcXeUw3OWcfDSUIdFLcoVTrLnXFlgNy5tSPZbIQ2xlCEcHg5BqCiOg9IpV6Hq+SmaxSYgJIzzsc1AyVENR9PdXX5wW9xGEzmgJ2XDfJeH/L7u1WV99iy+bPstNnz9jWDw/aqLIymz99io0ZNUKwiwz/4X98c0pPBQzC570SQbW/XfiRZoNJCDq5QfIpO3Wu3iory6Rqb7NXXt1mO/Yes8mTquyW5bNsVKV8+AlD3DF6ImnIInvtHQKMTo04Z77lCEp2rAWyX22xD7d+aHXnLlrZyDKbMm2Sv9++daecjufZ7PkzohNjQEJPz+QTbULqvbSh9bZXfP24TRHMIkZDy13hPCw3zODFtjrbfXC3Hb1wxKqrqm3GmOlyFN5iW3ZsslnjZ1tlSWUUl3K1Qz8lH6W/iQHYcdIHTBJ++AiBcQvXJFyuSh8mC7iM++7q+9HssDOVXwXNjy4BFK5UT63JMIg4vZ49e7Zt377dFwrESeb7G7h2+CgIh9GToc8Uit5hG5dyP2n0DExdhORYLMlPMbOJM3ya1SWfQC2iAYBakKeSpl3qksYTkNHgD30wKEF9nFsQbTQp0GD/YNdBO3P6tE5wKbHv/+Rxe2f3KXv41iU2oqTQDh89ZhXl0yOPIXHrA2M5+IER15Du6yWo6+MAm6IgX21pSU02bNxty66bY6dPnbbDh0/bDUtr/f0Hm/bbkuumWWUZx0NFkuWQQ/baPwhEINe31MPYfOaqE3Zs3Wv/8L3HbMH1c2zChAm2b98Bm79gvh0+cMSO7jtuU6ZPlvNySavk/kcJ/dOX2rR/tRlksVjEXumQwfEo4+AX9oev/8BePbLe7py0zp1fHz9/3KonVtvL216xqhFVNrp8tBZFYiFjASE2nr8J4Z2337FX179qs2fNtpWrVlpRUZG9tWGDnRadvO++e92pu9tgC28HMwP48ftKCwfhIcxesFm8+eab7fjx4xIe1FlZTpkWzJW2bNkyKysbYaNGVbjNIYwhm8ayYXhBYOj3qNMtfcWUjEHL5OGSQTF8fi6wTsXILdQE09LkJ4CkdKRbYP1wTqyR7tNO9OwqEOmrhDNRrXvOPEwG7qdQzDKSljPnztjk6dOsZs5Me/O9TVIbXbBbVtxoEyeM95UxsAB6IWBTOJRCr4yD1GbATGCQM/Noh7W2Y/r5rjna0fD0Lzfa7n0nbOkNs+ym1TNs2rSxdupivTXWNWrxEElPHRZJSeNQAs4nVFdfkvkQFTJxlWz2zJnzNqZygt12xy12+9pbbPyEcbZ/335JIDiBQecny6Df/XC6BoA0ejHUkLEf8L5awyswL2iP4e10yKht3PWuVaYr7f4V99vN8292xcrBIwft9IWzWiSzwUwVVnxXB0p93Bo2nPSjHUM1ygWdCPX//d3f2Y9//GN77uVn7cUXX7SzUpdyUtQGMYZs1gshwDT8Dtek1Cw8GyzXnurcXf1oB/ExpeGUkhkzZtjIkSN9DiV+sU6YmjNnro0ZM8aTw0CGDVPd5Zd9NjQhMOQlhU7HdLwQdoFO5SBqIHZro7278U3bv3+v1FUo/1J26sgBO3r0kK24dZ2tuGWtlZaNEi+pN9gxafKJaOLQ4ZPZRd1bQBVKa9I60SRHm0o4qmnujOn2/KtvS2K41e5acbtVjS61R//tV64OWLVigRVo5afNyh6AR3BjEz0Z/N+9EUE23Kmj+Zf9JOc+47xaNoM68/fm5dPs6V99YM8/vUlHP79r42sqLNWUtrvvWWijx8qFDelkiO8AZabNhn5DgA2u7c1BqqDD7LSpZPzkMTauZqQ1N8qmU1LYZcsX2dHDJ+ynjz4puyXwFmm/7A3leB08JAxH9TFqu6sRMoyK8ocG5Ml2865F6+zw+UOO/2OLxtqNM2+0bUe3AVnBWrEQyoaQ06zTfsLhguHh8LvukEqUM3T+9m//1iZMnGiHDx2ynTt22KlTp1xqBuPTV+iN5vSV9mq/z+BBrwVprGml3KZ5lCsSQ6SEfPhNoI3MH2dOn7IpU6Y6w0i8iJp6lOzXMIHAkGcKmZ5TeZIqyAbEg2gsZDClc1ybxd0c3rPFRlVNsJGVY62j8Yy1N9W7P6n8AqSFpOY7QnzPy39fHUIdVfDKffdFjMLB6rTG2RitBCeOqbJPr1tpd629ycZWVDmTs2ffPjGFaaudMknMdLOgAVcYQSc6+eXK1flq59QbEYx2FktdHE9+0e5KoJO2URWF9lu/tcJW3zrPPth5WrjSZNXTx9ncaRVCKC06OHUjQhPflHO12zGc8peGXpJ6YZRO2cCtR74czNfUVFvJ/SOsTQxgK2e6qsHjJlba5776gF04f95yi7XxQZvH8lM6Kz3CXl0ci4cTaFxtd3UbJLmsxnaObGc/e8Nn7WTDCfm11nnTcglUmi61ZVOW2eh7q2x8yQQxhXRUZ206ZGIz3MNEMYIzJP3ibOAxVVU2ZvRoVxu/+eabWivq6MV+MO290ZxPGn79qT8zZlAbh/pu2LjBXn7pZasSTFo0t7Ijuam1xQqFEjmrb7NZUrW3yYPDMBySAQS/sdchzxR29hwTRjTBa9mrSTzXVt6yxiZPnmzHjh6WnUixTRxbZeOOHbWVd9xjeWIKcyQhbNdM7yrkzoyu6R01DgPXd75plDmRgRgx4rpcPY7SRA5uSd1LiF+3tbRLAhhNrWn5JDx68rTtPXDaaiadtOlTJ9vk8WPs7c27rKml2ZbOmGSt7rusj7x7KfZavgJWAX79K1f7XvN1pm5jmxULJu2Sh8BzfLj7uE0cX2qTJlbY0eN1tq/uoo7DU19IksxpH+AWGEboGHKGllG9r8R32AGcwcN+zwqd+IT9Uo76YHLNBGuXeo7lB6piYoybONZGjSz3o9moby7PGQZXovKDJA+kL+Atn9xYEkPVAh5ncBrYavxnfiuO+zQMq5Ne2hPyAnKuhtc6D/+QE0aK+SOA0hKCYWIysXKi5bcW+IarjB1hmg0WnapTkgy3AFxRiS5cuNDHeAxut5/71Kc+ZUeOHHEtU7LdpBkuIcwhTDHgJGpj8Ib7RQsX2fRp050pDO2l7dhZjhihzYi4kRpGsAhtzF45yGKIByaLDiYWbJCgcnqAVhU7prSkhTXT59jkKdV24vgxe1Pb7CsqRks8LnWyEBrloW40yUMhPSnTk99fqy9IDHUJk6xPAhqYKakt8DrfIZF+SqtYfvOuTbZwkdiedHrWS0gLLqz1c+EItdszLzff3tm51/70L/6XLVlYa1sPlNrcQ/NtwcxptmX/ZmuvK7Ols6dHRsRKByQ483cwhIiARTVxpgJKFodAnIBh52QY3nZe3f7FAa5TwKT6wGk1/nlbGpvt0cdft4c/s8b27tpoTz/5vj3ypZW2TzuQG8422JwFE6w4X33hx+J15jfs7mKYJmGdbGNGmsBkoLg9xfM06h5BV0iqX4rf2q7DdYG3mBDO4T515KRt0UKkVRNRMpBnvsbt8luWW3GRTp8W3qblGsixkPpR9hAPAXPB23a1N0mEHZd5Lri46i5ubxLHw31PYIDJTsbBIXhzR7Pt3L/Ddp7YfSkjqj4633jB7lh6u00snGjtfva0cparplSqpKcihsXz0A+oTfcf2G/NWhSPqqiwSn2wp5upj2tb1AcsDFkgJuEagNAbzQlxPqlrd/XN1EXjqbmpyerrG1x1TDuIj+PqSZMmeTRwkHEf5pykPWGveWcKyd4MNQgk6dFQq7vXlykiUh83O0OX1vFZwmNH5IYL2mU7crSlZLheVVVpY8uLrLBASI7xsJidnAJtPhFf1azBniNVVYcViERCUgO5uPogSZYUBlmOBibtSmtwMrXmqJL8ZgCHI4aYlP3TSxVz5NojE5QBA3z3nj02dcIk+73PfUN5tduuPR/afu06brmI+wm55pE0oUC+y+TW2sscTC5pYPrcxkfwCeeMQsCAG+ofYBlgmGl34iaAzJlBwKcW5mrFmyecKBCoD2lTyZM/32Sr75hnt929zA7vPmZv/HqrjZtSYcVjSwRuAZGOGM4B3BOcWYQwSbDswOVTruCLVIsJtF2f/ALGSmcAtyJfj53PMnfKJz9Hkij5hRRLKCYo346eOG1P//RF9Ve8sUSw1TD0ibdm5mRbseoG2TClrUCSQtxDet8yWOnEYRrAXRhpzqCGWfQJmf7QB9iC47kA7BLIfxQY5BExKsorB48L6jeZQLy48xV7fcdrVlxQrPGjvpV7qkhCm2O3zFtlVg4vqDQUoYC2ZbgGYMoChF21N954o5/WsU9mNNgS4oJlzJix/o7dtiEoRcSohwfxtTea0yXqNf/ZG8NKvbdu32a7d+226667LsP4UUlwj/fhGqSIvINBDGOdY1KzYXhBIME1DPWGIRMTUZVqJU8IfeHCOXvrjfXaSXqz/MyNtmeeflKG7IespCjf8suqbO6SG7ShVMyWJpliubNJp2T09EnN+KqDS12Y8ESQ6+Uk9NX16+3kyZOy3ZhlCxYs8Mni2eeetaVyCzBZdjAYqPc1PZIncWCCNQdo0k3bjNrpdlK761I5jTahotzGX7/Ydhw4ai+9+a4MrctclY4vvxD6KiPEu9pXCDIG4HjULyoq1Cp+plXLLu2U1Bnr179mn5LrCNQafUOFyU4f31wE0wPOpOz+B26yrdv22sRJZXb3LfN08PNF2bu12IEjZ2x5M8x5hF/ezk7wXO1mX/v8BYuwKDlz9qy99957gvFJmzq12l12lMmf5S9/9YzV1tbY3LlzJdWLSIgz6z3Ulr4Ty+ff4FOLmMPq2qn21e983sZOiHYy5ov5axE3Qj7NktwiweXs4xxtkEiLYQTk9NNwAn2YsFnsMAEDmyNHj9iLL73o0tLFixfrSLHp2hx31J586int0r7dZs6c0ee4pxsiiClPSWe5L04V2bqFt9vNs1fYRKmQ8+SmqrG1Xsx9oTXVNVulXNK4JN0dtAvKwD25455Mh1EA9q6dEdxHigmEEaytrbXGxkbZtF4Qzp9yxmdEqRaD6h8gSuiOARwsNNIr2OWr2/qq7YQPPvjA/tt//292/tx5+99/87/lamaUj78MXipekBLCBJIXDCFXPsRj80k2DC8IDHmmEPTu0Io3nF8LCUTqB+NQXFhgRw7u1/b6EWIgau2ue++XSqrAPnjvXbt45pSNGTtOK/LODvW8+kVyO9Nc7p2TGgYYE4MmxFZJYfCR9b/+r7+Rc+kldki74QiLFy3STur9fgblRPl1i46k632K9GOrlNZXe1J9IuWZXTNZ7E27iJ8kq5owxCrKV9kke+juO6yx/rykQs2CSefkO1iOumpoaLS/+qu/soMHDtqiZQttm1a4d915l41TH775+npbc+utzhT21n0wjDC8OXmCmzY9eCslQcnVKSbz5oy1ubMnWd2aC1Y+qlQ41WJlpYV29x1LZXIgNRqEEPUxIBvmwQm+8PGZZ56xf/3Xf/XJcsf2nT55rL19rZiUI3bh4jlXscEUxtNlj1BBOpiWBAo4c5oGkC8fOcIqFsyTCYc2iEk1lyem0IeixgATkcCtEPA7BjqTWfSix7KG0oswsXqd1a4WeQv42c9+Zs8++6zBEGK/1aqd8UUlxfbLp5+Wi6RpzhRGDF/PLfX3Meicx1NUNprMHTNX5x/rBQJXxj5CMDZd+cFGMqfBoT9/6gvsCWGFhnNoR0MknAr2rLgv44MblilTpliTNkDB+NBPvQbwsh8BhirkFyRt/UjWZxTy5BOketH46b3ONOmF55+z9S++IjveCVIh17v9IGkJ4Qo+nJOApVBu3dqEnwWaU/HjyFzSv1b3Wf1shEEGgSHPFIL6rj5uli85phtJCluE2EVC4ulzFtn6X/3UNr/9a6uZNdfOSvKx/+xp23/woNXOmudTDkjfoN14OZJeoD7mmDcULtc6uFRPA/vihQvuH+s+bYb5z9/5zzqQ/Lxx7uQ7774rIqUJNEGA+jrmTnxPZK/kKrhIVlOoHl80c4omBbkGEWXw4+1yWiQFmmatjXWS1qSsQJLTpnhCHiy7j8+cOeOE68tf+bI9+MCDfhLLfql7du/eba0wErF9Za8EXAwJGxeam6OJIPAcwKKxvlknO5xyVfLC4gIrlD3bufpG2RQ2Wu5k7UAWoqXckTIId62x49qUB+yYDJhcUMtv2bLFmZM/+MM/dCbiwz27bcNbG6yuri6SygZc9EmzC1AEL5iTaHmRI1MNwVxwF6jFA7bbuVMXnAkaPW6UNZyvt6N7DzruTZtVY4WCP46uHb8Z4MqHkzky0vRrA46rVgqq4RAC1Gjm2fPn7KBo05/8yZ+4Ou/I4SNu69YoJtxVx7LH7E+ApsEkRCGS9nQUpG3XsZ02skCq0fKxdq7lnG07vN3Glo6xyZVTrLSjRP0S9Y+nQzo7jNXHtBFziPqGOtc+gO8hADtnyPXs/s98Rifs5MuNUuSupTv60vUZ44cQVK7hN8fFoZ5Go4FtHuUk09Jv/QmBYSMtefCBqYNGIslH6unmNHoe4ibzDXPNbWvW2uce+YIzwtQxxA00gHy3bdtmTz75pH3rW9/SMXf1dmDrAS1MZtlo7dJOwiyZf/Z+aENgyDOFTNbR0pempN0ehzGp7Rg2ftIUW3HHZ+z1l56x1559wja+PsqKS0pt9do7DbVAiwywmbgKIICSYmiIKof+Ed4r2e3eBDLUIIRgrFmzxokHq7EKGT3jSX7f3r0iYvKvhy2X4iExQSHXWyjQa6YfdldjG8jAP3GuzjZs3iY1QNROyBDG/xfPnpMD6ym2csksl7zqqd6wku69jN7Kv5LvgMPtt98uJ8fjpfLKV10nWJWevff++1ZSXCLYRIy8w6aHguFd4B3zCmWjJb95SKz83GO18x//ZYO9v2G3LVlUbfv2H7eFsyfb/kMn7fH/2GD/6dv32qJ52rWJpBBwDA6Q9NDKy3ws3KJ5SDXWrVvntlaYY4CXS5cssWPyXfbqq6/6rk0wBJztS3rH/mL+iep4qz7Y8v5OO3jooK27e4099fgLdvLYKVty4xw5Dj5rU2XkPmH6BKkvxQxShP78DF/KGyYBPGUMsmnKJ2m1sbys3M+aRSrD+6nVU23K1Kn261+/4XSgUKre/oYkswHz09DWYH/xxF9Y9Zhq+/TST9tjrzxqVZVjbNHEhTri8ZQtnLzQRqZHWjpsNBFtTOVkxIj9LXZoxRM+ntIJRj//+c9thGA/YkSJGDmYxbQECOeduXKCkWhVYPASjyJ6nHgAUwVTBpN27NgxPyIOty4/ffwnduTwURs7dqytWLHCJe1IJunraMHTN2mhfPoWphUGc86cOa5BgnFDgIC3jfnz59vSpUud3gdGz8ugjkobqcO1OBPN/OY3v2lzZAZyVnUNKmLK4EOd+TzwwAOOf+T/6qvrvb60IcJhpJ+JxmdvhzwEhj5TyJwkW6QkEWQSYZBxluMkDZLPf/kbdv7ieZ2zetYqZF9YXFomNa2M3jXjaBO+0mIXEaSDTInXFssZXCEwYNn5xTMGJEQDFd0M2dA9IAkZK0FXHYcEvVyZSKOcaVO0Mj54/JT94D9+JnvCCVaQF00+MFRnGo7a9XNabfX1c6Ua6MwUpnkwBJiURVKhQ2xxY5KjzSGFUmMsXbpMz/JF0PFnp9BLdR0vYgbF2wXDK1MDpIy7jp6x+7+yzu64YZx9uPe0bd15yOrkQ6/pIrtAlS9xncP2UoblFzjHZBBUW9XV1c4MomaD8vOeI+k+I+kJOOjnwsJpK/hE04N9UQK7XUrYplNk8rSb+8JR82PtTh87bV/8+oOa0Cbam79+17bv2GWjJ4+2/EK5RelM7GUkx/lQ7wRAB04CV2yb8SbArlcm8qamZpm9sLnJ7Pp4E8DkyVOiSb0fLmmSsEH3UaCNPq1yR3Xqwhn7waZH7eD5A/YHD/2RjS6ttDd3vKXNdtodfslskAB8MrNhdo/E61vf/LaNlv/WQtFaAow6tBfNEozTQAP9yYIe5h67cDazlJSUyA56lv3WI190u8XNmzf7O/wkwqgNpBzGAPTwgw/e93IYs+PHj7Pf/u3f9t9oT7CNpEzeEXzcOMJFcyOYd1g29pRPfUMc7sE/GEDqj9Rx38G90sycstdeed3hUlWlzZuKxydiJD159muYQOASMjBU24SkS+ipjyYbObL2VVfcGJkbKqStbMRIK9UHlVS7BkqHjKiDS5c8HefE1MZHQ8avpLoWgeGYIb8atAxI1HN8UN8VSwrGEXRl5WUy9p/qTBFEpD8BH2TeLu0olkJQNkNtNmPqRPufv/9/CB46sUMTBepypIFNclzb3CyVnoghm1KiwEQVEZXw5JO6oqq4INU6xO2dd9+RpHeECNoEnY9bLHtL+RkTkST02nswyTEBzIPYCzg4pWZ1sHTaGCvTrusCqTnnzBpttdWV9pOnRXTF6OTkMEwUOTbQSjmT5MUNvy/BF4avXfZlTAzAfMuWzQ5fpBAYo7P5Iew6TCtuGmZQO2Z7CoxOD1K/t2pA5uWlbP7SOWIMi6QuPWLV8o05bvxYSQYlPdMJJq3NeBKIdsYCdvhxcoikKRnk7Km4IfEcPGasg47cR5Nxh6sBGfvA3dWMksiUacEDYziQEPA8pMmRy64/feC/2p6z+2z9plftM0vvt0kjJ7o7movaVNXY1GCG6WzoRqnvO9LDYnoIIOj2CuM0ZUqRSEA0b/jiRv2Bl4cS0ZaucOwuE2e4Ei9IAz1iAV9TU2NPPPGEM081tdJC7Nsr6eFxP0YPH4keFL9dtBka0x/sJm+cSjMOkdqDR5wycujQQX2OiIY327x587zuAc8oJ7SF63nhF+psNi6GEOrNEX+vv/66LRRdZcwfPnzYNr2/WQKVClu7dm1kbylPGNkwPCFw2aM+DIiAcCAoIaxQrjrYNGE4k4QRuxhDzqp0O+lEwdQFu2okimlRPRgHVCrUuTWx04QBiVLxWgaqj41REOmzWmXHcbWIyXkNWjaXoCJlgmYX8gwRAoetCJe3u5fKhmPukvFGFuVZ5aRKpYX9bRERitlgtnvmaCdouwY7eest8Bgsx9yxQ3D16tWSoDT55huOYNojAktdlyxZKqfTE7y+AQ+7A4ujJk1TTM4+LgH7pS6jx++/b5kd2HPKLjYUWUVpq+WPKLRPr1loU8fKBmu0Zksxgj5hEllEWeAZnkHwdFwUsJDMMlmdOHHSHflu2rTJmZXZs2e7isrHkOL5FZgkxlISODh78rElG7Vc2RNCI0q0eeL6lYu183W2NWm3vRzdaDNKu1VJ4jF2wlhJCTtVpUFrT70CvUnmP9TugUWYgAMawfBi0rJEKnqYQlSP2BcyISP1wW1KlaRapO1P6IRTXIIWNLMmzLaZVTNt8dRFVp4v/zMNmM4U2MxxM6yytCpeAAnGzhiKMgzj3ccOQ3Bdc0BwbxXg6nMYz4VvSdoZ3ne9dqU5pA/zYG1tra1cdbO9+sp6e+zRf3E6zrj69re/7WrkoA2CKXVaHBCiayGJ30jnYAyXLbvOmcH/9x/+H3vu+79SmSlbvny53XPPPb6gAAf4hPohASW06GSSIE1kkYers1Bn4pL/zJkztRgpk3/f4457t4j2Evbu2SPGdp9vegpt9BfZr2EDgctiCpmg9whJMHJlZxw75d5+521XMeENfeTI8u7nzhg5ha2++g/EPiBvQOQMYRMlDO8+AnmfbfQ0XuImiSZpvChJMVJietw+Ts/eXv+Czj2W5K261orKK1THiBFkyEQsUjKXj5R4RR9QktdThMSJELmr0oVaqaLaYCcc8GUXMpNDk6QorGCBXY8wiWuYI6kpAX9kMMrx1KwNJvj0c9ZYLZe9oVTnnO4ivax+cZJBpCcFHoNlowntIBQXFlltTa1LTVnp4q7jok4faU+Pi1b7Abei6Jd8c8wdu18RPUVnHwsv3K40ZZWjZDe3aII2NGj3taCSEswqRpXYjdfN0KYlQUmEMiWHvoSoiAhnLilgqP9Qw3wM6AqjR0MxLRg/frwM40dLulHnNlIwLUgTRpaPBA0Vjcmn58Yz3YXXfgXp9QQ/nAU6Via/RCeYSHXKTthJtRN88YY6zfOVFD8TeiskE2nw3/giVW1xNb2uTv80/gPskV5hJztWmxEaxDAf1NjndA1X54luDSRgQpKWFiBPGhJHffXrxHLZx7bQCWIKpS2YNmZaJA1XBDTTUixo4HMi8DAPIG8iBCaQazR3qE+gs4k4Ade7PktEuYQuw/SVloywZdct880lqJIxEZgiUwBUzDB3aEEwxQC9u1Qpma3fUz5pCM2aCzCDum3VbXI1NltS/HJJlK+/xLVM2HDiCeKvCxcu2muvvSZJ4zQ/saUxzjMweUg4WXQ//vjjdk5q45LScpecwky2aLPj8uU3ONNIXQgDtGaIa5G9DFYIXBZTeOLECdsh33Eg6WapmLZu2eo2CiAikq1Vq1Z1OlvuAgEngPEzkMtJlAhjJiQGo7/vbbT4CI1zJJ6IG2piH0AifHUXzluZmKu8/EKpphq1o2+fzZm/WMxWnRWUSWr2CQeqHxg8v8ZtRY3HRMAHYsIk0iICQvAmX0Ku/PElX+2SjEI+fOyK2KP1zNcki2wsgjjsnw5A1zdXmCYcZcvVrf6iAX9Jhp/Qj4AfEWxk+iR1Ln/jxo3zD5Is1LwZx9691BMS3y73KEyIKcHCjzkUnHBLURgTW3durebjp62kRMyJoJPSsV9hY0+UupdChsErpArOGKottBe7TTb78GGRwoIQeMBsgClJk40emy94pmA2kEBJUs1oJ++UJBzuIkXIysSUr5N3NC0TRZJqYgzfEEZZYEjgChj3BEwj+FRKVQhz6OOYd/0ASaAnuYJth1wwXcLatKhUz4PxrneCt0uR9Bje3F9qAYQbm9+kAJ0JnFmLGC78+CGdra2t9bkE+uJxwHjgp0tPAcafPnj77bd99y609bjcoJXkFtlnH/5sJEQRLQ8LBO8f5el93FOmek75fBgnTz71pHzxvmWl5aV2+OBhK6kstKk6vQvVcuh/5oxAF8MztE/M3Z///OeVozo8USjxmc9RTbOh7/RJmMJS2VvKJY2EBmxwGTVKghSlCfn1Ut3sqyEIgctiClnpsPsJovU//8f/cFXnN77xDV/BMKBYJQXntpfARoMl0LUMMVQEv9eVCQafSOzOi95Hk8UleYQf8cDsQP0pGU9AcCQPIG2dGL+33npDO/tG2MIl16s+2lV5z/1avUna5gNMaSC0CtE4DzXzR1f9K0NX4jrgp/DIkcMS73/oK8kwoBmETAzzpUKeMmmytyPYRPZUSVa5BD/mTitKAixfMiDDIZo0d9bW2CRGQJMRfmsEDVIPht3H9GOrVqlvyR0KEioIKYSL5+AgO/zuvfde+aAs8mfJ9iXvwzF3ufgplFQq8tNIK+mFCFbE9+OsdE3rDOhG5d/U2G4VIzkaUYbogo8TRGdpiD28QpLQ79q92/ZLVcQzxjKLE2B/4MABq6mpsRtuuMHyxLTg1qi3gMGGQ1dMRjqWtjq8xZSn2oVr2uUKA5gjhhHr10b5pCyQRJhyUTdngn4zZodFUFsCQxDaw9jfvn27awXYYMYEzQIbBvyCFrbXSQrEZO0wcICGlJdeARE4nAnM+0gBA44DRwIb9ITPjenGSBKu98V5JbH3AfXQcFcfR1Do/I5xC63A7g8/1GlGv3ZTnjFiDAuE+4x799oAaBPwT44ZMiMeH5xgs4BiYxa7dffs3WMbN260l19+2aWFbChE2ueB/JRv6Jro4Ue/A86wCSZPx7U++NCDrpnD6fm777wjx/JPiya2ys56ceyJo3PjmBehuZVdy7W1tZFEEd+UekEbyJsAw8n9tNppNllzDbSWDwFJIe/BTdpIiBYSfpv9GgYQuCymkB2fb7zxhn344W43qn3kkUf89wXt9J03d74YLxEYASmSOEQIFBAT2MHwndfAwZC9QYPHd0uJCEIAD8hJMf7oKitG9T5SyFAjNKVdpFwjDJekUHlDGNmoMW/efGcqPty1zQ7s/dAmT621eQsW45tEiP3JHnNH7ZOBAYch8nqdaILajja0yvaPo8FggHxSIEE0kpNJe75XI91RKxslQlB6B52+m9pz7d1tu2zXvv22eM4MmzNFtoVy20LswXLMXb18Bj7z7POqbbuI4ESHS5v8Kcq9pF2ol9PteBIMhCo0M3l1mhfjS5NgWYIjX7WSVbwzjPrlxNGf59q+w+fsiZ+8ZTPmjrObls5wdbLz1EmVZrKA4XIPbujzjqQcmzZv8Z2NjGEwAonqiWMnfCIKk2GwVeqp+W6sEKOe5yLmj41ejFeYRGTV/HXktduWd7fbzq27bMbsaVYzTVIPSchBW7rNpZHg/XAIGpNh8vXmxL/xC7dv/16Zt2g3vTjl8AcTMG+uTjaSZNYhEMOzO1AAosgBtUZLcsyHyAGE2vDTqL8X3ntBphcpq6mothkTZ3rf68DpEPs35go+g8vYGKKZuUMusNidiz9XDnWkvzwE+MWQ6Y7mMP9wXCHmP2g0YO41fOyb3/imL2J/LYbztttuc7s9xhWMKBqJ/gQYNOpSU1trEzRHsGhokmnRZz7zgNv8YlLT2KSFVbybOhq7YvbUjgbFQ7iw4qYVvsiDKeV5sg3AIYxtFoLJdzivDoHn4Fo2DC8IXBZTWFlR6QbnIApIBvK/+NLLVp071RbLYNoxRsgbIRXYEzEajnBCKEKzvMb/4he/sG1iDFHxMnCk8fAdTklkDEjqibp++VIlYKcy4F9MQoS0UgsWlcgpcZEd2P6+vfbC0zZu8jRbuHipvPtzlisWdZHtSNdsr9VvIBEmPCSD8+fPs/naPcbuw+idGBcR7SadQtIaS1CpW2hxX/XkPOjoxAjJBZUh0sBjp8+5x/4JOuMzN0/uXeQiZOpE2Y7JLqWxRe4U4kz7W0Zfdbjc9+Wyc/na73zFVRe4SQiEixUrbh9G+CQKtBKhy08gFmGgFgtSh+KOJkcTbyBuqEP37DtpY6tGWHnFCJ0BbVZTPdpmT5fbCEm52iStdLcdrnH5SOaJgofobaDwQhJkBkxafJCUEFjEAfczZ3TShvAwmuiYGDonEY/4kS9BnflOzHSHdsEiGUzpSrrmpha7KKfNFVr8Fei0ofzcQh23ON5KtOCsq6u30TqzHCki0Cb+cIB6oGu0hwGZHPvr7rxTvkgjkxEYQhgFGIxzWjy7lCqCxEcg3PVBVIb6BuB5EFMTMx0HTh1w+jh1zFS/VpRW2LjR4zQmdBa8JEd5aF20+/g3IcAgYSOL/TYS6r379rqJTrU8PcwVDSYAS+z+IjoRkLETOgHCnU+0mBZdgiGE3jz2L4+50GP06DF2gzaC4EeQ3eWoYp2WacLLldRPsrpkFt3eh4UETOub0pw8p9NvGhsbdMpIsTaGLbaamhovGwECJ494EJ4Fk4R6tZV2TIg35vl7DSrXyKnO5B+YTuLxCVLC0H6uIXBLG7Nh+EDgsphCGCqMzZcvv9HqRcCf2viUCLfUj2IWA5qAbGkhaDI4MdQDiOFoqZ6/+c1vuBNRiB/vQEwYolHaqOLp2dUYMkxmxD3PKdStXTtXWo7MMlZHavn4j/5RBrOnZRw7xx7+8jdtyvQ5siUTU+C7JbG7I13kvFpklFyvaQjwoFBgMEK7vqJ2qVl6xuH1hEIx34U6vi/ETw5Oj9DDVx5SGTUxqIJROxw6etxOnD5rJ883WGl+rtVMmuD5a3OyJpK070smu8FyzB3udabK7QIBAke3gz8QrOBIFTwAJkFq2LUreR5NkqiFtftYcA1xhSpacbfbjt1H7ejJUjk5L5ahf5ndeddCK4F/ZJGh1b5jsuqCxGa4BmDIuAOuAmiEb4wxBd5VML7j5/QD4zWSTHmUj3zBXrhXHx2xk07L5RE/YBAlxWprabdtm3fKJc04rVbS2kA00WbMq1GKSD0VJLieKXVQuUM9uDRKbWEch9aEMc0u+wjSApGksmIXHM9HjdKCWSEwkL3BwEEUZ0xeLHba44147TqZ44NDHzg+n+04Z5W5o2xe9Rwrzxuls+B97SMmHHrIZ/gH1PWvrn/FvvzFr9ijjz3qGydxLH1GDBubJ/kAwySj5LiexMN4bCShRX/yWbhgoTrN3CQARm3//n1yMTYx3tkf4TjxeJfp+GRGXe6ZH4hLfe5Yu9amT6t120cWaKdOnXSN3ZzZcxx3iMvYdJoY1/eQTJOYW2FGozGsAlQ+kkrikiaM7YCToQrhd4AFz4FNwFenr8LZbBjaELgspnD//gP2z49+3z7/8BdkB3fUfvrTn7ooG6T58pe/bPfdd59DJxC+JKgc8YSAwkQbKcPV55573l588UVnes6eOWu1tbX2Z3/2Z273wKjqcTXiWKkvVx8rPwajCmLgIr5np+51K1bL31K1jZmgHV96394gdaMGSUrMEXY1MEv6xdjVWo31dGQ/kazvVb0PBIar6uchviTLZVBSbz4EBnB/QjpHBtJigjrE+eTR1rZGWzBDUoI5i6z+4gn79+desqdfft2++/Wv2NobFmkXeaeUYDDtPsZtQyYIbzwIFg6qGHYOn0ykS2/g4yLwavexq3Oke0ZVLPV5uzaSlBam7U65oalrbrX3Nu237//987b0uqn2+QdXySa1UCtw+kd5xqrqS3MfBr9ivIIhJPgkEPCRB7wPcfgdB9RTSJh6Cr77GJSNz5lO68qubwZcUWmB3bxmuexZ0/arH7xu//TeE7Zi7Vy797PrXIJNriQl9IchimIOne8gwQk17mlMM2kTwsQc4nd3pcsCk67h7iEXtbPuc6UIXbfgTqFwu+09vdf+7xf+TpKmOvvuQ39sk0dN0VGEYtRhChW5LSNl7K6U4fEMZopNkS+9/JKOPz1kf/RHf+R2dKjwOV6Uww9wE8asAm3prn8CPe4KEZ7v2rnLfvTTf7MLJ85ZnnD9l0/90kZVjTJs73HtBCNGiPIImN41p0t/U2cYw/WvrXc/hafrz1lHc9qe/Xc8vD4AAEAASURBVNWzNnrsaPvUpz7lJ6YEhpDU4A0uzja9/4Fr8bwdomORnXVUbndtu7Tk6Feocyd9CJMV+YT77lJmnw0FCFwWU8gku+LGlVpNyW2HxNdf/93fFYM3SjaGHzpzGHwwfQQQ8cTCQIgkge1uw8HRPNgwsDPKxeoxgnm85OTkGYJ8ETJ3iGBKQarfGmDKk6cuAdINySZOlmPPg/tsx7YtGgTyZdjabIuvv1mDU6rTxIqYHLVW0vcgDMBMjQEWfGCQ0lLh9Se0Sx2cL+lWBBllk1sg+8F9dvjMVjt19qJ8oZ23WTVTbaQ240RMYARX8g7Sxf6U87Hj0LaPESBKwILgbROBpQ99Qoxorb/LfGmSa1d8/HmFQOpcJLGSjraJOXxjwy47dOKibFqPWK5U6hMnVGgi4D1w0xcJvExuhln4yBhLtE9tzoxDxUM9xgYT7wOHehd4AOL4EaPTIS5bwvaUJIW4AdIDimu82GxbZUd45tx5O9y4xyrHS0IrP4XQBTwIJAPPQn8nnw/Fe0chVRypYX9CYNQj3OsjhbIMcHK+TmBk8ucvrcXzxoMb7XT9aTtyTD4QmxtsStUUyy8XY0+6YIOoPhosPkr7aO0AXjsWRvGBuxCQzR7Lll7nPiHnz53jv9nA1yBV8jmdgAVdSIYA1+QzZ44SDwJzhb3eufNnbdXym109jfPnU9rNi7sXXAxxOhBSO5gsBCmqUCKX7m8pnw8q7+aWJrtu2XU2eUrkVJ5588DBA661C3NvqC/eA45qQx7qclTl4FFKcwJ15cPpUO1iNEPduys95BXay2/MnRjHMM0ZHO0ucfbZkIHAZTGFIASMHE5XcXY5e/YsNTzlPrbe0HmdGMAGY9fuIOJDQIg1SrYX18ljf9hE4Tup3n3Xkd465GRVWAcCui+zbjJyx5/adJAMLi9UAc2Ser383C/tggb43AWLJNFotYY6ndwhW0YmnZZLVNNKJSLQ4Y66krld2XtvtwYigfswyHyCVTuTITyj/Zu0o5tBv3TRUm2WmezMCs8ZlB50T+qQJjcW5ecVqJs14D1n9KSSkB45fcF27PnQFs6ZJengEhsje9Bc7dpoa5PdnNcqztKZ5FCnUFD07op90wDqrk/o60zeiTbxLGpvVA/INczJr99800/YWCynsO702NcGyo9ZThIPJt5I5cwViUncxlgS4qphPW8Qk/3+toM2SYzgZ+TMesK4sTZyRIH85omtYUWvM1FDiHYuh19D7+qwVrWTPcozh5We0+PhXebeqX/KHdi+tWGDLVy40OYg7VDsHOEVp6CEEPqSjMiHPAhgPbFyJI1KyWSjUeNw//7DViPJ9ZLlc23y+Cna4wCDHh0/yH7kkJo+CLjNdaiFUGdwkeGvIdkJY8He3yfw3XFdjWSCf/nVVxwMq1audBchtB2Yhn7kdyZ0AY2mfcWVmYzwnU0T2w5st3P1Z23N3Fvtczd/zkaVVViefJemZQ7E+IuCVIoqwPsqk/EQu1FbQ3ucKQ4MnprouC58YiMTGi2chTOfOVOkdJzkgTcDmClFvmTu8X4BTuSvAFMXFjC8C+9dJawe5rhI7O3z8wtUXpWfG449IX59oT0ZRizKrhPIcf7R2iixANZz6B52iKNHV3hdqXu5Tr2ibDw0UHbEsKExQ4Wc9vljlFxKURcfR9RbiIhPTOZpnzM7S+/9Lm4+aVhU56J5yYZhAYHL6kmQDT+FbDjBBiuEHTt3uG1D5hif8CJcNaACgeRRnXYev/DCCzr4/deOnDhpZlCC9JQB4oJ8QUXlE3TIS1cInt7qTpjqRE2/xRD5gNO7Irm3mH/zSluw7EY9a9dq7aSYB62MdKQWZZgzlAxm5cHAVDZXLcQDPbSB4jK0QHV3ghLHydQhJgLvvfeerzJHV4321aFXVInhYSNiFKXg3id3YBBnwhUeMS0K09HWbDMmV2in8T1y2lylKSNaGbdKglouFUeRNgKEWnm+eh8ZQV8dwARYxFX1PqfitCHTFu/XKAbPfFUq3ABXXpLZAYsSdgr6udGacDvksNeD0qF68/ikE5PYzs5KXSOpCDAXbCQFzJOrmrtvW6hzUEcKL6IFw6HDZ+R0tkzqZqRbZKxcdQ3quaiQofXNhBImP5oDk4Jykt5VC4UjGm2CrTcVuDuAaDtPTDuSN2d8uE2XzZVPCB4N2Ebj1ePqmSyVlCc5R4HstOVYT1UH5TeqsszuemCN04sm+RC9KFVm21ntDK+Q5wLBHB+GUamJDFRGNM7jZ0PlosYHxpYqO70B1qJvPAevQ/Bxxzs9gD6yGQ/3IAvEiOOlgcC7DCMZp+0qrRGaC9ZiCFVGm2hfgUxJ1sxZrX1T2mxQOcEZmvN1Z+XMvdhG5I3w/oKeaheeO7Tv7Dkvcsh8ZWhKDBeX9rdHrQlzD7/OSnV8SCfHsJEEJsodSYvBQaIGbZkihs537yofxoz3UbKfwEVCDChntvSeeJwIUlpS6n4KyY9+g4GEyf/sZx8UnRntzB3PPF/l4VNQyDPK2b9F0b2vQ93ZxMJ8+IunfpFhZnkHM3jjipt9k0mQFlJ/2sKHTYyhPWTsx1VKSqktXonSBnbLmI8knQNLl409OCFwWUwhHvdfefUl2/D2WxJjXy/inyOpza+17b3eD/5mkGUGZy/th5BxvBPidB+IU6ZI6jhHEshSDRYNGCEdk7AbqMf5OPkUkUPdyRhtkkQwhQrZpUO6aMAwSPgUazA+/uPH7IXnnvFB2SYC8LXf+33liXSjUwUbCCq7dZkd+/K/1kuT+nwVyoqoQMTk0M5IoqWyIUAxceAeecnatWtlY4nBeeS3z+PEUyZS1FxsB5XGB6nStGslyiTf2qydaGJ4IF8dai9nP5eWV9o//ceP7OD5citpP64NOfV2x4qV9sg9t/qGC9VIsVWS4Bdm5UjwFhNBf3v5X7SBj9tMqaxo1c3KU05KnPlS29XBMCq0BRUHgdrxgcB9/nOf0266iY47pKfOvpDwhUFEsFAbM0F2iMnIK9CNBMv8dufIitem5yUlRbb34En73t8/I79k8g93URuhKkrtt3/nVquZXGltkmqJeqq+5CO8dIN8ajM0guOL6h0mBSYiYAXz7YF7bsQ06oU/8slKd95e+kH3y3Re6qpVK91khF4gP4JPvLpm+jPOFvVxCOodRdA3TIckr80NrfbEj5+yY4ePacOTnDS3nbGJUybZA4/cZ0XaiUyIWKMoB6+zygtjI3o6+L8d9oIf9QfeAUdDzcN7J2bxQ+gPvguhCV/7na+5i6pydrTqOf3jjD1x+a2AA3cIOnnz8aALUjLMQPK0euwQzA+fP2KvbHrZLrbVRXHFLP2nu3/PRoweIbNP+pgxFqf3TKDBUXZD7TsscC7BIcEjpc11tHCHNpr86Ec/sjFjxziDli/JICd3nJM5w+jRVW6bJ67Lmx1RIN1mYBvBKEAqHJdHv0CHoMmLFi/yM4NxE4M0kn6pqamxuXPnOgMX+omNdOQDbSGEEeN560emr/Uu9O/dd91t119/ve3csdNPdeI5O5snSyVOwPaQZ1wPHTrkEkrmVTRrjB9w7kqEvCuUz5WoSzaPy4fAZTGF2P099ODD9v3vf9/+9L//V5MPVJs5a6b9+Z//udXW1mYIN0Stt8BmEFY4j//scbeHYPcXZzIWyS0ACM0g5C9PAzmsSOrrLto++dVDMoSYPzyPBgx0UgMfRlIDesyESbZo2XKbMKXGmY9GrdrIk4A5GYH4rJpgFDNA6aPeUcqBf+/Zs0dMR4GNGyuVrUsqo0r4IPV6R4M1OWghClPELENsCMDUJwGlB0Yw4IQLUh1w/BuS1oLiImu7oH3VOKOW2hymjvIKJCXYJwfEHe0l9t3PrfW0pOM8YPjhQk0cjSJLAp8TkOi4PJFEqhmolpd25b4o/6zqjSsI2srJLag1CN6Xgsup02fkVHa34wr4xSLiuOxojojgVtfUuB0qTKMzyGpnIKTAgzNkJ8oNQ0nJKIFCUhMtGvLV+cAEiVWenCQ3XGy1PZIMPvDpG4S/E2WAXmdHxCSWAj+56Mgr1IThBFo4IniDk0MtBJxinOySIT073TnCDlg5nPWcdzAu4Nrx48dc0o7t0+atW101tXD+AtkAV9Exnsb7CCmUVFABD+vqG9RfJ22q8LBQE21au17hwqOFlvBb8JRFkvypNWn8FtuXvv6ITlDI0+lD9dqRLKlNHtw3krWoHgXqz1B3ykveD5U+YMHLaRLQLG8fKxMFZ3DVVhaoZ8/KVVQTDo210UO4jO0ZZyCvWbPWfbb6Qhu4M6nrz+HNpKxnOBUfOXKUjayIXDaRd1owd3bD8xejojIOnDlgFVoUfnHZl/zUiiMnj0iiJY8HkBahdEqSXDaIRzhOLizcuA69cPTQIbe/4zx5XG+1y7WUQBHBT3Bjs8cf//F35e9vnOM8Rzm2tYF/eY6bPv8AbzWddAU65SPQldNi8o4ePWIzps1wuppu07yiEN4jdcR+ECkhLmTw1PHW2xvszNkzzqCNlTuwItFo5q4O0SOYNaTueDbA7yD9ieo5GlMIPzrHW7Nw5NDhQ44j4yeNt+r8amna3rB35MAaCSGOp30cC08Yl0dE/0olZKEejjs05kqGDIyucL5Xso7ZvPoFgQz/06/YXSKBpKiIv/SlL7l9Ebu4sAscIwmiTzCKD2IyoHoLdRcv2K5du+z+T98vRmm82xLu3bvXV8ZOmJTBBcVhNxj5MVBhDn74/X+28VMmerqVOlJPU7s+TGpKoH8kfjk6wmnatJl2/PAB2/jaS1ZZXmLXrb7HyjWpMThgggiHD+63zR8EuxINUrWN4PWHADOIaAv3MREmhr9PxtW9D4tu4sLIMQn+yw8fdSZl3T13213ySzZVjFAISAaYON5///3okQrJy89ztQaT9HKdIjFF8UPZp2SbcuDAficc1GXT5k32Hz/5mS3VCvK2tWvshhq1M2SumuXK0BxpYZUkjrlFbbZl+1G1Ve6xddbv+HGlmhCIrUlAeZ2q12khe9/Tb80Wevxx290XjCCGmzZtsid/9oTNWbbQbrt5tZ/hGWxIKRfD6u/9zV9Jvdhkc+fM9c1I02dMd5dGz/3ql3JQPi/yy6V684eriSZJ9ti4hEPgJ5980srEZN4t+6GFixbYrEq1kb5y3TtNlA2O/FmOGSV/lnvOWEujbHNkyH32bL0tFMGOEEp+9QSLD7dv08Rd7xIy6nYJrvTS/93BQRlHOBTwipK8XtEkkHmvZ8l78iL0N65Lp8hD6Zi0YDi+973vWbOcgq+6bbXdf//9zmQHG2Dyf+aZZ9UvH7j0ASnH66+/bjffLNWUYDpCm5KArSrg9YCR2bz5bZ/gyJ9dl0888YRNmVFta1ettblLah1/qLWPEDEeuCwkrzw5hNz9zlErrGqzxmMpKx0PUyqbKQkssYtlkt747js+9kJ5Ae49jbXuYH3ZcemX/vZ3l7jAZL82d/3wn3/o7nfW3XWn+5WbqXNwCdQXm0w8MHDiBaYQMAMwhUiZ8Gt3991368zcyR4fzwo7RTOb5KSYfoD2/v0//IMz8ncp77tX3mNVJjczgnN7vphB4ReSd3W+jS4bY4dPH7GtB7eJSUIqbFY9ptpMa7CUjoCESTl0+rCd2HbSNyAEJqJfeN6l3aEfuoV9f+OqxYHudq1DgF14z2/uwXOYIw4BeO3lV+y2dXc4jk/Vpgzeeb0UDzUsAgjSPP/cc7b+5Zdk3ZBr80RjVt2yyuca3kG7z8mf5vGdx33sAKO33nrTfvpvP7Ely5baQ9JW1NRUR/1I+QrAnJO9GDdVkjqysPpAdK5AtoUV8rgxcsXIjNkVqv0tW7aoP5u8TPr9xz/6V6vUppCbVtxoK1eu8lNVUmI0CZx5/Nzzz9muvR9areaDUeUVXpaPSY2wSRMnuScP6snY5fzsW2+91dPyFehG5sHl3gBT9Wc2DH0IXBZTeOjQQXvssR/ZHXfc7hPN8y+8ZE899ZQPMs5VvPHGGx1CwZ1Cj+DSIERqxqoJaUGrJDkwRiA4kxerPNTBR+X2BkYBYnn4yDF77c03bMYxnU4yd54tlr2g2EUoAv9iBjXpiMFpkSr7jVee91NSrrtpFaPBThw/YuM0aIpHlCsFUgu5JdBGFCSPvnJTfRjQVyMw6Ddogjt34pRVSWWxUpMsIRA1yuUYIuwHJ0wYr3pEq0MGMe8uijnyAS3iDqFqaKh3D/k8ww5u7569tm37FmvQ3/SZM5wpDO1AhdQiNWmRzoDOFWE6fvy8pGzrrVR2hU1SKd2UkgmAYNsqBimnrcka8uvEvB5yCcbV9ssHLsFInNFpNlPGaUegVJS56ocAFwjbrj377AuPfN4+/an7XWIFs4dN61ktGOhzAgbfkKZjknDBSIIrTKpMyKjTp2szVLVW0Xmj1e+aD9lrgtqTYxLzc1ut8UKbvfTKVpuzcLKdPnHWysaUiwCTueCtnZnnj52zEyc5wuqMfqPUH3ohMIX7BBMWWpVyY7FmzRpnCn3yFi6xONm1e6fNmjvTzzDn5KIHH3zQ7tQiZvs2nTqidIxLxih9hBQMFRWTLYwl0q0dW7dpMjqo/pxssxZOlRREZg8AHMDrko8Da/3t333QjhQc19grsLpTbTahTkdSXjdXeA7jrs1iWggcO3rMGSAWhFdrbF7NngQue/fv88UvvuKqa2ts1sxZ8CcegCGuT9bdcYcvqtksgJ0skiY0Cw89/LCfEBXqiF0oTsRPnz4lJiLf6kUHdm3dLk1LnY2fMM5um7vGYdcuqb+g6P3SJkY78nmasrN1Z+yV7S/byIJyaQiabGn1YlBc6mXFFSOJ1P6w+tN3pWJOMMQC9JC5AxzfvWu3XB+NsBvlOHrK5CmOrxwBSp/wYU44IwktEr37JJjADQ2LbfDZpbqiIdjY8h6NA7gO3u8/eMTe2viWBAtpu+nmFdJWRPaHLYrLGCPObbfJ+buEJBx3h/YG+3Z+w+ATgn0vGo4TJ477CV/Uib5994P33dYWp+4ccQgtC7hfJmf+X/ril+xDbRZskFQeYQwMbmVVhd0sMyDaHz6UASyCjb+3Xe89xPH8PsAjejPwb2CZDUMeApfFFLJtf/z4sa7WZDfVratXORIj9mYwsqPYVbJ9gKlAyL5z105f1ZWVj9BkXi8bwWbffIK4+9vf/pbU0rPtvk/d56ststu9e7fVnz1pN666zdZI0tHUkrbzZzEUY6BrlSYmksHVqtVirgbnnZ96wMaO05FA7Tm2eeOr1qQBXlI2UqoqKUrFiC6WevnW29b0UdPLf42bAogKdpe/89Wv+arQCVOcNavIRQsXy+npAivVyjIZUBc3SzLA0MNuEGJWPbXGCUIwPp8lOOFygAl8bJXsZE7v8RUcx9UBF9xMQCBqJ42z73zhtyyluAXnG6XaKJPK9kIEL+XfqtMNqrX6nPvgA5JUSpV3lcM7774tZ8njnDlBZYLUBClGPtJftRNThQifouP+IIrsfEcS0CK/glhCEVDB5Yk5Xrt2bQZXYB4hpuyWvX3t3XJJdNbam95xO00/uEGr6ZSkpWlJSdbdvcSuv3mmdmN2yL1SibU2Sao6Wpse2ltURo6Nm1Bl42Ys1AQdnxZwleFytbIHHkePHRGujJG0+i53VI1kBRxjsQHztWjhIr8C+9tvXytGUUyF3h0+etjPJocpBAdxYo+j6y888gWXglDnbdu3WtW4Slu9UvaYtbV2on6fXRTuc75x2k80ybFW+SssE4x/W6rjxqZWG9E8zkpn6KzpBklLNGZZ2LVpUTRKp5rgew3V3VAO+7XoRKK6Vgz4cjEoSEDBcaQ5SCAJFaJ3K1ferAXSbpcSYvrAyRQ4tQbWDGLGAxP8qpW3GPSSAMOCf9dxOvbsXknD85pkX/x+NPG7jbSwVxRAOJ9jN8y8zsZUjRZcS116yGaIEY0V4r6VvZjINvXP0ulLJRVeIVwYmgsfYAIzBKNUU1NjX/3qV6UiniDpIY2EFkJFowA8wbWlWogiiWVsAM9jWkwyJmDGAH119VSdWTwzg4e+GVILxc99/mGbP2eBayZQKRMC84Z0kL6Gmdy6basv4Dm+lPFF3jCPBOze77hjnTONEHg0Zcyvq1bdIrq1QPm1u2lBclFUoZ3E14tZ3CqzDj4sxMibPCkfvOIKTlXpkAgELYxZxjcw8JCABQsTYDHQEHB3oOmy8QcnBCTx/RhYELeFFSxIimFri6QwolpaHRXZ5i2b7W2dm/rwQw/5xAxisoMOyR3HkbkdXQIeHLJNmnNSgRRrMmBignHi6CuIKF7lEfE3Kx7ua8DnJpgrDZriMnlm127a+sZWO3iu1c60YEummqgsBjqnqezdtcP27d4m27AcO3HmgtLnyjnuI5ZbUKyNC602uqDVplQUardYoSSVckEiwsnKkJBcVYX7cO3pffJ5Mq4/1xdSAIzzsXdELQRDV+abaiLbFWxRgFkgGAxWGg0zl6cNGNgjId0CTpwkAxHhGDjiAzfs8Th3+rwkaDmyHyq+sF8mXDDMknaJeSLe6Yvt9i/PPGGnj18U0SvWEXdj7dbrFukq2xpJCZsKx1hbZbXljKgUXLS5xWlIRDBCm8I12d6e7olLQMWQTOedqWf0J+1mguIeCSgEFfUiRAfGA6kl7UO15hIq0kmKtGHjBje4hkgyEUDQ21rbnJFEesp5n9iRlgjG7VoUtDadtpFtvxKDogVBjmx4aJyY5Q6V8+7mg/bjf/+18MDkuqHS7rp9idykSFWa75CzxtRSay3UJigxhfRfUJmENoVrT3BIPr/WcV31GeMSOIUxPV4DfOEm3GgVQ80CDfygtzhaDfUkDDgTjE+eirdPCz5MGmDeSQuu1gvGbOCiz7DHataE1yo8Ki0eYecu1Nnphv12tvW4GEFNyuiNBW9YlFYdc/fK8+tt03tbbNToUZJWjrNFSxfILESnqQhn8tKFNrlojnxoVliJmCPHF3BJZfYFP94TuuJcd+kcsxW/P3HJM+QRrslnyXvy9Voob+CDzVqpjvCDOYGeAVskhMCWDxJarsAUjcFm7fQGpiyAWDBGjDFmKOwmbdK7UuGmFkqSVtVrs1hhMeNFGoRjkmZtybWiPcJ5dtZD01QHQc32Xdxj6z8QzPdvsbFSJS+etsRWzV7lG3vgAVsrWqz+xkYrGi1PBEWcwcwClFb1v92fdFzwm+5HQscCEzhDP6GZBZKsQkcDY0jTmqXBeU1qXhgn6AdHZ65cudIlt8SD/pyXFgMGkf4gkIa4bP5pkBlGg3bO12tOSmrG6EuHu+oDrcfmD/qFuQt9TOAKbarQHAddC+MHCWC5TvWi3swZtAVGkkC+YX6A5kEXmXOZK6NFdbSA4x2LOoQoMKYPPPCA2+A7cDynK/NFfQgBpj3lqvfRoOwpQvb5Jw6By5IUYqd05HDkhBO1qzDViTaHtzNw3D4JQhQjTE+tzdcEA5K+oUEZMTWSyoip+/3f/305D5bbBKVvaGzwFQ4DiJ2prJ6LRQBRjjQ0izGCajm+ibhqrDlDiLRQk/5MrY4YTBvXP69dZ4V27/0PWo4YQvzPQUCTfgnBWNA7rH4CQafu4T5ck896uk/GDXFYvRJgaAiMEycemowviDHeuHGjD2KkiuFd9D5ld667U6vVGaTyd6jTYWoAMXFYceIcCHWEKCDZa6KLiA/SQt8pml9iW/Z8YFUjKuzTt91nparPiSOHNHlflI++sYIowaHgZfALOFGm3/uXs1J6dOmz5PvkfRRLTxTf7+N0xPF6S/LBhiHu28XAcqXfQz9whBN2gUFC6nmTl1S4GGUjRQx5BSmjP1AcmG4+HbKnbJCdZBRgAgU34Rm7BnnX1NgiVd1x+/Ijt0gCO9ZOn7uoSeKYjrmTE+uJMsTHpQWVR50spia54g5tClfK6Ou+r/fJPK5EXPKjV9VYjY9cGZ1LOqQAM87xZzx3mq1rs/DnjTded9UlE0vAQyYimJXbb7/dVWswhVGeSBmivqSPYWAKtTEHCYf7eRQzSX86oybYURNlZQ0Xmn1Dwze+9TUtjEbaoWMHrV7MaLMYxHylD5Iq8IHg419lkrgvmPh7EoEn8dUv3dwPJG4yj37nq0QsOCsl9aQNjG0W1LTL26Y6wohgT4jKGNrJZoJUviSxzWl314W0lF2r3kfKzz0zxDDlDO+ReCbQ7yYt0MFrAlDy3d/8zhdzI6n6zgO7fRH/3W/9sXXIdvbkvhNCaXkqyNMiWXVTjTytjw3u1HcRADtxuq92ezL/6hv2VyMuCzxgUSahAQFGTT8FF+YE6Eb0PuBVgY4PXb78BmfKkNLdcsstvgnFF1LAWH+OvxFoHBxIa6G33oeaiWhp6BvKZKyE/qWvEWzcsW6d0+bwnPiBucNOkH6nD4p09bOLVXa76Dh5Ew/cIa8wJvnNc+jb6tWrKdbjhOe8Q0gAIwpjiDQRswRFimDgKS7/K9nuy88tm8MnCYHLYgph/J595hlfQS1avFiqiJTURtvt6V89a/fetc4NY30k9tFC7Ffef/893x01TurohnpJqpoafIAxebH5gUHBoHbmhBsFv4g6RZJHVIj6EU8AqI8hYdjC1Sm/i7IBW3PfQ7JPqtNjpEMiEgxaSUe4j555tlf3S5UOhMgJQlxfL1TvcGjKJpOdWz6wssoxPsCR0hDcpkTELRPivMKADAwUhK8NYgGzrcAxdzmoqTQZs7Em3dohf2U5NmdqtVVpFdnSdN53LbN5Asi2cgSZoMI9jOS1CNQ5BPozJ0eTlGATEfEct5V66623rLykUExsdPYu8VlF036IZAhIUQOhDfk6ce8sIooqvOpgBzI4INiwA3Dc2DKp5GTbmif7QqnVj524YDOm6lxe+onDYQng5BC0J3RYRi3IwDWABOZLlkfRgkC4wfgB3kgFkcASwD/gjNQCCUkI4DPwwMVMJsBw+x+To/BQcWSo6upj4Jh2HBN+5bQYuyeLRxVrcXdRNnJnXKIySc6sozRKpqQBC50RJy/1x1ALDn9wmvorgLvenrghLIjZcIVEiYk/MI28ZpLHHpngO1XVR5lxDyygZYrjiyYYFIePmEDhNXQ5pZ23SMnaiqQO1fhaNGWhFZ4utCZJc4/Xn7DKtiorL9auZeomabqHmHnvhH70eEh8xzCmrk4DBIPIZZLax79gBZMX4I8t8vZtO+ypXzxpdZK4AntUsWgqwEPe43rFwUreunG8j6/0TwjJ+/DM+1rpWaxDm0LfZfIQLcplXlJ+LNxxoZUT96fHVRcHRo88yYO0IT1xwnueJQMjBUkpabAFxv4wtJv6YLfuG44UDzvugYSQDmaWOnhdB5JBNu6gg8BlMYX4KVx7+1r78b/92P76r/9aUq4LVlNbY1//+tftBu2SdSIoROw2JBAapodDvLFLQtSN5OKYjuRhhyPhI0jueWpFyziMB0v0wyNrxOihxgWqQ5jAl599SmquPFu6fLyYw3P2839/1B7+8tetrGK0Jj8RZylXkKZhMCzrEYq8ekEDx0M8cKPVJ5NqBKdRFSPtd3/3dzUBF4hJLvEJmGMDWZWy2oNhygw+5eUEBnlAyFeZkxcSnDZxgHRwu3w4MtY5yzRfhD6vo1GOq2vt5y++YU+8+LodPXtYKqgS+9bnHlb8dosUFFE1AeXVDt524KE2gDMQ4NANAS5Tpar8y7/8S7ezhFCfOnXa1cmsvsslDUAl1zVkJALxC/LqPOZOBEzPYTi8XJVfUp5rE0dX2t//4GU7ulcG/CUp+8oXV8vFB9IA8FDQJBGTZSx9jbMeEpcAy2Rlwbp2wT1IHoAFjS0sLLBvf+vbvvEKGGO3uevDXT7xTBIewiAycRLAPZhIYMSEFsY9oMWGDUkV2ZrbEwq7YAjlq5BJbFRVuW37YIf96mcv+GaSiZLQ3rr2ZpcytrcqT6k+O2VXXhgF6maIBtU9YgoiuNGW0C9T5XLqu//lv7gJBbQLGojKD5uw8aKN0ASAzPFk7hspDBKBwse/8oJxQeIUBTEaGvOolmH28gT3vNYRNnfCXFu/8zX7wfofWmO6yRZPXmzLZ4pek5/io2WxnCblyWJgaMI6wBQ4cO/SahCUZY+aBLwcV3mmzxnZxGPzt2D+QlfBsvCB7mKLB56n27EpVmrlRZ8hUAgmRuTl8KcwhfCbeQzTqBLRcfLAFIAPeaKaxkUM445xAJSVjQfqG1izPD1sRjOhwsnX4+rKwoG80DqhMobpy+QVZ0Rdecb8yQaX2tpa27Jtk+bAC6Jp2nGtPFkouCmDzDi8/6Mq9PidbCeRKAO85DlmENkw9CFwWUwhyFRTHRnx4u8Jo+j5C+bLbcpyn9h9FdMNjPy5kCiQG1RNrGAee+wxZ35QrTDp/OEf/oGOGSvToI5iwit0F1ya2OWYO+KB5AyiChlVj9FA5P7YgV12cN8uR2KfvDxeqInmrUytuivpyj/zkgUL6gJVgOnDqBzCgJsJVKbs/ERac6s21Nx6y62+yuvKKPdWM2XrQUKxTMjPL7J5M6Zp1taO3MYJNkcq6ZlTJ4hIsIJWfTIxr80N5WWqx03mh+5FvfLF5LKBBjghSf2lVvQHtRt9ypRqbZRYZxxxR+hKtPxh/AXMwgpZhqj+VE1V4PxO2XGq7eMnj7KVS6bbwQmVNnniKFs4t1rE2znqRJWSlYszHwYX4MMiJYDfj8PS2ONM1VdeecXdpZRoFydHrd13373C1cjO0B2Ad22/I1CERUxwsgjQDCKGX/aEjMuoFFRfuTZ92nRJqzusdkaNzV803SZNneT472sD3wkU5eOTu+o31AN0yIe7xngyMMGWS/tCE1El/9M//aM2HOyzqTW19ql773F1Jmw2g5M4PYGik7JGuTvOi7zAXKNmHls+1ubXzJN9p0500nnfi2oXWnFBiR/spI3HYqCStRpu9xGDBa1N0lAkrBygwDyG2hZ7eeYkbAmjxU/nmHcaQwfGgd/JvLjnGTaAMPU4lEbK+9pr6908Cik7qlxMARhDxA1zXMgzc9U7Ankmy8Abwy+e+aVVT662A4f2W4W0JzU1Na6ipv7kGxhI0rNQwJXZng/3yDPDcZ0kJIYfHFI7mG/xE0t84BJaGtqRuSofcCnZXsrB7hFPAtkwPCBwWUzh5s1b3LgVey5cWoyURCHp3RzVrTM7CVg5wsUIDnIxCcEAon5mZxQIjRoFoojRrWYNX+UhPWrXX/dBubrkRlflCbITsIkpLBlhs+bMt7feWG+vP/szO3D0pN2waq3br0WDRisd9z6nshRgh+Lk/vtqf3lZEBEmCF0JfCPWZ9cs8Pg/ZVvJqhZbTVwl4NKA3yG+J+rlC+fTbTrCDukDeaelpjgpu7DnN75k0yfKH9eSWfa2+pL3182e5ptzAskTCAdFSKu9rMyxDYWoLVi0xL7wW19yFdyhQ3JQW18nKXNkqwledRd4zBtcy3TIiW1HqkUbcOhvNuGIQdGEu/6NLZLQnLPPPXSjfB0e1CaWXSqrVv4L5cTNz0wm50EClO4aeRnPgI1/BCifgPSDljJBIvX4zne+I+l9mR2QMT6TS+20Gt+Zjmqs50AOkj5BaVqQ1MpOjolQzImffVzXYBs2bHQ/bjetvsXe2fCeXVBfLrpung9lxVTyiHkKC6eeyxo6bxxF4/HetdZn5R6LTQMLtfv7oYcedmkPfutOnjwlO86J6pM+8A+QeQGir5Jqe1+KuYfWtgnXN+7dYG/vfdfWzF7tUqytB7bZ5FGTbUSRNDMisWw2sXSRYspGuWvlhtPvAH/BqkwL8cM6z/v55+W+TBv0GsTQ4devPzveHb4JuMDcM7cgCWRhjxkGC1p2Es+ZM8f7kyNdYRinTpkaj7Vo5vFuS+TV9Za86Vs245Vrfrzh+us8bzbIsIkFCWJNTU3kqUHSSeLyYeygiZs5a4YdPX7UZs3WLmTyEl743KOCnCnsWmCX32Fe4LEzi6SXBBpQgl+ZRXeXdNmfQwcCl8UUgug33XSTqzgff/xx98O0Qr/ZjeVEKUZIYVsGIpAzkBEkhTHBnrBWSEwcEBvEZPPEWa2EOMKHgM1DT0H0T0If7dhzgbvKUVykP2GjCfttR8vv3a233yWm6kYZ8ObLL5v8/4HFKic2k/fsPS/UC59gCATGjY3FEC4Ws8xuMiZl4APjDVMY4NufquaImQHm2Af+/+y9B5hdx3HvWZMTBjkHYgY5gwQIkmAGCEqURJEKlBgUKdlrSZYtS/az/NnrffZ7bx12bX+217IcZOlZVnCQSIqSmEUSYgZIAEQkiJxzDoPJ+//VuX3nzMUkhJm5d3AamHvPPaFP97+rq6urq6oLNUjk5xXJ0WSXXaPQKgvnzLQzsmPcc/C0bdt+xBbMmChj9Ej4Bg/sELMh0cb5YnJohdn1BM0p9Bc8+urrWgSTgGFmuSHDaBzQkoy8k8tF/Y2KkFygZWE0xGfOSmAR/SxZMsv6DyrTso3ZT55UqJyRw2zYYAmFWv708Tg7IMms3mX57XSlnKC/4FlMaKSZM2b6pI36szXYITn+VFVX+bIkL6a/sVTVVqJ3IgKabAkLtO8026g1i66gLbxop86cbNMUD7FJgvneXQfs9JEamz5jmiZ0msyoHNAhqa9oCqPadPyJ4wDLguzag50lTj9sxYZQ2FmKWBtEmlo+dqLFk1u2ucU1duLsSZs4vNomjplkJ+tP2Vs737KqkVU2a+wstWGKV+drtcZyO+xSZziJiTpDgOYxSSEwO3wFhcRErZxgexdor6O8Qp8J9zCGwW/RMCIE/vXf/63MUfbYLbfd4lp3HFlwzIS3e7fQpIdVisx8Qn7xb/JGO4dSgGVljiknYwRL1UcU3xClCn2R98MLozFVyhf9rqqqdiEV7SB1ZmzFRpV7LiS18FiZnhDXNk9e7xeSQXJv1iJwSUIhgT0JBlqrZWTiY7GVzmPaxQC7QGLCuZdTW1WHUPXHgH5CQiGaBqLzE5aGpWQIFCHIPegkuNHBwu4WmdnB+vIIL5By1aejo1ggNhehZ/Sk29b1qxxoFbI9k1LdBzz0QnRC/Lp0t2freYmBMoT1dAoaVR/4VH+WS1m+W7lypb300kvu8cnME0bizENl72pqlNCTh4ZGg7D0BW5HXj1upAILK/jq+r3a2m2rvbBhtX1M8bRIpRq8zzkOyNhdf09Xy3Mx9zkNCBdmoiy/gAvLMyxtQmfQXEjtMdcoSLVaWTiUSjttik1IAnt2vtHGGjI16Gdbdhy2zbsP2YvPrrWh/WWz2B8tsgQeCOQKSQiEIhjHm20osV96a8Vbrq0G34cefCg96KRts+LYBLIRZqI+qE74qWP6crBuFF1BWkWapDVqMFvz9gY7efSErX17nU2WWUOBPGXJAsN3NVeUkHb6QAK/dE2oE386R4L3EV4KDdKrr7/qdtqHDml1YOgQbXM3OMWZArhtg+FZpW5p9D4fYclxUV2xjRk02o6dPGrLt71pq3es1tJmrVUUa595vNBiieDhfTql6In+j20d2ll2IGE7VVav2JYuLoRHKNJcrUeIFgGpNVq0JULmAx/5uG9GQJxKVjU4t3jxYudZPOv5qb1SJNA6k4xf8EHGS+L3zlIsW5KPlcqHiRnawFCe8A298Ry/+2kMISH4MnZTJzT3gb/6xS58OA2nyo69vo+aXalAF/JObuldBC5JKIQwCA9TXljugVaffvpp27B2tV13w0KrqqrymkGIEFyrpOc4h2E1MQ4J1bDkjiV2p9z1GWDoTMQ5G6zOo8e71luczYrZQqiS8bDNc8NbBjd5lzZKUkRIRJ/UKKPhkAjrUNss71y/kkWGssIILQF1eP75511rwA4xQxTSAmHZhUgHJ9Skg2/w1h8CsIff0Q4G47TXJ3HONmzZ7SEsHr7zZrth/gIxHFkeSZMo0DvIsIcvqeyeRBfQzRxNOBCQl2u5h32y5ymGG3HzOk8wc+GgINVi7X47S8YE7EXoKy4tsmkTR9uryxS6Yc8hmzR1tN25eIoNGSw7L1eCReVwD80sgqfzel/gHQHv1GPVVVU+kLEFG4PlLbfc7Fu1RZ0zGiR9ApfxmjCItkhAkdCjTu7UxcSworLM+mm/3nfWbfQVh3vue7/bFrqmn7uk3WrScj+2cH0l+RIbfIr+K6z5hpdyzDcTw3Haju34yWO24q2VvrvPLTfdmA5/4vd2CkaEV4F2MGoQfTeKgPNlVFzQUGRThk+x7YXb7a0tK+RgVmIfvv7DNnrYSDmkxbRVTfCAtjW/nb46R24IE3DwJAwQdn5zZVfIZPy4THW2bt0iIUvB/YtTpkUswYsHeQLe1jJ0q1pzH7yKvOfI3hlezkR26hTZ3svZEQcR+hIaO/oRplautesgT14QxlOcVdiakvEBzSPbxGITST2G6tpIBerWoOYCZHgOrSJ7nRNL+M233nTvahQooSKhzJzpKAV6dfrVjekiq65Jyn0EujKStlvL3Yp5tGPnTl/WRCBktnXvRz+mWHp3uoeVqNyfTXck/fK+pPN0yMiAN8o+xEzzXyniokMh/HREa56fjIGbZeiKPgKbRmYtjRIEXTOkwNb5BdqKS79PHj+iIimYp7Z1I1N4MqlY2gv8dHVG/3qfsMGG2WCDNCgwkjVrFMC2slzex6O0P/EIj+vmHbIjYKKq+adCBKd/5eNgIZtCdvCYMn6MjVc4EFXayqWxwW6P4LksMZNAgq3xsiLRWAj4ogdojnhuMMJjJ4+4VsVjP6bwCMzqvHJL84HGOb9QeQmGaBs1HfOcvhobFNesotRuXThFW39VW3lZgWgUFBCnYdo6FhMlviH3XymJ7QJx7nnt9ddED8RsHC3Mx6v66i2imXRHageQBjVbs+wJEb4xXWD5GCAdQkE5tnq4DRs5xLWDRQWKVSmP4zzRKch7kkCYto3rIs2HR7P52+k0MCEVNPRpxuljskV7/bXXtVOFNKhaUZkyeZJPoOM8s726eZaxfBn4+emKWoFaKn44cdQk6z9aAvnZQYoHWSxHgciDFGcUTwoJlZcnk4m+nARKEAwR0DCRmDNnrvirYnHKoWrT5k12SrFbtQu6x91F2YBgnZnaEtLjihDiTSK4YZt78803a6vSUz6h5diD8JOhsvVJ1PnZt3odNBL+eAd/jBHkT4BzHFo2ykFmoBQq0Eq8bIzD1HOg4lm+8spav7e0tEz3QHGqG325C4n3+9gMUZFSX9GP5DPXEbgkoXCLiPz/+/u/U0e6xr70pS/ZdNlPDNYsJQwSLgyKibtTRAbluLCXIkLXevnAnOqkgehExCRnlu0gDT1Gy8eacalbwdRw46+rrbEN69dqk/HVsrmYZO9qP+C98jqePvtqmzH3OqueOkOCowRODU614pYMQorep99ZIhiqNqsUuxHnko8pVAzMg8H5qH6zdOCdPXTKdrAJp5s0EDcr9AQOFrLqktaFemMvWK8wAhyBm7QCBBrWTykLPYFtT8UpjN7YzmeopyYdBGJl4/iKfuX20EMPufC8c9dO11wRloEUZ4TxHGW0oDorHp/o45yE3/IC1VoCMnan/C+QNoXpQZn2Gi0uZZYvBBrQakecOs/j18RzvDKOmZTgiXnvPfe6hoMtLRkwsXmjr7mGQdo/tBZtpULRU16JsK0FZwl7OPmkYj6iYWRgLquQ0A0PkGDumlhBj90hfyH5QBR+9IFvp1PqHEucOyWziFUrV2nwHmSf+tSnnP+BPwM64YA6S2QZebNKK+5OVfR1tY86dqSl1LK9JPXRzePNWE2k2Zgk6Z8zhhTkOGP16SSgIqUD4VRK7LlfPGePPf6olu8HuDaPXZFwPIHfPvSJT2hHHdxuWrcX+GSOTwhX9Ak0cxxj5oKAxn7H2Ipi84c3P2Yv2ALS5r4LCu3WCeBBcHPaSd2LGRerSEyMT2nXlTffWuHmW7zLnTVT97kjiMpDeK8XX3zRJxzXzp9HBTp5a9uXKQO0lqS+hcAlCYUQ4x/+/v/py3ksAZPoDNAJjD4iGi1f+GDBWWc7fh5CdGGQh0gpwgyd1DtaiuIwhO08RRrCZkk1BdLu4I364nNP2oTJU/X+Jtu5frkt/tBn7OoFC237u+usTtuoFWlLtUYNSqXag7Upj/JfXOfovGwXeEcKCwYBjJ8nyZAYYQitAQyG5QGYQ0MXOzNGzIWa4WIfCErsZQy+zSybS+AR71ODaYlOowOa1GiUiLDIij4f6EBlhqZYghmkkAojtFcynoIv/fIlLcOc81hdmQz6fOQlGqq+pYXYFHrF3dA6H4NCX15jdBRWEgYL2E5QjijNwsSL4KqW83Ps02dEBuA8UHHN2JqLRIgkbDlx+MH20AfBDvooE7V8sKN/8S3BUKbywlYBmmW/xfZ6XGusr9NvUZx7hMMfdFr4X2mJLRkJCkwsu3EysTmtcCEvv/KKTwohxIiLdoxK1A8QsLkP4Uf9XvaZgj36A1ZdI1RJkQcX5yemPhIk4Ss4X6UEd3Loiyk+/mAGVVVV5QIg8XGxr8SEAQEOnHDKAJ+2+Esmj+Qe+gSREtj9BxtCNnpA275q5Qp75uln7RoJYwTHbkmZubRcyTwif+yqCUvDUjcC5wppC+v1vqcUwmyabA2Ja8v4ES+vTwiUGePH1GlTZce/UUvOUSiv+H2h/Ai1Pp4784tKwe94glSS1LcQuCShkO3WGKQhnpDCTIbfvrQULsS+eSYaZWMn44fOlMTQ1LFI8Tzjt3FMV2r25WM/8mzr1KHZ+3fy9Jki/pk2pmqib3Tef8hwK9SMcJs0nMNGjbVB/eSc4NoxCbAhLz8i515MwgeMRo8eo+2tXrN/+7d/823+qsdXKwzLAx1jFyt2kRg/fbZAA2+zhEqWgmukLXhDmp/C4lIbNajCnn99ndU0nrWrFTNrdjV7CiMwRmj4Jx+9nVL0EOjsjAT6l1952bZv367QDOd8loytjAruuMUZXLzoLM8w4PlqCdg4Q2NCUGp7dh+xde/uttlTxtqajXvk+LDDpk4ape3cZskIX91E2EX3x3O8Ao7V/mw3t3rtavuJnMiIRUrQ+k9++tNuC9wyJpxPKAyiiDBoALHjZMeTek0QizQAs+cxGt96BcUeo2gAr2trx9qz9QoXNU/LpCOspIIBDXxj+cI3+kAjeOQD1Qw6jQ+yzhd1jmDheJQ+8eQTtk+xOBEuCNd19dyrIxoXX3RshUfIqz1KhOabhDthQ46dO2pbD8jzVTZlJTKTeO6NZ9yx79YZt1r10AmaFKLhon+AuWwQ28u0D5337fAk6GCjfN9996W3lgtjD21EeDDa5rQm5JAjmLaiQ+gylniG+12jvuld2YTOd+GNVZ99Ci10r/YfJp6vt3fsua4ewgfZru7QoYM+YRs7dqxWTBo1UTtgD0qzjLKGe0L+mfwQgfHWW2615557VpPq06KBSHgM9/EcwjDBu9GS1miL2VWrtTf5gEpDsxhCfyFkZlS9q1VI7stiBC5JKOyKfcvF1j0QdGfPM27kYTsh4YA1QMJc+LZOik942+L3aPn1OHfYqInEPROxy3g7X52gpEzedpo2sySYp5At2BSSl9gii4w66t1E6JVRo0baTdIUIhQz67tO3sEDCfejovl2VmI+HSaWhnVL/bkGacaY+RbZhne32B/93T/ZjddOsdc2Ndrh/Tvt1x+8RRH9D9sJhV4ZoT1AWVZmGZWlu/ZjQ3b45m67CCOaM2e2e+4xeMIA8cIjmn5gaq5hUgnc+SE+sqVogy2MayQkVwiTPAmEmkPYD/7rVW1ztdvenjveXnlmrc29pkrE0Gybtx+2ydXDrFyCkTukdAJ5t1W8tzIWjaERxOYXbQeDBc49eDmSAuaaXbUuYQwnTDjzUcTXqp/KXpC0afNW+8E//cRGjhtgjefybMXS9faRX7vTDuw9YA0KLzRlRpVr8eNb57lmpw+MQmAGL6JfB+2Ng6IP0OE8y4q333a77MVWiMbH+sSHrcTAwHEA0zaeD/kE/imSdyGmSXbT31n6XXtj8+s2f8J823Folx07fcQ+vvDjtvvMXhs2YLhsaCukxE11GD3Y55ePwTqGOYoEhMG4BhHPXLTh2FqTHFcYcETGfq6lD/hPbxeEfWLMjho12m1C8fatrq52XoWZBdu6ou2bUD2BBnKtZGY+UW6tP4Pmjr6IIEtIp3379ino9hQtGc9yxxW2SiRcl9tZ6/FAC/Gchg4ZqjGlWJrMQ+4EAy1hx869CJSvSDP9vR9836NdbFz3jo8FLFEPEs8lGHfYo5m+nTJJjGefHOcwApckFGZFvb1zakDCeUIDU4OcAYjKz9hRVNbPhonwjx3e7/sIl+o3BD9sUH91dN0k6QEHlOZCWIOe0Z+sbvy4Nz9gDjCOo8eO2tKXfmm7d+12IQjvuGvkYVYiZlOgezpbPm7S7BEc0BQSfgVHkqPHDtmDH15it8y93ga/tFTi7yi7b/HddlS2KAeOHLOR8rQFAw1bekYMIgsE5NAWMGuY4urVa+3NN5e7gIKQgnDITgTgBjkQN6utpMupCb7sBpkda0M/BMhGLaMPliPPV37jQyIAxe9qKLSPfOoWX27btGqznR7WX/ZE0rbiaAKRXElJBIRG9i3ZKW3fLi2TaG/DhvWOORoGBpFIW0W/yRAMUzgxwUA4IWFPyMBbW1Nv82+coV16rlPQ3Y1WNWWc3X3PXXZSMfSOHjyqYOsNrokMRvD+LAM2jdiHUlzTR90cT2nrDuzf585UJ+SpWqc4ogzyVVVVjn8gQSY9jgaYqB3aS+RZ21SnPc/r7e5rPmDXT7/eXl+nXZIGDLEl19+uic829QFpcBWHUwYkUTa+zM8ac99N0CFBoMVUfAm2Rk4ahHchEf2iQcfYcEbCdzQutEV/4BtP8CieQXCj7+C1j8cx23GWlmm/6ZpaOy2B8J67PxAJkKlZrGsg4xm1cUy+5A/Pe+ONNxRWbKc0hoc1PgyUoFaoPeLPWM3ZGjf1COWgfJllRJBjQn32zFlNTKI8uYfxEZ6Kc9OnP/kpN184cUTB/O//mNsQoz3EdOQqTRRJnm/f6pJtoH5lncp9oVD90eNriTFCmz6I+IE6pgS/2tomW7XiTStXnMLRo4bbytd+qW3utthVk2ba4AqWHNVhgmrJ294f7lUqCJ14+bLldlgdfsmSJa4pxBOOYN8jpKXxILNhpG2rtKpGMzHeuCZssCcsEDOZqSX/YUeG2sghlfYrH75b+WjXl+Jm7ZRy0I5qT8x87Ymc31jruxl4tsDR2ykwXdWDGfv69etcSL5dOw6wHMlMGdsrZs7YXgbGmckIvRoOiByRlE+pbAjz5GVZoKDJN940VXHJKm3UiKE2ZeIIK+9XqB0HTtq2fYdtvLxjLa+fsMwGMHq+MfBu3KRlMAzl+8krc9fuXbZZg8Nk0VLLMlX72AC5XxXOhv2uJh1V1eO1jFxiFbJVXPz+GyFW7a5RrPccUuD6IwpLc5WEcNkdyjEonRB+roB0RvbQyxUypFJCxK3a5YWYq9A4sTjx/IbGQaK92K2ZECEclOnfnfPfY/VN9TZh0AQbd/04Cd1F1nC2Qf3+qA3uNziyNVQTuYb9Cpn9rFP8TSbZhEf7h3/4BxfeEM4QisD6t3/7a4pfqpA0zjdgpRpn9OcsqR1yDHyHvoFHM5sNkB+OcKyuMeFn4wYcibAd5f4I88yWO/93EPQqZS7DxhEzT810Z8T+4l2EYWuQjShCIg4moRw8kynMUkc2mXhMm06slFPTLC1nU07uxemGOMNMABH+vvTlL/nyN2YM7KxD+Tkf8r9CuuX5jdFHz+S+UKiGcZW/ZjuyXGJNRdxS810ZviMUQrjTZs+zw+uX2vf++T89IOniDz4g1Xp/ORMwSKlDauAJAxcDfzt9vcdIAI0Y5cZAmY7JjC50QJgLHZz4ViH4qES+NNNKF1IVCl6z4IBAhsSEAABAAElEQVRPRWNjvYLgDtUyEZpSjQH6KHOG1KB9fkdrq6dBrvVh0HZNoYTORi07ZVMCh6oqxc0TQx0rxoRR/oH9+92gm03siVdIwGNnhJktKUxghogoBAcngV2xhJUJ1QRhlwmCHI7KS3WPNMgVsru6Zu4EMUtt/wXnw/u4t4nDS91zH9AadEi4C5Y0WTZiG7aj8kDeq+W2Yg0+I1NLye2VKrLYBWz6Y4R5pexZq4rHuQBfWlLh7SXylD3hWG15N9hps0kOKdasATmVfGAjgz6QqIvXR3WBf8UTy3r0U2y/iDfHsh6Y42RG8GN4Qnl5mWPXJTR0E9149qjZdqL2hPo0A38p/j7eG8YPH2/9CvvJ7lN8RMl5DQ/0de9j1RUzCCaR4Aje1ROqfeKDE0fEcyOEI74BOil84AepFNox/ptnOQ8/gn8TpxAhMSScTPy9ug9eRa9AexfLNtza6ptnPKlYTIL5ow4hb/IaS1Dq1PspQ1SPVtk4G1urZeZ/+ZdvW1Flnn3jL//RBT+ex6a0qqpKDk6nXWOPMwvnEQaxdYUf+H16h3tNt846+ZXjCOS+UOh900UYJ/RmzYQRhrQa4p0BzdLq5a/aenWAa+ddY4PGTvaB7awCN1cUsY0TAz2CTxAMWzPo3mhfF3LVCVnK+OEPf2j/8b3v2jlpC5ipYVtI57z77rt9X1RE2NBBM8vKchG1qdd+bdgU1ktbWCgd4ND+BbZs7UY5EPSzGVUj7ejpc7Zs1RpnLFOuGikGGTFJ9qfNiuVjOKX+sKNkRr3sjWXuaILmhLqDCzNj/n71V39FoZFmuFdlJjOkPiyTQTLiZ970fDUpxmVZsZieBsU3l22yKdNHWr/yInvn3b329pptNqT/tVY+ZmDkrNz75KES91wCw5MyLfjOd/63ff97/+bC9CktT4F1gwTnBx940O7+wN0qkHfENgsWbXMXXYK2iEZQLPvWggGFdvr4WXt33SarmjRe4nm9vfLyq6LxQrt52EIryZeHuMZR2ojk/aKzUTO6Nas/oxBdkLTsfIWvTwIRTCBKzqnOJ4T5N7/5TdcsUZlT0h4yiRsycLB98YtfVDiTSdGyX1fwkMzRrIgMTJQrJfy9sXWZdvQptZmjZ9nBUwds+abldt3EBdZ/2AAtMYcJpsSgK8D7eJycNGAG8BF4KrFP2a+YQNBXXTUuLWyh0SOlhTL/FX1k8plwKX4vx3HhMS7EcT+07U4+gdhDJhnflDMzr/jvUBanLeXJhKKtxH3wT8bKirz+0mLK4zpFS7wDjSYRB0jkwTvo8ziXMv6E82hZk9S3EMh9oZBOxHikwZ7DiMky64qYIPYSaIDu+tD9Ckdzo53UMumLzz4hG51hVjlIgqCejaxIJHAoh0hT2EnP7AkaUAedPHmKfe5zn1Mg8KHeeWFe1O+kNGIMHjrsMDVpdEGGKSoWw8G7QglmgCNNg0JOvLtxk207dNLWrF0uAWiXPfDB9+o93AUjiTSmksF6P6nMlJv4dQyMC2+6UTsPzLXqqipfSnNGqGt4B2JATdtzLjC5dAUEgdvPKNyMkPA/vDI5JDA1wsh+aQh2vXjIztRo26vXttq4iQPdFpM8mMlfiWnSpMkeE3K6QtJgdM+ABr5orftpSSzyVgXPthM0q3FGALKvuYQfCT0NMtmAOusb6mz3zn2y+z1umzdu045Ispu9do7sOZUfba7l5nRSG/el5HSrOmamYi2rz7tmnry8h7thPwIDAzMTQnaswJ4MKHyFIPPh1O9WtC+6ZTLFrjDgzt7H6w9tsE0HN9kb7yxXXjKfmHIjzeP80FGWfSFN1qeTsKeu8BVWXh5//HHZt67wUDHYzy5efIfNn6c4fp2kVlh3cm/m5Tb5VOZNF/m7o3IxEXnPe95jX//dr9vKVStdS9re/dAdCoq48EmRnH4vsmzJY9mLQO4LhWDrfNW7tyPNIAWBo7ovkTftkrs+aAPESA+JoRbL6eKWRUusuFxaJs2cEX2KFF1Xn3rW2aHn0dsfdLiRI4ZLpd+yNBDKRN3qxMTiDIVz7XZS4UMoFkLSuJAnhlBZVmjrD5yzY+/80vorNtyv3v9Rm65gqlKgSkPDMsf5g1V4f298w8QQLvDKvlaMGgZVKGYVTyxlYG+FV1/cQSF+D8cFRRoEahqszHfO0ECpti/UiMjqTuWAfvbzx1bZKe1CcOMNE+yWW2fYIPY+dk3BlSkVsmRUXVXl26zFsaRN3CtTtNVR32Hi5dSkgzwJ3x6Q2iXsyH7pmCYmz7/6pg0cVmQPf/4+GzxaoaO0hBqChaefj7+8jx6DJNobdi5i2S5olJw1CcQqLeG7TaE6Mk4qHnuwDSwiXiDNOCYPLpArXwmFhJ0pKSi2M+dOyxN5mU0bM9UWTtX2mQOGanIsjVAQUmVrm9/Xl4+dbiPKhWegHbzn3nvlgDPA9musQACv1a5SjCG5mNodE1L1Rht4z7332Lxr57sWEA1hZkJYZicWbLY5RluIbWS7eWdmkPzOOQRyXyiEiyo1y/tYC4zOKPNF9Hn6vX7VCluzcrl7puI1teq1523y7AV2/c2LbPKMUbpXRu9alkV3RmLg4ldvJwZbUpiZhd8wemK+MbNFbY9Qm04pHNK/Ywf1crYp1vKR706i+4qlbdu685idPPyuPXDHYhujfZDfWr/J6ta9bUtuXOCBm3kcJLJmm7tYfbBrAwdwQYtCcowk1RUKG7SJTeyMEQa41LMsz/jgCga6l3iMvhk8xmza9aWmvtFeeHGtXSsj/A++b4G9/tYW+8VTa+zO982VnZH24VaernpN5XelfDEQkAIdpustfGmL886nb4gO3PuYZtIuGk0SNkjNEsLZY/vEkQPa4/eIfeord9uw4UPs1aVvWLG2Mbx5yULZzqlPo7ESIQp5tREHfsSvnE8MrOfVh3OizTx4QIp+wbfZ6x7xhDLtrIEQAyhtOZt4tj77U18QePUedkvwEydS5jVrd6yzzYc221fu/Q1fFFi9fY1Vj5xgo/uNdu/jwAH7+vKxL9mKivKFL3SMNpYYtntF78tXLLMRQ0c6L+mM0DL5TGf399R1xo+2lo9DD4KuBmmJmLoTfzTzXuiTWKKvvvqqffazn1Wxm+1F7YQyd+5cty/OvL+n6pW8p3sRyH2h0DkYghLLTNHogRcW+xy/+fpLduKoIsoPHW5bNq6zqdrebtY1C+RDUCsD2trUMpjZOXb2UMiWbNnmLgg68QEjnPMtwDJoQrXPOBP9LJJ3LQygSIOrVDrysg2CUr6NGFZhv/rRj9qU6okKb1PjwbGPyftYkqie4Klo+TgrtrmjOhoU48yXQTNgwmWSD6R8Ox4qP6NjLDGupsZZrx3b2CFXs6tNsY4lJtoH7rzapkwbKyEw32bPGOvG1v2kcQaSoLmKZXlFHqYH01b4QjexSUoMGax1Q0uguKINMGcokrawfGCF3br4RpsxdbrVFzTY1Mnj7fAxmUekErtq+DP67cJnaMBwQw5/Oz3H6uPaF/qfaBuQQJTkdC6svZfrOjiE1ZDojtafZBmW9NEUkiXa1kLZztZLvp8/ab7NnzjfZk2eaWePn7FzMq8pZFcTXhiZi6kMEpJaZ9vnfjmOqhUCN847hKd5e5W2Fj1+UvSpQOrzrkvbdHZU+Uw+09G9PXkNzV+cZ8bfTdDuwC8jTt9yNTzDkjFLx4sXL/bt+TDPQWuIk0x1dbUrLVqeSo76CgK5LxTSErKJEdvzNvEOqsNihVuoVJyoWxbdaSNGX+UeWlOnz7B+iue09NknZcN0wIbqvKRDBWtQDC8FMfaR33PJkg8xq9BBQ4niAwm2QPxub6nUmYIebJQGDKGnWYMwThkrNmyXY0Wx9SsrtuVigtgYTRo31q6ZOdvy6mtSA3iEZ/QZ3t573+fhwEgXS0FARGjmXuytMp/h9mholdZUgiDhKfMVqJst7nbvlS3h7mM2esxQ27Vtnz27UWFRJgyy996mpZVy0ZfHPtT6crYAEqt7Tx0GjHmfDyit2iCIfeeXJj7o4CxUJODr6mpt8ztbRZNNNkDaipeWvmq19edswpRqmzdFExXd43ZwMkBsgnZ5p7fr+fnn2hkwoC78tbVkF8c51C1Oy+mwWy0Xw1H6OxJU0BRKW4QjnbTiR84dtj0KbTN6wCi3IXv0hcdsSL+hVj28yoYVD1Mo01gb5tdpssjGyH03Of6qHitLRC5gvLj//vs9PuHgwUM0VlR6+6Bx6yhlK0toj76oS+tJdWs6RANI6Bm8jDFhWL9+vREjd+uWzW6GxQ4q0K1PYrK18h01WHKtQwRyXyiMRgtROR0X4VBCkNQ/eNbecdcHFIiz1oPgzrj6Wp/ZnFawTpjyoEGKy6Whhg7fhOW7EvSdmo/772z/6GyGWiBtDIhEy9CsShXYhq077Bs/+C+7fs4ce1Pb3W3eW2+fv/dGCY7bbaBC0lRIWCTfMDygTcu11B4uGoaj5TbVqUhheqgkWoLapgH2yKNP2459J6Q9GWP/++m1tmjmcCutzLdhg4/ZqDEKOstWgbkHRVY0HbDFxw6W/nfv3Gvf/eaPFLR6tLRV52zNm5vs3k/dYdu2bHfaG3uVwmDQXu4GlnpazyWNANl2TogtQmTE4842nbVH33rc1mxbYxOHV9ueE/tt+8Gt9sAND1hpfokNLtOONUUKvZROTK46f0/69hw8cKGGcouu0BoSC7JcYZYIOr1l6xZfUl20aLHs6NiOp4MEXWZhaqGBzgoX0QhexYwVbMfHrijXXnutO+5NmDDBNYQ33XyzTZs6zcNQgR3jSSsTps5ek1zPCQRyXyikP/pgwWJHtG1Unhwl6ORl/YfoL2qHfHn0NUsrWFRSZtcsWOizdIJe+0xdjhZkAwuUiKh/kZAYPZm9n3jSdpTqdNkbGE9OKQvQMOzcf9DuuGmu3TrvZulHTyo+X5O9f/Ei2ZPI6USz5YGVQ61E2psoPK7EbGkYci21yww1yBUIi9pa1SlAp/opMIqCm5fYr92xRHTTKC3yaWkMFlpBWZHt2XZYmqxyKx2gRVDWMfv2ONktTR2Wj91GTXSIw8OJIyft6hum2qI7btHuNKtt6NiBtui9t1rdWe3kI5OPWu2NXCRNdr5MO0KiT3tfDyf6wHfasaOb64IgeeDQXlsw5VpbqB1Nnn97qc2rvtoW3XSzHdmv2IXiehEfTRF4k2yWfQWmmwuWJdnjtIPtHPt7sz0ccQonTKmyRbcu7rSE7U1CO32wm2/wlaIuCawtmkLqgo0hMUmxW90gL3U0hgThhjI2bd4kobnS7fTJn+XlToahbq5lkv3lRiD3hUIh0qwZjhYDU3aFLDtFhjF5ioXWjBOBRL5mhb5AKMoXoyuvZP9gndMxhI4+IvpG1xikhcsN9eXPL75FVlu5U1cSgylOFXXCaa7Cihw4oI3UB5XZr3/0QatRAO8yhaxZvm6PZsbHbMb4EVZTh+wTCYPIk7mW2mXSwsCXjUtkS1ir2TEagpTQMWemvGsryxQQvMTGVS8RjRTYjm3HbcW6zTZ4eKX2/i2N4hTmIB690n4BJ3UsdzTx/qZeJ00EvfMq7VhSJIP+gtIiu33JTQp5oWDhA/sJ8/W2f99BG1U90uk23h15tt227ZVKXtxLmbRQDwbVzvrwxb0h4ymZSiiKp91x9RIrKSqxCZUTrPq2CcJXW2XWNdquQ2usVMGsB5SLL0Z+QJLcz4lflmVk1Pd+um2d2gKP2k9+8pP+HUKw0D4F4o2kMNFsi/7CtWxDB63fhTiDhLoR8ohYjY//9Cfqiwesol+FTD6K7Jy2ASRe42233ubb6IW8r6C5Q7Y1cbeUJ/eFQg06eJDmiZthM+dLK+rkboit4LokQjy456k0ReKD0cCivq7b0p29BV2dTAlELeey9CgMvO0UrwkhmGtUSSlPdnEjhwywMhnvs1RAXL4SvJJ1PHxgpQTFSu0drcCleigSJ6Pn+sontIF2FeeZsATHFnc6pXA8IyU0E7Ufo3MJ0bLDHNiv1K6ePcGGDiyXZMNipqPZV+Do9noE/bsi/whzSRtydGhW3EFCow8aPEATNIUVkoNDkQKFF0toIRoAW3+xP2wUakXtJI/ZdKLD9oEU1w7Gjy9n1cIADy9r1KhdpLikV4+Za6eazvjAzmpKgfDH3nDskLHWv1hLKmKXzdKGe9+Qo0noI5ezXNmUF5MMZ6ES0nE0WbBgwfnFE82BZViVacH1/Fuz7UzXy4qpQDSYhAkLW/y9/6732z7tFsWuKeDTJIHw4MFD7miS1kLqOfhnkvoOArkvFEa9WtyMwUM/IFIdMQsmIRxCwKRwrtWxblOXj57RhRZxgbuyO0U17byMbHPXUEccvnwrUgceOgR7StVbdXdNoDCrUmw4IPOo+rHBNwVj5y/JojsCg8sskqrp7YsrZqEGBABwoUOhZiorpFUWDbHrSVOjzAckLA/Qzi/z58rLLiIogQVombkmvztGIOqT+RL+GpvlvKCYkISOypNn/MBhEkRoFOiO4PM6Hj5OwcfJ0D84aAHcBznu7yPJ6bSb6hP1AcXglFANqQt87fVdqhiFqT1xU7J2geypxw+pJlKnbsHTOzKgYQ+8rIk80NPtHfgfbaM/nNegwvaErPbO93SxM99Hudrjha3vjTTXaBZJPIe94ISJk2x8VVVkO6gxlOuTJ0eqZMZU7vO/2Lytdb7Jr1xEIKKCXCx5atRgiGiWt5TIOKqFpBgIFUGI5B6MqWMExChUg8Z3P5fq9L7AFY1DCIi5khBiupIatM1doeqLfWCmZsKZXcDS4SAwSzQQgy1hbHIt0f5tJeYGXGmoo2YwPyYMkSYZ68u8/GjLJt8mUYIitNCCl5hgZJXgzyYfXUeADWSa6rDn1BaNEgxpHnaScRtBWkRt4L/pt+qj+dJipQezWFO25ZXb9VJk351Op+3Q6qWWNuoDmvwoTqHTPWxNgrjzv6hjO+6FEgpT6wmK14fTXQvgRd0ksF5q3br9+ZQwmPmeNE1mXGjvfMZtPf4TIa49XthWYRAE4/eH6Baco44IggS85o/jsHzcVl7JudxFoGclIDGjaDjuBLAuMaMoJ1hYtHycEpC8Q0fCIG9xYmbpT+cREPkL5zQSeSdg8I9yY4EwlU8nRcyGy9SjoxRiGhaWSCEsoFhcx4YJbSiJbx8rsKQUFvz2vaN9lI4EqF5xNGkZlzqqXpvXAgNr62I0EdZAKWdClsnxrnQI9Y2tTKMC+6IpZZxGMEEKbHITBFnFSYDU+nuU7SWUr61yZc25TuipVTm7eK/Q9IDiWqvUUYSf05mwZGKGZgo4ueqqauEcNLYYH+KUkk7dJECl8+/hA++/MRxjNe2ekoAfYNMMEtKZR/Mz2gxTB/LpSZdBQcObk1mQQIkSfCUtMAFaLKXPp851xpdjj17AYdQyF5J3ZrlCsdNtHHs7+WJGxDd/4dnM43AdgRPbyyT1PQR6bPk4EBeG/pEXp0gUhgijCt/gmzoO97cPOYN6xMSCKhshKF8sDqL35/2IgT9F6PrtHYLXco/+seVWHho3fyh1PrrY/qu78UrawzLgwrvCMd8kKh7/jn75p3dm7vNnogtCSv80+GoJr8CDfHM+lVfqqCVrR0WrR9rvDpw0eLs8FGXVI594PWYa4Acm5fWiFCk6SWORqoCXPlSmjdK6JqRZWwTqH7jgUEw90VB5CoIiVzlFXvqL7I9QFTI4pOgleiL3P1N4Ba1oKxqkdnGsU1hwOn0fP0ipfKIf0W98+YGRyQeY4/1Nf3WtvWwMOctns7RUeQiO+vblZT2Qr12JxC76VIKOHY8UvQW6TmMpbNJ4U/M49vzmeRlxuRDN73YSWIMtwas5ckFQB42i7wLliZ0hNoXePsKYabHHTxTuTew3rTiFsrRrJ/dcPi0QHJAY/Qa6jWOdOufaaZ2HJ6FJi8YV2kAYZNAmygkS91xoov3bf4zWjl52MXmHsgRa40WtS0h9Ws44jcZ+x6/Rd0mcQ4jM3Go0vCv5zl0EekwoZCBNEyUdDrWNCCxEVvdtnCDWcI57QmcVCbuDgPstxsAOdMyMVgOIpr8SYDjJu8Q4dd6XS2B+0gQxu2GQoQOipWj0Le50XypOYchZfDPNOMK5nvqm/G7DorIGTV9bGLmQonsd06DBopDCjPudyaQ6cEGT3InFVNCGwQ0atL2YQ+dYZdRMz/NYk2yPnA8JO8cj47bu+ulMGPwzU4oWqBt1zMTIn+OZlHYjMK94NlIYp1irjOi1VJzXVBu1s3AJpOT3x97v1CThBajYH7tZMd3ytHesDuJZ5/yxC+G0PdiCcaoftsKac9AntaU9MugH2GLQtfzQrKKJNWQHUbsH8Xw0tuhdsl1TpywoiE6wvIypg9MqfSDeN/35Vm8gp5xKlN7x07cPvqnSg7m3AXVuC3vwVkr3jw5gAN+zZWfkvFMZvUyssQHHMtFxNGVmJTmi34KYJrZQNE2MVxkiqn3kbd+6Nf39uf8h+g10G6Nz57XCOM5rmSRFwlpoMeBsOQ5YhPyIgkFqi/eEe9v7To+N7d2QaosLyZvxjj+Et/NSwIALoiX2lG/WDiYdlYN6huuhzuflm5zIeQR6TCgMSBXQEZW8a+m41TcXwjmINjVAxR1EuCUz5WlbO8s7rT+WPPTlA4kGN4Wk0fqfbtexXOpDp/VQNQgCYoyRJqIDDpv5su78rTo7OnEM9L62MKIY7TEIH1R0vYXfS0jUcqh8J/QMm95H9cUbGYEYnRnAcU+ehCq8uD1/3Y93LnvPRnNgP92tH5HArgUtYREEFR8843QDbehPn/7NF8/5NwSQSk43UVX8DBqSAg2MTQrgWOghN7hXueQXSwiRjllG+eHbl4u5ymUmGVpa5l4F9tFyqGfXdz5USfCG0QdtYat+yDVqG+gy1DyGdTgV/3a5GeJxiNUQWrKM9j4mtwAiFxEC1X6iOwYn2r1AtNgITaZokXy9jVWWXE4ufKTq4ANrrD5pUg04c01/XuPYfdTfNa0Z5wIuBAevOFop4VJPCmZ2NckTG2wqCpiHOzO+ubdR1O59LbqXz9xGvKWOEbnSl1UrNKjg1xbW4VzLo36EaUlT3Bs+dT0ISvx0XqV8PbCzaJp38Aev9vel7nEFRYpncQ26jzHsVM4tXwjofp/KxrO8h79wzJ3x98TLRFk6TIKhSYIjz5NfPB+eC++J14HzoT4cJ6nvINBjQiEhEBA46FiF2h2iK6mF6NBgRIN+W881uwoo6ijsgQwTc2YWnyE1xGZLsfMuH2Xm3dNcUJ3RywvX0nFXU+jEMJOICUSMLspLGEjjogvWWKhZv7a3E793G62CRmnIdL5JwlC+jn3gZUDWknGznAGc+clTsUbLzf0Zq1371mOk4oN/BIWw6CIeaFDijBAMW+gnhShL4apLXnGtIeOBtDvfKFwK4niTNMcIRZAHgrPQFBapY0045MupJ4RnozSvrplO5dtHvsAvwr3zCsWxde3ieWQrKlRf99MQJMcaUCGlPLSCOtcsoQWZz4UXJnLRabUb/Z32ZAIDDahdROO8k6xyOsXo2ekVzFUhxyl2reM6ZqCQ0WieF5twqMOziNAg3seyvdWDYZQzXvZ43uexXJ/6RuCpV9uwqlKvSVOpdI2p2zsuTg5cBet03cNBF8od+ErURjE0MpoAYcoFTOUNnQbtXJwnxY/DdYrA+WjCk5FprF1ZKSuQgwf7EcefjR+H6nh+Xl+1sRgYwlxXUngu3NteeYNw2tV8Q37Jd24g0CMjfdAOQtBnzp7p0ibjcfiY2aU9ndL9Rp0wNYqgEZOoaf2L6lPxzcxj8Z1r0kAT68fxPMMx/a6C8Sidr65w3Mlz4fmL+fbBjRcr8RqCgjIa0wmdufiVjj+4ly2GYPh4g0V8DuEwYgAMNTD+xrLBVocE5OZBYlgs4/PeYgWm1V6zXgI0qg0SFEu012ntGX8xwmEx+CFsdScYvC2FBYcubNCeGpjqtKtFozzLuQ5z9mvc1EaKMyhoBU3TecWWoJEv4eNcc7nV5k8WFsS21HIwHrEaAF1NCziQVowG8nyrtQJth3dOQvRAy1fAZY2kbZQid08xuIAbfbSrNBhqC/bsqe1ahnCSbwkiwbKhUDsKDWwaQ6hCtUsMXA4zU+h7uuY2wgoRhO0vNO80AL1cwMCemX2v/U5NXEL1qMu5Wtm3CjtSJACHq+2XEhxopzTNK580NnrMr5erH48vs4b+wqpYf/ovu5FWsHGKt/k3t4RXa6/vZsUwdWvPcJPuy+XEqhDECL9kDKKqnfGUUF/wpH80amWlAD6hp90sKdzAt8CjPYvlfNEsfnwhyZf2eY42AO9UCm1KvvwxjpaVXVhAcfLw8SFk2sa3cvd7uK8rKZSLb7ez7FussCsQ9Ol7ukYFlwABhBM2gKcz0bmcocWpvwv5M+CUsgdlYFz+DAILhCkGJueBweX5NhhBUUnilW7ls+NZkhT3nmXkaKARi8G+O4k8VW8YEi8O7v1na2q83F39CII2XrJF7MvrlY44ijM7DdSFWjZoKO1nDWWyLUoliZBaQtWAwq0By3Cs7zzMkMSAyFARLFy4CreFPC77N0wvZMq79QtmU6ddaFw5F6514ZuBFc2VM2cq2aotlTdG9Epn8md4PaHPLidIQ/kXSojUSNvlx7L5xrDsHgRC0LggTFKVg2Y89qN+Q3/k62Yc0j7lKzhmZdNgtWrUNjQxTRPavKUFOApno4yhQWWovFINycM5mrzk0JvqEJm4NLhQeKHVceFRD6W9P1M07JgLe+9NMpepHS1ThzG1ClDdNcyCeU3U92WKo39ui93Z8uOFVqBX7tc4pEkP408dEx+1gZunXEBZ4KfQedopLfUsSgvIMwhtXcmXFqEMgfajbyY9UaZR/9H1lJbPxz8CSF8Iv4rVjXHG66z8yCvQSkSOeb7nM7dfTP7wjmKNzUxSyDtJuY1AtwuFwENnKinWllbOsM5n/F2BkKd8VhJ6jX4HwoY59qsoj5hhKjOIm87rna2dV7rCgnz0R7aB2fp0LfaeVJaX5yuWL8sBbMCuilCCi8gfti37OC0T+8xVebtAp5ycQZWWqSqZQjHPRKEEfPDIeCtXKQuCAfi5wB0rc8bt3fKTnVbyFEX/YhCJCiTmykSBJbN40s8i7etZmWJczl8hAu1ikjJD1RRC9VZ9g2AEntASEHC/04hGAA9ZE887V49VMWiF/llSDF1kYHYh9UJ4iw8KYCbyK9GAUahtctqiN7KPaI6DSJCMYx+uF7rd8CWUjYyyKBUL6wLiBl4U3vRRJWFdhJY/RZwBe/gt/JCuHGiX27vyLtrCeYiedUGiTwiEQIQ2rEiathifB5QupDR9itcWFKLqbp3gM6XKOPQf6Dfw4dZ3dvSLZ9RHkC7jif6pd176OKH6qy3DGBdohTG1TMKmE8tF0KKPs5QRfhsvd3KcswjI7tmHxu6rgLKHhTnBpJiXv5Jjko+06gihGKl7/BrHzJT0nX7eL6Q+eCaVT+iIraoTrqcLEH+45TjdgUMZuJTKt+WubjzSe91rOrw/Vm9/K+cZbGPXcSYhuTeujr0ObZTZZ5rhvJ4PzMAfbu+D9/i7QD0qWxqj9p65zOe9HSlDRr3jGATa4NVRSUMh9AsBIy6ghEvK0z1oXYvoVBWudP6dflbYt5V35zlk3R0B50iABreovzrOXcSeewPWoR/G8wnX/By0qPs9nUfnOosgH7uedszgXKDjrEOxawUKfdH7kuqTQiGq70VgHXAin1b9M4VfnKc4pV8Afl5W8u0jdJ7ZQo4ZbeA0CG1xB7QXjTd+Pziq/u64p/siFYPuycSRfPTno5ToN90HMl+a8dv7HufCe/hO5R1ohcsUzfO81LYgf1J4B2XOrEt0xwV9kquPR10on97nSF/QC5KbexSBbhcKA3OJ1+pSGA35ZT4fzoXv+Lu6cnyxz3Ul7267Rx06zVRSL/H+FutzF1sv8o0EJ+nNlB8Dcybm3VYvMk7VLbzTGWKsXm29m7p6oryd3NvW81fsuYvAui2sAq2Fb29D3Zi0RQtaaWxaTl30EXmF8ClkQl+5nPmTp+dHX0r6E3A4HnwHvsQxyflwN/DIkG/0lugz893xaxd6HKeX+PGF5uP3q/6eOqEV8YNEKLwogHvuoW5fPu6MiLFDcOKP1fnMmTPuIt+vX79WwTEh3PZSR9faeyZ+3p8Xvbrxtk99ZHd29qydPnXKRgwf7iEDsoqeVdbuLA+LGCkYnAmCS3gfM+KGBnnsaiBiOYLvS2Yq8cbQcXgXp+PHGbelf3ZGZ+kbk4PWCHQXHZFv6zdd8b8uJ42Sl+Or75AuZ/7kebnzC+Xsle+Y0HKxvAo82hpnnD+J3i936q58Qzkvd/t2ZfIe3p18Zy8C3a4pbKvqQQBDm3Dq9Gl79dVXrQYPXIkheI2uWLHCvRnf97732cIbFspeQYyvuwYv3iqBBwPkLVu32pYtW9wbGHuad97ZYG+/vdo+8YlP2I0Lb7SBgwZG1YHBdAMTaAur3jrnjFN1pKpHjh62des32IgRI2zihAlqjwJ786233EZl9uzZ/t2d7dNbGCTvTRBIEEgQSBC4fAhI0L380vPlK16SkxDodk1huyhL2mCmgufSCy88bwf27bVxVdXyGi22je9utOMnT9i0adPshhtuaDeLy3XBZ4Aqx969e+1HP/qRDZdmsH///hIK37HVq1cbgs/Vc6+2gQMHuDDoMyJe3kfpO6653bd/v/3lX/yFhPYamzVrlm16911bvHixbdq40Q4eOmRTpkyxQjnLJH39clFjkk+CQIJAgkCCQIJA7yDQa0JhsFUbNHCgffWrX7MdO3a4hu6q8ePt9ddec83hRz7ykUgLBTbdqJ1DK4Zn2s0332yDBg2yAwcO2JgxY1zgIS7Ul770Jff+Csup3lR9VCAMZOiCsjBfv36d1dbXOgZjxoy2TZs224YNG+zk6ZN2WlpeNKykoP1NhMOAYPKdIJAgkCCQIJAgkFsItBik9GC5iVsYf/HIkSNt5syZco0vsz27d9uJEyesSMu3JSXaf7fHkgK1KLTN7NmzbOyYsXb06FEXDtFklspln+XkIPAgMPXphACeSth1zpg+3bWngwYNtvnz51uxwrrs3LlTu4LUyjmPMAqKP4nNYXgo+U4QuJwIxOjxcmab5JUgkCCQIJAg0BqBXtEUEi8pLFEiUHCM4DVXS7Q1NWfdwaN/ZaWOa3wZ92KDYvo7lHfQerm2UfUPQkwUcy5y2HBBVYIN3hUsidbV17ldY//+UTmwo4s7VSiTtJDYGtLs/8VOKIQgcSFX+FD3hnqFtVYQ7IAJWCHkzZgxw07K2ebokaM2fNgwtydEgL/rve8zHIJoSxKx7sAk11LQcHp9U7TYSugXDp6oG8fcA17SkIa6Yxd7WEvpTGJGaIITsHB8cw2Q7iyv8KNPpnEJmKbeiV1xqTDkeoh/xv3QJ5gSdPiceEKleAN7xR4/dszqNWkbOGCgJm1RYOFcpMHuhDydN7SrBJ7OF3XM1qPsHATeYeUG/Jzf0jbcwzd/epyYp6fV58tKS3xlxXOkPfv6JNmRSD4SBK4MBHrF0QRo04xJx8dPnrR1a9eI9+Tb5MmTbciQIa6Jwulj8aLFLsDogYg5daFdPO/OmBX5kcTwGOQZhNyB4s037fDhw665HDN6tNVoG6qXX3pJAutc90KGARIZn3udWUa55M6n6okQc1KYDxk8VEFXS1y42yonm2ES+tDauqCUqpEP0AhBqnNxhuaWnWmCBpVncnFwCHWl7EHQq9eE4IiEYEwH0JT6ZAA6SdEMWBw7ftxNDTj35JNP2s9+9jMbOXqsPfTAx22CnHHYUYWUi5ikmv6yfwWsgwASsAHWRnmzr1m71idkBOpt1HZkzEoiAZuulm8vv/yymy68//3vt6Gi1e/+67/6xO0D+j1eZiekkOdlL3yOZ4igd1bRFKBlAi1Dt4ePHLGaM2dt5KhRHmA8zWN1DUGcPeVPa0s4+FxtzTlrlFC4Qg5mTJrBu0QrBqQE8xwnjh4svsaTaLbRg+9MXnVhCPSKpjAMDtAH27v98f/93yUE7rFrZs21lStX2t133+1b4f3yl790R5MK7W7R1QSzg+oaxNSOienBCKOEEBhpx9B6XTX+KjmODPQYfFynTM88/7x9+1/+xaZOm2Ib5Uhx22232XRpyrChKysrd6GQe3NxK5+Ayx450/zJn/yJnZL2D0EXRx4EcQZctLUPP/wwVfQEswe/ExKAGMjBiDbjr1bCMgMNS+3sQJKryXd8UOFfUNuDAU400N369esdmwcffNDppEB1JhEbjnojRE+ePIkR0fbLGQf7VxK2sWiuRo4c4b+TjxgCYKj+iWCydt06+853vuNCXWl5hdXXnrP1WzbajAlT7JZbb7W7P/ABN1MIAseePXuE7XYbOnSoPfX0k7Z+3QafmNFHd8iUYQx06DuyxN6XHKYRgGc98cQTdkga7fvvv99WrVpljz76qF199dU2YeIEu2nhTS2CoZ5isrdmwxr7wb9913bu2esTIPa33rRpk08eH3jgAefTmPkkKUEgQaDvINC7PVqDw86du2zdmvX2m1/6TbvrfXc509otu8Lt27dLo3VSmoLUtkKpQbkz6KOh23zpGe3NO+9utkED+ksLVCc7xWJ9N0kgOm1f+uKvOaPz2bEyZSkUBxfC4HzmM59RfMLTtnnLZlsv7QU2jmyGjrTpgpEYbBCyOitPVl0Xhgg8aPh+7+u/ZyVaBkIr+q48ihESOR8Sgh913LZtm33rW9/yAZqBgsQ18Jokoeizn/msFTIYIzDqfrQKuZTQ+CLgIgQiEKKlOqdlzN///d93YRA6nDhxUuR5rophTcoyMff9679+1yr7VdrsWbNdwD567Ki9JU3K6TOnddeIRIOSSQjQh1KTlt5HSzvFhGTXrl02btw4D3dU8fTTtnDhQpsuG9ZAa97PRFO0UVVVtTuA/YW84aHbr371q3puuASctzUJbNTmjZF2NvO1ye8IAeh6z84d9l8/+i979tln7Xd/9+t2rWyEX3/9dVu9ZrVdd911PuGhB8PnJk6aZJ/49GdsrXggy/MjRoy0latW2JzZc53efX9xtWloowTnBIEEgdxHoFeEQmb/MB3SqNGj7NaFN7vQwQA9SsuXFdIc7Nq9SzKYlmrF7D11VeDQAIImp1xLJAwwOEYMHjxE58iH/XzzJXge9velmZnydptGzZrrNPjgUduvsp+HYEHzc+LE8dTm884unQlGhcqdzyCqjdJgzPImy2/Dhw+zKi0Dvb36bdu3b79dddW4dIXAhj80Mx+85x4bMWyElZVHjj9N2iIOe09wCnte+nAv7HM1oS1FGBkwYIBrQhBU0Kps3rzZMSAcEcJwlPL83uXLl9tTTz5lS3+51H8jWJMPAmPQcOUqHt1R7oAf34MHD7aPfexjdvDgAWnl33WTkbFjx9rCG2+UWcNg1yhShkiMNBfQn3rqKXvk0cd8MvcBaRJXrlxlB/T8Dddfn17KFNHm3MSkO7BuK0+EcMwhnnjqCfX9ETZv3jwXvlkN2LdvnwuFgcJ5Hh5KGCp4BprdWmlzC/ILjXYiSgP8IZdTnP/7ZFb1Cfar/E5fz+VKJmVPELhABHrFptAFwjDAqiMelqcvBuQER8aGiAEV54ZdWhbCfoUZqQ8o4ZmOKqn8vDMrD4RD3sUSNQzOPWV1HptA8vNlYDp/SkBF0CH2HjY2vJNlrlotmbCUTOxCysdz3N/l8nRU1l64VittAQyewWF8VZV7eTdIQ7hegbob5Wxy7YJr3b7StX4qH1jC+iOsONFSaDQ+fj6cEjaOS/idA9/e9qKJozI1YEAs0RI6EwTo8IjokuWyyaJBF1RS9QETbN6wLSSwN2F6CM+DAD1LMS3L9XzAIREOOyYCJmsHDhx0jSFmGvfce680+6l4oPQztQNtxGB9RG108OBB74cI77u1pEy7TZg40QZjCsK9apuAfcdvvvKugk1YAqYfz5g5w3ncdvFZ+B3aWxL3eaI/6wA+ygRw957dLsDPmzdfTmdDW+7TPTlH56ojk1u0+iUlxb6KpOp6ytw+MDqbfF4OBNQ3UyhfjtySPLoDgV6NrQJ1wOwrJLAxqKKVwbsNpnRQsQJxhmCpzhlOV2kJRqbBgYTAck6aP5ZM39XgTmIg5zy0CbNDsOF+bMswwGaZap2WSxAOuc6SKjZjaDF5JgiQnlkOfiD0zJ8/z47Jc3O1lt3Ap0DLwnPnzHWB0AfVVL3AJfym3hie+zfHqYFDfNWTM9IcxMNpRfVBc1UsbF6TCQHCB23PObQrQzK0ImivDx05JLrJ8yU1Ji5oTnDSYfIR6C8H4ejxIh87dtz715w5c+y+++4z4paqo53XzwoL6LPqz5rUwCtEgHaVtLkIKxsVZD7MVZIxp/0mBCuW5fHextSByTL8j9UCJrxcD/3aeaL6APyZY/hfdfUEu+uuu6RJH+qTZd7EtZykd9HYwUMH7T/+4z/sxRd/6RrnOo0NjAPq/F4njnOd37dPDcmVBIG2EeiV5eN0UdQxWbr48//nz53Rz541x5c0Z2vJAmHlF8//wuZfe62VprzcGCw6S3RimJQLM9yvP7xIWQrkGu8bJq0fSyAuHCpDzsMcX9F2e4889ohN0RIg9jMzps2wq6rG2zpp1mCkw6QJCgNWrg4+AR8wQdOCJiycm1hdbZXayYXfoZ4I5mvXrVfoD/Y6BixpWGXmeeb0OS3zl9n1skNC0MzjGeGea8nrSqE1ABRp4CuWfSRe72ikmBCgPRksb3g3qGfAUKo9V2s/ffyn9p73vMfp9N9/+O82ZuwYtz3F1m2SbLHQZJFnkjpGoKiwyO1ZmRAilDBBYa9xNLOhj9Gfjx49Yn/+53/m9yBA4v2KGQQC/BtvvO42bhfikNZxqfrm1RAKDFwRrsEcGoe2J0rbWqnVg+B4Bf88Lgcz7I0JXt/YQID/KOLCmdNn9UyBXa9le/gidJ5rgiH1Oylb8fXSTpPYy504tWAzWlEnRmh5nW1Nc61efZNyk1r1JAK9IhQGZk9FCYL80osv2e/87u/YkjvukNBW496+e7Xt3clTZ6xJszepC7s+wKpTByGH/Il7hjdjswacZ597zv7qr/7K7WT+9E//1G2/GIhYJj59+owtXbrUbRA/9pH7NIsW05TA9JK0jHWN56RBrIsETQ1QjWIouSf+gAayXoTP5MlTbOrUqR6k+xvf+IZ7JoIJmoB4Ypu7n0gAGjF8qFX0Kxe2ChNSmC+h6bAvIWGXFFka6inhgjCZawnGj0kBUi+awZqztfbCiy/YN/7+G/ZBecLjaYn5QHq5XNU8q1AeCNQrVq7Q8mWV3f+xB6RVabTnRGNoY+bIszv3kOj5lkOQA/Pj0hj+87f+2UP74Oj1uc99zoUVFxQlrL/zjra+lJCCAxCTs9Oa3G2QcxBB5tmCkftylf56AvX0JFl9dPSo0bITHG379u+zv/nrv1aYmRX2x//jj+1W8UnMRtCSI5xv275NTik/tnFXjdbEvMyLiXb8qFYZBsnDfsG1CyKBMBf7vMrcJGZWpHrdeeedruVHceB2xOrXL774ovd9dthKUoLAlYRArwiFLjggQCgx2C68aaEvExdJIzhQQtz0GdNs/4H9mr1JYNOAcCHJBc4Yk8JL9mc//Zlt37PVjh48YUvuvMNuv22RDNMjUQaBkFQsu5Lp06aLGRaoLKWuXSyaPs22y9GEgZ7zQeDx2GkXUqhsulf1BaOVEmaeefZpBa1mOb3Afuu3fsuukaMNKcSR4xgj84cf/owNlbassEAz6ZQ0jA1ovdqnRHtV+2DMzTHc+ZkriUkEWuNGCf6P/uQRe3fjJi2vHzecGRgwKiv7e1UCLZZJQ/peCc/Lly9T0OrDdueSO92T+6xiuuGYNGSIHCVS2tZcwaC3ynn4yGH74b//0Ag5w77nX/nKV2yenMOC93Hon2hu0GZhE4c9LHuTk9Zob/LTZ845Decq/fUI9uK3LhiKzjdKO/a8QjDt3rvftX+f/5XP+z7zoRz0BdLYMePsgfs/Lge0qzSBLnN+zHnskk9oBYEQQLmsSSsuKrHKAcWuLcWOeKy2NoXOCNFzUHaumI8kKUHgSkOg1xxNEEzc00tCH0tuLFOypIvBMwnbwvVatp17zTUtnoUX0TqEk/ne978n7cIwW7RokXuWkg22hQh3waiY8rBkjeZynMpRJg/SoHkgzAgBtVmy4j7XRCIA8ZdrCU2AyvzM08+orjvc43DatGnuXJFeStV1mH3AyBk/QnxGfd0+Ezx0P4N3Lg4Q1DnQAPak3//+DzyG5XULFtgA7Ntig2lmU5+REHhGGmbs4Fh6qtGy8ubNm1zrgBCdi3hk1rG7f++X1+tzElDmakl4koQ+73d6abxd6HPQHuGR0AhiAwe22LntVdxNQqYQr7Bnt8XsbmQub/4IhIGfEQv2JQXkhx/S99m2Mt3XU1gHHoczRr7sOTMTy8/QfK72e+qDRpTwZ6XaXjXtOAMf07Wzqh/L7WCTpMuHgPpyDg6al6/+uZBTrwmFgOMCVur7lITC/fsP2Ogxo40lJWyFiB2HTWEZziYpZnWhoKJZOHjwkELNnFNsvbOKU9jg9jTTFH5koOy+oFAYJn+uCRLv3LNXWgsxA3b4wObm1VdesdESFCfJhonBKDDMTCHpQsvWG/dTdsqNo8kh2c1RnxotxZ2TQDNw8CC3pwy91jULupdvjPvRDmBvky91IWFsODdPQjv2ieHeXMPE8Ug1BPZUB+TgxESiXnTDVofgQlgOAp23TvLkrK13A3U0VzianDp5yt5a8ZZVVVXZeGlXLpZmW7+nb/+ifyHYQUt4wbNtHX1vqpx3EPKgq5CgVWyCT544acMVnxCNFnZxa9asMXY5SYTCgFQ738ISNMEQ/grmmE2wOw/0ja0myfty+Fb/Z7mYvj9WfZ/VHITz7du327Xizf3YWED35OJYj1AIDWEjfEQa60HSDMLLCM+z9MWldqNWsK66arxjknxcHgREJ2F4uTwZJrlcdgR6Z/k4Xo0U04dRMaAS9oBluGXLlmmJaIBdJ2PmS6EjQoc8v/Q5LQlukx1Mpc+I0TYQhw6hMAw6/g7KIppltwr3fNYS8/I3l7sA9alPfcoZaqBomGs4jlcn24+9nqojQYP/8z//0x0iCgsK7eipI3bDtQt9MEZQcu0Zg4j+wmCMhoHBYOuOzbZ65VqPzYdNYcAQ7HIxBUGfQQJP9XfkzcryJDSJoIEG+3yhMAqojFMK9zGReWPZ69Icnk3vbuLY5SgmPdWOCOA/+MEPfHBGGCREyKjRI22iJmBFODBBg8LQv9U+COsEWh64a6ALkyyDsszHcn6SOkbA+6mwhGYff/xxx9wdznbttgXXLYiEQnggmCsr+gWJ+JvL3njDdo0cZXsO7LK1b6+TPfI0t7/m+qXwZ57vrQS3gtfV1tV6dArqwRaXb7yxTJrCsx6lobfKlrw3QaC3EOgVoTAMwggRgaHg9Yqg9oaYz/Mvv2ifkOH+B+7+YLTEC6NSCvdeCFgY/+fr3+Lbb3WHE5ZJMCZm306Ew+CRxxv4zcwROzpC4vzTd/7Fpk2abF//+u+6HRPvD5qliynLhZS72+5VHUjU4/bbb9dgIO9hCT710nqdOXs6EgK5R9fDoMAg0V+aBASf//yv/1BMyVr7wz/8QxuhECyFqYHD89R9OYuLKoDWCuHv05/+tEwFqrSjzinbo+WlIBCCWaBdUMSmCpOCf9UevL949hf2qc98yn77a/9NcEXa2FzGgvbsiUSfY7vFm266yffWJng8Giy09u7RrkK4aJKiswppZaFXPL637tlhX/+t35EN8nQ3O0mE8I5bLNAumI8ff5Xd/cF7XNNHyK1jR49FfV9ZhPsCnkyQoHMmkWh1v/CFL2hjgBvEKy/M3rvj0vXOVeqKYMzE75+/+Q17c8Vq++Kvf1EOd+8VnZX2TqGStyYI9CICvSIUMriyVJdmKTpmOfPnP/+5C2af+8RnJXCMcO/CedfMszx5uyKYXEzC7qVfv/6+1ye2izA67GHer+3ssEny2bMyZpD3WIQ6QjDFjvCj93zImcX69Rs8/AVLp3FB9mLKky3PDNRy59Pa6mq/vLzLtIMMmlHsixCIg+CL5gxcYJzH5eVJiKAhg4fKDnGBOwbg+TlNHszB7iYXhSDqFmgrbHH305/+1Nv9jLRWqrz1l0Y5CIbp9pPgjADzumgFTeGvfekLhnYL5xMM88ExSZ0jQOBgnEzAHGN/AsizFH/H4sX+MFpCbx/1W9qKfbjZlm3osKF2++23uwcpGuybbr7ZeoWZdV7F7LnDeWiea8GPHz9hjz7yiNvDEmGgurpKHvNzIn6ofg+fc9z1jUnFj3/0I4XyGmbve//7vL+vU5iqGTLBYVKdswnmJkzovy+//JL1F2/78m9+2Z0f0RbOViB6HCGTlCBwJSHQa3wUjVwQPmD2DAjvVdy3SYoROGzYcLfx2KdZaRDaLrZReA/LxOUV5WnhBTvDINy54CPG58JB6iXY1mAvU11dLWHplM+OMbgOKZQpF4WgUAe0LThIlAn3QgnOCM/pFAaE9AlteSUt4f0fv9+qqqpca4pdEcI1qIAd2odcHB6gQV+epM5KCLhgwR8G6DiPFKSu+Q186DfjK9qsKYpJyP6xY6RpwDZzm5bXmfAkqWsIoG1CGIce+Yucl6Jg8p4D7aMD72vCtVj34BVepb5ZUVau6ADb3TmMwOpWFLVh1958Zd2V5rWiXWg74F0iLRm/2a7Sbeygdeg7YK5vtnj80Ec+YjOnz/C4hAdki3xIgZ9zmsrpo/pfp9UBwu/coC1Rhw4Z6rsSsUvOCk00GsTTkpQgcKUh0KuOJoANY2mU84dWed2wv7S0xOMUnlOcwFlzZruTCff5oADDuoiEs8C2bVvd04ylkIkTJmlv44r0khOCYxBsKFGjBhi0htgWrlu31t7z3rs8ZpqHyRAziQuQF1Gc3n9EdagXw9sq2yKCNCPQsXQ/SppQtmijTcDbBSYdY/e1Q17ZCJEss+A1vnXzFvdKnKDBGaw4F8KI9H4FL6wE6QFTdHBE2uQNsik8efKEtH2jtWvGVb4PNoNouA+hDzsrltOJXbhGXvI4I7mGa8kdNlye7mBCynlauTAoL/huluwJor5dkwyOcerBlATzDoIqNypYekFeZJaw2en1kO6Z6Ut+y5ctt+Pal5wQNiPkFEZK8O64CZjQ1tU3+AoBEzt+o9XGqQ5teAgBRC70aRfS1S+YSONgtkHbYaIJZ6WByZLz5RzFnT785ptvej9meRwMGAtIdQpPRUxGNKEJTTkkl+VD9HJxg/hleXuSSVcQ6DVNIYWjs+EBS9BkQsFUVvbzWdvOXTvsTM1p++i9H/O4ZR46hvu7UqOMe4hUv3btGl+egrGVV5bZAm3xtOSOO52hBRpl2epFBSz94Q9/aHkKwcCAtFsG2Hg3vv+FF+yrX/mqVU+oViFSdoUxhpjxyqz+iWAD7se1XI+NEEvqGOrDEAlczS4R2BMGbeh2ab5oHwbsGTNmaC/qybb4jiW29JdL7bi0qF/6wq+59iAXtYShocDDBT5Jw+wL/eMf/1jhaAa5hmSxh+2Y6reG+/CSZacHtNpNmkAQ4LyiX4XbZ61csdKukUe2mxqEFyTf7SLAhOSpJ590554BAwc7HwA//kgIhPQ5tp3ECYiAwxs3vqNJynaZNJywW2+7VU5kG30HFN91pt03JRfCpObE8WMeqJ9ldybJTPQ+KPtCJjLhHmh9o6I/fO/733fHlMr+le7ks2XLVg+59HHFL7xX5jUlsqvN1YR95GOPPWaT1Y+JdIFtIZNjBER2JGIiCA5JShC4khDoPaEw1dkG46hjSgAAQABJREFUKwzKkiVLFEx5pY1R8FBmra9p26pTp057hH2EE7crQphJaV8upIEIQ4Ngd7d2plig2HMM4stk93Xg0AEbNWKUZoYsBTa7ZmLmzFl2zZxZZoWlNnlStb399moPqHvvPfdGAYnDixEIw3GOfm9QAFt2MLjpxht9+Ri7oQP7DzgW4IGwzM4tm4QdmtPf+Z3fsaqqKg//wU4SzKjrtZMES05B0MxJKKAv/SF4EHeQXTN+7/d+z4U6NAnLly93E4IyLVWGAbNIgwVL5y9qsjBlylS79957XZhGq7Jq1SrfFzZgmJOY9GChwRjN38Ofe1i7D5XaXmkN0Ry6RzexQtUuJGxeb7nlFhsvGvy//vt/t2deeMK+9Xfftpl69umnn/b2KJITSpLaQQAaTyWEIcwk/vRP/lT7vZdKyN4ooXyDtvYc7v0e2uVv9JixCstyowtH7O9N0PZlsrWbNmOKzZ83XxPn1FQw1UYh/1z5pr+yYkT/JQ4tES+IeblWq0MEsYY/ov1PUoLAlYRArwiFQTsH0IXa+5Q9ZBfIhg8BBI2UR5WvmuAhEnwZTgwqqPUvtHFgfiPlJcsSKM4jxKAiYCkhFYJASJ6UaaxiJD78K7+mXSm2+zIiyykDBg2wGyU4MYsMKV7+cC6nvoUnBtSEplgpIYal+nUS9GbIi5O6IXwjALF0MmLECIWeUXBrCULE48PWkkHl0UcfjXZ5UcWDBi0nZ9XUl8bTN/VlkoLZwGFppja+u1ECXr0bnPstEoTBhSU2ljn/49//3Z555hlffpo6dYrsrA5blfbKXjR6MbcnqQsIYCPIzkUb5LhwTrFEV6162/triJkn6cRpEtp76qmn7D+17VpDY5395v/xW6LZdQoD9IZrd8pk/0kbJql9BEI/ZWUAPIk1Cr9dLxxnzpjlODveKTrHlvC9d77H5syeY9u1YoAQxcR94fU3+/7ePplS++RqwruYXU2YgKAhvFF2hezqdEIrIERiYIedJCUIXGkI9IpQGGfeQfhASMFOBU0NAtxQ7W9KQhMVbPkupnFwYJmrjv6GPBZZLkXoue+++6y/NnLHZibY0IRdLQZomYRl0lOnT/vforLbI01SYH45PvD4wCAgWfpEOH7++V/YyTMnrHr8BBd0XEsgXILgO13exQhLGGSjZeWY5ZWHH37Y7eqw/QoatItpn95+hrKDCbaBCCjTpk13gZcJCrvgPPTgAzZ4kLa7Uvv7IJgq8GDR6qc/+1nZZu1zb1g0rWiiF2pgqUjthsP9OSko92CjVKoflsv7/dkXnpVQfdzmaGJCxIFoG8pI4ADHkZqcsAMHk7oJ46tt8NAhii33rkctwGu+sChiZY55jvfRboFfmIR+OkaT3xrtMf/Ek0/4rkZXiz/OludxmsZTdMv9OKEgCDI53CobRGxuWUomwSNyGW/C8jz44INu/kI9qCs8gCX1IEB3S1skmSYIZDECveJokokH++gelscXhr2DZcuVJ4/EQ4cPSYNV4/YePnDD6C+C2dPZCXi7X3tZNjU1yIkiT5rI4ZG9iPJz4QcmqGN2U6AcZ7XF3mAtJ+CZy97JhGy4SjNJBjBnhClBIrMeOfNb9SWW3u7d+1TnOl8+Li8pV0R/7fAiHHTZtYBBYErXy5+LCTqZv9M35s5Buo6qC8vkaKuws/SJiLAYrslJpgMNogoTFxxNuEZcPSYzg0S7/WQXG2gEFBKhsGNaoH8eOnjIl+5ZDUCDRT9zJxP1M+yJmbyxYgDOhK5iyXOgAtvjNYqQiKPauLHjHPcE7/bxRtMX7LMJJwWeDXUN2v+3ny+f5smRxK+rTUhtYYldNm0BjQe9bFv3tV+KLLkC76KOqgcTQo5REHhd4AWiufTvLClyXyiG8A5k0xeq0yfrUPBHSj1dMwYCEvQBY/r7b37TnlXMPBgVGpdBWrLFhujHj/xYy8oLfGul1AP+dSEfMLGXX35ZXmbLFCT3ajstG6Znnn1OGqGpPvCQFzaLMEycBL797X9x7Q8zYpakiM31X9IwonEcI+9cp+lY+S+kLNlwL9jDzjEYf/ynP3HBBk3As889Yydlxzley5/pXitciAv39urVCuIsWy9pFtlxhrhyvsQqARpbnLDE78/lWp8XHk6NqW92yGD/4uuuu97ekd3l8hXLpKWSV7ZCGiEt0/5nNVl5RMvnaE+g2W9/59u+Q8zZmrPaMuucmxqgdeBep5dsaPgsLQNbA6KxQkODk9OTcjrB6WzCxImulabY0BdC+N/87d/ai3IGwzP8hPoxWmocBH728yfs+usXRMt9uUZ/PdUuot1ggkP/ZSm+SKY706SZfe2118T/ZLYzYqRr/kKR2E4Qe8Md23e40x19/6Am11u3b3NhnIlzoPPwTM58i07i4xDlRgh0QZFjTUZykp9leQP8sVKWF/GKL17vLB+LQXlSJyQswuOPPW6f/9XP2/sVfwxbrg0b3nFNHsGDmxqje12YuQiGj0MAAt+iRYt9SbpB4RhwEFi86Ha3I/F8VR40gj9/4ufuiffQQw9pu60z7tVYI2eK4pIiBdU9qyKnyq2jXB3sQ7n37d/ntpIseZ6RYL5n737f6eXmm29yZglDZNa8ddtW+8Y3vuFha9DQhHZg+WnW7FmuyWVA93QR7RM92LufUpfToHZWOKAdvuGGu6QBLPA2f+apZ23W9Nktjka6DwxYNiacD4bpTBg++clPuqnDK6+86vELp2rZPWDdu7XL7rfXSxjBfhCHkQKtEOzYscMFwNvVP/tpWTkkhL+dWzbZF778FQnpw0Wve91judZ3QDnp2Id7k+/zEXDOlaJzIi1gQ3fd9de5wwm2xQcPHjAc7ejzaM/pD+9s2mj//M//qH5R404m0H2heODxU2fs6nnXyhlvspXL1jqtbT//tVl9JgjJFDL0VRcEQ6lzlJ+F4iffCQIXg0DvCIUqaVhywJlj9tzZ7nU8VAbQ2GoRDmDp0qVaxq3RElEUEiDcf6GVJDAujiZr1qzR3sor7I1XX9a7RkaR6sXkYAYwu2Jpdoi/xbvxOBuisuBcwXNbNm+12bPmqMwpbzsKkWKwF1qerLhfZccO69VXX3X7ue0yIn/l5V/aF7/4RS8eQZl9YNCv8eOrPCwQxulobLDxBDM0sGpFK5FA5FjoVxAYPZMc+6BObKE2RMvFL2jSwFLyK0uf9/1Pg31roEGEQDwT8eBGKPzwhz7sS541moDsUjilAQP7RwOl8EpSxwjgwMXqAJNDHJjQWt15552upY8/Cf0NH1ul/tlfXrFj/I9ncHiqqYEWlZJBPMKhjc/A57gEzwVrdpHZq8nNKq2ifOHXf8Ofot/7cr2EwzGK0/nQA59wG2LMJILAiHMKzhnFJcWCXEKkTFGSlCCQINA3EOgdm0IJJQgQMHGYFTHfEDYma3cIX4rUuSNamnz77be1J6pCIhRfvCaK96ApfEcBiQl7g5B4iwZ07AqD4BOEGZZPd8jzeJq2b0JI9DJqZvz88y9YlYSjCYpTCGPEBsVnmTk6CIWZPRoCNDCEBcF55IYbrhf+0gWgKVAKA0kQhtokedqSC/ru8L42H86Ok8TKc/shtWethF2EZZYwcX5avPgOaa0jZ5rM+qEpxMYNs4J+soND20wImymTp9hotrlzdWsr3UN2VDiLSgGt7dy1S17wK2WqcML3QZ46hfAnUQigEI5K1KU+TCikAvd8ZdmSZwk0vlYTt3s+9CGfxIW+nEVVzIqihD4NzyVh9vCKAq6zDzye9NdpD3Tv76m+zz3+O/XN73iCfasB0qcy+0b6QnKQIBBDQDSVMMQYHtl42CtCYZpBCRFopFbR47du2+pMnYG4oqKfHVWAVZaSJ02YpOW4FB1dDD3BvfTXpGfZqxZhD4HOBb5UfpQnCHnbtm2XneMphacZ6zNqbG3YSYFyocWE+eWyUBiwD30TjR9YELqHc5EgHCNVnQv3xs76IcIU1/y68sjFgQE80vVO1QVNCBMJaEWEYeiqqVvABmpkTOS5dJxGHZN4FoElvTSVOu8Xk4/zEAB/cMXJC3pi0kYKdMqx75Mu/HEoqZf5B7TKM2DMM5h6oOFPt2OO0iJ17bYkTJx+ofHUSzCtAVu0tX5O1wLujiX3gSXnOdRfMLXgEtdIXNeHHycfCQIdISBaSQilI4Cy4FqvCYVhv1li5P3V3/y/tmPbHtm0TPf9JwlSy/LEI9qw/Wtf+5rbbDkD6kZ6QvhbvvxN+853vuOaCJacsbcjdMs//eM/ahlxvjRpNzjTdAEBYUKDUl9NYXBAi/Pzn/3captqrKFGmoFUl+aL/X4J/IodHilX8aCuuVp2Bz75SBBIEEgQyAEEEqEw+xup92wKUzPQbdu22pM/fcZ+4ze/bB/96Efk4brH7fgI93Hq9ElpAyIphFlud00y0Ap53K4nnnDh7/Of/xWPx7V+w3oPOdLU3Jh2NLkSBMI42bK0vGXbFhfW0eKEdjh6/KQL7mjKcj0lAmGut2BS/gSBBIEEgQSBy4FA7wiFMY3fQC37XD1vrgJXD3R7tnHSPjU3NduKFW9ZXUOjG/xT0e4SCMmb2FzYMrKVE04ECKJDhw216fpHzLoD+w/K1gmoYppvlk5i9SCfvpJ8mUmVQVjC1vDLv/5lX0oPS6K0BV6fLN0RFsRxSC0l9RUMknokCCQIJAgkCCQIXGkI9M7ycUqAQMRqkGBBGIq6ulot205OxyZjy7B1G9bZdQuu1/JkiYf56M7GaZS2ENsk9klmC7xy7fOJENQgG7E3tCfmqJGjrFqOJmk7mj68dIz2j7bpilbUl5nBgmcQkvuooNydtJfknSCQIJAgcCUgoDGCoSVJWYxA7wiFLDkG2pCAiGaKPWaLtVVV0EZxDiGNANLEjCN15zIfS8hs4XZWxtdF8sAtKo68G3nvGcX1Qhhk+TSUj/N9NbmmUPUNqS1hL9gchnv47s72ib8nOU4QSBBIEEgQyD0EEqEw+9usV4TC7IclKWGCQIJAgkCCQIJACwJMlvOaWxRdTR34GSougaJUsD0jN3VwY0v2PXLU2051iVDYI818SS9JhMJLgi95OEEgQSBBIEHgSkDAV1AIzJPXsopijap5i5wYg6HlpOJ7K2WPYBhcA9stkYRfr2FqtehyrgAlQmGMRLL0sHccTbIUjKRYCQIJAgkCCQIJAuchgJZQJ2vO1coOvsEdExX9Vv/OF60wdvJokHqmUI54hfnaDea8DHvhhMpDPNBa1cFl2xD/N6MoOHpSYITgYplR+eYRwdwr497kZ99DIBEK+16bJjVKEEgQSBBIELhMCPiysYQiHPBqT9dawbZCa6qTY520hHkF+pbqrVmyIb+bJRG6Jq4xzxpGnzEb119btWaJUCg80ADW1ddZUaFs5htjGs84VhII81Qh7iOldxSL35Mc91kEEqGwzzZtUrEEgQSBBIEEgUtFwB3tQiYS/Ip2KoTZ8WIrkJawUSJgXr6Eq6Zo15f8BjSH+l3cZCcG10jhpuvh2Wz4lhaQbTvLyys6LI2X+TTLyKpLoiXsEKu+djERCvtaiyb1SRBIEEgQSBDoFgTy6vNdRsqTJjBfgqDEwzbekydhUUvHUhk2ppad27ipV08h6LYVQYJCBRtC9IitBOJeLXHy8p5C4HyDiJ56c/KeBIEEgQSBBIEEgRxCoLlYohLSEkk2eY35kvywzfNjXeDYR1Udyz25ILv0hFG5L+Qzq9ScF1Lw5N6LRaAw8Qa6WOiS5xIEEgQSBBIE+joCsikMYqAEwpZDF/4aZDuY36hDaQ1T4WrqtWRc2Cg7QgmHzXlFWQdPqE7QCIYCBtvJ8NvlwVR1EzkhoNL3vxNNYd9v46SGCQIJAgkCCQKXAYG4TNjUIN9jLcMW4l2CkwmhaoqarUDCYSR46TzeJzmSEqVgjjRUNxczEQq7GeAk+wSBBIEEgQSBPoJA0JxJ8EPTtu3odnt89eO299ReO9tcY8+vfUGrxlpSdgmrEf1hzlScqtWkdu+i0O5mEpeCc6YmSUEvBYHcodhLqWXybIJAgkCCQIJAgsClIiBhjxiErArXNJ21h370oE0cPtE27N5gmw9tsidWPWl5hTij5MuRA+2hPrI4rVixwu5631324x//2Gpra+1b3/qW7di5I13iK2Fb13RlkwNHIPE+TgghQSBBIEEgQSBBoEsIRLt95BOYUKq1WwbeYqOGjbZpw6fa6v1r7Mw5haFhKVkSITaFHsS6S/n2zk0/eeTH9kd/9Mc2ZMgQW7ZsmS9719c39E5hkrdmBQKJpjArmiEpRIJAgkCCQIJA9iMQWd41SQNYbmX2Pz/2v6yioMLyFaD66pFX218+/GeWL+cTSYNRSi03Z2W9tDR88223+/7MkydNsoULF9qxY8cs0Q5mZWv1WKESTWGPQZ28KEEgQSBBIEEgpxGQM0mQ92qtzjbufsfqmur9HFrBY+eO2+LJi1yLGMWmyV6pkJINHjzYzp49a/v27fPjP/iDP0jHJqQ+7OKSpCsLgUQovLLaO6ltgkCCQIJAgsBFI8DOJZGgV9NUY//2yvesvLjMmjWSomErl9Zw0axFlq/g1s3NCmHNMnMWp6vnzrX9Bw7Yli1bbNfOXVbRr59NmTLZ93am2Enw6ixuvG4qWpj0dFP2SbYJAgkCCQIJAgkCuYuAwsu4FIjW7OTBk1b2crEVnSjVMnG+nWk+YxXFqS3j2Nyk3qyhQXEL8/PszHWnLX96iVWUlGRH5VWNurp67Wlca/36VboWkJA6kvzS5Tt95oyVl6huhQV2+tRpXwbvJ0ExiVOYhqjPHySawj7fxEkFEwQSBBIEEgQuDwIIUJEQVVdYbzv37rCJIybZugPrPWbh1JHTrLhIrsmEJ8xrUEDrssvz2m7IBYFw7bp1tn//AZW1WeXPt927d9t777rLRgwfHmlEs3f1uxsQSbIEgUQoTOggQSBBIEEgQSBB4AIROFN72n77u//NPnj9Pbbn2G777fd+zV5e95LdMeUObXenzJrZzQRP3uzb1cSrKqGQuIRjx421yopI24mNoQu1fkO0JJ46TL6uEAQSofAKaeikmgkCCQIJAgkCl4pAi+qssqC/ff2+37WfLf+ZPbDwQSspK7ETZ064qsVXnPO1lmyll/rCbn1+3jXzrEBLxTJ+lLYwz0aPGaP4iolzSbeCnuWZJ0JhljdQUrwEgQSBBIEEgWxCQK4mTdrOTo4lt42/za6dON8qGiqsvrHRbpxyozU0NVqhQtRYY4ERuiabkwuEqQIiDLJLS14Bak7kRNUzMqdM3ZF8XQkIZLdr1JXQAkkdEwQSBBIEEgRyAgH0hIRqYbeSPG11xy52FY1aetV3YUG+jRowygrzCyNhKr9Rq8gtThzZXEGvlzSFtefO2S7ZFZLyVZ9EKMzmVuuesiWawu7BNck1QSBBIEEgQaCPIeBb12XWScIUUWrYxWTvyT1WXFhsQ/oNkeCo81muKUxXRRpBdJqvv/GGnThxwgYPHOThaNiVJUlXFgKJUHhltXdS2wSBBIEEgQSBi0HAlX7o1KQVzIuWWDmuV/DqQukEa/Jr7ZE3H7Pb5txiA8oHaCk20ityT7YmwuwQX5Hvs9IS3nbbbW5fiIaQ8DRJnMJsbbnuK1cyD+g+bJOcEwQSBBIEEgT6IAINCkzNH6vDT6x50l7cttT27Ntpn7ztIZs9eJaERi0h50C9//pv/toOHDhoX/6NL9vPf/Yze+6556y+Xju0YFvIMnliU5gDrXh5i5gIhZcXzyS3BIEEgQSBBIG+iICkPAQlVxiqfq5FU8SZG6Ze77aE//PxP7O/eeyvrbksuoPPbJephg8fYT/84fdt0aI77IH7H7DS0lI7dPhQX2y9pE5dRCBZPu4iUMltCQIJAgkCCQJXOAKS9NjmjkDPJg9kIv3+aOkjVl5Uan/6wP+yUUNHW3OdvHjdGE/LsoILjWEQJHsTPcrRJCk1aABZMv7kJz5hBw8etP79+7sEO2HiRBvAsRL1TJaPHYor6iMRCq+o5k4qmyCQIJAgkCBwIQgQqgWBypOkO4SqJjmVFObLrrCx2e6ceYftO7XP3j3wrm0/uE1haW7SaS0tNxdYQVODni2Rp3I6h5BTj337ErCcYdi1mV1MtCOzv7tAoWeefPJJO3bsmNsV6gY7evSofehDH7YKD2aNlzXhd7I7rE6PAXmFvCgRCq+Qhk6qmSCQIJAgkCDQLgJ/qCt1+vs7/Z2J34V93SFp0wYOHOhClWvQuAHjK3kYL313qZXml9qcKXNt7/49LjTmF+guBEFpDM/TEkowa0tETN+XKUBeyP26lxTPH23fkSNH7P9n7z2g67ySO89CzgRJgDkBzBSDJIpikCiJSi11S52z3Wd2PV6Pd7Z9PF63Pes9nvV4Pfax3ceetdvHO3P2bLftcXu22253cquDpJZarUiJQVSgxEyKYs5Ezvv/1ffdhw/gA/AeCBAg8C758KUbq+rWrVu3bl2EQIS9vAIN+163PFsizeB8OazulOCHLWGrTjiZUlXleZALbmly2sIYHJPkkhMKJwmic83MQSAHgRwEchAYEAK1+vLr+v2Wfn+mX0o4/N73vmdf/vKXrayszP7sD//MbrEVLnR1ylk1u47nTptn2w9st4vNl62mYhoKQsvvLLRLLZds+/e3W3FxsbLrDWHzRriGL0H4ClfeJ+Mk7/kW4oVrMn4yLsLgM888Yy8897z9H7//e/bwww/5RhI0gMuXL7f2tjb7o//z9+28tIRbNm+xX/yFX5Cw222t2o382muv2bFjx8h6CX+uI5xU2pbrSJ9LeoMgkJqc3KDycsXkIJCDQA4COQjkIHCjIJBUmmVT5nlFduGwqamp8Xf+t9+xDRs22Acf/ohVvVxsRec5vk6nmsg1zcGLh+xC1zmbXVtrHZ2dtqRwuXUXdlvT+mbrrOu0ouISVypmU/hIxsXlzDe++U07eviI/c//y7+1qqpKq6yojIqQxvDi5csuGM6ePdv27dun71U2d+5ca25u1tnIrVZbWzMS1XlQmTwzEhnl8hhdCOQ0haML31zuOQjkIJCDQA4CNzEEyrQj90//9E+tpLTYrp5tkH0g4mCPFfboxA+pVVo6m+3pl56x8uIyu3fNfda9QBFQt+hXXl5qxSXl8mHd1y6vJ17m7Q+WgWwPs4nfPy5V+fznPhdtjtEDGs5wpB0axUotKf/jE08EjaD9r7/xG6go3XdhcXGRayuljfw9ZfM/9K9vBs9zFacsg3i5KOMEAjmhcJwgIleNHARyEMhBIAeBUYMAstFg4S/1keXjlIZQ925biKqxrKzUurTpgh27vUGbN2Q7eOzMe/b5Bz5nixcutld2vqKlWRVFNBJKuHK/b9LWJcOAlRlIWEwmTt6nid8/bwTA0pISrw52g91dnVp6LtW1y5egWd5et26dnT592j75yU9KkC2Pq45dpJoQtfk/qVh+2YafKsED2SbKxR87COSEwrGDfa7kHARyEMhBIAeB8QEBhMHf0S9lSxiqxfIrIbogcsViFyrDNrPbFtxq33jhm7bv9Lv2oVsfS21AySuQE8P8Ek87ln/YKENwLaSqnCcxFQ1hvmwNEfjYcfzcc8/Z5s2bbe/evVYzvcamVEduaQq00USS41hWP1f2DYZATii8wQDPFZeDQA4COQjkIDDuIDCkFowl4xD8mDu5o9EKsk0vn24PbnjAHuv8oHYoT7P8drmsKdQ3eaVJJAlJx/zKKccIirEG0N3R3H///Ta9Zrrt3rXbWrTBJAiFVDa5kWXMK5+rwKhDIJpCjHoxuQJyEMhBIAeBHARyELj5IYDezI+4K9BdWbc98+4zrjGcP3ehfeWJr1hXCWuuEqYYXce5kg2Bb2p1tZVoefmVl1+x5StW2IyR2Vhy8yN6krYgpymcpIjPNTsHgRwEchDIQSALCLiiMOFjUEuwec0FtnzWMtt9bI/9zc//m90yV+5qOhIngfQqF7Mo6MZFZRm5Wb4Jv/rVr1rFlDLfcbxg/nz5XYwk2qRrmxtXq1xJYwmBnFA4ltDPlZ2DQA4COQjkIHDTQADzuqD869QybKGEp+UzV1jV9CrbvGyTzaudJx+FIYaWaMfj+nEMbV9CllB4WS5pPvOZz9j69evt4MGD1tBwVUvKU92UMCcU3jSkOWIVzQmFIwbKXEY5COQgkINADgITHQJB0CvQ+rBkKoUem1Mgzyu4v9beEkJ3HkfjRUfdRW/G4V8qrx+nnPz1X/+11dXX2eVLl30pefHixfaFL3zBOuV3MRcmFwQKNRMY5wruyYWQXGtzEMhBIAeBHARGBgJhk8RIjXMhP2qXJ5mvubvVugu6fHPGufNnbZmWkvO78y1fO1DyeoqsS8LheA1h6C/XSS1f+tKXDOfVtK9bIkGbNpsgEIY4w4Xfgw8+6Kep/FThgQceGK+gyNUrAYGcpjABjNxtDgI5COQgkINADgKDQUDeCf2zzvuwX/l//43dVneb7Ty8yz69+VN2tavB1s9fL4FRcfI6raB7nPttlhBYrE0mq1atcq0hDQsubBoaGnxn8mCwyH2beBDICYUTD6e5FuUgkINADgI5CIwyBFhGfnjNQ/b5+37BDp4+YMsWLLGfv/6CFS5gWGVpttC68sevphDh79h779nsmbPs5Vdeti45sz537pw99PDDVltT4yeg9HXWPcoAzWU/LiCQc0kzLtCQq0QOAjkI5CCQg8DNBIGKvAr7yMaPaKk4z1bPWG2FzUU2t3audXfEgiCaQhwZjuPQ1Nhobe1t9vTTT7tAeOrUKevoaB/HNc5VbbQhkNMUjjaEc/nnIJCDQA4COQhMDAiEjcW0pkCOq/XvB28+YXOmzbErDVds55EdtuLxFdHycY9ODBnnNoW3aNkYG8IVK1f6aSY4sZ5Rw44ZbZbp6c4tHzskJtef8T2NmVy4yLU2B4EcBHIQyEFgHEOAjRdh93EXZwJrlbiqpMqe2vmk/cuuJ+zu5XdbXneeNiFrF4p2omi7yfhtDW3R78qVK9be1ubnHnNtbPQjn8dvvXM1G1UI5ITCUQVvLvMcBHIQyEEgB4EJAQHJd1KeKUSCXgHXUrNdh3bbvNnz7N899kU7cPqg7+AtkDhIvPGsKfQNJWw0KS62KVOm2EktHf/8peesu5vz+XJhskJgTJePmaUkt/hPViQMu92CHx5GxwyO4pD4MxouDoX9qOlxOwIc4rfh8YZdHY6hNMH1RgTOIQ2ht0TdyU4p4+BRwQSKC6Aa0oZrxjnlIg4bAsDfe8OwcwjCxnVkcFMmHQ3+1acvAxV4DIF+7ffp+0a6bpeKqSzy8lJcS+urckvY1Wm//MAvWX5RgbW0N9snNn7cXdVE+ST7YlT8ePrrZx8LHvnacDJv3jx7//337Zf+1S/r/OapWVUzBevR4JnClfeqfnlfT5mkJTheQ768C/f6FuJ4vMR7njMNyTxCmmSZ4Xtq/BygrSHtoNc4bTJOsqzk+6Hux1QopHNG6OmHoKFqPYzvAQEhaYTnVHcPr7O+ku9wgZ91Yf0T0AiVHzG5+OMwCbh/1kM/R0sPxAs4TKUR4xwqALOeeDbdP+71Y6V/jhk+C5bdgl/eCOA00FuftqTFTS+sZMHjFQV81CEl2w1Z/VAKedGnoMlJvgjg8AtwGRKAaSOkcJgWb3S7Xtx5L0gKDGlzHOSlsnK8+YG5g8SbiJ8ExwDJ1AA5zHamcJLIk6xS+XPveFMf8aPc+hY0FMXkJfBzqfuy/cE//JHVTV9or8mW8BMbPq4j75bamvlrejMNBfe+GV93gkVLc7MdO3bM1q5da0eOHJHWsNpmzpyRcT2vF2eDFZTCZ6IPujCrRIB2OGWncJzIs38diEPZIf9QD087SLpkPqly+ryM3oY2hPxTUfrR7TXfUxGvvelfXqrOGdY35DgmQiEAoUOGTomha/8GhQpmc3UkkiAGQhKp5M9zD+ViCzICwfu78tRUawRyyzILylXwv2nam2VufaPHeQc49v0IHIU/XuLRPy3BRXXrny75HMWIBDB/D26U10jQQbKcbO9D+SlaSmaQtq3JCIl7YKj45EMYsHNLpeDtjuMjDDpMZY/UR7Z2AiYj/SBfSK5beefrRWqHIxZMDLAxfYfGKOqkCTG8k31/uG0HZ0Gbki6PgBK+5aEaAg99kJYuVbp3pIVOoJl03yfmu4CjMA4MBuuMIRDj33lygs8P2P8yzvjaiAV5BXaHfBR+ctMn7IHTD9iK+mX22js7rJtR1Vdg6aRR/7829fh5k19QYIcOHbI22RNiX7hu7bpxU7l0eINe4HLO/wK+h1PjZNqYtweahHenyiYeP8pFdhlOWSFNXGagefIN8lAok+cRk1PIPy471Z5QlwGuYyIUBoCAAPeDpFrTh/IY4IYZyIsfqvD8GMEAIQlwyurplPGviunW1jFKSwEsvg814P3A95SlgVflUYZrdUK947LD42heaa8TkgpBsOZ5JAReYOZBbSlA4E22ycuJ+mMEQNXBYRG3VAwGuLjAKL9Xef5MBZVngfJCkCE48Lu8zjySpEDfA23wbixCENC6ukQrald+vtoTqARcJ2ExUAVjGLmAQHtJp6YHukwmy5MgQZSIngQPynJVYUEMKuFUdegRLAGaM8TuTmVJvZRO9CygOhzRYvA9X7seHb6BgD3mZPgT8ZNuARQ0RdrW6wOC9wXhs0B0nOwXzluAvOgEWHsp4CTd+mMGoO9xOhH/UlkZ0VgGeY7nKM67vJ9A3+ocunflQOA9w6x8hCP4vvqF8kwG54+8EHEwFkQ9KBlj6Hvvn3G0KQVT7OFbH7ZC+SNcM2+1Nmt0WHlJuc4+1niWH5V9nSLE0BW6jhiB17Jc/B/+w3+4JifocMz9FNKREwH8RmMdfa4vfhPRBrmN8+Pi9MHyufgqKSgrQZOBXqINRSqLPjqsMsk8GeDjKpfyQplql8Ob8uM+4H0k5i/J1FnfqwzkokzDmAiFVI6Gd2pAw0dSZweDHANaptW+Nh4AhXEXFhZaUVGRA5hYgfBxzMlMiKN7IIC8PDkWFQLyEWg06Pr2e73vUSVgKJxryVIi94Vi9p0sDanOCAmky9P7vILIG3yRA93JiiJvTFCZYfBgYGoXHDsSxxINtxLk6cSoDErk6V4A7R0QQ5mCQ0dHh5yd6kh4dRTvNEAVeIr46LR0NIJuPT/eky//8h3GEmSUJoqmO+VdWlJqRYVIT550TP6A4w7RY0trs3APnagyNEX31EvVHDIwwPNPrfO4wKKktFh0WZzCWcgEka61pdmZLzTqAIFG84sjjaG+R9pD8hLjAJ6CZV4QxPW6p7PdCkXzXe2i1aISz6K4tEgy+Jh179C8G3qFFtvb2/XriHAHyDLA16CVFLwL1AfKy7SjIA69/a7LWsVTuhDMVQ60DrmAmkiTyzM8RLSQukbfPZ7iE6hi6HPwrlL1O7Q3Ezk4DENnEuDaxU86O/nRI4YfHPZKDrwZC5Ih4I3+hC0g40W2wXGlvu1B+cwqnaVbPQvnhRpT1s29VQoOjROuvWeSd70EmG0NRzB+3MwRzDGrrJARwvgdEjLWtLW1auyhk8V9CRBnAGanDcbxmO7gFyg9CosKrVj9jn7uDJ6OTHA6UXniKYx1pPekGZTlyaMqelbhD+kLCgt8c09+oE+9JEsE8Fa1zfsAVciwHM9b8UO1Q1lcCzSewlNK9PMs47Yn4/S/79tr+n8dxWdHroCNUAiCC30mHiMji3IBpzNUJQW5SN89AjaIj97DkBkdzAUZENzeKYFEbgMIDqjENflusHv4SVlJkRVp55aHUPVsEBmlHN5fUYDXXe1EoGVwwp0AbfVZAfUIjcu0BMWHUSI4B81jRXmFXsYZQHVeHoOv8NZ8VUbVHXonga9NbgyKyyRI67610bpLla6pzayy1LVcXZ2qm2bR1hblbRJarLnNmorKLK+4ROWqcwpvRYV6P4YBgQu66RSNdMWTA2DKjjxcTThdOWAHqKSDiHj5So/QLM200kdtU5p+9NGNYC1ntx2dzRpIdKxUj85SzSu1/A7BsBtBBHqGysWU2iVUFrQK3F3W1TFFHb5Bn0XfKrO7Q3XsnGLtPQiegmdJQQptA9R0wr0Gb0yMOiRcwGBT/SDLlgLtoCEhj3xN/voHBizKamlpkVCvyWZ+u2hXGiLVQdixUgn17d0STvsllDjvk8y2nk5decqzDt2X9ZSIB5ZGA1O/NJPhEYfJra3iKYKrjwXwmmS4FgXJr/G9oClNLf2OfgpfTAXy0zsCvK2zrctKYtadipPBDTQGzjxI8PSROC4GRUL4JH2WvhWrP1+fkJtBlSZVFODf1qrJg8ad5NnM2QCBPh36NzuvS/SPiXu6iZjzFNEmZ0FDNyFdNuUl4zK+lpaWivaC3KA8pQzwsqFZCaouo2gsv95QIAVWaWmZt01SaMbZjZlQSA171GG84tIQoZWKlmIy6v2pBhIbZLULcZ2abXIfZgLwAD3SPT2A4J68Irsijcq59iIdXN5txYJAm86pLBT7RvPXLtV/SQGMXcNwV4+V6nu7Zn09EhKQY9p02Dk70GqKOzWjh6lr8NGz24HpKbvaxxUbzkWNcw0Sgx/3+lGHEnG6shLO29Q7tadHbcimUtS/Q4JKc1OThPVehhYEa6rqMJcqpEuCYUnDCStsb7DufOAp+Gsw9NCov/D1lujR70nIO4LkGZBToPjdU2ZbR1mN04J/u8F/wozU2yh4egtVT5hHeVm5C3TQTgTHoTEcYsBAmPmhVfUBKnxIts9pEkG83arzXtNZqS1OowiGBXmcLKBEjgaVL+G8E4Gvu1241Sel7RRDK+xpg3qts7BKAoYc5xZXK1m6wpIFT7x7cMRsv0SDM0y+sCCeHGbZVCDHhAC8dXZI7yNGHQI0Ar1otPfVBCZETQXnrKXzsvcXTSWsyIrtojCDLrxY/zosOiFC+gi/J3/VUBjLV6wOobXA2gtqrLoArVMUAk2G54l29f5En1II/Jp3RQVFVllZIbCGST0RROrgYAiaBq6kQ3Pb1NwU4YkCCP3S9gzz+Dkme9F0XHmKt3KMHdomcI0JSIpSinSfp4mwlpbHW/DVD1XK6ThN5VK8XgC9gSPatTURzkIdU3Wi3oJ2lyZkrPwlx6hrMxj8DbhCGCsW3cWkGNFiTCtRmfR/rWrGK43XIxQiEPrqG9WiDNqngn3y6nVIUY+3bThlkRfCMlcUVmXlvWdvh342OFSkXBsqwo34Dnx8dqiGDCeAUKRtGOyAQaMoJm3W0yEhUB1b2kmGf006RPjM7ZkF4F2qS4KhkKU7DdX6zuiL/Ym0Ah2AC5W2CkzOQvV2vASWtwulnk4RwDBA2meGna5hcafhE0IgS5n57ZICxdDzu1rTpUj7DiGyq6jKGqUJC8oYydyC/BgH+qsqAUNE1V8kFZAPYhlWi65Nh2aZHA0hjCuFjwHzQKxTmp52p8sC0Wm6UJrXorFI9CnhUKpD47lTk5YC3WPO1q4JCoJMEbOdsVW6pqv+DXmXF7TOYsLDDSz/RUtUvROjgfIS2KUV1BKT8wUJ7vma5ZNMxbf3NHLx0J7XgSwp1qE3nHRBQl3aJfyXeII44iS5pDOmp9/lC3++4iM4IBT4oBmAmAFsujI5RQTYZxlIEibZ+eJZ6nKWp2sQBeEXIdv8DpkwSfsLnuEH4X2WRY54dOqCBDTYpCN8y4bnjXhFB8nQhSUEKsVh3Ee4SvLXIGg5D0Zgj2koeSX7IGiSNjGkDVgy+YY80sFmoHLJkHQDmSu4HbviIJOkpNM4DWmh/0zLJR4hXP0hyz/jQigMdQ5ICs8ZX4WsCLEDd70Czeg6tXSJphCOzTJFX0IgLfP8kAf3iCeQHppD7iOA+yQT7jUOg2sNRUTJTpJtNdHeQojBJu6a9ABO8PNO0KUBMLFEgqCXaXB1vEoplxZWilsPDtuxBi2zjDj4gORMI9BF+DLwlZihI6djHsmUaKSgr5ICCQ9d7RoMtfSl4tF4pA365gK0lpk1Ijl5FmqnsmvI8zuUVj9JHvkFEa2mzWMivmSg0w/6JxSAM9FwpoG0njKk53kAFJAnn6CSIBDwDvbQraX9fCadCfinxErl6ffEYTOQAs6N0Xx4Zv4iHqwUd6KHdJvi6Ddo3hyXXAWErPAYD4pDwW44gyZ1cb7YqQmDTD58zqGVJeeT+sjSdbfwDm10FHVIa9+meVl5RFdDVegGfHdYUo4qmLpPUy7wjvgWEceQj9AB0/QD7+Px+1DXqL69jQn4Hejq8eMxrH/a3lzS34U8030N35LXocYC3xCXLrP4XTKvgaKFOHxP3g8HfeNKKAyq4oEaHt4HJhFmNOH9YNdOLREXaf23vZWlnEhoYuCAJTO/G1I7NljmN8G3bGE7oEDYr60wlxB6tOwMw9FWnPBq0KvDX/EJ6GL9qnE886Hck4z4HwQ171hijghbITjzSDyH99dcRVcI5QHm0JabRlwTUbBSszsxo4i/uabUB7YMGLJs0UJAhnSoI1FKq93TPUnVhAEgugb4J14NeuuYjvEL3nsxf20yvkG6TJ1CYEnSx7FYIMzrElYLNM3UtSdxJT7CIHwHTZLnELLR1fkaGU3wEHb6J5uZHNCS77PFZTJtunsG6mxCEBw6irURYJN6Wuh6gRBCZjxDQ/rfXcWVcng59vj0GuhPS0ur228OOuuB/vVLLXeG9t3IK3BME5wnx/0DuiBWwE+a6H1eBbwTfziKk4Hos08h8UMoa6g0QVNIsmSLh0qXLDMInlzDffJ7NvfjSigMwl6mDcguvogHQke7IhGEJSbYvjNmvcHGJ+OQ4Ww04/xGOKIzUHUan0WprlyzgRVwQXsxoGBIZxVzoV8yY3ZbQsEPaBK6pY3FvgbbFQQiYAyxR189iqeF6MmKXd5oyAhjrikEbvEvqmnvX2ciNDrL4DSWNlnEAti1iOkCIV+TFwRknw1noY2OcvIclFYC4TDq6RW4Wf/E7XUcxcDIhub7N7tAhBmYev9vPINOiomGpOgFZhTOU/QBqu/RcrH+SC6QEAHv0TVPWkRtUXFtmFJJACSFvjvh80J5I7DQMSZ46K8hAd6pgbof/WaKSxeoBbdUPiMEQ/ID5xXlVdZTFvG0AbNWxAh9PW4+ElHLgLFv6AdaUaad9JFGPS1T8vogeBGnQLtWx1OI6h33ESoW4yVbfGcbP8BgMJ4Q4vS/kmYwodX7Ae0QOpL1SleW06EiuiyT4BHhPWUzribz6V+foZ7HlVCY6WwwHYMASINp+0jjriF8qVNAzXIDho8AYE03LkDGWppIfOoVLocC+A3/7nVWrTMQZANcM5mhoJkCGoXFsl9kV67GMOlDvHnsQGaAZMmdOBB3hz652O3CYgSFIEa2KzP+EdgUnoV4HmU0kn9FRyyfh04WmJAXoW+DdW6PI3inOmR8z3O6Dg4EU/26SwbBarhE7Aiw4C31kY4uGgPoLuTHsPLvCNTKB+FCwiXJ8rQTmetkC8C5l3YjIdvxlYBjOpgEfBGXe6gY8A2k3SWPECeicIAubbBwwLMu+h5PkfQpX+rfHm1ey9PVl5fRC6sfUEiEJ0rjF128HtHThP7rPFkwp72gCNwFNzIBJykAxPFSz0Pc9KWFayM7XVz7evA3QlaZdo4yiSUMxae8DBo2XoLqXVSMx4wi8RlIFhqM6L0/w+BbOk3ujWyK98V+8AsrN5Hf1qjXXB+Ee8eeTNrmfTPGfybxiROEtIFoDjj7OMMVHh+HUBbXcE9e2KjTTwKNsyGOEFzx8Z7fcMOYC4XwxhCCUBKeB7r6bFCCRv8QBIv+73lmh3C3bNeirgzLZrYXj7t+QyyF+B6YQo+9V71QHtHgG0WFGHkmUfQ3ej+e/gbiyAq2QxGUvndLqKbtflXju6URcWIUJAoQvNFySXDOl688YCPg6wqGosGSuHQG4F0qvHQUeywexzxENUlTDdU3wDPN12teoSmNWjxgjk5jnlC72VGW5ss+0GPHSZyRxHDig4MVwRr6d2ABZ6WLHxE+uouVB+vQkzCAn+TSr+ML+A0RHM7EAcdc1fmHSgaK4CT+l9mMkJPPtnBQ4pMfpknahYyGkCmTBEcXEJWkmxNr9K+LyWkSVXr0OvcbDKnShAsOY1zIsGIAvCOhHvyhPenDs8DLUAjJAkDJcSeLZE4fSXQNljZT2hssj5H+FsZOb0M8hqbtHfrG+1S/GOmKDDO/1CQ9poUgJA6fNujB9OGBg0S11MdAp6kXGd4Mli5oCj2ruCq9k9sIB2xSwf3V3r177fz587Z8+XJbuHCh+zvkzOrj7x+3uXPm2qJFi1wBkUyfYRVT0cZcKEzVZJRv2KRUWFIof0PBGEQFQlgwH/3rkcAXDwd+r4+K4Bza44RHqhkRSUKaVby0HYvIN1tQQwIcBq06DdbPhWLBkMD4VoTgrGuY8OSxK1YDYpEGQQK6FKDlzCZO53jQ24kXIoYzGDzDOAcoOkSk8nKkgGDjVCnQCF6KpDdATZ8UAWG8Rzu9JWR4ABeMcn6FXCciLKOmZvoXUGQbsh1YesuIAO8+8qB/cMWyMcvC3h+geAmH6iDsrJWUqGf94DlKGg1KvTjzASTbyk+A+Cn4Q7+hY4xSu0Y5+1Gq9fVn20fQziC7bONnkOV1RentJdeVjWvvBtoNfH05D5x6uHyZVSa0g7tff92efuZpK5arraamRnfUX19f79c39uzRuyZbsGCBC4WpvjRwdQb8MmmEwrQQGIjCeB84fogT3uka7yFMm+VEeBkNUhm0RLAoKNJSq+zgWI9AnnHBhZM0NOC5gx/kFgkynCDDLBUC7/EBMwC0bzlK1gv7vp8mzRMg8CUFrkBVg2SPDNbzCkV5gqE8U+utrpgwOLwUJ9DrpIHS2DcU0CcDBhMI7BFDjkwQ/DQkISmP5WWQJVwi12shTziWv0mEQt+MkENgCpaTVWJLASB3M9oQuB6habh1G26ZpLty+bK9vme3zZo1y+65a6v7Irx06ZI2DHG6S5c1NDRao36EZDnD6UqTRigskB8PjgGLRs/+7Fyv4dcukQDW9AGtWOT4M9J69cZyUWiCjMuZDU6ChAsuXfKJFy2hR9DoLigWoep0AjagCJ5Tq6e4E+BzV1p0dFyL1Uyt1iEn8m0ogPt5vzEQ02CkF7wT+A566pI2lc5bxFZkAcKpSe85DaVTy+646MiXD8jm5lbbf/ik6QANWzSv2mbXVkrA0DKkCxUCEkDMDH0TGKJj0bQY8Ah8LBNL/CvUZInjO9vkBqtLfKNsipyMy6ddc2Ob3jXq2MNSKy2TtheZn6VnTZQ86JJD4ejjEGXkiIRkRnTi5HOygP6jM/H6v0vGz92nhcBk6RtBOxiAwPGdpcWltm7dOtu4caMfinDm9Bk7duyYnThxwoXDEPd6r5NGKPQ+6Ib6QTCkT0YcGKHGz+ONOzSvsVUolFDTqb7LN0Zc4vOeZx1OlYA9g8FECbRliNYIBgWCZbd+vvkBgMU8rkkSy/Y9e+3o6aNWVTTTNt+xwg4dPWa79x20GVNm2pK6mbZ26SKbVqkj8XzTT8SdWS6dnAFdoLzQdyBkR7AAmAjMly81WWNLh82ZN11mD+329FNv2r4DJ92n47yaqXbPpuU2d2G1lakXo0BEqZgLNw4CUGzUV3yK4/IAcn2+HLpfOnPWfv7sdmu82qQTOipt5a3Lbc6cWb6E/MoLO9zIf+v9m61y+hTd904ycW496QN8GJ4yimEksmflg5MuGMA1hKiPtmh3so7yJDBW6DutYNmQ89Q5ZYXBfba0PVGU0W2jFzLB/gx3CXaswYDskE3diRt+0Ff11Km2YsUKKQaa7dSpU1ZZUWnTpk1z3oID7+nTp1lFRYWnSZZFV8o2TBqh0DuoZurWKa6tmTw2PcFdSqFzCE5EgcXTUVnf0VKdHDMXcVSWloU6JLS4cEhcd2fTy8gZGoD9xOjiCL5IGIMECBwpRB7YsZECJFgKFur+6Ikz1iLCvWftWjtx+qp95evftMNnWu1fPXKnrV+1yq42NtjVphYRtc5kBM5xQACfaCGipkhgGLBt0vLJdbfgKPpBY6SAsM1xbQiEr+3abxsKbpEwIa2Tzo+++66VNndBlV2+0mGH3ztjpdWlNm9GSSRYTEAYDgi3Mf4ApqBYXxLWFa04p1wUaKMJu5BfeX63/fQHL9iWBzZYzcxaO7T/iL1/7IQtXrLYWhtb7cx752z1+isuFHbJDADtIsHzVIfKHw439xxu/j8+WR/1ZowAvxGe/vzP/9x+9Vd/1f7+7//ed4Ru2bLFbrv1ViRBP8Hitddes//7r/7SKqZMtctaAuT3H3//9+3OO+4Y9RZOxAJuDG2MPOQQ8LKpO/GDzSPLw5yXfKvo6sqVK750zBjNdwTBNRpra2prPU7QMFJWSJ9tayaNUIjYEgl8bDQRSxfQHEnixRy3xC7ZEoQ9dg+iGexosasNzVoGKrZKdWhN8Ry27nYFgUjpewPaNZhM8l3v15vqTsQIYQ0aIHDiIBDqFA6aHu0+zpewcsmmSAs4c806u9iw097et89m1Myy29eusXlz51jLwYMaQMk9gliAWVLEHrTsm+ij5nqpiceA1WZHKoKEhIpWuRYoV4/EZR1HoVVWV+gM6k772bNvWO3sKpsxd4bdcccCK5lWakf3X7D9h7SU3KCTTWbo1IRAepAhWtfwPGDBuQ/XA4HQ2+EqBDRFDnohT93DLl26InpfZHdsvM1WLFlmBw8ftJOnz2mp56RHLCpkOZkjIplsyv4wniA56q7hL9dT05svbbQaM7oEHJkBXR9sGD+YHP/eH/y+1S9YZL/+679u3/zmN23N6tXOQ+Git99+u/3xl//Mnn32WVu6dKk0hu1254YNogGoJReyhUDYbZxturGO77QyDJwHYZJrVVWVTZkyxbWBQeDjPSsR7DrmzGPeowDj/XB3IE8aobBArjo6ddBx5Lw6EkHyxYE59bjx8gU7dPCAXdIszpmF+FFHW6sd3rdXGpwCu+3OzbZ85VqbUj1N9l+S0BEaE9o0REJG4dFlYzeGrCHeIYkJZqjZC2c19uTjKFl1E49jKWWJtsm/sGOPffNr37W3Du2xhzdus6kSYn701KvOKKunlNm9m1ZboYRK9xAUNwv97UQLUISbJbi4kL51uCQhHkJdsbSDojx1aD1oUjKtosg2bVxiz/5sr/3k+4dkR9Jpu/YskF1aoxV2Fdntdy6y2hmVSsPwAz6UDkCiMcyNOQLE6AUnef3plDTYLSec+BcD9BFjLrRZ82daw5VG65L9SU9pntUtrbd59XPsnTcP2YF3X1U80nVKu16os9bZoR9pCsGbT7iGMYCMXmtvbM4ptyOjWOyQqyEZlv2bX/qSPf/zn0sDvMQHYtyEwEPR9CMwFmr8mDVzpn348cftVWkN586d5zkzaCtBhOsMyxrpaJhNdYj2ijQ5YTzzs6jHuE5DtRH76psxMKYGH5yZ1B/FDKYGXINAiZYZtzQ8J0OXhMFz5y9Ytez358+fn9IQOo0lI2Z4P2mEwm65gSiQS5q8NmwBI8JiERnh5GrDVdu9Y7udkBBTUTXViitnWM/VU3Zg7xtWWD5FKtpKW7r8Fj8FBUnGN0ggGMYBnVek9+qLrPD9ZrpCSDhvHjTAOMTsWDpOyh6knVk73e66Y50def+UbVq3yOrqVihut7395ht2pbnNFi9aYLOmTxUP6rBCF8mjHLoQhCZYyERTKDB66GyXYAhJCYb4KiQAkiVLptuC+XfZuwdO23PbD1jDmSbrlt+aTVtWCM6LtFkBV0A6IaNHtK2Jjw80YvYDnp3sOef+XC8EoFpk70IJg2y2N87D1fJ/IQdTS/uLNqi6ulro0GRUy/4yUFbcIrtl7VJ/d/niZS0pVlp7tzYZ+SqG+FPUFVyY6N+40+IAAEAASURBVM/4r7e+N1P6G6EpHHI1JEOAMdAvlJYGX3HYCrJ8zHIfeAeHeAvo0uSZjUX333+/f7t69apVSePT/0SXDIscsWgHDx207373u7ZN9VqyeLFronCAjDA73lzRhEa794XwcBNdoTdoItMQhEgmmaS9evWKPfnUk/baqzt8mZh8oC/o71LTVZteVqZViU2yW56TEgozLat/vEkjFPb4pgYGWo7tiQbdPFl1d8uma37dMvvgxz5tu16Zo+XiIqtbvEJsutPKn3nKps2cbRs33W1VU6e7FgAAutfxOD+eEQmFIv/L880cIkY2xGKuiBFNIQauuk0FSB5X1fNnTLeZs+c6PIq7WrU0Wmh3btpkPW2RoXWPDOvz8rUrU1COYCcFFyPsBAtQxJDMoEe7VHtadTKM2h+70OySD0JJeErdJjhrV3KhtILrlsh25FZra2+xUkmShUWcp9zgEEMgRBCJNIXCjQSV5I7wCQbWcdEcyB6KFdThzvqvgVQ/N6OQ0m/q9Aq7Y/Nt1tLYYu0tnTp3PZL+i0qK7NY71wp3MrvQLIBTU0IXQtFLmOyaQrRB2QygEdSy+zvkakgm2fkELs/q6upshrSBf/t3f2dntcHo9/7j7/nkTJ3fduzcYf/0T/9kVZVVll+s3ecNbbZl8ybXHEb+RzMpaHTiNDQ0qO71cno8x7Zv16YoPU+vqbEHHnhgdAocgVwni6YQUAUaZUm4pKRUm5iknJIJwrx587x/MPkI8diAUq2VzLB87B+G+WfSCIV52Aoq5EmrgqYwEhIRSrSDTO5TZs+aY3fd96AdP3bULl44Y5XaRTa1pMdqpk21mfMXetpiMf1OqQVcGPI30R+0hPyUe+Ltjb9NLruEmZ5vCBmiKgiCDGwhbuaaQgk0WtJk82SBBGyg0KlZ5st73rEjx09o92ybrV+30FYtrreq0kLb8e57dvzUSduydpkt1fKa9k6kws2uKUw3u3ZNIbNu4DtQkFaQs4+1iiybwk6rUI/0U020g/XE6TbB8ZytWlZj1VXdtv3Vt+2VPUdtVu0UW71yga1aOtvKS2JVoyY3rikcqJzc+2shoEE9CB+pPsBsXr9BcaacQm+PbAqVj2xA4Sk4pCZ0SAOIuFeEkSghei08i+No9t/e3CFBscgKJSwyydR/k0I9ijoUzUTRJszfMNAH7UjACQ1M8THwEgfvTTG/Ct/5lK4PhjT9ryOhKaSelP/WW2/Zt7/zXW1KzLcPfuiDEe3E9a1bVGdf/LdftDlzZ0upIGMl4b5RToYVaUga61/nkX5mk0JJWbELGQiGrVquPHvmzEgXM6L5TVRNYRh7GTMI0Cf9gSvCX3Fxsd19991OM9gWBv7k30VX+CwMJhEh7XABP2mEwnwZgHdJgAmaQgccu2fRyGjZrlvAn6YNEVOlEWyRt/Ddu+U2oqLWZ3jYztH5tcIf7bhVh+52TU6EQIQhBMJBhv7h4ierdMEIN8kouWes8bMsdS8K8+fAiCkAZsXABKHx60q4yEhbAcUJmsISLcnjRgMGieH8wffP2n/+2t9ZiTbo3Ld1je3e/5adu9BoK+rn68SOFjsg9zR1s+ZZ/cJSaciwn4tKuBk0hT5YhQqr2jCoJBxDx6ZFwB2KGNqmMGq/QGplHD4fnwCTX9htJ06dtR88tdMqqj9gDe8et//+9RftAw+vscXLFtpZbVrokmCxYvVcq66QTZCwmrIpjLKc9H+T+EgHjGuWKcFtAr/06XQhshyJvnVr5zC+JJVQONc7fkp38K137J13jziN9OcMLAmVlZXapq0bbdbcWtkOtViX+BO7zgnef/vUw19Pij8MhAPhhfcOITpLDJ8kjpN8byhgdSVWeoaKO9D3UB52hL/x737darUDlFMlqBO26PCLmdIgUlfYXIm6KW1o04ayCNMD5Xxj3i9ftswW1y+OhGnBtET8p6lRAqvXdjzU8Fo4JPnttV/H75sw4RmohtBSt+ii4WqDNclukMlDCKQlsMmEkBT6oDHMuGpqa/wbzyF+f77jETL4M2mEwi6tzRRqZp6nzSYwbV+2gbdoMO2QV/Durg4rqZANkIS9UmkJp8seyC52uToWST1fzD+/RAZcBNkOdbAECmPJixwxjwdNYVS56C+MCUJzBkWV+cGM1Pmjf9JmiPBoG8bQihwlhOEOFUR42BQGpkh02DUC0HvvH9eh8cX26F0P2ec//kHtuDxuR48ft9MXLtoV7ZQt6C4XjBHG83VcjxZI4+IiRfhQBY/999Bmt/UAlgjaCnTEtrY2KxZjpdMSGAqYvQ3WOQG9xxWCYvlYUw/oqtCXiSukmT6jpYHXXjxoM+dNswcfuk0mDdNs/ztF9uabR6xW76orESZVSjBKi7LM/RUE3HievhDf94jmgTMbAQA99A8DBo/eD/QuhEzsMvOFJ2wFtYagZOpLPeIH4qqHjp6w55/cLlrQEY9yOou8R7nsUqa8+XVzbPM9eoCJxwUGNzR+brLXONRk8lyDBkSMyhsd+JjDCTzqfYF+CFe8Y2LGu/64GwpiBY79oWIN/Z36vX/iffv2t75t0+QrDmfCX/7TP7VieAB8Ulf4wve+/323Ofzps8/YfffeZ9vu26bBPGZ+QxczajEQKJ7TRhk0US+99JLg2mUrVq7QuDdqRV5XxhNNU+h8KYYIp5O89Mor1iGN7Vq5mUluTPFxW3TuignF55kxJwiAZMHScfgePcdjOg9ZhEkjFCIWRfM1qF1sWECNllvVqY8ftfNnTtnKdXfIFqjW3ty1w175+TPsKbHSI09bWUWV1a1Y7doxhB/6ckmelk3zSrzjKzPlPdjQnwVGriMqhEJwQRACEdHAOzlJ5NDhw3bhwgWfzS5csFBGxZV2/tx5239gvy2RnQLLByHtkC2BOJU3mWO7RhkMdjDqmmnT5YKjXhtKpulFs9XPmWYLZ023fe+dtncOvWrnmk7oaLyVbqTvjN1LFUHH1/F+we7m5MlTdubcWZshzUDN9Bppl6u1g7TT3tYyEm3aJI/zBOA4lKYQMBKYtLhdYKAlra3PX1Rrd29ZaYfe2GdXLpy3xyQQVpSqo7c1GyfJHDx+3latWKB0egcCIvQLL1Geub+aVQsIgAPtzFX5+Dp06JCEtGLX4NTIforB8Nh7x+3ixQu2TJqTqZoMouUhFSsEgwXydZFOAyn3gL9D//K16WT1ulXyVlApHM73LMqKMFmRiYCYSnt7h7W3tmnzQbE4kXYgS4oUpVjKphB8EnkShsDD/AoMxGsQqt479p6dlOnJFOFngXZYTpfjXjQqr2gQxWPEVi2tlUgVFyZpQ4FOw+lQUTL6Tj1LJPRvvWer3XbbbXb06FEfsKm380e1gTphv/eTp39sn/r4Z3QixZ2+MpNRAaMcifqzMvTXf/UV+9gnPqnNMBJWEWjHaUiaSI3TKqatFsJaoO0+EQR/3reLxn/84x/b//XXf2kzqmvsd3/3d905NemS+CBuyCtoDHkX3iMkhvd4AxlOmDRCIcvEPRhuoYURC/YBW3cINcwyL126aOfPnnZnkCwfL125xpbULbArMhLn2zQNyrNm1FobGpl4macX4IiEYx/CLMEJJJY2WjT7wIHqV//2azperly2LXNtvRynbrvvPm1aaLPnn3/eNYYzZ8zwATIQ3KCtgVDFiGHG3UjO/oz2tdNWLF5q911p8KPtLlyWrzYZ3OOso37eLNt6xwarnVJjNZVT5b6m3e2rQjkjw6JDbqNzRav09E+ftu9/71+8gAWij8V1i93WY6EOIn/nnXds7953bKN2nqJJZRLCP2htoMCyPbPzwiLRJkcGyiYNDTTomza10u7aeoutXCWc3brI6hbNlIZL8aR9lM7b1q3Q0nFlmJjwXuV4UeE6UKmT4z2DMZMXrvv277cf/+hH9vIrL9vy5cvcjmrL5rt8ID937oy98MKLvgxz2623RUxYjHYQtDkAATVHDDpb8Tf0Cb2VfWHdkvnyHbbA8rUhqMf7Cvnpp75C6JLJRme7tJZMqpIFeZQ+bzz+ZPnDoCYQeIAXMck6cOCAfe1vvuYnOWCjd4f416ZNm62svMx++MMf2mUtua1bu85mzpqRMZgG65OZZuITY0UuKixwLRtawvfee8/WrFnjGxbBt+8wVhumT59u//Wv/h87e/6MHT5y1NbKl6HTSqaFjVI8eFq5Vsa+9rd/54cO/OTJJ+1Tn/60a2NHqcjryjaMcZlkAnwDjEmXTdpM8u8fJ5QXyglX4vEt+dw/7V6NHf/1v/wX2/nSa7Z8xXJ3PcOkFfyEkEzPe57Jl0kTzq3RFIb3Ic1wrpNGKMQAPBIKg+4gYsb5MoibIYHoTE2tHXn3TWu5eskqq6bYKmkN506r0HbvNtux/UUJPL3IYcDuxLBfg7OwIrijKeTvOAnUSQRDOH3mtL366nYrLi2xD3/kI17fTmlNwoy2QH7SkoREG4DMoAECZzDTr6BYy8haTgcmzL4L89ps87oVOsBbcNRyPcvxQKdYyxQrliySz65qK5dFPczeoRbXc9zAbpCGNzU1y9b0dde4fvSjH7WpNdW+SQl3FNVTqr1TdrRKiye4DOXVp7cYoKB/rinU0jM2hQKGICrBu0NLyHk2TdqRKZXlViGj8IIC0aHorry6TJtN6mQHK5MG0aJJc817J0I2OwyBwt7yJ+YdzQ+DNn1h965dEvxecGfCmzdvFtNtdTwe1cYy/IGBA2brqeB0OQAQee0bSpQKOsbdlbwaYK3r/Uf2ge06jQaH+D1swNLLbrnCam1usR71t6oqTZTUhzgLmeAsxO+ibCOBZYCy43gT6ZIc7GhX0IyAgmbBbJ8c4Dc2NNojH3jENbwd4l+HDh2U+425mti2uw14tjaC4Pt6Q5h0LJBLmm3btrlbml/8xV+UxjKaqIHjy3IlgsPyJfJjuP21V3yw3yhPDIQwYbneegw3/anTcnP13HMuxCJYoIX99Kc+7TQ83DxHOx0wHSzwPdAT95j58MPVTlhe5XuIQ16D53htaaQl71AWzyz1coU2oV/K4rtPchLXa3JTGhhAoSYWMySDzJs/z+UR8iF9COTNj7ybNQ7tfWevO61evHixVjkuqjzZFSq9uxQiz+sIk0YoZKBGgNH6TQwuNDSaiWoWzxFEi+WHcPfLP7Pnf/ojfz9XHuqLSsq1Utekwb9WZw9KAHDyiVTrzP57R14EnPERIAeYTWCsXSIuNoB8YNtD9qEPfcjrfEH2fWe0y+zo0SPy0djgmyUCgYvyMmpI/1iBfiWWeBYsqSIoXtVmCOAknY1grVNjtFznvtyUgfZxp5bMMip0jCN1SROK9/iNm+60xz/8uJaPZ/jS/MmTJ+294+/Z2bNn1Z6IPjKtKvZjHI0m/8e9NCQhD1uftrYuDSSHbOfOY1ZRWWqrV8+xFUvnyHap1N7df9xOHL+oZavVVj8fC3aVy46fXHAI+DKKiJJ+4BMQ3WP0jzC/fv16CYDaaXn2jCZNHCr/nrVKSMSRdN9+nB6X3kUU0Xu9NL2S/XTiEUwbgSay83lz1163YV66ol7L1o328pOvC0WNcmo9z+rqF2oAmG5FVTH77Yc2tykMHWoS4BP8EOBB/HgOkO/GdlvvOOLrYx/7mEw1pmrCednOyxQGHsaRmgzI2S4rRoL3yAD3rTelTNBS9sc++nHb88brVl9fHwmGyr5RGzf+9u/+xhYtrPMl5CtNl11ArNYOUgb5sQzwrVJteKJffP3rX5d2s8Buv229beDElesMf/zHf2x/8id/4htvyOrDH/6w++18++23fVl0uNmng5jTjAYb3LLQ7+HR9Pvj4slM4jkajs1A0BC+QwlhfIzmBn17/WB1oywCE0kE6TL5B0QQO3/+vJumHDlyxMugPAQ2nyDEGYLvkN5f6Zn2kOOChYvs0ccfs7vvvUfCXY3DiLYk04Q6n9eqJeXgnoby23TQxttv7xVdLbZVq+RPWXUMAmRc3bgGmV0mjVDYHxyRA+qIEXVqKl8zY5Zt2PqA1Whn7HuH3tHh5WI2Avb0GXNszW13CPGIMNHyEK4nfEBAABjjjt2/XalnCENENU8e9B9++CGfTTDbrqys8KUMHHITjh9/352WQkgQZyBS/zjQH7XZdyuzjM5OZSXCPxvL8BeuNNk/P/m0M3aImkDcQsGvQcvKRXml9oF777bVS3DRwPeok7H5ZLwHmM29996rwei0tUvYpuEsvdTX14kpXLAFWkKmOVGLsmsNy8LtEgIxGfQgfBw7dcm+/8TrLuttWL9Yu7gb7MLFq1r+XGgXLzXa8y/us0WLZ+mIrekqFMzFibmd5AEhASYaBA7wxgHyaMWhy2LZn+H9f6reNTY2+oBSKgYrjhr9YNhD9O2Ych3S9B9cCbGxSEem27t7dZyj9v9wtOPTP/yZnX3/iq3buFw2y1PsyKGjduncBVu+bpkmqr0sGJl+MqMuDJi+CVCTIsx0KtS/GMwZKMET/v6qJRjy83NftVTLjt8wYN5wshfeZ8lp9XFtpnv2Z8+4VjPYFEM/+JT7wz/4Q3ttxw4XHDDfQVhIabFveIV7CwR+mDFQ/3/zK79irbJzbWiMfJ/2xhreHedBIxjS3wgIbL/2a792XQLhYDUB1tjM81utpXmWU19/fY+dljaUiQTaNMwQEKR4JgR6y5ZhUxabQshv9uzZjuPXX39d5b3uO4SZpLASRx3QECdX4kIbAm8JYwWnlUxTvR568EGZRZTLLd4F51PEJy70zQ9BFM3nypUr3Qaad++/f8LLLpc5RRAKU20LBWZx7eVIWSS6GaNKXnEbHpGCqp9gvTBiGLk69zRtkqjZeJetvnWDXbpwVgNHiYSoKbqW+e5ksSnZD7GsJwRJMEwNwnpPjgHBYwmfZB1Y3mBQRJhBHY1BsddTbS3VcjIdBGfdlWIOyZl2Ajrpm6L0DH6RYK0SY5CSR2Nzq+14+y1fQp1TPccJ2gdMIaC5rUHG9QUyEG/2sTeJhmS90xc69m8RJpyhCEBJ1wgswcNY7757q+yeTvaxOUXUjuaD6euPXWaXloyR6QIOBF2H6ZUrV+2KHFc//vAd9ujm+RpUrtrrbx2TTdIpO3+lVT4io6OTIie4ykDL+EEuTF/a5HnrTBE61aDEPbN5BmiEeE6YcCFC7+kb69at04ah6cLhbO/bIloHFNrawUIUqzeGm6gIn1xLy4vtwnG5FTp+yt5755Rt+8gW23LXRmfo2y/ukmb5pI69m2/VtVWqo3ISf2KZmUC/DXWI3kyev84r1H5fmhUe8JBQXFziQiGdgj4Ydg4zID/+2GN2VYIMAg6Dp+M9A3AN1iczSJ6KQplMLthljonCL/3S/6hqRhNyItEONjOxEeactEnFctUVguM5PIzBddWqVVZXV+d9hN34lVVFbqeZKQwHqzI2lJwF/Ud/9EceDfz81m/91mBJMvqWbpwIeKdvY2qAIAg/ZrWKs6c5WvCCtGt8Q7vMxML3BQhPw2kraeAnCHKUBS9BUEMA3Lp1q/MYNrQhoNbX1zvNEod01JXg5fIseub+nFaZCNAKcUKeIQ3CIJMfBE1c05w8fdJ27H5VJint9tOnfqrJrfwpz5wV8bU4f/pKXJznnemfSSMUoslyJo9mS8yFewbhMJMBevBmxKZieQ+vlcYQ7ZZkH421Qp6W+IJzSITKQmm2egcF9IY8pSPZTFFx/fFUzVRwYhMhtusAdna+8WMHcqkE3anVU6UtnKr2FWvzwiK3fwAW3rmUJhBuKrP+N4KVMzSHS+/AidA5XTsu/6dPfVI+98RkKmYJKhFsCqRFaZfQ0t7RbLWKQydC0RhCD3Zx4zywmwttRaMGIewIz507pzZWakd3jR9jhW1qrZYFg3BHc6L2Jxp6TRtZKoO+ODINYYD/YlbarFAtre7KudVWpU0o+bLDnDWrwrZWLZFT8HZ748BJLWEg8LDkGVMixYAbx881BU26F4G5YvsK/XO8GMt82BMWFxf5shmOYKskGK7UABkxbvV3B6Mw57xiYLABboR+/op7uON28igsNdtw13o7LGHwhHaqV2mz1fJVS73M9i7ZHMmvYbs0DZ3a6JWXr+WsWEvuyt64bHKdbCEaxBgQI15E+7uFu1at2IRzX9klXq1BsVoa3gppRpjYBpsxaF8dIiOwRXjLKOrAkehn+opW6AVt2PvMZz5r3/rnb9lnP/OZVBpWEA7Iw0PQFuFSpVZaz9W33JKKM1Y3wLtMQgaKA4eartjCjVT4zd/8TfvKV77ife+LX/yi28pdb95B8x/yQWgKP5bBEQZ/Lhc7tK1Kx0giKJ04cdw9RkBDTAwRCH2sU3sxT3C6CRkOcQ1lIeTW19f77vcnfviEnzpF3g06MpexgQ1HjAeEINhRJvXi2QNw1z0Km7MaS9CGI/RhJ0sI8bgy1uzXZrkVK1a4dnKaxvA333rTTp867fVg9ztCaehDIa1nlOWfSSMURkKSiEHCHWwfZhMtufVCjKEVYPoOUBFOl6RElorz5XKgkPEapLqbikgl3ptSadStMmNHvalG+k7Vizq4BiZvhwgQBlquZbEGzTKa9WP2wuwGLR8z8OXLVxg7jxFFPJDJUAEYKW8G22SbgU+lTi7ZtKpOgpHgzPK650vHZbeUdkeZljrl8zGPn0MtKm/8i4Rm5eqwqO1bNWvDlunEiRMOz0OHDznE0BgsW7qstzM7TdDKgWEKHfoubkVp7ezQJhyyEp0JPvPlg/ADW1do2V2bIi5228yaIp1sUqhNJ1X2yNbVNk+7k2trKxQ9yr8HyRJJW3DPBI1e6Yn8R0DwGbeEsLq6Oj8XtEVa6nPnzjvesKlisIYZozVBa+h8Qumg68E0OXwH6tHUkLuoz/EGvjF/wRybMXumNVxqsKWL61x70NbdJg16pzYHybfk1Cor06BFJuRFSGkK1b8mIwLBFQbzCE5hYlWmFY2F6ldonpo0IWMZ8LCEsDz9EAbBG+e9CtECfeYmKPCq6w3kAI2Q15q1a+34+8ftmaef0maNT7kfTPJ/d/879q1vfstmzZntfKFZbdi8ReYzt8jFmeo7GI1db/2GSg+8CQHWQ8XP9nvQFv7FX/zFiGgJ09XVx2TgqD5De6CHqxLMXt+9WxssX3VPEYx1y5Ytd7tGTHyCwMQyb1BuZNo2yuOH8IzdINrJF198yZ598Sl5N7jg9vtzJRwyWbnzzju9LMoLwhp19DwoUO+xU0fg4ySZRVLQsHLnq3riS6QhPlcCdD5dq5mdHZ0yQVjiYzeKCrSW2NnSNxCMfey/DvoeUaEQ40t+qEBdDarGYBBMw6LdmUMP/QAsNMqZpQCX7Dz97wFsZiFi2uGYO5huOrZAbszYmZHk6waiaTh/2h3OYn/EZgnXqrnAE0pmEHEWEV6M6dVhFM/4IF4IDYPXDgmILH8yYzp16pQLh3QMTlfAb6FvnhHOMjrmTnBB2+rH3CFgxyHCGfaX6qQSqEXW+teljRSSdgTTwnydYiLYdXQLjj6kRvjrL2aH/MbTFTpGwObXKcEMhgC9Y2SMOwpmiBj+0rlpFRQ2lPNqZemB+MVahsbTHWuJaPvKdE7u0iUzrEkO10uLMQWQYM1OVxmfrVw222qnV2nZs0JMQ2ftiG/k5bcqrXKiT9wEmldVdlRDGHBZ6i8QT2IWjlZwSlW1Nbc0yW7nopZxj/sGIewJly5Z6huhAB88iN9AIfR2tLwe9CJER9MF9kt12k/pzKk2bYZOIhDNw1PYZbhoeZ1cOfVYiZaYe1cfSKGgpN5/Q2ae+cT+E0wxGPxY2ieAO+CAsAfvwrdklbTy2IXiK5QNcmhj3n33XV9Wq6+rd9hmCilMgK47CJ+MV/T33RJCnnjiCfvSb/97r6vXXQXcLbdHW7dsdbyG8iLFQi/PDO8n4hVtITwxaM2ut439NYXkF/oqEzzKwmXRnNlztKy/wI5q8sDmEnyQrliOU+7IwTNpImGLDpd5rQJPIC3CGILatm33aem9QhtNjmg8aHWbRuiRyWYQ6FwATfRp6IbQIQFv7969duXqZR9XQv7EZ2whPXWGd6HMef6F57XSgflVnpaR5VNV/YN4bKaZK/tlTtWhXiEMh8xHTChE0EAyR3syY+YMOdVd5erNnTt3SK251I2Fb5HKnBMfnFnT4fuFIBD2e33NY+hwgel7OjHiANBrEuhFoU576NDgGo65C7ycuJ7O+bhEOy3vwMARjPA119bSaN/6+tds7qJ6q1sw35avuU1jttrAunIcEAnp9fwdy4Cwmpz1BcYKvHDIW6Ifwjo2CWi1oqW0lkgIFI2GNmV1zJ0M5fN1LAno5PxijquL4MFSvKu9JPrpfFfVjW7AEj29MBo3eyEWxRxL6A1ettMYUdQJaWyRlh8xDBbxuBPrJYuXaHMSR0Spderw0BT/hnJeLR8lcm/U6vBwOhR8gB9av3wJ22Ul+RIIo1NzOFpRwHRtdZl20s+fU+k46+6SBtYB6MDVYKprL2i9TpPtD2cM5yd4TOgLwLi8olwO6cukfarRrr+F3g/cjCTgTbBDW9XlG6HSQw7wAu2kEQkTIYLEGb/2CCk9ciGkXqc3aMqZFMmtUJmW/T2O+oXMBDrycEMU8xNQB40p7mQM4CcIibTf+YZwAWTpc/zYfMIy4Xxpfa5q3IFPZxuSwni2aUP8QFPUcb1s19gQk6w7bQHnaKpYDUiNWxGZRHgOmU2QK2MKJjZsxAhCzWe0nI6NHWMPwg0aeYS3oQKw6x+S8OVbgHEQnvAAsUObei7IzKBF7ozY1IPcwdIum8vo5whZBO4DTvxFBn8oB4GNumGOQruOya3VBWnpyspK7JZVK933KYIodSN+0PaFcikmJgFfscC/7ZzZc10LiMkKgm9IR1zKQpkD3Hbt3mXntNEROaq4FDtanaSFGYr+hZ3VpCH9cMOICIVUAKEQQgAJLFF+9WtflQ3bIRkCP+5SOluokWIRRgYKAAoAAExCn/tEI51peozEn2vpJ/ERJi9bH83c2+UvDLZNQNPlwPOChSgt7Vy9csk1axVTpkmI6rEWEc68usW2TCeaVGowaRKhTZH/Qp1g6XnwBwYfMfmA6tSnG3oTZlEBPhB8uBcw6UEOW2qZL8LGngriQgUNHDA2Js2QmkKld62iBi8c8LqhfNx0FoiDMNjbeMFHxKthOoVblo/RIKpbejQEyvEeoEfg6PTJlcFbgc5eVi7hWM8sIeHvi2OuMtEUmpbVOdGivV3td5cy5A9UwkCHv6sIMv6Ze/265JdQIoW79JEuWPXihJ2oO0c2M1GayfqXo9AI4IhlRqDpeAvvvTvk+eAE3lh6wXYNf56CuA/uAe6eUb8/UC0lRJpC3eVzFKYGAeJJ0OvWs442URw4g4RABEQ9d+NPUp8KJBz6xEhJ5aTJcUlSMvV+O1jhHnFi/oEPIZDTp7x/hf6WgEcQAhEO8XiAEMJEtojt3hkGcD4SIfAAaMttguNMk+9DOeFdeJ5IVzRV9CGWPtMFBLCghLh06ZJrs1heTgoy6dL1fwdtJIPzZL1Am4z88eKLL9r27fLLKwH0cnODHf3BIR06Mcs++/nP2kMPPeTjHDQG/sGZ7zOgI2cYKI/0/F7f87p999vfdSER1z779+231rwm+9zHf0GHQ9wfmTXE+ZIuSXPhHu0fshNLzew67uzUqg/1ivlWqBaCKEvjaKWBH8+sVBXKH1aHFFlsoKE93qbrpO0REQppMD/W2NkRtmPnTtuzZ4/V19fL83zkqJOdPxAFYUDpnEbFUKBxjgAREyF0KNJyRBTfi7SZIfU+rkOc/JoLtoGElKZQ95EaX++UFoEIY/S3ZLzZLgfEK1evs+lS/xaIc991z/0yyC1RJaLadQtxOuI0FTSM67637qkPY3wDbDB8fe89nT8sNTodk85DewkMluxqgtg4GD0Q6pCawrhdZIOg7YOhLyHLRsKH3zhC4gKE2OzT3CqVuBhHhXYhg78Idhokg5V9Is14uoXeEJ7xs8VSMSp6GCDMJwQYI8EnPmjE9Q+YBniHeMlrTN5WWCxgugtN6F4DVugIicjkE6NOdRFudVxaS3OnTZ+qJTZpUHq0JG+ayLitZ9A8JdJPtlvoPwhYR7XUeOTwYe/j9AG0GFwJ4A1c4r+Q2XiBcJcC9ABAAz30opRNIYIgAp/eIhDmCxfdCIUSBvN07dIPpOb3yFm8BJiGJrlnUjl4OOhROqXSdwVl6jwtIDp6Oyn+Bv4TGgu9w6NOnz6lc751hKR4P4G+GJbXrly5rPsie/TRR33pP6Qd6jqYFniotLnvvRCgHyHYIJBlE+hvCDL0PWSGJB8dLJ/+msIQF7+jZ06fkT/XCm34+YwLZGjykEPwIYu7mOXLl1tdXZ3TlE8UNaHwbkZHzjAEGmUnMHz2kUcfcftB3p/VyUh7337Hx9tnnnnGPvqRj/qqRBBCuSLUJmUb6ogdID/Xiif6fSiLqjF2kw5NK3HpG/QBQqncvJVof0CynNBXpIvJOoyIUEjlkVpR23JsGkvIG3X+K1pDjli7Iq/uU3RKCG4f1C5HRDrkurCoCDQeYvMdnmfPuTQPAw+arN1C8BwR0rZt26RlSTN6pgFDnm8wEUPpSWgKVW+3+VIelM2xSdS5RcuALU0iqGOHrbmxQb7glskH3ULLK+b0CCioQDtpNduQdsZ0kgG6AH56SFPy2L7C9xRCDHih80EsDEBosbrkMblA2lJmHyEEITs8D3UNNNypdeEiCSRpg+DbqcHw+LkGe+Pdtz3KumWLbeEMuQZAGFKIlpX9dtz+QYB+dccue1MzROw3goDdKTvAQh0819B41Wpn1kh7FGkhgDHwhp4HCuJLjgvg2Cr7kgr5K8xDoINe0Ty5sB2lzhd8XeOaV24Hj7xvzz71ls2cX20b1tb7ppSYxCON4wCoGKgeE/U99Jwv4O7TEs0zzz4rVzGyS6uOHAd7P9BkpKWx1bXmMN7AoGDegbbTwQbwglU0hSEeumG0hCwFIxASwrWgW0K7cNsmm6P9bx10X4UzZ8+wZcuXWPV0bTgpknYyyIVD0IxnPAH/hEEtjA1h8DylHdyMLfmCUZmO6sS2lj5WIC0JRvqsQCHkZcO74Hu5cH0QQDDCNj0IIMPJDWES21Bs89jRO1TorykkPnTCOM5kq7ZGp4JoqZi8WEpGUfXZz37WTdt2SlmFnIKGMvBkjmbNxpSAdMg7CGXYt7KsS35nz5zVBpAu2yaZBNkFW1dOS1qrDUgBPqSFtl0w1BUlFDBkRzHmEKk6KW/yTwa+hR/CYPI795hVhBD6UXjO9joiQiGVxc3JXDnmxInnLatv0U6fj/huse99/wcOFBxKoip2eyfVciDkemOVHwPwyy+/bE/qLMbO1iYrq9SJIrFa5dyVC/aQtHf3b7s/4/Zy0kCXnAMjxKl0TxeQRZn8Q/0/a858LfMUWGvjZXtXWqHnn/y2zZi/1H7tS/+72+R1ytknKp0SGH+etESeluFhfGgKWUIOwjWNxH4Qw1vU09jA+RJzPKJhEI8vPGYTYVbiaUmYQaDVXXKLguBSJOlGbFmsOuj+5M1fWsEi8V5mMbKr1+7nS8Jru82tlRNhDXyXGtu0Wzkifp3mNs4DGwdKbdu9W+2eu7e4NhBND7SPjzJcG3DO9AltNpEU4m2hSZnYFHZposJSYplrqKSFTqMpbJXZAxtMKDNfgjRHHaHpXjhvurSscmraKFdKVXJlwDqpBsgk0xjngB216gVaBkdr5Ytwphgvkz4GDGeceo+tFw57ES7wa+bLznrvy5e6DhqwnxUOmBsiIUL/LBmjJUQwxF6wU5uAOjXwlMt9AZuEWO+/oh3J3R3RJPTChUtWzJZzzTf5TJhsmsKot/TyIHgDWhMCy8PLteMf+0E2K+LnD34DfFlpuCz+xcYTlu+yCWGVKJs0ubi9EECYYff+SPAZ+iJ5IT8MJRiGcaq3Juo30IvGbiYH+/fv0/nmL/m7kydO2ZYtW9yenjGQlcqTOnIQBRVCFGN+gTb3ZbPpiLLgDRWxKdnPnvu5+LK5TWFbS5t9/hc+774REdwQSokP/wmBekLbvAkrFAiEuIojmoZvD64A0wMaTdJTJpNW8iPwLpkv7wIcwj3X4YQREQopmF11MF62YsPUOrS0Rcs/+OgH/NtUbaVOIjR5HyqeIjA1HIkedS/M+opUrNiPBCDMnTPX1t26TppDtCmCov6nA1LIl2uXmHGh3KW0abOJV4y/Gokp09NKnGltbbG3dr0itfYp67py2s7o9IjFq263Vbdqa7lmpa5VFBGxGaVdGwTGo6YwMNMeiE9t5Fg53/klGEW7IvUyEaazo1pMlm/gDcPVTDsJ9FuojRD5rdIEilZZAk5tNhFcX9y5x8tfWldnVeUlVjdPO2blx69YzLy8SOb3sp3rVLmQeSSmJyo27m7VMUVv9WoLgjWdlF/oxd1qBztbly5Z4stZvKeTOs2oI6Ro+5p2RTaFKATdMbq+S38tAQLpTvdolyRRv7bnqAveCxbNsCllbbakbo4tnFsrzYks0qSFstKYrtXnNLvxtJP9T9AcAXsY74wZtRIyJFQLV8nAZBX7Wt7CCxAmnZn3i5dM4/fS5OZpRECDpe300uLC7NWHEAylGe8pFH03dNme3W9LkzvbqqqnaBd0vgaNddapc62LtbscRl9cEuE6WFA4T7qmsIn7Igx0YVALPMzxJ1xMUb+C/zNmRBo+wVs4JeCvDbdbAW8B50NBC7zlwvAggCYMDeHAPC37fMmLPNHsDbaUHGglWUIY+zH9WLZ8ma9UHj/+vq+MYRqFMEjfRjZxIUv9mvLCL5lXJvfR0nOh3I8tsUatgr4jrWB5WbmtXbPWx1q+10yv8Qk8ZTBOUG/uQ/25YhsITaNxdKFP7wJv6tTyuq9cqEK0L6QjfrinruRJII7nIX5CnPBeoqJ/z+bPyAiFqtfly1dt567XtKuv3GbPnGO7du20t95+U1J0gRiutFU6T3GLDqIPdjxdAlz/EAklEbJQsyLdM7Nnhw+qVneBoiU2Zik03IMz8Whn3+BqYCEF6dFVKRGgHHARTH020SFHzyffP2Ynjx+zxSvW2gcfuE12hTPkBHOKjDkjPtTTjVZH7iQk0HTnySbJkSIiE9lBeOMl5InABCSoxWcmaesVE5QzWsXztggevQSVNlWfl3nSkJGONGhKEAyBD/+mCW6cu3xRhrT7Dp23dmlZ58geYpVOcmD3bJecWQe9YjQs9sl6XD7g3sfhFNcuwCrQozM0YEnQFWEPTSydNl2ITV0FByn4pHUqksoU20vvzNJi4VqmR/4LZ8j9TLO056fPNtqb5+QPSxsV6ut0As/UEm2MohAZHKMF1y2UmOngmK5OE+VdSlOofhDZ34jdQfMJXCDgI4SwOx9cBh7k+AIpAwQwxGe4SnQHI45MU0iLr1M+wbOqplQId+3WevqSnTymExWmlmnZX+epT5MdkVDcqT7k/Scmkahs8p1cIfShgJPQenDjAx0vAAtwAsYMooKvC+PxM1EyCWHFKpO4uTh9IYANYVIw6ft1+E/kSd4IhgTvR/TXRAgThsQrv6X/8JtaPc3qNTEv0arOee1AxrYPoQv/hCzloolE2CIuwQWvuN/5iyH+OB3GZSEILlpUZy3iy++ffN/N3Z78yU+8/gt1lvGChQu8nFBWKmvRKgLhYW3EZTJK/ZwnqUrJuNyHPkFa5wu6pnsX8g7fQlzFDp887973qdfX3IyIUIgAwCHNL770kpx4yqmulmAxoLx86YpLr6fkdZvB8jZp94JQeE1NeAGi9POKC3AIjswevvGNb9hRbZRgieDK5StOkJ/73Od8g0SUj7Dq//tjt5egHJmsYSYkZ8oJSOiS9g//cxvvvt8HkKnTZ0joE6NXisvnz2iJp8qKtAWc5SZ2zQZhJiq/71P07ib4q/Y7rAVzjgPTQ8xv+8Nx4LZ0SWNK6yNGDgHqSetpvFu+aL58sU2VtveUvbz7Tfves8/Yyro6++1//QWbMqdGHVLSUhx678KbcXwVnPoEngVDaCnAk+/+zE2/6LwKIa9QsJNZA1mUYDjcwykX0lQpUR4CoQTn0uJuW64zjhtbu+zQ0dPqC2ftxz94wz7wodX2qY9ttdkzyhSvd5IVDXi9tB/KmmzXtIJxAneOH+HMgS/gpHCnd84vmPAMEIAuaI17jO6iJSyWNXEnxD8EQ82JbdXa5XJiLafZpy7aa8++YQePHbK7Hlxrn/3Cx620UhtNlDqFLScles/kDWkHfuEtHUwQDB2PQUmQIdgSZJBhilw0IMCSZ7abSrKBHHlTxkC7ksF1ukDfxakzTqt/8sxT1tLQYtNmTrfWq832ZsObVl6pnbrirxx7533b84Ffk1v6PNOVwzs0cmyU2Xdgnz391NMufJbJT2GBePXxY8d9oy2ni2DLyJI4cak35Ud8pVteKt6XAHxGAuQiX01TBC8uNA/eRVznSQNVJH7v9B8TdDJ+8p6o6fpPuqxHRCiMltPy7e677nafQBhf3nXXXcbB4BVS6b4vVe6Ro0dcOq6Wur9/ZUPFAmqSjUSSvueee9wmDsESjSGGqb4DR2oYloDRECbThPwiMMS5CiLE6fMuFBgSKA6IOHxwv84+xi6hRy5spHpWGXduuc9mzVtEJooTEoSrBoA45/DmpriqLdTbGSv1h7D8XX/A9G1NkrgcpkpTqNEvpJLVhYbIAvvZ9p12ueWyHAV3WOOVDrvvzg22egk2XTp/VrCNRO4oVTLPvqXd+Kds60J8h4MmDH5skp6BJe8BqffXAJxrmgPt6J/MGyJsRBFIk+8ChkwxtIP1pVf32f7DZ61BLpEarzbZpruW2YbblsiPIV2YzPXDllH/KTcXBodAxAsiPIEgtBT8EEjAnUjaoTpYLoqiwF8i44xJ7iQirEvBiy2RbD1lrvLqs6/apYZL2tDSZlULCmzrsjtsze0rZBuqJWalhlKif1FWkwJ/ABgiTwRwEsE+uiY+pb31uPoC7JhU9hcm++beNwvgngvZQwC3M6MdKGMgoRCce+eMK+HPuqfvXrqs5Vhpjh996BHf/IGNMM6hETLJE9kBTSQbLqN02INrMM+CGKBRfgivLKPfKkVXba2ON5U9IwovlGHsqsbNDKZvbKChDOoXeE67TOvYRIs8gxyT6gdqGnExxWOXcTi3fSh4h35DPO8T9C2FItnfullY6Gfh6l8H/jMiQiFIQnpeojV7AI5xMGv5DnCVjYE+O3GaZByfbMBA1QqIx6ieI9jWrFnjtgDEZwMK2kOAzpFRhfJNlSSMAPhr8pYQUiA7NqmnrvkEVeRJqGmTxubN13faAe2QXSBn1RXyoI9xf6t2I3dqaRkTIw0bOqS9XWwolgxjIs1juUhvb2TwElV+TAN9Sg/EQY2SNO81jImDw+bfePNNGcSeMZwv19fVufG2b45QpkkacrzROMoTLCkMeBTIfi2vk3dRyzlGUIvIQNROapmzvavBVsgEYNnmRZo1zZRfuFK56cBTu2ZPZOJLpYhDulfovYueo1xH92+AlZei9iXNEJyeUgCO66TnAHvS0HS+cOD9bplNsFSB2QMzQ+IBr2Q+TKIokx/MokAwY7NJoB8/rk705DBVX2rV0uNxLT3ij2r97YtsxtQKLU3MlW2h3JsIh2x28BAjISorejWh/8Z4oI2OmYAnPbvmGjjrPtB/HzyHNMJBgxg5Hg2a1c/Xrl3nng0cvwwY/QKw7VEaJjQxNcQxmOREAW0hvUA9xLUEZ85oE8vMSluiHffzFul81hmz5ZxQzvRlFuAb7rwPRIINOVAGvNPxqGfqPdGCt4l2gSNd0zaRbzEOgIWn0dVxA5z026td5Qc1iZ8/j+XBNRpoIzdDwCvuFdxeEyYeRK9p4oi/wDYPrddoB8qgLE4ZSgZowHkn6ndt3uKZXxC6omVh8x3BCFsIXdBM2FiGkObCGeOXOisCJDSUNihfgtNcHIGyQuA9m5Xg8dWyFUZ5RT1KSoodRgiiCI2hjiEf+nuDTi85LsXWImkJXSgk0zjvoE0sltnVcALlhHr6qqbMkTC/yCaMjFAIgNQoGoqxPQ1NztpOnop2KVUKcAE46Srp35RXCDSOgfYHP/iBS98IiQiFp+XRG8NxhgIfVEUkzBYDAgKAI/YR5wbQHfC9iHW+7Y+UCYOStkBCY339Ett6/8OyBYq8kp89fVICpfwA6TtZFGoQ97x5EJI9kE9v1aN3o/nX20KZFJqG/fFedevWlSPTQmBA82dd8fi+/eVXHJ70jrma1QBjArBMuTghvX6ei67AgRkIeScDtoQsuUtKkdJKs6hVi2yx7EPm6VDyIjZMSOPVop3kOuNLO22x7mTJmlyFu5CRCzbk2zfv8Hmkr6EDRbRBsTJbAKc0mX/eXh7iQYk2657A3xQ96/3BA/v9qKtHHolmqjM0g6QVnk+cF/EjQVBfxETIjpDccRzJyXxwqlacLrt97SIZ1FfIXrfK7XRbtLPnwoVGHa9U7Du80WZ7XaJKeTs84wn6B+02PAfbY+/3QEvA5B8Qd7CCO97F+HJgx/cIG+RBGg6jf0mmLwwqNcIZG7OY5Do8lRv4ciETZCk978GpuEFcXgRkPoOzCN+6VdyyilK774Obxa80IarUYfdyEcV5p21XNMmURqCwTImYp4I3xY8oi2z0HjokRBlH9xPlL22ivfoF7SxN8/6obw5jffMQX/0bcfiuK3h5Sc6KX3zpBfvAw49YfX29ToVIP5iGtAGn4TkqIPc3EwjgJDzbwPIpsEaRk02gLHbkhuD4iunAu4NIAxrgPf2W/srmDpaQn3rqKX+HMIiQhYDZrLPq77lnqy/nBtpy5QZdTBmSdR+aiMuiEDZfhhDSoslD6HzxxRfkLPtVF0Qj2uqRVvKSBNoKKcZucTpGyGVcJX/q7PsjJLPMnsO4KBFM78M3FGpqDGq+UOR1XVntTO0ZyDCnEREKYcxTJPCdOHnC9h981+64/U6rW1TnJwTgPHLnrh22fNkKndU63avVB/iDVBQXNCAczQtCIPcggmf8BoJwGEN0jJAkYgkksAtnJY5UmIuYt3DKO3zhoR2TWBeV6hEjYmDOgDuKysoq2793j/3o+9/StnW2iee5qvj+hx9TGmdFWhqinMiZJIMxgeLIzucePEC5mVw9dfwn0zRxvDCLjuoVMUlySg14qmcYWAIxe0mkV2CmhPHtxo136mjCSI0NboBpCPh+KpBtW8jTiVfp3RWH4uGShs6FQEg9OKaH4ZLNEjO12/OnO16201flXLPjjO+irVRnelguXVYsqLV27dhk0kaIasRdlA818M0yvApw4T6E8C7Ta0jHNU5DmxwuakfUodnsIbzyT3hl5sd7Bi2vJvAkuf+J8cu9YMb3WYIhAiFacmgV2JFHyIdygV+hdrB7JqSL2++MIAYGNMQsD40huKiUYFGiHdtPPbNHLjg491I+DZt6rKa6zO5/ZI0tXSD7V2kRKRN/d04XZOz560oCnjO90qYQMk0T4oV0XMO7TK9DpfUsIxiClyDsBdwB2wgTFC3Y6dlxFfLlWe89HvcxPhk87r77bndJM316rcMcZk1a5jghjfcBzwMqjfPxvD2mqF5XaQnz8FUop4MYUWi/rNwUnbKfPfmC9xOdhmyt0p5zsP3mbRttRoVsa93NVVQOoCKEfhbu0+LPY8Z/SKi6ZQzzMUzr+Iob6niK+Y2/V71coaDv/qw2qVWpEEFaj56+xzXyKBvu1EZGNoEBN/+miIxLqZDKJ8ot8O3U99zNkBAYji0hXkSS48mQhcQRkmWFfup4hccp+Kk2MY2Ac8rAzQwO6Lni4oalXHgvsgO+C7EnRHh0PhmXk5/0heakoT9KA505LUFO8Rgf6JMrP/wLIhwe1X4HlqXRDPKMj2aOz5w3b66vcAb+T9nEYZVz9mwd0zh/fqStpFzlR7yRDfA4sqY1mYcREQopjh00d264U7t9fmpf/s9/4irUlqtt3uhPfepTdpeYLgTijEvxMwEAzGGukIna9+mnn3Zgco4hwJyp85XJK2pu/BdtSUCgAAwC2FGMcAdCkJr5Edgu4sKk4keMJCK0EtWxUcvc+UWl+pVYs7acM7Pv0lIPEEb4KZQmjAGH5R92fcK2HJ96R52CNs6FRxHrNVe1iwEtzHipj9NFeMcVwhwkLWm84yivYnn0JyRh6gOY0ocO5W0kkvL2oHTgY9PmTb7cT6dyYle5UXsiAg3uadCqIFCDE3w7eb66z8f9iezhwIAfVUe9Bac8wfmNdw/pd8A23HK7jGkXuFNwz0+RWa4vzNcystLxo1YIUXIYosFT3/2t3quM64XVNXBWWclAu9nRXiwzB3yfMbPDrQAnJfiRf/oO3NAiA2N8LXJSTIkYQJl+TE7YTcbGGYRsGJDbgwDLAG8V6PDVtb2jzVpbWp2BuFsl+b3Ml5lCngyVCVxosyjTy2tv67Q9+07YhcsNNnf2VE2MCu38+Rbt5hb8EMrzOxQXF0ksEwh7TuOk1i/OKwVH8DMIXV0DK9VjvKQFNgGe1AlcOK6EF0xUeO72SR8x4/6g+qP5ZQYOjeHqIfJNJj+a0kbQhxAKN8szAjwiaA/BVbAPDW4ihEAfUNrlf7O0TBpa0YdK1L92TRFFGxQqHHQjGHKrfkD+b+16R8fnFVrdknr1gVb5RcyzkorIGT+Vol5OYrpiFuoBulF7PCTxpYgj3h9uJI5plwJ4DAN/tPkw6ivgEHxxpc95XP1xkxZBCr7LTPLipYsaiE/5QM85urjeimJ75qIDUX8MPs9EGGEsYELmO5YBeC5kBQHG0xsVKAtUgyvGHVYI2QjqfVQf6KcE+im0Aj0h7HGuOcIfcgLfkB0OHTzk8kmZdgtz8kmheHyUGJ1JRDVODvBK3UCX5OfnM2Oa40s3xI3K5Bv3KKjYULJg/gLx9HavG34SGTdmSxBl7Ah1Iz6TllZpLM9r9RPFFqsSlB8mQVGlRvKveEVM5tSZtmUSRkwoZGCsr6+3bdse8OWY3bt2OYJwmvzggw/afKmRkyEAOPmu/z0EwGDNeYb7BGwYw4EDB3x5mkaydd2FH90TiE89nKHoGabPiSpsfGGwLhRy3eakDUYeM+6YKLjgMHKubFPue+hRFw7Iu1JOs8mnpFznHUtoydPMolP5gEicMhfJhqAgPnPTYa4/DvpwVR7+3P8avnvNRYxcw7tw7Z8mPOs7jJOjA8+dO2urblntTqrTIh3YkJ9+XJMBOPFr10DJGcjJ9JwWUCThg1kXgU558NAhOU1uck0YsO5S2ijviH8jMFNEvhz2soRcLFhtXnOHPbbtXjHjLmvS7tlLVy6qc5e6AIVgHjVcLn5kFFtSLHvD5MxN5faBi9ek3zvaxvsAm/7X8D2ZlvskLHRP26C1ddCJYOFaaBf+0fZEowudHG34G2+8YUeOHHE6ZLa4YuVKp7133n3HB6Z58+YLbnKyKyYFnUK3CBABvpe1g/6tt95yYWSN7KCKNPlol11mi/BQod3IfjSaGhVVUeelaEmkorTINm5YbqtXL3EHvs0Nl+3EsfNywaAd8fJ6HPGtSLAv0uYTcEd6h45u+sCxP4zCc4iXhFV4F64hbv9r+D6KaeOs+1wuYw8oXoPJypIlizXRkcuJzmjShuYf+IPLyLj7uG9SWyl8IfC98OJL8pBwyc9mx/0Vjt4jThIVQVqWfYrVx8mDwFLUjp07XCtcV7dE/EfCSIfgLdpoV549WupnXopADvThc7PmzbR1t91iC+oW+IkmrU2tmmxqEqI+5BhSPTskaHJEIbTX3wYIPuT4C9cbAOs+5Y1kuao7gb/79+93jQ424zXS0MKLov6irzHfQohneZ9TmfgGPJmw4Rj48JFD8mhxu9XX1fvgjIE+ARyiASpWvwoBkxeOqGQZcaU38jfaAABAAElEQVQ0+RXajZoL2UEgkzGbHF2YirMGp/C95Dv60FCBshAICeeE61dffdW1b+vWrNNYEpmRhTzIn/jY8UVj4jnvr4xRLFu/feAdm/XODF+2XbZsmW8KIS18GXKkb+M6jboSoLUj0v6tl3DJKWzYzRMoB8GTfJmM7nt3nx/WkSfTqALVqUg/+DpC5aFDh23durW+HyLQLYIsYy3tZ2WV1Qi+8Qtjgxc0Gn8oJ27DUNmPmFDIAIh0P2fObPvlf/3LduT+B7yxMGtmgq36VqqBkgCTi7rv4NWj8x8+fNjPI/33v/3bWnKpdaaKYMhReq5+jRkJiHh779s+MwBp/GAa//gP37CrTY225e677MOPf9julGrXGTE1cAYe7wzS2nK+BKGp02rsiAyXd21/XkJCo82Tf7jNj37GqmtqxW0UV+1EIGTjyd639tkpbStnxhAIihaBZJ6dsAe6Ko/kABQgkUla2gZz+9ETP7Tnn33Olq5cbh//5Cfs3nvvjbSxcWbAGVU1zJCzH0MdufJD0OPK0tkqDZRu9yDChUDfk69GYM89neaqNGM/0zFhr770qq1ac4ttVVmP3rPRZip9CGgKiyRIwZYRQ6Zo99ezu16whu90aHIvbasmWpUVhbZp/Qqbo80SBFJf6ci3Y2+97QM0mrN0cEvXaRhY3NZLdUiXhrbxPpO03/nOd2znK6/aijvW2r2b7rbHHnvMbVTABwFYAvPvfOufbKdguWZNdHwRTIidbRs23OHMYOerr9hjH/qQ6E8tE+woG5tahEjqAq1Avz/+8Y/t+OGjtu3+e2zT3fdocLvFVtZKAJdAzTF33TLozJftJelL5Q6pWML5ru2HdETaKauaVmRnrkhTKC3hY1pCnimXNGiPuqW1viSaPfDmdp3yELmDCm0fSVgFuPa/hrIcYPGfkSw3mS9lEzhO6r9//R989/vGLZvt45/4uDNiTu9xrV8cjxWM53T6APwJmx4Ee/DAcj84vnDhgvcdaD1oITiphuPVTmgpqlLaRALLRF//b1+XfWyb3br+dnvs4Q/Z0nXzUgwXN0JoCvN1NnWPhDw0mO1trfbcT16y6aULrbvisrWckTF8nVx03XmbVai/cAxfiSZKLXKe/9xzz4nHtXlZ4c+NhnP/8sLzSOGXfOgL3/vu9+y1V7bbTG1OfOgDD7lf2jvWb3CaByfEo/cB/3/8x3/0/gfPh/+xw5PTs5qbWnyQZbkuJRQq71PC0z7RRgj//M//bN/+9rflO/ct8bpV9tGPfdS+8ItfCJ9z1xGCQDDvSmYHHtGMEcArfofB/1Dhh0884Xx3zxuv2zf//v9zenjk8Q/ZRz/6UZsnOgj0iKAGjdJ34bOMdVVTqryvNzY02RmZb2ha50IjZRKfsY70KHzg4Sw1k57w8isv20/+5Yc2Q3S5fsN6Hwv+f/beO8ju67rzPJ1zA93IuQMSAYJIJMGMQFKkRFGJkmwFr7Vb8s6u1+WSxrW7VePylDwzVTt/eOxx1c4frrL/8Trs7sga29KaliyKYhRzAkEEIjZyjo1G5/1+zv3d179+eK/7daMBNLr7Aq9/6cZzzz333HPOPRcBFEIj0kbcPCWBzIuvviSNT4VOllqo/RT1TkdgGM+dP+N4CQ9DW8mb+YP6kcdc2e97EDwyV9XnZgXmr0LDGDGF/T7x/fCHf+dcOPYdu/fs1TF1r7t0DfUMDMtnP/tZFwFTOTfmH66WAhKrdxhLdi739p7yFCc14AEliABj09TU5EcgYcRNJ0M02AXUIXcQB48ekeu3buP8TDrlaicpITaS+ukW/hmVM93Rde2Kvf/W69Z2aL+tXnevNWpi6ZC4+fSp4zZL4uCa+gZfvXDEL/IjGNFLUi/jKNMnE3UwCHOzA+1GqnVcG25O6BDuhlkzEvVlsLfwyVAwIICAg7biCzdQR9JgEJa8YOZdLaP4EXl4x4oGhGbwsDPz0sXLcq1x1o6cbrPzMqYF+W1gMe6Oq7ul+ywTc43qDFCcO0O6nVZSN8emFZ0QB1hta+9eKqlImZz2Ku9elV3cYe1Xr4jxhJEZI5T01g/9h3aF9gUJELhz7MBhO91y2tvGStXVVtQzgfnJ02edwH3729+2GTNmOE7tEVHZuXOXNkWdciWi5MheMPmjSr8mHCVvyoIYAVd+Xt6pM54Hkizih4TOT6pMjmJid3Kn+zLcs+eEzVzSYFVnSuyMYNU4h+MCBWQ5re7rvyZGpMeunL2k/FBvXw5M/i3Ax6GhfHO+BtgGtf9ZqRI7NLaX3bXC6UGAYYAlYwFaAzNXM63Svva1r/lnxgXSQZjCM6fPaBHU5nQDw/g4OTA+GGft6jvyga7wjLT8vBYCx2Ye8Ymmr3eeTipBgyC6oIUmAZtCyZutU9XAPyGLs84Z2mRyTrsPz12zjpIaTTirfYzQ7T0ab/06JqsdGqWxRh3Al4kY6DvgjwsRFt5nzp7OTKbp9gJzNBj3SJJY893v2j4tUpE4MUGjgtupncdbt21zVR3ah0wQPLs05hhjMdBvV3Qk3sVT5+zk9BM6lux0/DR1LRACzBX021CBMYMpTQzumFkP6XeFzJGUxUlmjIN20bP9ElLMlsAGW0HmcXAIm9GuhL6RJzuAWcxzEhpSQ2wJicc8hcYS13Y8E6gnedMecANzIOYeFvPMfQeOtMkyrNg1Q/AYhKj54R5BFzwNZR05csQXlJgN4ZqGs7kfefhR1wRFeMWxTLvij3zS5jr+nDXm43zMt1sVxmQGpl+uaicrtjeL5cV7hgCzYP5cnWCyyYGFXv+0CC/ceLUYRAZ7IQE7ICbRF154wYkA9gIwfqd09nFtmexI1DGsHL+p8wbnSgJw/6b7nXBj56Xe94n61JGDOnB+ln3py1+25uYldrlDSC3XMwQmfT8DU/Wno7A36FFjNj7wiK8me1ANSVrw6UdvWYcQp6a+MSBGT6eVaYJZf+8m27x5s5cJkwijVTg/XggE8sdh0gfhFi5aYJ+XBPThBx92Bjc7Bec8brr/ATfEbhQTw6BgAIGktPkyzIry4Z7JE1YSRqi1ZakfC+Rb7ZXmggYZNhkrVq7wgbdk0RIr61IdLh72IpESojbjRBP4FHzs3b9mpewt5lvdwgVWLftSbDk6u+T3Ue5XcKVCWZ0lFTa9uMIeVt/Vqq4cJ+ghjN1wf5P/MoG0ayJmg8gTTzzh7XY/UYIHaiekP1SHd03NTU5wsE8isNue4x1dFaazNiEoMHKChMOVZUdra4vdtWKlp2cBgoqB/kNC+/Wvf92aFuv4pS4dLC9bQ2CiJCpTJYJSKh9t/Jq1S6x15Xw/f7u6OhCv0ycuaTVbp74UQ6giewW6hYvn28LlTVp8oQIfmx1sVGncBOGu42my6HlfzmovyCQBfH3iiSetqanJqwqOezzhNcwcLoII4DmTxbZtWwW3II3i7GOkF9iTwhTCqfVIBc05u49tZiIpkT9Ind+tcXLkyGE7d0k2QfOW+CQzW7uKT19rs8td15ROHYCUEHW+mEJZpkrKW2pf/trnJOlFzV9itf2zrHfmObsk+9CKqrCRzXcxa4KaqV3Pi+UKq1qShzh5eaU1/iZaYFJmsmXBz0SOTSeTNJMycGbCjxMirklQ+TZIlYdUh0mYBTlxa2tqM4KGGN/7u7nVWppDnwO75557zpmJ1WvX2Oee/pyt3rBuooH0prcHKWCa0c5VIPMK830M+BvMfhe/DXWlLJw/M14XLXrDjrQdtJV3L7dvfv3bbh8I7rDQIu84p5EfpmLYFGJe8Kk0fme0iIeJDLils8iFdwTyFZm1aYq/desWjU+Zggn/OkW/KyurnM94+umnpQK+xzegYfJDIB/KJLBAQR0N44s2Du0D0uuowYz1imnAY85fJw7aJRhItyf03MKfiMM8wScVyiulshh0m85v0IchHsaEKQRINHzz5i1+9itOEzduvFe7cDaJmFbZwbYDkhr+yplCdmgCrEE7w/JVUMQZBmXt2rXOACKmJUCw6dy44qBDMa7nHfE9KK2rsv/Vb1t1/Qw/JqxThCQdqDfI4RO/CAx2YLgRuXDmhB08WCFj8lo7ffKo7fjoQ3vymS9ZEXZhUoNakWzftBro1yTAxOM2QKLbbgCucm92AH4wKEg5Nmu1AqIRkEgRQASQiSsqldr6Wmdq+AbM+EWExXiXZyfCytc30EjixGqnWMwQcNXF1WcwwI888qh2KmvnMAx0l/pd/gYVSTkncNcdrmY46aSru8Q+/FBqur//uZ2/etZWLVlh961tthVNS9RPqgPqUQ1N6tIllVm3T8SSMsJU3XwwAg4P2HE98fiTXo/Zcp8DPnRILUWTgHMcuEi8gQGmC2w28aC6Q0xWiuljcstWjYBjvXIfgyrRNzYJOgvEeHzjG9/wlSS7vrtdeq3cimReIYZZvRFsKwUGGIZiMSRlOtXk5z9733bvbJPpglzUrGuxZz+7XhtdtPJUvF448j6YEpghVPXqez2r1FDPCfIXnKY/IrFsbm62//G7/5OOo2yUVqHOWwnOpm1TYalWS9rkjmSTtDAT4Dq76J3Zb2qS5Be7NmIzhiT5k3oeKUOJ7GH7RRsYI7Nmzbbf/PZ3rHFmnVWWNdjl9guI4yUTrNAxgxoLgndfsbQQ/JMLJqDPQuH//Zt/cInE3PlzbNWaFTqjtdmqdB44Y4+xBs7Tb3rh76hD3GzGu4kUGO9s+Hji8SckOHjQF/Qwckz0RRoDfCfEPtYLf4fxfl1tnfu8fU92pLyvkFkF0CFFjM9Cv6dX/aYFfQzMHc8++6w/IrTocb+g8evUtRAIME6GYwoLyaeQOJRFnyKwWC7G6/vf/74vmmbK7Qwalk6ZZPi8JbyJgWfnATROozNpFuAwmAiQmOv5EYgr7i7gjd9q8S26AR6yg3mFJIAL3cOJTLWYCxSY57uZYxP8hLZDH+KeBYReaCQQZPHzNCqPeM5r6MU0STPZ4Im5itdB9XB8T/L0RMmf0TB06fSjvR8TpjAWDiBoIIbZHD7vxEzPAJrO4Js3VICAmRo2CCuYNJGowFmTB9IxRNF0xKZN92vFKOmK8gfoUAcAzT2EgoPSiUcgXY+kVJAPGDrc0sBAejo99YkhqRLBWbCk1T5894y99Pd/acfOyAGlbA2f/PxXXHWsaCI8Ss+Vn7ejR2qi4CfRv9NOvXexMPXgOfsav+uaDpldnsApO036WYmAdbTTQOqGxI/gE53iRsJ6WRJOYId6jcB72syVPmAQzdFO7kYNNt9NqfdlItiSPQU4eh1DHyIeJwDLThnGO5zZZAMjDuz1TWyy2g5zUmJvf/yufdi2w1oWLLb1Mx7ygXz05DmpARptzswGj6ch4XkC1YgTqF+ZJB12NwKrYdICAyYS8GrJkiVeD547ksVDhKGA5d9Q8bLgQW2MygHpYAzkAdPIyhGVMQFcDxMTO+mATsgHiQc/AsQtOwgSWvkoPuNGuNUjQvTRxwfs2rkOZ6rrG+rEaHTbxztP2rKmmTZvjmwKtVHFSsIq2Bl54W2/VJreL6r/sDipdkd4p+tTEE4OA+exHAuxbnFcTZckIo5xCLSPfzUaSEdpE33a0xUWkSclxTgTCTJwUTyXOomBYHEQ8RHGE02CTh1UbwQVNAtf+riluZXZyndFOo4I15lQ/Fg79Rcq5CLZFGow2DUdt/XBhzscZ+66Z7kWaWV2RiYD0MilVS2BMdR4iSYHyiU2kTUJIg3H0djeUffRjfTvWKYFV3ws9PvZsLGxqJGBJTQlzhXcw1Cf0xm2SGr4Hn/LVyx33N6tMQj9x8YXBpExF+P0aHEbA1LfeKYu767IXGUqjAwCtdKKpNXAhaQOfV1IzMFxKMt5BeEAGi5+BMY4gZELkwbTqA4P75IrZYIT0OmHHnzIpX0whaQFN2JwWqH88S7C2AahoBlI+jwoHxb/Uc7EpqdYFmnBUwJ4ikYNqehzX33ON5wwvnlPIB73SMARPHHAB+YPwLIxmQc84k36ExdL1D3d/nzFjQlTSEF0ELtxmJBQMUaR6VVNsOzspJP86BoBM3Z2vkpl3os+otZ79dVXXeXWIxcwSu5c9tp1a22jOHo6gw5CROwENelzVAsIsPpZhYtoE3BsKXYq8+ydpvjUH6IOY9gwvd5W61QDGJ/GdtllyV5w3Yb75HpF6UBAhSBNEPHhXhgDgjopBw5EAPhcIVC5rvG7rungT/FbvrQJIpKOdpPG4akrExlITYjv2rSTCuP1QwcPiOlS/KRMrqhAUeezAQemMPmkePjYC/aGnplnmNRVZYZyk7KRnCaSQnwT9qH+Fbw7Zdp77twF+8IDn7F7N9xvxdo9e+ncGT/usFODq1f5aKgo5zAJ8jezslcTgOQgeMTKJRUa9C0frJQmxkuS+SX7HYMGeHEFh5DcBElpkPREwFy8eMF++Hc/tEMHDmhSTxlTKleIzsVLV2zZ0ha3X6Eg8KsbqWuSb4S9V8L/MAEOPAVYCIaCn9dR/aXVgVQaIijy6bjtqTW2etUSdBh27OBJ27FLpwRd0QaI2ZJmCsV7kBS6axvlKUlXbOegaz5Yxfc3Ac5efsw/+zpMH2WnjdDqRysAIQcfBd8YHNZ6F3ce861L4/6ll3/pngh8zCeRI1FH8sBE8KUvfcntiEvEHLK4cpc0XoGYO6iusngnOLOIcdTns8ej76ARogdSH8PQd2vHPWe2P/1NOTTn2K2uftt/cK/UWifUd1fl1kh0heqr/zwLBoICeUO1wEv/8TLCbjR9NF7SZtUdWkKfRClNnECjdJ6J89VXX7M33njD5xTGELS5TC5++rVwglmE2WtubpbEV4yD8mMckW8CUSAX4CkYeHmCNDvUp8LIIIC6FGFEZMwKSc1mxZEGyqCsOK65xvmMvNDkxODDRX0N3oAb9C+/iCeYLKFJw0SIEHAtLDx8/Ds+MY6h+8xJHinMB0m+FMe8ykYT8oG3CfglDEvKJF/wsgYvJUoXshmoJ/wPcSmThSXaJjZLsSGOwDf9yaT1l2P0Jw27QrIUVb3xQEPZEILfvhd/+aIdajvkDCDAOXBgv32674AYuPUu+qeCsbPzlgxQBSD8Ex09LPsRnT/8yCOPSOxaJcD3ub3ATG2uyDRW0WHOQl9oMgS4TKgEbLMSgk2nytAnE1ARuVRFCUO98Lx+wj7dud39IzbMnGMXzxzX2c1ttrC51UrLq73uqCdE/lPsTCbLW3dDY/XzVlJ/tdnbrRqE9geERPoHsk6rrdGu1RmOlAxq+gxERpTN9njSENLXhK0I75Lv9KkjvdIDM1n/qA6Bs0ElTLXws6clvi2aK1+SCmzv7+m9YIdkcN8uP211K1r8fQ966dA5zh76y1v9h3bRJsFCDZVETTyXpJ8lkrrxyaFCo/QAzNhN2iB1/IzZc51IRCJDtVn18YtEgbQucQJWSu+9RV5kp3d+nJ1KYOGSDtSBgqkT2kzRE5s9Q6v0C1d1BOMB65T6uG2/pL9SkZUu0UfyUlxOPvFKa0EU1aDpfCfCfewnFqHx3mFJ44TnwNnhp0dgzzfeRWNxpN0Q6NAHGsWCG984xQQ1E/Edhp4eQh7GSmZc6Dsji/Hv/jijGIFn/6ePmF3o2UlPRb81SLV99PgRO3bymF08L1dCbScklSyxeUsWaf2k8hz3lCf9ngRf3KneEzX4GNFYiP1DU9FawBDEhS1tZwKmX7DbQnoUJDp0dbCD5txZxlx8H8Yemg3ZJqYYP/LkW/ge6OVEhe3NbBewhpkpNAR4Fxo7xKMMgpNdCCA3PDNOuPqHgbHBM+M4fNQ4Uhqeec/YZtMJi3Z+hDiWPY2yZoMJacARGENy9jwph6AXUQPHHBDLAwfJA9yLTB/vyJ84cY6Nz8SF2YVXwtNAm/iklpYW1QuvLPAiwRcwPAlSRcZExhzOKzKyP24Wp0zQgJRBL2mb6j9cGBOmkEIaJDqFccOnINv/o2qtpbXFd/w99OCD3nga7hXTNWdQxb3y+ghQ2FyyRr6JUJXCwABgfA8RUO8QfLL1u+SP4tCxUNnMokLEG1EzmwYyQX0eGUOIyLWOK7Zr+/t29sxpqTaabM68BdauTS0/f/7H9kUZuM6au9DQ0lExtkkwPbiEUTXw8jIZ34KbpI3AKgZXv/LMN/0ESGvS5prf/M3f9AGBnQaE96CYtGjoitF9RGjPh3QKnj62Knnn74VUSDC83UJeP3c3qYO7pBHMcaVSXSaJcUuzPf/Sr2z/y6/a8fPHhOAV9qAMd2fU1QbYKZ9Y/VsOPxqjQDvTg4V7BrNXTN8cDkn7IVa/8e1vORPGBhMGORuojhw57Lg5h+P8UGFFeMX0STm8D/l50Um8sLzolwNw1UY/cImxAWOhOyFwZbU2R8yqtzd++pH93YeH7cSZczqbu9G++uUHpVbRQoW4Dkh6JoTMoii+mCDXQUQtwllty0BPcIj0wGGtZ+xqP/fZz9lTn3nKZsisBeKPN4N9+/b6pMEmtYZp0514uoRKaUiLpNDph9CB9xnalXyHyoSyNOZkQ9tfJDtTcYL4KmSjUL+k6LX11XLFVSYXFz+3E23abdtxyZqXLbT7HlivDXB1brdI16CF6MMMKTUQvP58nKAh9mVochgbmTYzVtTumVIBYjuN0T/0SwD3neLMATUag4sk4eU4NNTymf5ROnXR4EB+SZ7ODAz+OvVUIATQ9sFkYXJxMwJ97BpFZa7uorszQ8LxJWG60h0cGTU2oWIyAJ8AA8hOZY6vRBOAPfGmTZs8b+bA9LyZGXIqENoQgzOJEgBRiYiX4A7zJe3HHRaeCZBUc8hG5E8iYxjz4RrLIx9OM5omjeRxOV+/JFj6aWKKw5xKWhxhd8lzCgvLQkOsn8enQaoz9cTciQBTOCiOv839Z0yYQhqMlBDjTnZvIh51Q2CVuWHjBnvs0cd8lYft27CBgQs2KDDQWSW+/fZb9uKLv1BHVzpw2XXEVvC7Vt0FtDPxSZYkTd0E6oCRPxxzZ8rOxLEtfCYbn4CrZVfIinS6Ou5q+yU7f/KIHT9y0BkA8lAknyAGuou6xp9X+7b9CVATSGC4hdw8gxRsxAGmGAnjm+0n/99P3KUMO5c3P7bZVt+1OuNI0wExTAsAWSwLptqBrpc+nFQOUyX51FTX2tKmBWKgr1q1VkPLWpttg0wLptVK4qs6om6OgTzHS/C6DFQtUy2IRL2IIgH7kvfkD+vdt960fWKyZ82aox3GK+QiY6uM6ANzFvE4k0GOG3CqROribgpNSQzddswhqhWv7APrG6ptdes86+3oluRJJ3BsarblrfO16tQQ1neg7nylsslR9RwlT8BXmcHPMIVVVoA+6NLY2CA01Rs9sPsP+sSEgS9Cdp1v27bVVcjQMn4uZcwDyGCfGeCMdM+7TWp++oC3gVHUvfoWM4gF8+Zbc6t2hJerDqW9tuG+u7RLXBJLubxw7wdSRbtKLA6CVDtowoQNgjO0w6Uw9FOOdsMIRG8SwGH//n3245/8WBqog9p4MNu2bH5MDt1Xa7IPhv0RVnESjs/Z11xlZceZes4NAWzi2trafE7MHWN0b2HuyDsGZwKZy1KBfvP5LYUr9DXMGi6OYACRvhFv+/aP9Nsuu90qZ+JgDOEb0kIQzy+V/6DbVBnphQRpmEvffe9dO3nqtK26a6U0AUfF7GlDqzQO8D8wpZQT6QlpCOSD4GDJomb7RH6VT548lWEK+e5Moez1MZsL0kIWl6mxkYwZ6JoH5ct35qZYRoyPZrSuVkKceCBEqj0hce6/Y8IU0tCDBw8554zBPmf/bd6yxSdHVuk+YYkDTgMpV3V8pTeo4pxAUi67wXpx4TV+D5dP4+HKXRpCfBAnwDxXtgW9c6ZRZc1bsMgOH9xnH77xkp3WBo1Dn+6wJa3LnVFEYczEgppUXvbEx0OI6JxIzQsq6qZFirUAPoAD5PBVlOADsjGQ2Y2Fm5rly2SorUjsgmIwYZTrErKR1i4pFBvBMs254CrTcL9UsKfPnrPj505po8ky+/yjTXZaDj0vaoPGxatSZUsCXCxJyuAhP9LCb118YOlBsIRYndfCBILDjvaNGzaK8OgkDUlIYbrXyd61OLFjLbSGJfKKX6Q1E/CA0YDRY6UIemv9qlXlOTlEvaLTgdZIOlhjbQdPaWe8/IEVTbdpOhvZN6ewaFH8wJQUWvIEjqc+Yyxk+k6wwfaYfjsoRp6TTdjwA/2CUWQx6KYU6t/AqCjBMCHge4jk9zCHqI/9iguMfp2QcMTH1ubP3qcyqmUSc9xOSdq7WI7HYQzpZ1d/UlyCZsMUO3k+C6j0HwIFpPLvayEGI3+vfOFWykUWGg/G3BrZgVcl3ikmD3BuT0uZk2GwkMRlxtYNVoVxSp7kPWyAKGYF5i5+uCsiL+YzBBZflis63EZxrGjboTYf50j2iEs86KUohNPZrCxzPnoafYEP6ei4KpvAaXKkvcAua+fxubPnHSbk7RvSxJzCJDL3EngPvDCRaF3aKo3nMTGVJ2151/LQbtXXm6Y6kcY1m3pBGsqNsM517xtuVAbfSOuMr8qL9AR6BtRi/alPvjAmTCGZo7uH4J49c9ZtDiByzc3NtoQOSCQnxKNieUPScHb8wClDpGH+YDKjHRyARRfvTKEaSkDqBBs0VIPhlnvlYiLUIKG8umQALjFxWWmFzZ2/2OF4dP9uq5Zx/z2bttjq9ffJpxj+FQEsdl5M3WnqDVoN0zZ9v2VBcBQwaFwGkbDPZMcsNlW4TkFEjwgc7+9nRVjrZfBaARKRbgShhI0NqIwFGdTH+CmEcb6mU0o+1LFvfZLMNs2boZ3gNbZ7/wHbsafNiu81u3tFM3xPJoys1EyyW3ZD/RzPBCPuYSRWScK0ePESP/iciuCOBl9VnLtZWTmgyuVbvpCgMF3l7jOrlAwmgUL8LGTBs0t4e/jwWRE5sxkNFfIDOs3eenevvfDKx/aZJ+61tasWULlEVJuvpMn1Pkj6Ala51DDBa1bf0JUtW7a4qyuggioSR8gskDALIC3961LwIcDm6Ks+4Ug1umwgBMRGiI6a+sKlCzI90Q5KSStxhbL7k73WLX+p0xunqS+n64hDqbNEW2IItY5PU9c40Z2WWQ99h89B9ycp0GCudOTIYe36Xy57rZQD62HAFsfdMNGmPueBAEwPfcDYYazcSGBOhyEkz+FCvrEBjiBlxN7x+X/5qXXKjQwSQ/yXIo3HVczJUyds3vx5mp9CLoy49Lgbruz4PTJ3YkO1eazBVq1cJaauQlLKy+52D2f4SBLxRRvtI0mbhhNmEU1yzcaGE+LBxGol6vNAZP5IE+/jNf0u+z79HOND+wj54OYfs/6MCVMIkNGp0zD8T+35dE+msQCHnX04bsSfW+yQrHr4I99Qo3AyRNvhI+7eo1dquldeftnaNPBh/OCyIQ4cVfToI5uVDiYkMGURELnyBjbuu0x2QhkQAakAM2dk6BGkQPPlQmXGrLnqcjGKsjUsU4d3Rg7Gy8oGsdLlKvR2vVM7kmZ5vbhHvMyEBwIeOHDAiev+/ftdYvKwbEFZWQgIYOGIao27EeAJ8sEQArNenbBRpL5m8NzTtEJHAC3Sztyzdki7kbcfO2Pr27WDS871ZHQg326hvJGVOqIqjllkWioewAMnLbRfafcFCidQxOMEmbQ4E7vQ4OBLIrNj1jvOL+B1sAPBoWqZNiYsWyF18XQ5cJd7lWOyT9u356xdfhC/WTCRQJAaKqCWT27Di0n6V/B07YOa7zRCk1eppEzQiTNavGL3zGITh8is/FEt+RhQPBhD8HeoAIihSSGwKA2gZ6OJuHQ9B8PxWQ311rSy1Wok2Tp86LB98tFuqyyplLcDaT1UBunIRusrD6meDC8m+V/6C1UYbknYjcwEz4IWB8WciYvxfrQvLxRULLCmwo1BACYOqVvsj9Hkhg0hzFxBEkIVMNQczxwGI/ih1MZvfPyJHZSJAWOccQy+cLjFvLnz/NkZtDjX+QAsvPakReiFBwrcl+E2CeaPRQl+jtGWwvcQL9bX6Y/Kc4ZSRSEoa5CJGhpW/BtyxjJxPb7qQ/zRhjTdivl4+QVmOCZMIZXwrdVqFIXXT6uXW5qVtlfMIWfKoufHy/jTMhjGJisC6ro6AhRxy3DdcNKVcN8i2qRZI0kWiENZrAZgNIugovpPme4+4roMB17QQWHljwQnWdmQVvm5cbjespeWunGqRqXsEEqlDuzRBNutlQYTdAiSiMEauLQweSWKPp4IubdBVfO2UUW1CaI6Tyu7diHra3Lxg7oMuHH8D86U3Q5O8QTg2Khhr6Btr4zh6LOA7OoHpknc2ZRVyIfeYvto1z577QOdo3xeEmT5LFwwd4GYxODDkvJVSy+n8FKHrdbNiaC60kakhTAMVSKItdowg7HxT3/604wU9vFt2xI8C9XIi+tJLVEN9/TLK6TAAOPuiOTfWGiAVSVStVeJmDXY++8fstff3iuJ1kX75L0jOn9aTpCbccMBPisu274BJAwiSaeCj4GAYQHTKqRiZBzskmSQDXFIB1nMPvnkk37SCX3g40d9jJQ7V4ChiOANZ3rjv0x9IFpBWaiOCQyn2roqO6E+fOnnr9hl7R4/LRsi/KItXrlAm1BqRLfEGOq771hOKurjgsSTJDCuCOlJNPYB7+P9PG2Ku6qF2Cuvv2yHDrZpou+WPegKubzaIPtlmRMJZoGmkGroMBoJ0dA5Ts6vzMkwhmw+QZVfqLsahDswUnFTSS7o0Z/ZYaj+pWwY1S9+/gs6xet++3T3pzK5Oed4BaPGsZZsXE3jCVoun4ayCxriGfUsrvC2bNnidJ86UTZXFpd8x0tFiUznKIsfuO1zJDhK3rrCM8FIHj12VOfXz3bXVXiN8HlgiPKH+xTLJF7aC8VQsEvnOSZMIZUAGHQ0BXMY+S9eeMF+8Ytf6LzJ8+LQH3DdOv6/PCh+zoYrLcwLG1Ya5YIAbhwfX1/64pfccFOQ9ORd6gC2auOQlDeUOfzWbVbkdAc+aQJVV3fpXQAcrm76dB5vPzsO9RImsEdST/Ln+DEmXt7hPgTGp1NHVmETx7mz1Gt8sYWqUlag5bUaMHhqZ8cULh44RP5uGWnj/Jc+JMSrPwzzhxTFkmCh5uQX+iJMqsXdHWL+5ouJkluiIyel7m+wbWue0caTJTraSnYWmgzlaC5TQrC6yDyOyxtvr+OQWYVwGbsmbEZwMdAgNcJS2YkgMWfAO2KpFeBcwLs8TdJOVd9o0gUiUoLS6B92U4HZ03vh3cK50619eZft2XvMyovqbe1vPGqb7l2oI76qHcYlSKd8kSRcFMyHU33mqc3Efq2+gKFvlTQBggx9QXK+Upuf2GwC/QL/B/qLUZM70EcEbEeLwWM5q+7jdB/1QbFOOuJUE3C6pLzUFmhTSYfONe7vOy2Vcas9/tmtMlPRTnVJSVBnw0wSHL/IV/2XZO/vJ/qfNJQd9gkt8jHE+IFRTybV5pYmSWeuSuqqzYDqQ8YgzIXnkRp3w8EsMqLDxZv6XhgEYO74ISFDCIRkDgkazBABeMNAIhlEm4J0dzQhqkPTaeOcFcdtg8w08E94YP8BF3rgFeLI0XA0IrwF9YJxc+my+Ig+7LcD6U1nm/eetrCRZMWKFd4+GEL8aCK5hvGEQebdqrukVq4INpLwR9Qv0hfwlb0SlTrxba9sYhfLu8qCBQu9HrGNkZHMW5GsDzE+ZWTwewTtitkNzMrxzSiuVOKkGMEj0o/DcLyuI+3Y3Vcp4/vPfeFLtnXLZomI5/n5ob5zSGUgcckODjC9dNWNCDYBlfM0SR4jQHlX5ZtMxJolxMKJBx+GCCU6ZqyHbd7OxGkiJq16hvr0iZBjGyfuT/OvGFv967rWbu06JJsdy1W19YoI4qASEhMkcl+uObiPkzt47yQpThNDVOI2fQJOICWrY1TGOANHBX/q9CnZ+tW5WtlPc1Bb4sAqtKrFqWPuwD8YZT/RRLAq0aqnZeE8WzBH/gqVd7kGaqUGSY8Ywl59Vw9kioly2MyLcXjDQO5jkuIqvGHTzttvv2179+61xtmyDZMrAc6v9d2SSf3BaX55g1yZ9MrOrFQufIoStzR9YvCKXfoHgrLKxK1KmaSCs2z+vHp/rqvjbGO+yzlScuauu7WRfVu/4D5kmXkrMwk+qP/OiHi/pzOTX375JcCrieyqpIRzw85HXmi8+Ichug1IQT90giEnE2rcIEHGeEL9JYawWI7E+4qDpLG+oUpn7a6QHWGrlVeViqZpYxCkI+gcvKgIedIHigKWTb7gTIT6KAIlPSdAxw4fPOL0izE3Y8bMYLLEHKGF2UgCQoCpMPYQgNlLM3yoRv/iL/7Cj6kbi9JyCZOYs9LzFodUoNLGThhbxRnyE9omX8PQa/Yi8POg8Q01D+kLq12k55G+wuhy1jNnsMNsckQeDBm2lhyluXSZzrXX3EsYVEcxpTCudZp/MWU5f+686jpfcUT7wX+FDGPnTyP74+NISYaaevLlOGZMIQ6K/+iP/5OVSbL34MZN9ju/8ztuE8h5lQAuBphBOjZX59ICl9JBlBUc8LzjWekyTKC+pe898jB/+nQWbEmFbBo7g6QwMoQwI53tl9zVwYH9e13Sg9PTt177pdUUddqMJats4/0P2dzFTW6wGhnDLtUnSgo1BQu1mEHGMSEXHHfv2W3vvPOOS2JZ0QBf1Gen9ZulFRRhpMxZv5hodYYQP9hfihUUk8Ig0FU7tKt0sgObJ2JAXVaicnFHk55z2aQyroPqDLyoJbgH3GCuUdVyHnIkTKiTOUTdbTSJm0WwrmujJIWl4hCQKnVodVnDLmSxFiw4vCxBiY1Nkl9rHJXKgTrABIeVdw9SqgRuYiSLtPDJhNRt5t3Uje9CfEX9xi7FjRvvdYk5UgPMKVj9+5F56mffVCR74qECWvpSGPAyjtBUTBhDMfl9ukaGED+efcqnQrSnqrLcN2MFX6nEhf2DOUyFcT4MUjW9Kbc+EQoumcC9xhuT3Bmp3t9/732NgwrbunWbzytM/mxyhJ7hr7DQwK7vqXDzIfCnf/qn9kd/9Ef2ne98x8fajZaYLUyCvkKX+YE70F2k/+DE1q1b3cNAuaSTvH/llVd87rtb56ATl7SReSq0XpFRIy2BcpGKwgyyiZMfm0ew20diumz5MmcK4YGIG9NwRx7YU1I3+KfW1qVh05rHurE/sZ6jyWXMmELEwl/9ynMOHAy2McQHCIhCvcPUcKRyMINMqpF7Tlc63cGD3isdgfSkzQ50rPv5yv6QeoaZI0RJIWcYw5GXaSL9VK5aXvrZT6xCkk2A+eHrL/ik/Jnf+C3tOq61syePugSoVDuQ3a+YmJ1KCL8Ob1fjRNTD9D1e6Tlwow+AOWqytWvXuhifybCt7bCkoqi2gvFsLvimwDjolnHR0ym3MhK/Y5OIWl29LAYmqNTCYlz3cQABf9UDeYpLWIBbQv/ZpDKug9pA/wIz3xCie3w84o6gcbo88AstT508Ld9V7/iGhbiTjvbyyxeUnQdAVKkxg9hJcmuX6gIbGD1Sw0gTerUjvli2KiWlOu9YtohIEZ0xFD4GSaFHm/qTBwLQmGVLl8lt0Dqp+5d6LM4hhZmH0ccUIC5aGRNDBXoEdr1UCxphuTN8OK4GqaOksKQUExeZnCgyR6sViUHkWZF9UnD8YNNVxH/F8zE4BM4MVac7/ZtP0gyGrPYjhTl69Ijb8T722KMZ325oPmDoO3RSUlpCNRwceiFAU+GmQgAp4Z/8yZ/4Rgqu/+7f/bsbLu86YZLwhDEdeQfU19zDhKHGhUHDZRH2w5iLsOgDx+KifTQVijSdfLiPQi82G2La9s8//nt785337de/8Q3PnnKzQ5wTsWduaW2W26o2uyBTu+kyQ4Jn8nGQnWgEzzeS/vrajqDgGBVGqrm52beoz5FPII5WY8hB3JjMsifFfMQ2O17MP31Np40MTJG4j+FsClH7EorQ9TCDK0DUOzTJXpT/vCLZcG16SGpu6fWLOtQ5M+bYkqUr3ffe1Svn5W6nw+rFFBLYOYRNfwzIvILcK/UyfhwH1wgnGHcGDechsxscsTe+C/HXBiwIafiGN/n/qmutVBKQYk2KzJ+RsWM119fnohMxLCV2RfZUHZLQllVoc4YW8/RFuY6RK1ZfdIqZYRod95JCYKOfr8AgOmLgcJuExOmKVqaX9GNy4jzpisSOBFhGgpUPikIlz7knY1MIkUMuCHstdzQCTr9U9KyFenW83VXBsf2KHFhP65Fxvc48lqrSQ7akMLyd+psDAhBMjOIPanUepYRMYKzy6bNgUzz0WKZviCEKp/gsiLQ4cvtQmD59k+q4v5vJSvkpFhvhOOuYc8U5zaCkWKSXfhZSKYpoSlJRZRrxJkfVJ/wrxleueQB7T+yg6Sds1jk/nXGHCyj6EOn8SMKUpHAk0BpdXKSE7BYncP/973//hqWF2ZJCn7cSJgqVLZtQly1b5pvGYAa3S2V8+dwZO3v6rH3xy18MG1RZdIwygJvQdPCQnc2zZ892EwYWLbu0seWCNrbs23vQljQ1uQCG+D5nZJWXZiibm1rstJxgX5H7KphWGEbSpBk77ik3XrmnTFzNYWIXGVOKyU6bVfSwj2PGFGJwnw6B7dIbVZ4GECJz4g9qZHYY9D37Y+o5m3EpxKi+WKvxXkm1oqRQU6y7z+lRp7UuD0wRu6YbZ862rV/+73SQvXaESk1x9col27H9I51wMtPqaYtW/n29XT4hxCqF6UHf4otxeOV8xwViePFV+F9/+EOtTA65YT2nzbjTUBFdR3i4jwICmkqkHwJfErjR1n85633h9bd0FNtFW9q8SHDssRff+EgqtnZ76J4NtmzJQlu6cLYmwVKd4iHE149Qov4Zz8EnqoQgUE+YaoyJORVjx44dfqIPfqd+/de+IbxC4gdjECa4IXc6St2I77rScrESrhVGHSJcEpNw9WqRvfHObtuz77jdc9diqfkvaeflJ1ZbVmlr1y/WaQ7aJCTH1e6xfkpSWBD6wAzU6Bxw/HPiGYFJi9X6s1/4gi2UsTereu/rIXLD3FMWE6Il2BRqVa8d+EgwYPggAiXi8E4cPmW/ev1d5SV/ls3L7D3hyO4dn9rSFS227r41Gouzbfrsab48xfE7rKMHXZwODgysIWoyMT6lJ3omPSQlUZISYcFExy5XVHU/+9lP5RN0vzOD+AR96KGH3H7Lmek45shD9/lCesLNF2fq/eghEKWEMYf4PBJpIXxD9li8TlKoAoiHFoyxfE1nCvf0dGthXunaAHwp4tLrOfEnbHAhDouLyJPE+hV6JV1UUZMXC0mEYGhHuUda+PnPP+OmKMRN41m6LeAm31nsoM4+ph3IZySkif43YzquEY8ROnz88XaXJtZCwz7cLh/D521pS7Pdf582PYpBjSGmGQ1TMiZMYazIrbwWykDGOvXKiL+0UptItNnEKbegVYqUSp3TIJ+Ed8mFClK0LtkilOt4trJKSQWxlevqtEZtF+f4OylJlZZOEuVP1NHkP94lhV5H1blOLlQgoqwwkHDBDLLCZns9COvEOAezTvpBQXH7cdirH9IrVJj+qMFxTKu1v/zHn1htZbVd7jpnP3rpsPV3nbfvfu0ha1Q57fIs3ynGsVpMT6mO8OhGTKJw55xtoq4XjLBfuk87H2EoWBCxwkMdieuD9KJFoHLYOkFg3hfYBgVJi9ymUN9wYlyKTaHiFBVXSSJyzP75+fftKpLWrm5791f7rEZSyA1PLZe0qcYOH71gpUvkGFwua+ApBtkUDipk6iFCAD+qy9RPDQ06CUa7JVkkIVlgXFyvUqLDcgfvSv3BprCYNUCXGBB2j6gjWCS+++4H9urP3rWm5bNlC3feXvpv79icRY3W9PmwMDt29LTVSWII8+8TQCwK0iKkyUaT3LWYWG/jRBYZwkzrGBBMjroubW21ri3avS1brGk6rxqXWozBOOb8mgAv5pfJJ3Uz1LdUtKnbUUIgLSWMWYyFtDC9gCDfOE5gsMADmKzTpyUZlCnIdI3x+Zrj0OyxmPjgg/e1U32GTRfeFGNTqjQIlBixhQafJ4WLbFZZtGixp92pQxp4z3wKTUEIgK9mDvNw7QOTgAI4Rz2zA+9rxV9Q5x4ZJxMbWgSjyzfyhjfBJvKll1+WEKvVrl5ot4OHDtqq1atcO3VCElLOAofxjQwl5eQoLrv4657vWKbwupYM+4K1uINbMWFEil11zGkESLyq66a5+5vLFy/ISPWafIhNVxQZ9muHUIPO6i11o3NF1EYJmCAYxoEQ2MLru3sgxu28g1Di+gLDVxD4nbff8eowUEAittZjj+N2a4VgkeKQJ79SDa6wa1ag0Xvss+6/d6VtW/eQVktVsld8QWr3pfalh5/SDFpuR8XoXLzSYXU68aNXUrL+RFJYqvs7IfiErXbi7/GtN960T/d+6oOfFSKDETcDnFzBsUOoIbF1HYroKIkHRU1sCuXGQfeo5Ds7+23Fsvk6K3eFXHBos0Jvqa1bv9Ba7l9vfWdP2YHd8obfWCumEJ08uEnCOwGKt6+OENqdsh/cuXOX26hFA/DpIubu+1QdAeGmn10UmKeqjHXFGJDw6b5IfYaLGmwHsVm+77E19sgjG+yQXDJ1XzFb/+gKZ2JOnj5pF89d8l3PddNYbEK8yVFBD36fTCTh5eT6m5YUQmNcACD4IPHZs+dTe/211+2yNDjTp19yzxTNzTpOTBvlmPyBXQLJQKcnF+jGTWv/4A/+wPg9/vjj7pruhRdesG3btt1w/bIXDIwdDVZnBjm+9ZCcQW+XNI2jW9k4hiAEnMDmtF1M2mOPPeKMIO88rbBlAGMKqx60AZtxvBZs3/6hwZCx47lG5ZeX6Rx7LeCR6sUNLWiU4iLEx3aOYlBDY9LSKaFVpXypphk70rJ5Bl7k61/7mjaktNovX/ylbBFb7BlJJaFhCHmYe2FWr1/c5ihwiFeThil0jlsSKtTGIrvhvwg4XD12P4K4dUtK+MmOj8Sh99ld96yzazqF42Opjg/v+sBmzV9i8+o5JxWirTQuKYzgG98reyeqmgw58/X1X70u9w3TnBEEWUEkfDexymGUZHazDoE0DEK2ziuyeGQBROlggEoEnAWzZ5o86NnsGY22SEd7zZ/5nGAsZ5/1smHUSujkyRNisAVDqc5KZHfYkxjYJ7zRUKXe1m/OBKiNtF2N13GOZ+zlV152pnq1fD2idmTH2+7du+Q4dZNPZJzXCt6FiSrgXHYjyJJAtj2CX7meYc57+uUlf4ZUIBuaJBWZZXNmyunyt+rkfLVCBPCS7dMxTnsPn7DGOWJm5jcIrUFMZTIVhoQAE8OLL76Y8SmGP1Te7T94wF1dRZ93EP6hoMk3uk69G8oD9pL6Yo4iYaQt1WoeJma6pMgN82ZJvbTYps2Uo3HtHD95/LSdP3tG9kjT5ZhffQfyo4sm6OILj/A0Kf9mT/wAgUUWmwbYOY595pp71li5FpnYRV/TRrn6TZt8QoTpZ83uaVDnT4U7FgLQxOzgi7Xsl3p2Rk0q1btW3eXmIah2saFH2MFchaDnrE7UatCmQDaLOk2WlNAJb4788r2iHGg6ea9YvsJ9ZOKfEO2bb1LTwgSGrqmpycv2sZwQee7TzF66DLy0vPnmm/Jo8YpLM3HD51JHpSEd7m3YIDdHEnL8rCLMoR4sZGEmsadE44dkEqYwMp+Yuow0RK5mpOnuuPj0Cwyg+9CDMYSp0Tu99LZIpqPHfps5e56dPbrP3vzlP9v+j9+RLVyNLVm2WiuDWlGmgExMBYOnjLDqILtxGYRUwhJHoqbFTbZl6xZXv4Tdx22+ykE83aHNNNN0wHdEKG9LjkY52JQlyFoiFynw1PAk2FTNmyenvFX11nH5rE+Ys3QsGzqyHm3AwNaqXvnXSVSu1PqnRMnAd8Z8XAIvqVQysCMRoe24IWA12Nzc7JFOaYL66MMPfQMKA7ZHJ1cAS+IOxpeBhtI1MfgOegGXuCXaWTy7oVIT3zwtUjrkjrBIfSNv/Np0Qn6lck+zZMlcmzEN1XHAYWcscvRXzH/qGmDLqpwd+Fu2bHGQoLbBaBxpLwQV+9s6TTCDxkEO4NF1oV8D0J0K+OaRImtuWSLj8bNua4q6qqYG/5JiGnWue11NnUs2KnXl3SBmXplO1i4Er4E5KkI/YSkFc5bdMHzz5831vuM4MwL+ClnYssHr8iV2eSutJCqMv3wTcCrbqds7DAK5xiTvIu6wqEONjMCDhTp4wHd+V65clh0qkucwwpwfgHaOYMCly8LHICrqpqYmhyKqa74TKJ85NdaLK7984YJ2SuPz9tVXX7N5i2bb7/7299z2kTmawH4HzJMwd8E+c87cORAfF0TAkMIQ+oI2KR/cH6q8fPXg/aRhCnvlAqIEj9M6nIQAQxL9hKGuwCW1q4X17eKZk3Z47y7r1fmkK1evs3vulSpUK47wPdi2eCapPyPAq1SqW3cLsrK6OXnqpP3NX/+Vn+jQKZE3EyHIjAgaB7BPP/1ZMR9SnSv0SRoakTxd07A7M0hHce0A8rG6h5gz4Gbq+K5+8YL7jh73A8MbawVdTbSlWtlz9iwIi59CkW/1Q4Bc/uGSLvk23ycDjRozacFI7N61W6dUBHUxAxbJBe+B9caNGzSQl/ngzVdzn7wkFWQslyNi6g8IirQDJrpRjOHVDvlFPCeGvb5Cq09FlO0azAQQHOmZr/nqMVneswmovf2KHFe/bHt05nFFRZmdu3BJuwbP++qbsfDAAw/axg3rBZJCsVLx3AyCxWIg4uUyj5izcKZvtDp7Qt4MGiUZR0Su8cG4Im8IPjuWB5Wi7uUZHJssIdKYOIkxJmKI39BgoLLDzciP/tuPfGFJPBjCi+2XfULlO5tOFi5cIGYARmEgn5jf1PXOgQA0MZuPGjRWkqaANxFPWDhwz4/xFZkqopbpBLRyqWKIzxwUGcYw4kYOF5/HlE8MMIIE8mdxGV0kUZdYXoybfcW0C/dKO3Z8bN19rc7QxvEQ80Q6iEocu+jgGi/kAt5jEw3tolzSedpcwMouOMfzpGEKQ9uFLO5YGaLLCiFgXUAimKA++3Tnx3bo2Glb98BWW9y6QrYrl23vro+t8p711lglCZfSCObaOUterPJlZT6YrOcA821+RTsVQFIGwkl5UMdWhzOdQVaQGZsFrpzL6hIrxU8jpWeQ+gMjzXdgBzQJMHglDhMxLFLHv/Pxbqk9Z9rqpnl29NwV+5fXXpPNRJd9+TOPqx46ABzwhaRKPP4JuA9uOl+B3dOI7TEmRiIIMWJAwgwieWKVekXntHJ1ZsBT5fpDfiJgkgQGqVOAJi6W2IXMedywGjt3H5YEpFibIuZpB127/fjH79oV7bSbO6tB52bCxAPMXPlPvUtDoATbYCHdsWPHHFycsMPiiLHBihumgxX+AGKmUw++HwC37sTc0QFaHokuUIZwRH3fLSnvju2fWNPSxa5e2vXJbnvhH1/X0XfzbZbMK+qL5PuUbedSP3OokjKYdCGtLmaM8ZyhLQmBANb0EZPipYuXtCFQmgeNt271GWOOSRUahp00i/eQbBICc9Jhz+AGh/lo8Lv0U2ZOg46DJI5r6RhD30e8zOSTI7rPEylmcbg6kQU765955hm5i2vT8bCLfYGazprymLvB/xhiHZhjUF3DAFMW7/lFiWiMX+h10jCFoh/uaBnVr9g/N+SHsQEvECOzHQBi1NDQaPMWLNSxVA/IUaqOoDl+xI4dkf857UJ2tkdxOL5N5uRCKPKC8DAZ8Hf8BtqG/cFTTz3ljIrvOFaNqbOaY9dEXJFyVdVUF9gO2iw4aDLkrjdh6gIcpOqRyhjD3+Onz9nucz12fN87dly7MJcvbhURL3eGuthP5iDF+IadVzD54wNceFNbV2PPPvus2zGxnP3SrgAAQABJREFUw42NPAxamGwCk1R5eZmr5nnOTxiAXsBDNioQOH2H+AGrisUMlmj3e7kdPnLaduw5IncnV+ySGMO19y3SLnm2viYM4XhHQm/d7f3DanrD+g1uD9TS2uo+viCgMBhAH8kTx2imGZV8Naa76O4+t1WGdddJPrxTfvwTyVE+xVYmPNj/zgm70P2BHdp93Kol8Z01p0EnnAQCHyxZlCJ0f8AV5TEZQ5zoYtt9ctNYIGB28vDDD9v9998v2lKnxZaYbi1kGSlMgPQd57tjQ8ZhBUNBEJo/Fe48CCRD5MYrDk6NkzEGjiMF/MpXvqIDEE65kKFC7vCyx0K60VEiiDCCeSc9TiJjmI4/kvtJwxSirvRt6HKhAuWGALuRuK5F2oEMt10u30b3bLjX1RRXZZh64uhF7fqstE0PPio7ORxXBzEwQHf1BAym0xbYI27GDGVH0ocFxaXOEFU3UNV9xqVPrLYQc5ZsMdjBx4ojIqQTT2a3PAHHvaLCQmQdcyfkJJDWVWSSvL5z8Kxdu7LdymQL9+RDD9q6Vav9BJAuxS9xFx4h4wEhfHgej38HQKXdZ5JarF+/XgsEmDakxYMDhvE4Fr2mzSd+zqrjyeA44QnZkphJiYmuyY8mrnqKJTUSdEBMMc+oOaT6kA3hnl1npGI4ZfWza+3Rrcvlq7BFNoXS0yP9dulU3kJyFTwp3zHOV+lUH8aDr7p1TYd44gGEVuxd+tN19+wtgXn0taG4Q5j6gCNKi6GtxgHlXZMbptd+ucM6+9qtZcVce/zJR61u5nQtwCoTYq6oyp38CE7gw+2k+0u/ALcY4jPXMtkKLpDfOe6hU5mQxG+Q2QuTJB3S0TGw4zMTL3Xj+aaep27vDAiw4LrTQpxLc9ab9vATTs/U/PvNb3/LJd6V4jvypWMhhJ9haBSbRDEBQ8jD3B5DoF/xaWTXScMUBtcGMIMQE9SmSAf0rP5gC/knH7xnhw/uc+eRMDi/evGfdFpHjYw+m2zdvQ/awumzRGu0mhdPyZTNZD0QmAxYr47PQNsJ2J+FFbLakbyDOFJ3AFGeiKZBxnwIGVsYh2aPToQhT5gjQQXg+CkwsNy79hyzrstH7HP3b7CWxYvswLEztnPvHlvV2mTT5Ly3XxIxjQbPMkXiYxHj+oo0gvNsgUPALdrCQ4BdkSatUt0Dl17BmEGfKwRVV8Cd8mSiQ8YEs+FHM8oOrfNar73z3gHZn3Xbb//Pj2snd419vKvNfvXybrvvgaU2rRanpdqAgkuaOw2QuYByE9+B7zgeJ/gYUB+lAytwJFD041CB3vS+FyfnTGFvIinU234xhP5dtKb90nk7sOeQ3fXQQlu74W7RHbnEkc1pRVulrdl4tzXOlkuabuGO8GRKUgjYBVXGShb83Y5ZMM8wg/rudEpwK+JeV/qOBRq+Zj0M0YVpm6wQeervnQCBG2F2blf7qHPUIGXXIaKo0yLh/fz587SIbHAzFl/gZCUA508cP2EvvfSSNTc3y1fiInd8/cknO9x+HTU0NC5feVnZ5XycNEwhTArAGjjmLrBx/ZLonDrWZh+887odPaRDrNtX20W5izgtVcSy1bID0lmEVy9fEKmXxIZJV4GU1/o53o1VabAphLXSg38fb38yUkGvWIKGwEK/8CqiZngMLEq4z/lXiIkKvQ81uuzcigQX/0VRhySAsEvTplfac2sft3Ur77L6ypBmx96DsuGSg06XgnUKYqFs5Ld3QnCYRbhRYSREGvSZwDfBh/eZEN9lXgzcZJIqmassHRz9MjYGV8NWHPJqXjTT7rl7iQyK58pxdomODeySC4OdMmUjAWWqHzhmZiqMHAL0T9KnEF09JSHVr/FVck2gDlUJb/SCLEjR45uAMPrWVzH1S1oXusp6rlzTnL96wU4dOWoXLl1xqRZjrS85+9htCpXeFxlJfZLiJs0lQ5OSFnt/CBYwfj6uUnDxcRfHX3L1yVUwJZ9oG50LeFMbtHJBZfy/uxFm53a1brg6xwUP+A01GUoaCqN4TVpMmD924CMdrKyskgbpgG8WxUQME5kbCZOGKSzVhNktx5ADx9wxb0t1J6J99swp+Q07a08882VbtKTV3nnjFe06XmMPPPyoiEuJHdj/qZ09ftRmzJ3vsIaRqZAtXV9RuROq0JWQ9/EfBjEwSXUHMTpCTFzLsLqRkiZ3g0RwYab5RSLOucfAAcYG+0x87n358QetXAhbqtnu7KV2mz97ls2Wr7Yyx/xuWWBpJ3IiHrkTBFyxrWmg5IRnwukN4AMcQzrVwL1A6IE5r0NqgRqNSG07EYzEVOq+q0+Q0ZEZ998nW0zZpl3r6NEZul3WtGiGLZz3gFVrowQO1VFX9uvUnilJ4QBsh7tL912GGUwxHUOlpzvVZY7rIR6776UuVnexYCqmP9SB0xrr7NEnNA5Kq+xSx2WdkNRjGx++P6SWiJEJo1h9jE1csuYMiwwQYpKEeEpFlKjw7Ask2g8c1CeDaFQKLrEPs68haX4YDsUwprKfuh1nEEDzcqeFiNf56s2CJ+KvExVFdLqgtnKFNsHoRftBdhv7KT56f2D/AfvFi7+QA+0TvgOZMkjDb7Rh0jCFPVJVlkrd19XJtnEhFvRClB3i3tTUbCXbnrBZ8xbanPkLbfMTn5W9myRblbV2TW5Gtut4nAce2aJVPxskNAG7JGAA5DCJQeJFbnd2AAFxhTJkUBzUo6hyemQH1ydpFZNasU6AYefmT155WwazV2x5q1xySL3M5ojL3efsvlVrrGXJYm02kYNNuV4RS2idgjN8UW/UnQ1Z8J33kcksFzMZWyIQelC0zIkmjk3CNZi/1177yA626ZD3lYvd1uT1l3XUXVW5rdu4yDbfd4+V1QuRYQrFgExJCiNUb/41IR8DksKkSFb5nPJzQKYTb73+tpWJ5ixpaZJ5yk47/ukZm79ilt1193JJD5fo+MwGbURC1RkmOmdhhAeTWVIIGJn4oUM3MzBRT4U7DwJxAXEn1Xy0DBpMIDbJXDkhpa2tzZqbm+X0frafYPL666/7aSrFOhpv65OfCTbuyYRyI/g9aZhCNwYUJmUkhRBf0Z1eMYv1jXOsRX768Izf0dFulTW1TpSQJLKiXCSmcYYMOqM7m2J87aX4PyZx2MvUqzsJZwfVFQYGSeGQAUYHtaV2XcJocyQbRBxEbDt+yn7x5utO2Btn3md/+fc/tkvXaux7v/aUbN/kc08+4rq6r8l+UZtTpPLMSAqj6nnIgu+8j8BlyAlOx/v1yFF1VB16CwWLouIKO3zior386sc6nzv4kfyvv9xrixpKbP39MmtoqLZTF89Zcc00q6/GRk5S8ClJ4S1DEMY6bAvyQA/0mW6doReTt2fPbnvjpe129/pWO3vyA3tFLoQWr15gW1c/KPVPl507e0EnFtTK/EJuVeTSCPMUD8rDpQY3mSkKhY3Pv4MkheOzilO1uk0QmIiSwlygZC7lB0PI/IG7JZxWx3kWv4Qwh7jQ4jQyXNLEuNjWEtjsOBqmZNIwhaiBCQM2hWFF2oeVuEStlXVyESE3hD6BIylz8auM0qvrbOXd6yTt0epVnKAb/2tGSDOAk05SKDjCf8i23qL1AlMjDOWJs+dt5bIF9rkHtsjcstxOXGgTw1Np2x67T2rkMjt74bRduHLNqsprlLZH+YRJ1U3j6KAJFoaTFOLfrlS42dUtRjtyhmKyi0wOrbVbdfmqBfbIvXdbnaSDRWLCV65cYPesX2znLl2z44fOWp12H9dXy7XJlE3hLcUcx3eVGGwK1V+o+/VDyt7b1ScNQ5dt/uxGnX38gM77PiWXT9ds08MbdWzhOjt36oJ8TZ619svtVtsgxhApbyIthLBMdklhRnV8S3t0qrA7AQKTRVKYli4yh+AVAaYPxvDEiROuToYRhDHEN+e+/dIgVeuYv8SzAn1ZJkGXko44TBqmsFjG3L2dcM4iwDiLFSEWh6cf9lgi7RBjrdgJfuWdr/vlNFXHUQXiH1SdiqH/Azr7SScpFIzYBOG7/hKJBhK/LjHSrc1Nbs9QIwPYhTPr7X957ht2TRxfrXwTHjtzznbtO2TLdIxP8axp2nACkx2wVhvBJ2RgkeELjXytc0mhjmQql6xIaIlSq1+bmPp7SnSCSa2taJkvyXWlzZxfZV//xgMyKtYuSzkGP3TknG3fc8CqtZln3px6LWKmJIX5QDzm7xNchTGMkkKGARK+Xt2USH28cs0KScXlBFuSwBUrl2o1P9tq5NuSTSXHThy1M6fOWsPsBqvDllDeDjIhycdpU+bl5LhhIkTKgQp+ijGcHH0+0lbeiFp0pGWNVXzqnGbyCs2XNLG9HGF38uRJ+/kLP3dfhpxAhtsa/KAiReSAhHs33iuhwUoXzsQ5B7o00jBpmMJeibZKK0vl3oPNJol4VVIq3KnA/OmlA1OkXU9AkqPYdGEC0NUlWjz7Cy5M3yEE5jFGjm/vzCvIBKINF/qJw4SWuKRxmUlvt87rlRh7/mydQ3rRbEatbCJ0yockYP2ye+vr6bZaSbxqqyudqfbNKckEO4zCerjqjNvvw0kK+11SWCpmQptKJO5no0Kx3iFBnNEoJqJvpviDTtluyoF1NcRFEcUAlot9nNlYb9PFMPrCRniZkTSOW2hMjIrF1TeoG5h4MXVi7jl60He1amwsXDzPTh3V+d+KXKoj72ZUN6qH5F5INrf4payprRJRx0GtMmFFlIwDrozB+DgxIDZ0K9IqQcbLrbApjJPm0DUb/NX7JVnE8sU9ag2Oknliux3Mvp+g41iS+XRbb1wKLSblTg2jYa5ud1tHU2fGAYG03MMENjc1W8emq25f6OezyzchNocdOtnqwvngqxAmMs2EJtmMCASThimEyQvMHgxhWJk7YQD2+gVXBrr1vhBR1o0TgRxXT5+SFJIBZNyTjgj84zBy0t5CasaEVlKunZOo1eFqlFZKdlu6eI61y7dejxNQ7ZwSDUKSOEc7j+fNaBD/jS0h0llmxBDuXDIVW5D7Cg45nuX+nBE4C3RW6f7xOgVBQUP4VVHab/NmVbNeGTjvEiTTbNSqTTzzFjS6e5qweqEAfeT7VLgFEAiAxuaYf9gEstlK4nPZ5PZo132ZzV8y1+mK9z98o+w+S+WAecWapY4TLhVzux/GQTIWfBgpH+cWb0EzxlkRQ42VMa3qAOkZUbb4oKSPCY4BrGYDKvi7gT/sQMfkSJ8lHQ7Lh4Gvt+sOaTa1IeSludAsIiQ4mNkZy7vbHO5ECXJk8EYCupgmzeTV1tXaRkkDV+kACALO9/nOmMGBNQwiz/G4u5GUl447wZnCgZHvwPPjqOKQ0GCFAZLkhX+xE3w4DCTL0OoMzVYHhLhpSgBLOFFCbF9h7WE1DO1A5cOJDkj/uiSV5Yi3SOAdnAJQhdRqkCKe+0Ut+cWQBnl8NxGuEa/ytQVmkNAnmCWkmKeAbgKPGw0DHN1zpi7RgTcMSE0N7mj0gEf1FIOtKFPhFkEA6V+x1P1OKEBndRD9BPNQLKa+SGdke2eycFIf0W9sznLao45kjMBUZoLS8y5Bi8zryXIz3HgZMziMFMBJn3RoMyJnnTMuQ89dz1ohdnARgdKUSsJTKq8MIy1uzNqZzkj14ZSlTrUBnOQkr1zBDzjQJ/AQOs6Ra0LYXFFv+TtI4WQISAhh8rhGJo+xgWuatB9CvsPbYFvIPX3GD/tDDqNITbEFg22CM4UgcoJGCZIzXDPvMp8GJmQG88DkrKgxeuYab9IwJk2Imn57Z95ntT9HI4BAJtBwIWGpDOx9KnPwBMSMcQKYQyqYRyRhA+vVEGtQnjHhJLgKHB64Rllz8srpcLC5FHQ8or7AcDDS2f4uZjCTRq88nVtGTFZo3lqEAd78/EhHJk31UbCHC0yfn1YDsy8GMfSTvouJD6v7gbqyez/2IxlO5t5jQrsVYSTlEJcJmUm384pcaR3QZK3NRG7lUaIrY0+8Ic+yIggsvvq9Z3672aJ6PyFnvPQp0O3S4QFlskt27U4uYKuyLGyIR3CmMFe8O/ndLcKzsQJRxD+uEXfjPUwjNCUG3vMbbbjNTCEqxNQqebStKCQdEhXUO8Nsc40EwK+K7zaHg66qbwJvLgH4sEMMt9F3RCFNuCVxChgsASnVZsXlPOmingAn6heTw/RpDePMH+riIhgYJImCk9Y+isk0SN/fmkmAuhUavBfHoDvj4B2qXMYyTAUCpS5thNI+EqGpGGcGv3A2SpHCiTGCmk7JcOmgvsAbunks+mWkUAk8Bx/BOFTpE+xbgnyjGYUjJaJh4Sj89zID/MFlZLn9bF7TFSfWPiA0wfbpnTyl6q1wX+r/jOmE7vFoUAiuTLDeEoiG76mR9svNgNGgOqj7ytq02etCOTJi9SZmAyIWSIJVeHEPk7PuyvvsYmOHj8nhW3kzap0nT9GUCjm8r9ZO1aGC1/kKWK62FNBPQ+U12m9xLsmZfsiPOVMMejlalfggXBiU48gewBUC+eUa+7yH2Ytx/Cb5E9OQLl2f9H2aSUynLeT+tjKF4hUywdWPmafCbhwoqaiBUKdeCKEjPjNkOXHAB6xmUyfQju8QaL2FP2Ek6OdA1w2PPt/qLn0VBdAbEigQiUuml8PzePibC9mGqxeDJSO1yIqcgXdmIgwRetgtCzykJgmbHoByAIxfBZsA+QEg8R7mp7hXq1Hl15csDhCApdAiqwa34FFVxO2Bwy5WNxarema/ip+uuzJg9TIfLGN84vRpUinu7xI8hFV64WpiYOywSCYZncjjg16ImtlQQmXEULjjakdAmAuwU3EdiESghEkQUn3jcBIsC8X/CCGgFUN8xzMSouwwYHaivlPkIjF3xSwe6R/KBlMQGymEroAh1NhSX7upgPAdmzNoTy9iphj0PFl6ze24BQBg7X2WXKOfwkz/gdQFhphPJm2edDFens95XxfpnGr6rEiSQI49FXuYIy6sv7QnQht2o9O+8RYcR3PgNfWMDJPjIY29bSFHvye4EOs42n4EP4aCQbrJPrclL0ZbXswPaHqrUjgd2xLjcM0uJ9Y3xsn+HmkU7+N9jDvS621lCpnBYAYJNJpJMUhINJp07y5Pcl1jK5XGUysOI+/6XbO8Tw1Kd8qcrNaZNfUtEHeVRW/ph7ouSgcxIke2xa5CJDTYz+HvEDKWA11jrcbPFfjA5MHk5IAjFU3DOCIa14CEWa0kP76RUPfcFMmoXp7Z9I80YfLsl9ufADPBzuNSEDepAEHy+gkFHe5hYnTeJjtuKtlNv00mdiqV1fpMu3PBchAcEf8BJ+DOP9oJvLICb9wbCe1F5FdSIXh2KC64D+SEbzEZcbh3JjDcqwjBGWYkXP0c7mL5ppI/SF/FXAd0pZvgwWGtNkIYXU0rIOXD/9hngMRRjn4iPn0FcPMF7wfoCn3ML4noTKDoA8mJQwzpFHuRBLsNmiSIes+GE6d1yJmIx0aEWBxpKTsHviSlTJhLGtYR3PRfZjOBXvI8qJ/0HNNlXyP9chwgXcw0C2LOxHv/ZH0o4LFfrqN8HBJXNnnet4k3i14hQgnzisr2SBqbzBZ3dBhn1Y99Sh8TYl+PBsYxj5F00WgYLugQ9Waxw89Bmgc3Yzs4LUyGgU7H4rt8V6dzCTwifPLFLeT9bWUKQ6eEzg1EMtDGDOcswEUAZl9j44hLPknM+DrntUg7//p7tLuzSPYUxHDxn3JWOdwGCq0rBNyBrPfEK2HTBIQb5Wcg2h6fb+M4OBxBQpCSembDM+udN0Xt5kQT2o9hfN7g8NFXwQVELJJNIQTQGSERxv7EiJlTYGASUR8HNXLIE4KODAX3QKiV3SCH7OCn8hZ6Cz6oXTgghrYTnAgAC/18wOWDZYSt0kQJiMMwgVPAJ88y88choPaXqI/6u+RkprjH2x4cIZcFdFQkJKq9SCV0pV7cl6CyUigGzn1IW4NNJ+5s3NH6nYCgGUiMwQ3wd5wK+OM4GfukgD5TB3slnCEcrjqh40QL6A+VSx/gc1P9479UeqcgqgeSI/DCx6LoPVm4RFffIk8ZKqCuBNdSeUzU21ywjv2WgQGwiP0HIGKf5rhGOJEHE2W+CTww4jH2CK8JnngqaIRMZ3qKZdOlHsM2lNCtHi3tFc3T93CClr8eN38iLfL5IVUrh7lgF4PfDTEFxHi38upCpKQPqC8/+ppAv8c2DHUlbvwOrfT5h5dDBHCJX2TwYnquhHxlxywdJxO8jO+Guvocogi+mFQZ2fmTNr7jPsIg3ufDfb4PF24rUwhTEBoTOGm1crj65v1O58QOyhepr0fkt1/SGDmv7neVTYLxmQk0eXbxTcxF7/yZb9RP5XCXEQ/EeOPoegNwpA9gihz51T+EOAD8Icm7v1QDUJNbP1IpDayubp3LIKYGGJX3XfWo/JGMROccS/oFywjck+mOybKzV8y2GJwOspC9FcxomQaeCs+kvx03DDYCV7+P10Iqk46bEAxPlqDW4CxYaGj1iCSptF18MefgCmaoFuXzETCAp9icIYHwTSd+LwlsYhvrPg2Rbup0mCKOuhP8+uUPsqjq9sJwcDtv3dNA342uTJc+ZZLmpkdQANZLWMyi70d1rA4T7AP++3hR5/VDN6RhKO7j3B8QQANG8VFHIVsv1pk+feo3cQ5Kn5SlaN6GNO5k6jOxbqKkL90qJrOoPuZ9NuOSjpvvHkYdVT49lC9wVOloQrpbmE8QZmDuQb37tVCTvMFKOtXHHhHuH/MO+n/8h9zYPv7q7TghKVqGPidVjPP/UNfI2A3E0Rj1sTl0O5kP+WHnN5B2gKhnv+M5Mmak4576gtuFhFz5kS6+z77PLquQMvLFua1MIY5esaVE1dgrAhocfear6vXvHYkFfCZCVL3Xh4FO41uYMK6JBpdrmCJRSVIQLd4nr/JeINq5PuZ8mSvizX1HUyIClgg2Xi0nUIWVG0TcwcA1k4L0CbMTVzBhMhSSlpRrsVwmf4VI/co0AXbK7YEGgHZO+MkwuvZpIgzLZhFpgE69NFBKtXOvq6JaLh6qrIKKK7C6vq1BdQuSUkhFqJQzWqpURq01TAWdICgft5N1JKO9uRCExsr2SH/7dNZxb1+14HdZbyr1rG9+8g7p4L5joeE+rmM8db8mHdkkOvDEUMZ6xxST7Qr8e33CDoS40PbHHuIazFpy0RSBWX2BtAlIa8UjZkDlYGPmk78k48L5IBlXzyqLwf1BRxJXPsWUEep/3DjFjSdInNx8JVam0MrfgfFySQqZQHFeDR2Cfo000Pe442A+GSrESXSoODm/JVVCugQNO3D2gH18dLttWLLBptc32Fsfv2mPrXhMfcvYxqjmdhO0nK3I+ZKmXZNz9apKOcQX3XK8HXkX5Mx7LF86M4h6VSHNcBVSRuABaF5Y8CMpZDxmB2h+XJDQh+Akz/0JM5odP9dzLCsychG3c8W90XcRDjeaD+lvG1MYvdh3d3c79x198YyqUULcHt+pIzSGkIDI3s90eCAOcdNxUX+VNZR1yVFwQCqUbqUiyp0uOSysdLKu0WQwiOzEwXM9fhWW6WhigdhKF5EOJOzQoOYgbIgeiDLSgJpcPLqnL3W/ggJlkk8sx/NUwX0VOr1E0pHe0qpc48qKKmqt/9pljVxNkmXymdQpaVhp8HnV3y2pWKi8leuK+pkAb387GcMiERt3OgscxFi0X5HUEy5AIRISfxjiT2TKiR8OKYcA5ekLxK3Kv0t4WVq0wrpKOIIRWCi+M3hDD1HOSJY3McXtlORVbEnRdIE7SGCHqOLE/KSxzwKzuzscIl/cmQfmBbQeXO9B4qp+K2EDVSrAkKMyLmHXvahARUmtNRZrIh1BAPUJAbNEg3orhQaSKDiusYgQZUpNTCH2xPnL2OiDfqmNMUCvurq67JKO7YpMG/EQFvhJPjHiMFfSMu7w8xYD/ekwV36EmH/8XvCVvuef1mEd3Vftmz/8hv3FF//Cdh7ZabNmzbJ/+uB527x6i0uPoWXu7LrgzG99xPfee8/+ze//G/ut7/6WPfPMM/bnf/7n9oUvPGtLljR5ZUYzh4xlK+Lck84TJg28qJAPyH757RtNAB9Y+HHiFsyvbvOGSLrLVRa/0QYwrxTTNF19LqXQBB9jntQF4QMnmPC7kYDqOdZ9JPkMjJqRpLrBuBC7KEaF4PbK7gymkHcOrFHkD5KUiQgAiDD6YyYDEwNEoqez0+qkWqsX8LHmEeukiAxz7obAjCQ771DFJFWQHKk8GMqckqBYh5twFUJRF9pN/Wl3PB7qmto4mkB74oqDfmHAxECfgcCUByEvFQHv0wDpK52tKIHQMsVJASyWRgayPspUw8qGmIVZ9QyiKCAZCXnxzNSKYS1q69sRchIeYKHJqKsn+Ooaab28V5SHT0bOVKuhtD2CKp1hUWAErxY3O04F2KUjFHgvNOwRHpZIWhsYywLT3enRGAsJgUVCFBjxQPRvtGllqH+Tse2SAsaBOtFxRpLuUtkb1/ZP540oSGA8qApdPTjEzr/+6nREc02x7EsDTQkpc+Hl4Dzv7Kc0Q8giiMke90yjpV9AI8IPOpZ28suw87GoMenxnIL77Qj/BLpbDM1XVz46/VGdOjTfVs5eYR+d2K6TnOSGRotq34WuKODFeA7/8KO/sx/84A9txowZ9tZbbzmMWFSNhxDmtsE1CZtAEdBrsSbnzCOllRE/Yq5hnDIfhTdORzSAB8Z6eF+quY7fSMuL5cQr5cMYCtCeF89pvCQe9KYSaa3CjZYHLSzTXgqXvDMPxYZ67rn/3BamkKrAwJRLomGVdMvoue+BZsFkBL3/wDvBXkScDqa8MnHeuVTU2Z2STj/UPUibjWRDxR/Tbyo7Q250AwF0FSUz0pgEKbjEFEa1Z2aCSgYMq5iwisxVHju2MQDO1PC6GjnMRZghscRyCZ0m4PEQYAYrK1Ch5GpboTX0VikyKkxgqaGWAxxInAbjpWCiiZEJMs1ZuANkCIjgSp9E+KavjHfKcukWhGeSBSe4oilD4d3IQYKZw2C8jGOBEVhRwQkDw8M69lOkRz75JAhBv4UgyQWq54EX8cPEvNJO0RNgERagpZJ5j9GUpLzTEl5GcoSr44no5ehC6CxcaFVblf37r/0HH4/FWkSvm7vO/tN//x+tWJuO+nSajYcbISGjq2DhqQT3RzZv8Tlx2dKl1rRkib344osJXS88m1sZE9pcIYapH3UWQfANfRseR/OXeSyfjSm0lvLKdIrNWAVwxe32k3Ee8ZL8izX+b1BAmKlmoDlqm/J0gZG+ZEhNJtb1N2M0Aq/PeKg3kaiWyQ4NLnbMQy6iqndVWln0yugbAMXgY5b4GiCiGgPXJEK2O4SYLl49PYQN5pP0/G5xAKkRpVegRhzD4IxbClaetdoH9Ly8scJeMgb+2WV5gbf+jx8lBBM3RgEccazIgRswAaXI+IukVh/LkKOsscx+XOWltjL2GKtVlYyBMYYljc2Gp8pCul1VWh1wd4wAkh5zkYEco6zHXzbQTY35SE9YOKVp81hWOD3+GI+Vo6VdWihGCt8p043dR3ZZV5/MDJQni4Tz1y7YtmVbhRPUnpb5DQ/jLlCzxsZGu3r1qh0/ftzvf//3fz/MY/pGe0atZr9JrQVH0FJdNx5vpDwAkQgwGHMxwKdQVihvbGlKWBTGksIVbV8VbRtD+uXYxzhTrmnmc3DJg5/GbuYbnO+QT9mAj6vF6zoaQkyDEoLvVzoNwGW995MFsgm3ahEZUK+Qvrt6WQ90SiY/3XvIvhKPD8l77qPfv5ivE4gc5ZLsloakDul2xbr6NbaXthA3tjVWMr6LbRWMnSFOBklsr0eP7U3yTPdFoYhHPj4w0vXIVVas3y2+ZuCYXW4Cp2ycHATrpB0eJzt9jmfHK+ULvEcCv+ysMnWOcIz9lB1xoj2DhwkeOfySdqfhMah/iJ/Ae6ixkO6LyKAxDjL0K8KXa5JnvMbFpPtIZCypT+I4zFVmpCPpMgeNuQnWZxGGTIEeBENoM+8jnArpI48T0+iagVkKJ2L+SUk3NMZEPDUn+KxgHfIp+n+99ldWXV5lHH/N4ry6pMa23r1Vm9FRC7JTNdPCWPy4uq5bu9ZOnDxp+/bts8Nth62mttaWL1+WmSfT+DgeKh7xhrpQN9SrDuE4FoeppBt/KE16DA5KqgfyTZfjWSpNBreGKaOQz9lwpTzPf1BlCslp6DhgKrQlu7yhUt0WptA7JKlVBvhJZ1xXWd7zMl418DzE59SV954f7/RLh1iOd3jSwR4j5peOPMR9TJPpxDxxmZCy65An6pi+psxYx0HX+D7CJV7TpetdIHcCt5A03U/paNx7+3T1MrLzzo6c75nBCfwh6kkenl86PnHSdc1+Tscd4/sMsaFMQqxHqr2DYKy28BxhmEnvifP/gRhEOOaPNfyXdN8PH3sCxUj6IzKGtCyOz1z9Qz8Ognfs1zRI9C7mkX7t96TPTsM7PmZfY9/Ga0wXr9dlPkleAKccMEiPhQhPh0iOuBlYR9jqSnBaT/zk2V/yXuN4UJ7xwwiunj6JP710uv3hr/3AasqTI+OwIpB5cE+XmEFVRYYhycahERRwC6MCDxjxBQsW+I+ir7S3Bwfct7AeIy4qhTsjNd8aRJNz4FQGJ3N8c/zJ8X7E9c+VICvfvLQnV9oh3sX2jiS/28IUZgBPY9LASE34iK3ZicaVX7BfM7tw4YKdP3/OZs2cbdMbpgdbuphPMnmnB24GXkk5PmGny8xEGPkN9WKDDMac3MdBduLECTt37pw1NzVZXV19UJGPUZkjr+XIUmT6Zpj65oTxyIoKk4L6jD5BsgIuCIrWdU2HzktNwMYhAvDtvHbN37H7C1zIDNBh6ukZjOYP+ca847XAfMZyRVlgkVPR1EcZ3AUaI+yznABM55G6H1ROzoRTL4eDwM2EYb7xNzZlQvkC9esq7ba2Y4esdc5S23HyE7cvXzF3Zdihislbkc67lleB8RpgqD7escNOnDipukriJjOWI0eO2FNPP21zZs8WJRZN9glz/LQgX9+OdQ3HBlcKr9V15aXoTeG5DBGT/FL81RAxx8qqd6giCvyWMAdUHK62S65qPvroIzty9IiYQw0uIW2pjMj37Nnjou67777btm3bZqtXrfIJACYBZuE64CbF53tfYO1yRutRHQ+1tdm+/fvs4sWLPoDKy8uMbf47d+6yz3zmM7ZZhrzLlrYGpnYEHZOzwPH0ciyQVnnEVT3Z9XT32tFjR+3TTz919w6tLa1WW1frsN2+fbs1NDTYXXfdZeVRAjAWdcgD05uBL3mKmnp9EyAwFv2XziN9fxOqO5XlHQiB9s4r9nt/+b/as5u+YEfPH7Hfe+pf26s7XrHHlz8eNv/jPxTn5GOykfImAEj0ExdmCxcttLqaIO3ExjDtdiUKY25C6VNZDgGBsaY3I8nvtkgK88ICTlYhrgb27t1rL734c0mPSm327Fm+g7NNTNjOvbtdQgeDsHr16rzZ3cwP1BFG9MyZM/bySy/b6TOnbO6cuS65/GTHTtvxyQ6v86q7Vllra0vGXswlXN7IsNq8mXUc73kDi4FQZB98+KH9P3/7f7vvwxUrVtjBgwdt3bp17q/pI32rnzbNmpqa/HkKegOQm7qbgsAUBG4VBAZoVl1Jvf3vX/3f7Cdv/8R+/cFvWEVVhV1sl3BAs6rTtmJcTY3Mf+WtakUsZ8P6DdLASO8NLRaTOF+qZF+oxwhT10kHgfHFFAr82JYh1q7QTuF7773XpklSdOLUKZs5c5ZLj/bv32819bW25dHNtn79+kSQL3ym6xLEvhW9yKBnl+ry5ctt69atBrPKKmvOnDlWW1snn0al9sUvfsmWr1juBGIknPqtqP+4KUN9DWy6OrvsX/7lZ+rr4/bcc1+V89TFrtaAMayrr5OtyxWdlIJjYgitutr/3B67Ta/A1J8pCExBYJJCAG0WZ6QX2+Ylm+3e1o1W01Nj3TIlemj5Q1rU9gYXVL1yzSXXNeM5OEOYVDDaneEejMAcN3jhnkScukxoCIwbppBJnuHjhpFCRpg8fCe1tLQYjCC2DvhzQ4XYOG26M2N4kE+vasjjlkmQVEdE6zj9fOyxx+zAgQO+rR9GsVY7uPgh7ZqNbYbiRhunKAVVVaeCIBD7q7Or020HH9v8mDPZ08QItl/tsMOHD8vu5WM7efK4LV6wKCNFxoaTtJGATQFzCgJTEJiCwM2GQJhjMHuBpIsCacKq6ZXqVVdcS82bNs8XrE7zdR62PL3e7CqNSf7eLrUH2+1T0n4tWrjQnffD/E6FyQWBccMU+gQP7Fmd6MKAg4HCR1BTU5NL3y5fvmQfvP++JHSpI2AUDwYhupq5oe6DeSMoTx/Ueo5MXHwOEUKc6CUcn30tzc02o3GGHT9xXAzMSR9Q8UQQ2hJXYc7E6tkJSiaziXXjsIpNShjiTHuT/qWfPah/CdVV1YZ7BOwzT8rweZpUxTXV1dYsuGKvWVoqZ9k4Jk6IrONLktYzmGB/0oud2LSIi/F52Cuw1i9XuojPub4Nm+9UhJwQcFhrbKdDetwHWAvvA4FzWgetiWMBeoKWJN0nueiF50m6rLLS5U7d3xwI+NF12Vl7H9KNfXbs0lEdylBuM2pniObTR+NbUphpiugENX3jzTed3jZOb/A5CheqU2FyQWDcMIUQOPAvM4SSCQ2Gj2OPpk+fbjMllUNaePnSJVcvs8MXlS0Su1wEueCuTMoivjNweo6EOk7OkQHEhxb1dMKsK/XDV1JXV7dvilg5baWVfbXMzp4962ewXtY5nlXVVYO3+ZP/BCboGSmeYBUnuF6pfq9pVzHwrahkB7FUFLqPzAknzTy6ebMtllf9yqpKtxl1MwL19z1r1jiTSNzKyuBElHwHT7/03gQJCX7QPsdrtRV8jDju1+QbLY4wjt/ZEY+aHa/5OIfv1i7+g4cOuSS7qqrKpexIsoGv4zH5T4UbgwB9lvRRzMhxNOk73rGLvr39qtUL9ky2jBMCYwIaQv8xJnAmzMJyuhZGaEZ43yaJebvchcycOVN0cGbAhZDY85j6cwsg4ARHfaRQqiMJY+iW82q53baO4k770Tt/b5vvedSmVU9THxN3fFMpcJD5k+tVSQk3iwZHPMY9TWYxHxs7dZ3wEBg/TGEC6jiEQMZOMYO+sWTnTmf+miQ1WrJ4sb9nNyrfQGLiOkEdRXfFVXecWMnC66A8PSSEupRnfhByDSLKY8gzoA7K8Sc7pWFQV61abStkZ9ijeL/85S991bVa7+I+b2cuE5uNUMAE+yu40G9swAFGs2fNEVMMk9ejncVHxBhes6amJquv1+nTwDIJxGUSrNeu8kEw0vsqSQxRxfeJ2RkTiXAsdLxeI55xVQCenHwiaq0NTWf8mUVSrXYM+oJIcHT8FawIvWI+kK5yfua08ml2Vounf/iHf7DtwtEZ6o9nn33G1t5zj01THwxK76mn/owGAgHy6iH1Gb0GYx56TyRDC6IiLXrOaaGIt4KVK1dalSTjfO+TdAnbNH5QFI4o3CXPBS+/8rI2qLXa448/LjOKq/aP//iPduXKFbv//vvtwQceUHo5TFb6WMZo6jyVZvQQ6JFjakKpFl7/tP15Mfp1tqB6nn178zdtetE04YHZtdFnf8tS/uc//c/2rW9+237wg3/rnjJYdGyWORTCFzB5tPPqLWvAVEFjDoHxwxRqQosI6EyemvrP//K8/dXf/o1Nr5nu5zK+L9Xxtm3bbKlsDWE6PvnkE3vooYd8w4cSB6atQBClJSSdkqSwCu/S5BuJe8yGupw7e85mz5FfRE3ETryZhPUeJuVd1emv/+qv7cKlC9bU1OTuVBhULarj8WPH7KhsIVvkWqWuNmz5J/1I6xrrMp6vkbnGxcGf/dmf2TvvvOPwWiMpHxuC2JCDXSjvn5KrnrXaVRwDDA2T6FVJVbFpwU6wn0mVK4yjYN2hiRE/WkhJKjjKjP4GlhMwMA7Aw3YxAb/QWaQsgNh0hWSchQbh0UcftWeeecaZayR+McCUsOpH0lRRUe47tnft2mXVYqyf++pXPdoVwfmQJIdr7l4Tk01dxwgCLn1V/9FPzz//vNO0yupaOTS+ZpevXLYjso29q3W5bdy40Z566ikfI5EeMAnTb/sP7HNnwpjL/M3f/rXt3rXHxwd9ju/WYzqSDIZxoNfHqPJT2QwNAaYY/xeiMQfgceaBFZvs/JXz9u//7j9a64wl9m+/+QOzLjH4igaZGs9h9uw59rfCsa1bH7evf+1r9uprr2rhedrmz18wnqs9VbebCIHxwxSmG6nBdu7MWXvx5VckYCu17/3u7/pWeVSyOIaGGeSsxp7ebpd0kDQt6UtnNdw9EygT5PPP/7O1HTmqs1NRT/aKASnxvK9JLdzV3WP/6rv/g6tyYn4QhAuSxrz22mtiUirs9777r7UxZrmreU6dOqmdsj2uBgrxg0QsMqLO6MSMJtJVMHnn3Xft1VdftUceecSefuppu6SJDRX6Tkl7YbxhGvnF4IRVD1yRhvzqV79y04D096AO7bJ777vXvvLl59z1A98jPGPciXIFFvyQKu3evdt9M2JjyWH1MNgPPvigSwFhshdq801D4/RM05mIysUMYs/65ptvaZGy12okUXz2889qZ/xcqTDl/3P7R46b3ZLelpRIIjBBmesMUG7hDVJaHK+zwYxNaOfPn7dFC+a554TTp0+7Sn+VfKs2NTUFPGcBAOegH/3A2GhubrGVcre1W8z8H/7hHzpD/73vfU/ut1bZjh2B9rVMMYW3sFdTRWmAsWRjgSoxr2uAfvjSj6y6rNL+j1//DzZv5nzr70JowIJValn9hS9kXN7uQD0wU4CxBeeY+779rW/ZKXn3QHMDDoJXaBAItDPSZ38x9WdSQGD8MIVMhCCiEJNQLcla89z5OkuyTGpF7TiWahZJ3dy5c+3tt9+2vfs+lZPNykz8kTIIEOAokcH/XUtLsy1evMhdylA+AwZVJXFOnjzhLgb6evVOzqkjU4eTzwZtLhGJEMPY6MzhsmVL5Q1+llb7BwwJTevSFm06GT9gpm03MzCpMSGyI3vlXSsdfqiMd8hzPowhJ9KgsvSgPo/EiWcI07Jly3zCRD0WA0wh6cCBGHg3oVXJwjsI8j1S8z704ENuZ4mbpoXaFciue1TCbLqqE8wiUxiZO+w1kU6/99779l/+z/9i1TXVLpVCBc8CiHNO12pTD1LrmCbCdep6YxCI6vg1MoNYrd9+wRp/q0h6GRsw988++6xOOqpzOgL++8SrvibgveDjjz92jwsvvfSS2xBu2LBBu/CPGO6ZLl+5ZA9uemhcMBk3BqnxlfqP//iPvU++853vBM1TqnrQ+zAr6aW6iZkKtT+qY+vttydXP27HLx+3PSf32MFTB+SW5mG9lnq5v8RK+nqUtiKc2PT/t3fewXEeZ5p/EQiABCOYQIABYI4SJTMqMViUrbC2qGRJZznpdLbXlnOVXS7frvdqpSu7Sn+cXb66cq13ncplSbZO+SyKpCwxZ2oVKDFIJMUMRpAESAAE7/m9Mz0agUEEAQLDQTdrMMOZL/T3dPfbT7+p067Zlh/pY+pkqjVkNkcqj8TTID/RZrNwcZmsZ8Macfvtc30hyZMSfdzcubUtny3eq/URyFi2UqQJ8DrtBgKROFZzzM0ndOjORZ2N3UyqFWyC5hDyJmbhnb7Z8Oi8fA2MPiIb1157rQ+MwsIijZ+UCHCBXV191Elh+qqJgYZJbvrUKbZB5A9tWCiQTEzcTOhsc/eR86hvFpZALiAbpBDaJdP56NFjhFGR2qzIKiqG2KBBg1xbmCJztJsK7cr5k+UvxatbMXkeE8SRQxrkk1Vfry0PRcppHwrXSEyj/t/s+yNMesu/Bz8yzI4QO0gdpIGyX1ontOZlZWVnPDtCvLCg0H2ECDRZsmSpLV261MkG50PYIRqpdjjjCvGL5iKQTuzCJEoowuAhg1wrC9FDRtSIGBJw4oV+r5dP2mozxgCEf8CAUluxaq2TlAceeMAtFGjft27/wMaOHmXlAz807Tmp5GK6TiwXjwCLpV/84hf26KOP2o9//GP7Uho5pF2qpE1DKeHuASJVjjYiShHGr2581Ypyi+yKkVfarj079ZuCJvOSGmBpDM9oGdr8LFVNHZeUi6lDmnN8sh+kX58+xlzJeMdqkIOSgnvoe9wQBiphNT7wBKedUP/srgVLoohEyhc2ff5K1Sl+yFoEtOVs0x7YTs+qariAC51a/2cwMikSjcfKmgkNEodpFk1JnTRQbOZNZ2cQNLfzIrwZGOE8fAT3a/B0UuoTgh5wDk+V5CCChAZtAL/l5Oa4sD+p5MvFiiosVB35nTqSYw+H3VL5bXSShpHi9/Tz0q7tv2TPH8wRBw8e4Ck1gQ1UuhlFXwuTIxB5uQUgXEtKFFVJW9MGKrSfr1b9f+f+k8ib9aHIo49kZWE86MEwuUMi6kSKi4u7Opb0V1b0CPq+0srSV9MLWowGuTwQnIJQZwGFqZl3TJqVlZW+yAl9kXOzFsd0YNrhM+bkQ9Jy046MC96nTp3qC6XQiyED/jnZ5mjBDxzYrzaSJULRx8g3NOWcj7a4dMAAlzPIrkgKz9+oQbaD4/kKcwwBXaFUVFSkyOGLL75oP//5z91l47FHHrOxO0ZZ7gH5NavkSxv4wtsv2opNK5SGpo/1Lu5l99/wX9j22LaP324rdqzwHZjCdXkPU254D7+Fuob38x3Lb+G48H6u4+k/CxcutMWvLrL/roCSOXNudFkSFi/40v/Lv/zU9kumTJ82XYEn9/u+81WSL1jl8GPF0vPXv/6VWzSrsGUpc/iCBQs8HqBZJ8eD2wWBjNMUIhzp5AwYHO33KO/fe++972YXtCKYjzHD4G8DSSSFCSW1yvL/XdifphMhUX7r16+nAna1AiEw9fCZ+/gARmiLxDiZoY76fKqhUf6Ne1w71r1Hd0VHD3HzKeSRfZoR4KXa5UQXSAmDC6vd5XsU5uPuSj6Nn+ahg4dslMzIxSKGEHvHlEcTHoEQ0g4Q8kbtBMDs2FRY0roQHfDGFJ8rIk67XEybXy6oMg7AiAhj+uXr2uYP/FjZY1rHlJ4ypyf7VujPEBHyZRYonyfjBf+no0eP2UGZiTgXbUAXNAaXCxiXcT2rhTuBQkQcE3RFISrci/qzl2Rfps3RRO3eVyULydtuBSF5P/IDDQ9uGFwL0/RIaY0p6YTAv4h/zooAJtLmFPw/cbNAuztnzhxbMH+BuwCUD66wxp3azcRHj1pMa9JRZaOsT/8SK5VmH2VATr389fIbrVfnXnajCFgnae3bc+nKYpux31ObPkxV5LrLFoHh8kKy45jky8Pf+rbLCnyYyXDAXEufmzp1mhaRemb1VRY0sWQ/AhlHCgPkOMTOmzfP5i+Y75qlYUOHuUmSKFY6LFoSVP508jwImk5sjoAMqyTuBwnhXAYJA8E1KzJ/7pZ5Di1Nf5GcfhLMrLgYYEymnNMgIvOGzELPP/+ciGqNUUeiokePGiPfr3LbuXOnm/hGyU8ODSdExu+r92wtPB8lPzffCcihw4dsu9oJ7NCAkGuyv4hKJznje0liwmS4RWZnCLbQlZaW6G6Z9xUwQTqb48dq3Xdu/Ljx3kbp7Ze4UBb9Vd+CEFLoZ/SdLsp1efjIYU/DhIDOEznur4h4SDaLluTB3sfIB7lSQSa4N1yniNW/yW/onXc3Sej385yFCHc07PgnunY2ea/EReLf1kSAtkG2oKlF24c8KZC2r0Saq94i9vwWZBefj6iN//jHPzghGaz0W5AZ5N0gfUabxe4+JEkOpLA165qN10KjfiHlRz/6kf3617922fLNb37TfvCDH7g/J+cia372s5951oPqfUflH4iE0rg8Lb90ifLahhqbv3ShdSnobDeMn2GNg3QAIl4v3GcKCpV+KCkXQ11csRD+k/Yu013a/z782Jzjmx5LVe67915fHFIn5q0gP5EvLDyfeOEFn0+543cV1IT8Qc4UyMKFb2tLC77isVweCGQOKZRATC/ViuxduGChfKf22xc+/wWrqKzwlcoOOVwjXCFuaFA8dx2T4jkGU/o1P/IZYaxOjyDmRcH37RNyCOd/pIZ46qmnPLqYiM+v/+M/OjnlOAYLk+mRI9W2RL4+x+TzdbfC+Ssrhrp5dPfuXVZVtc9qT9aIsCp5cEO9tkXHV1FOvqqnp6XhQtlYwFLPiNmSAAlJIjui9nr55ZdFnp93f9Cvfe1rCV84HRcmRDBdoWz6S5atlLm9tyKMO9kprbgxu9fVn1RaoCM2ZvRIGzlipAtuoAtkPhthDM/EM0IAr5hwhUfBs9BYrIj3l+e95ClpyGMHwQM/Cn2Mc9BwME6WyZdw1eqVdtOcT7nZkmPAmbya5CRDY9jsscNFYrkgBDorETtps2gP2u6JJ55wwneT0tGQAoRFKDJMAsXb7r333nffz9tuu83bi7ZE1hGwgqaQxRXmOL4PcuuCKtJBD/o4s3GAhbHwwx/+8CNkMPyGjKIdTynoIoyzxG+aO+Q7uG3vdrtv9r02dPBQW75muZQLkoEMR05UO7mWUO2bXphjzlqSc1HT35pzfNNjmefw0ac6+A02apGdk1Pk/Y4+VCAXJ/zf8VG+8847fTGZqDrWLfOdpoIVomm94v+zD4HMIYXC1oUcvVAF0oX/E7tbDBw00FXb9GqI21tKSYOAVfzBh4KR884xoPyCTf745NnkO3xKEMpVB/baju07XHhLDDgZ9EhNHZ+oXeJEzJjdSFpaNtBTg+Ak3rt3H2lu8lM7SJSVlktI4HKePIc6NrOu4dzL4d1x1fOdUlAIQUL79u/VDjRHPRIbrYn7hqZpCVkZI8Q4D80I6TyGyCWgsJMi9pJyFA0jGhMibfH3dPwuBzBaoY70N/wJ339fwTs7dyvqfrNt3Pye9zHwgDBSOA5tK4VgHIJ8Nm581zWG+LqSBsVN98IbUrFfPmtMEJyR3qf9AvFPqyGAqwsptLZt2yqfwCotFqt8DITE401vhNwjIAuzcXl5mdq5wLWLjCXI/N69+/S99gBvhqxreo/4/zMReOSRR878MvmNa9P1OcHrXFolfkFlKDfEiYOutD8vftze3fOO3XLlrTpQPysAJSdPjoW5iR2Ykpdql7dA6FwLqSqzdxiLilwtMCCMaFPRBk6T1Y2+ynatuEJR2GmqOfNquzxgvGmrIpBRpDBM9qycIQ933HmHJsP33WzSoAmMwdlfZtwC+WiwYiPYJAjH8N4cdJqeAylcvmKZzJib5RtYYXPnznUyWq5EnpjiGEheR9WDz0RpzZg5I1VHBhgTM+Smb99+7hjOeU4ok0K86T2bU9/L5VhM/2hHlyxb4hpX9oVGo8VE11cr8pATy7EULuxgAi5oZEnqS6qfBJFO4s0xMrtxHKQwrNaDsL5ccGl2PfXczC9MQ+vWrXe/VQjznE/OViTySBsgMzyBBxTXPut4Ckmrr7pqojSBvd3tgX5KcA/0jy0j8Ssk4rBI5DFoy/3E+KfVEcDku2jRIp9XBwwos6985Su+6EG+4VuIHPFJG9mi9sMFZebMmS7z8APtpXZjbGB+41q4BiADY2l7BBJ2jcR9fZs7ubfIgmwlXUrsk5Nm260NN2uc9bLcOrm+5Os3KS0yccWFooM+x9inIEdnzZplJb1LbN3adVYrjXQghfzeEeYsnjOWBAIZGX3s5Ev14x0TMT5lPbpLOKKW13f4mp2oq9Wqe78HcuCf5lqS5KR4sY2LiQezGur00XLkRhNDYfDgh+F+gXyhQSRm4oMFAoSwpl5dJegpkBYG2j6ZoI/iv6VgkyJNxJQwEMPqzb/Moj+h7dglZrGSj5eW9veEqJDjUNBQgWXAwPFS22laTJWmgohjMJ+hbeSV1TiqLwUcoYSYz+r/cioAACZ/SURBVElaDJmDWAci6Nvfqe9jUjyjJK+BDxsagaBFBFecznGI763cmmgCQjuccY34RYsRYPeYjYrAxMSPPy2acArty0InX1YFfUwVaD1pa5BFBAaQGJ9jaTcWxjtkIaHdSU8US9siQLDb4d1HrOvSIo8+hhieLjxlL6z6f1beq9yGDxphjz75iP3rfY949PHxqYet05hiK5ISIyOK+lGdb8Zw0rrKwoUMDXJ20+bNiSAmmZGHaRGPzKAPMo/h4hBLx0EgszSFwj0IQPVW15Cwoibv3caNm6xSnRUT7UltGcUkid/fABEuOq6f15J204Bh0mVFvke7paxavdrNa5guCcmfNHmya2Z8ctVgQo5DVJiQuypVCGahrQqoQHtDfjnOWblypeWJwBABmnqultTxcjhXOEKUCzT5jZ8w3k3wmL2YyHgF/xUmSTDRH29n/6znA9dD0gDvVfoNAiHQKtLO5NmDWGLiCBHMQaBdDrBcfB2FpRYpmBQZB68otQTJqWvkr4rfEppVfjujQCLkX7Fr124PUCFvJsL9sAgh6SlIlXTTjTeq/ya1VTo+ltZHgH278WvD/Ev/h6Q3aJGLzJh45UTJit7q9AmNDXen/9PPSeNEAnw0wIOkHaZ1Nm/eIkvGck/zFEkhaLVxoXHUEv7GR2RXTZ6N7D/C1m173f7jtd/bWEUin5YvdEo2pQ7mhMwryF0WIb/5zW+suHtnV3AMktwtUr/zZ0VGx9KhEMg4UphCX53RiZQ6J3457AqAwzUEcO26NQo8OOR+Ur7ybo2Oq0kRIrd85TLtz7vOV3c4F3Nv7jlu3LhU1fiAkPaBz711bu2JWjcjExVNdOcb//mG7dy102bKFBTID8dle0HrlCuyjGZ1+fLlvm0dGpJ8kWOSkHft2sXTqjgOtLEwcV+XJDBgzeRJOgjIIBPo2vVrbN/uKpssYv4RrViW40n/gmCfErkjVRLkGi0h39MvMT+eL6qPKFWO27p1q/sN0Q/Xr1/nvm0kgE/1x2Qfzva+2R7Phyx47rnnHH9M+Cwyjx0/an3791Xg1OhEldSeTL1hHLgGR+PgmMzH27XV4R6Ng107d9my5ctctrDIjKV9EEDkBCneoFVZvtppZD9ZlUq62bQRU628T7nlNoQjpKz4kEK2T4XPc1dkNTKBgLR77rnHE9ozz7Lndm4ubgvw3kgKzwNhVv6UOaRQPZCh5F2Q3qgSVlvkvUMbwmr7+Xkv2vhRo+2WW26zK5VLUL02NexcsCbP9Qs08w8Cmwl4xPBhdsP1N1iPpBDHERfHcFb5TMrBdMn9OAci01XO/Jj2XnvtNXvplflW1q/U/utXHjR28iiUVsYHoMgSJdvNdfj+oVHFzIsv4RXa5QRtF5rVWpnai7smzRE6hokwHQ+w7S7ciQZctXqVoruXaJeTyfad737X/eIINErhr2PTz3Vws+VPWj/G3A5++P2MGT3GcpWmh2ARdlnoI815KIFM+DvYql+WDij1oBKiXt9+82278aYb7eGHv+UJr2mfrMUvgNLO77Qd8utTijbGqsFi6aTcIFhE4lISFoxIPJd3ae3OziUb3tlgC/68wLbt3mH33/k5HwvIpeBykSL27fycHen2YcbJUyRcgjOdtgF52lmoj1BIblbTmIM1SU6FSm6dsYXK64UF4Ve/+pVVVFbIknDY5zjmss9//vM+52Vs/WPFLgkCmUMK9XgIOjRH5B2kIDARlJhmX3rpJQ/cGDdijJtdmNBIW1PcWTmgWPFAENIEql+gmX+YePv17S/iss13I4EMUidW+yNlVkZLFQgJl6aWHkSi+5OfkH0kCYyZOHaCVVZWOmGsqalVhHLCN9HP0bHZXkLQA6Z+Vp5bhQlkGlJNIViCAn4Q64Ap7cjrmDTCf//73z3SFhxHyPSJbxbXhWB7OyT7BtfJuqJ+7COAZ9TDoRHEpEiuO/oofR9SWFd30l0Vzvn86ru75QrBQgXt65RpUzyJMpoAhkq/wn7nPDX+0DoIFMknkAUjOVWD+RiLBH0Yn0FkFktFHwtqbybpQNTRli9R+iHGzbWTp2n3mr7u50Uf6Jn0d26dWsarXCgC6XNMjjhfTeMJa8w75cEZVfv32QiZknMbZS1RBErOaaXVEjnM1BK0gLgqfP/733c3J++P6oMsXOh34ZhMfYZYr9ZHIHNIIcIwbTKELCAgmb3wg0IQfvrTn3bNE0KVzOtr167Vd5+SU6y2HGKWa2FhAGD+ZRKFDOLPiCBHgJPQlJ0FvF7hPtwzeV+iOjmOze7JAs/5S5YsdrLYa0aJJ2EO5JXTg+APl8rGd9LIkOuxX+9e1rlbD2/H3opw++IXv+TaE4861oNLr6iFgNbfwsxJoUg42N99191uMibAZLV8PPH5nKq9kQukKfG+kY2g8Uzqh0EY+5hQHyOH2LPPPusYMBaO1xy3nr362H2KdhzcxKcwTFxosWkDNAEPPfSQjZULBKYicmvmy+fzRvkUdsvvmurD2Qpnez4XIox9j3m5plATLW4wlVrsfOlLX/JdaYLZONQzjAMc/dlLfMaMGe5LzYITmYf5mGvF0j4IJJdsVmO19tC//TebWDHR1ry31u6edpdVnzpqVw+82nJOMTc0WF5jIsCwfWp6AXeVbCGZ+pgxY1IyNcxNIdDkAq4SD8kiBCSPEFsZUJgIVQ1eKSGpDssER+ABq5YS+aaheTt06KCThkblwuvZq2eraY4gcrvlmI92BRNn8N9CK4MQZgcCCmQGAhgmX76DuAAlxAWhzx7KvXr0UrLqU9ajm/LrKQlzEPbhnfOysYTnI5ckWIbAEDRcBD9ADENSWe9+6V1Q7Y3jM8QIMsO16mSCQ1MIAYcsQoqC2T69DbIGy7Sx4HplPff7CjLZqV12yN1Jv6SvQvDQuqKRpQTcwTRoZWtEsDFZcny1MGRv7kL1UXAj3Qn9OJZLhwCLShaw4E3fpR0QcvRfNH89pPHDbzRoCnFFcROzFr5EGxOogna8VnLvSPUR/61Q0azIorDd46WrfbxyOgI+hrSjSZfFBR59fFJawieXPmn3zbjfNu/ZZCMGDbPX1i+22RM+KTOyMmdMOWY5Y6Qp1njNiKJ+lh59TJ22yWe1tF9/91elT2KVu1Hb+uEHfvzYcd9elH4bS8dBIHM0hWCeFI58RFAe0RZpx4+za4m8M7QvLmlOcLx+V0l5x40dZ6O1usGkyGQIYWhpQcj26dvHjmvLug1K4okQIPp1/LgJLtCdDOp+ofA76WggjQ3Ky4fgZ5X11ptv+URwg1b4FUQOkkonrYSVWNpXWfmRlD60F1oSSAoRx5CYIGScxAgzXwjo/YhIC+QHrRg+heR7xH8KMvPO2xs8dxapgugnWV3oRzyjXgEbItp3iWATcEI/q5SmacRw7e6iwJ1ABh0TnUMKJ7ZLI/Fx9+49bJ8E/cJXFmpXjM0i6D3tuuuuM3xd8fv0saMTO0qfbOt+g0aWtlu/bp2bftlBZsL4cdavTz9fQHoLe5Z27Vyj9mDHI1wuMB33U67TUaNHue8omnKChggsYu9jZJX3jbZ+oHi/FALFOcX2mSmfkak4x8b1HWeNNaesrE+ZNdYnfKpdU3g6szWFxzV3nZSMnT9/vu82xSK+XsnyY+m4CGQWKUy2AxNUnQTg88+/4PsfQ7x69OzhJq99yuj//t7NNrJ8jN17372+LQ+TpGuc9N6SUl/foNQ3G+3v8mfbJyd+9pvNL8r3Vf31113vSZW5vvvMSXgjpNesWWPPPPOMkx8SfjIJINS3bd3mZugHH3zQZs2cpc2AExNvtk/C4flojy3Kz8bWdjjboxlE4GCSwMcqaA+93YQpE9xLf/ub/elPf3LTMik3evcpsauvmiRi083+LpM+0ZsEHBXKxy74LdIeWVnUl+nNjo+wJB3NggULtEBSAm89/xH506J5Ha6gKDRJFMYBBW3sTkWr0hdHjhzluxTsFdEeIiKIHxtEHZJ+5RVXugbbT4p/LgkCLByXL1vmUfid5f/cXfhj+aB/X3311SJ3CT9lFsH6j7bJ3O+LKCwPBw7u92Cr97Zu0So5x83I+Dmj3cHHuWXS7pI8bvZfNB10KdlL9O/5N16wAb0GaFF7xNa8v9pG3TYqYT5WkMnpDPcpHCvFCn1vlCLh2c2EYLa+vYmYQTEjcpumBMn+xo1PCAKZRQqZ1JITG+lgSJuBEMQMOVqdFu0REcidXu9s0ydN9jQxCF06Lh07D8GaPP9imhfyuVXpOyAe999/v8y/JdoBotbWv77eqvZXuQk5JF2G/BAJO2zYMBs/doyb5SoUENFPdcQ5vCC/wOZIDV9RUaHJuwnMLajjxTxXW58DqcdsRp61m2++2Sc/nJnR+BEsgVnCtYVqLyf0qiBRyWvkL0UbP/zww64lxIfqgw+2u5mzQBjWK7ACEwcl27UkgQzyrJjTCWQighUix44laP8YC9XaQhBtYCDj4Il5nXGBkCeaHlMQkYRgS3nnnXecnNdLo6hU4P5d/HNpEMDtAXP/d77zHU+0r4ZxUkd7ItvwU6bNXGurKrBoQu6NFGncJln0zW89bEdq9ttjj/5COTqnenL9XXIjGKbo0JAI+9LUPF71bAgwLhP6+6QbkQJKuhV2s5fXzLO9x/bb3VPvsBwReO2/pLlImSkymbr7s5gvMOskr9n3mBy9xySfccuKpWMi0ISttCMIEozBZOa10P8xk5SXlbkQZeWMhgkBeux4rVbNNzhRZPLj5b5RkMIWFMhlzx6aYHWNE5qI99btcTMc+fIGDtK+vMlVU/oEPEApP279h89I+/KBTN3H3HEcjRgk8vrrr7dhIorpRLUjmOnAB+GJTyCRs5jXiRQn3xqBPLSjr0ARSnrxGVz6yreF9sZHDk0igRG0xwaRGBYGmJP9PNo4tLX6Q1YWPR99nb4DnpBo/FWJHBZv8MULxKJSZmQK+AXcwQgf2LfeesuefuZp1yhOmDDBv8NnCJ/XMm25FvpzVuKXIQ9Ffk7IODkjjyjo56jGAmSPHWUqKypS7cuilnaDQKIVrtp/wN7Z8LaV9O1tUwZP1hg66otNXCtoc3aciKWNEdBwVDOq6IOKvMqVGsBs7ZZ1Vq497u8d9Tl79c1FNn3EdCkocDPS2M1gTaHLDPU7FpG4SeGesnjpqx7c5w8Y/3RIBDKHFAJ/+gSvzsquC/0VaUcuNrRGTGYQjH4SlN0UvMGkyfBEmEIufBJtQTOS9mNwRYVrUl5Uehkc+THTEZnVS2afM4run6etjtiLFNMmxMW3EJO5tG+fvk6KfGs81a3DlGQbYtrEJLFMO5GsWrVKKRtq5ChfbcOHDrcrtJUSJR0VtK6fnDXTNsnkjAalv3K7sQdyhdqjThMoO3IwuXYUIhMWDxC9znJjIOIUHJctW+qLolpFH19zzTUpMzwkmf7POKBw/LXXXuuLJcjhvHnzRNAL9epsU5T3EVMy20Ny/UA+/cT4p1URIBchC9Z58162hsZ6O1B1yAkiO9EEFwpuiKYQWeaJ3tUu6+Q7eqL2uH3joa+5hhE3FVxbyrXbBDnkUrKO9ta5sbQBAg61xlm4lQgiyfUfnP1ly+2UZ7V1NXbHlLkoCEUGOYhjU0eHszLmnbFP32H+xN8bK86Xv/Cgz2UZU8lYkTZHQMq5DGUsZxF2jTIdbpYDNnkD0SZBxvCbCiUlKMMXzX3XPVmxV+2rstUSwlVV+1xwX3/D9e6LxeUgeSnIIKOqU1i1Mx2jYSTakJX9sGHDVc8+GndKuRJW9md5ruZWM9OPd1oigUNgzsZ3N8qM/J4drj7sRGXsqHFWVlaaNAOLVOd9GLhD1CX+VpzP5Ehxwq93CDrtz4oWwuklWydD9REwoD+jBYfw0S83b94i7d8b0jbV2NDKikR6HvwJwYF+RdHn9HGAuZ2FDQIf94gBpQOk9R6Y6I/cJ3leIKGJi8S/rYkAJn52ktlTtdsatdsFgSYEoBUXd1X7YmZMtB8tiJzAB5fFL2MD1wAKCyXGAESyRJHHTjVCu/MeyyVHgLFYnRZ9fLSh2v7HXx6xipLBtkq+hHdMmqst74bb+IHj5QKq6OOpCvYaLWuJtL8ZUTTW06OPnRSqYqStekmLRqwJWLmu1PaL/ZI5MZG/WHxi6TgIfMioMuGZmaDSBF2NIo/f3/q+JsNNSsXRxwZqNVNRUeGmlzfeeEMJYbfbNdOnq+bJ81r4DAhltJHcc/DgQRocV7h2i9QQTLRNRS//b5CgeFfaLVbx3WXiIzpw7NhxIj312uZthQJWetnYMeOc3HANJmG/jj5nYwnPB5b4R+3YucMFDFvUHTp4yEkOQQ442NNuHBcIDQS/rzSETQtIEajCtcMrhWWW4hgwQYPEmNgvs+/efXvsE/KlZXcdzPCQPMyTbqjSMY693snjid8Zvqzl5QOlcS3wlD5osdGG967t7SZ8cHazJfeI5ZIgAJHYqTEA0Zt89RRf0DAuauUOQySy9+PknflMwV2FiH0C2caMHesuFZBBiOGqVSttuPyYhw8fkRg3se2S6LX9G1aiTyhH4Z1T77DZe2bbqMoRtmrDamtkVnXXZ0amS7i2r1wz7ohSg2h3/MBZQF4xIWHJacYl4qFZhEBmkUIBGyY2hOhzzz9nryxc6CbkyspKn+hGKtXG0KHDlE9wlzRQW9wUhuaI81paENSQTRzxITGsyBHQf/nrq3bv5+5OERO/j1ZQZH1f//rrHmGLQKeODKrR2oavcmil72JApOdwaQzztTWZE960Z2xpfTPxfKY12oIIWNJoYA4Gy25du7mPGzs7zLjhBhuqic1NlzyEsEQL+KYT/W3SxsqsyT8ItHBlYoXoYBK9QqvZYvkkBtNHJmLQWnUKhBkNKtpnfNHQPvdSwmo3Ja9carOun+2m4PT+j3Bnn+SuXYv16uZ+hTs+2OHpgPDxhEz2l/8mPpqRU7RWa539OuQXxHyfpz6NKZm+ze5MyKzPfvazCROy+jcNgbb2gHwJf//737usQ56g6f1AMgSTMQvWNWvX2eEjR234iJFnv2H89pIikFzG+j2653W3OVfOsfzT+Ta+fJzVnay3LoVdtPexOGFuYj6Sc8YlrU9LLh6sA7g+/eQnPznjUkH2nvFD/CKrEcgoUpia2CQgMZUsem2RtCP77IEHHrAhEpDsbPLBBx+4lgltkyeMljz1EkhhC2a5ehEPrjtOAS6jRo70xLFoVlavXmk3fnKW+1rkaFUVyAxO48uUbgJhfe+99zrRIXoL4lOvvIW5eTmKqj3hORbTe1EYjOnfZc1nJje9GuU/BS7kxGNXhgal+/GUP5s2S3M6JkEKk23mx8uDe/HixbZQiwACKgoKE2lWwIWJsb6uXjvFTPV2gRRSOC/ri56Rfo5Zcdq06Z5oNk8LjGoFnCxfutzGyRyPf6AYdAoKxhHYQ/7QYL/5xpse9HSDyDiYsSsGaZNKB/QX1l1S58UPrY8AcgB/rTFjRkt+9HJtH/IB8/DMmTNTfoWhL78nK8VWWUZmz7nJpk2/RtrCGk8ojE+1u02obU/IPzeW9kHAF71B+6e26F/UXxXR2NM8lJ+Tb1eUXSkloTJieKDJKf1yGcuoD0VK+4Ad79ouCGQOKUxOaoEwIQDZSJ7JsFSRlOV69ZMfIWYUtG+ouyEKefkJn7RwXktQRItCMAOmN3wK9+FbuGKpdRcJQWtIkINrr/TOJIx/IZG0A8oGeGQnwRFEy3Id6rjx3U2u3UJLkF4/v0YWExpIM6ZgtBv4sqE9xdz5N+UhJMdgT5mCKZgtXOPHZ5mTJ8qXhahZx1q/UcJC4UTtCU9kXaDzQ3FyTltkafHpRP2EIBwwAUs010eOVNviVxbIL63Seur7UEIfo/8RHAXxg2Tz//HjxvuiBj9PopYPHT7oeyF3LpLkz+K+GLBpr/ew+8zq1Ws8yvNNaQ0JGrnqqqtShJC6BZlAW3crkb+0tOL9S/tbJ42DgQougUguX77cd7UpHziovR6nw9/X2ykQPTYlYN5KKibySEKe5IDKiaHftPOJdrSKJSJwOSGQOaRQE5OPJwaZPkP+bp97u6dnwHzIi2hJUpbwG9oTEkyT6oHkAEGotgR8iGhlZaXfC20KTrcl2nngbuUbDFvcIQQCUekqH8KbbvqU6rjFNYx8TyJhyFBZeZkTIbReTNYfITDJZ2xJXTP9XHZcGDF8hGt8ISeQQojKpEmfED6VXv2AI/9BU3LV1Vd5FObZ8q/5scLNA0/UF8I5/iHb/kDS9KwQOHwKIdiDRAxIR4IpEsfwK66epByQtyT2407iEWAganvypElOJsAeR/H+/RO+mmjDIYkDSsusS5F2Q9F9gpYqnB/fWw8BggzIe4oW/ODBA75D0xe/+EUnhQRNuTxRGwfZN7RyqN126y3O02uVequopIenIxqh6HvcW9Ac9umTCMKilt5+fKDPxHLJESBoMGVCZqetXKVDk3xXEi61BX+TpZM+55xUmrXMmWJD1XgGSliQh+/De1hc0imTPTP8FN87AAIZFX0cOmmYpPBLO6ooXogAQRz+vYSfm47lN0XuO3yjwh6g4byLbbdAPNhrd7cmYAQ2qW96aqcS6hDKaYSAzMxoCpm4cRxH08XOGxTMnQgKJnG25iPiE6d/Bht1R/vZ0rqGumTieyDA4IlP1QFNhpB4tF3k2yMvVsA61B8c0yPJw/fnes/qyVC4MbkwzUN/eae/YBKukpaPz/TJHr20/y3Hql992Dt1MIXv9cIfkT4HUaTfMaZYTGGe9/x5SUKZmggSZ8e/rYQAY4E2IEiErAmd8ju59SBf8oA2CoWAH9qLMUDmgkOHDvte711E4EOplbZ89+5ddAZPms/3WT0OwoNnyDtteXh3tXVZXmCdDhdZTp2Cuwo+bMP0auY25NrRqUcVfazck0UKKEr/sb0+q3+dlHWtob7OA87ONeaD/GZeo4RtSdur2vG+bYtA5ixj0gSkCzoJvpPawQJihbaD9DP45rAfaJ38dN6T+ZjgA5LwMuI4p7UK2j5SRjA40guDyAeMvk/ky5Mgb1QKm6r9CqhQ9LFW/kMrh6mufa1OA4/tqJoOKD+Puur5srEEzMI7O9MQNZ5ewm/p3zEZEiBxtkLb4o8otN2U6rkfOTBLMXQM9Mz06EAIwaCbXBV4hcLiQ6uRFCFM4SpcQu9iMUN/5nyIB2lOSLhO4fhzTQzhHvG95QjQX3F9Oa0XFo+UDEi7dIgyp02KuxT7K/zMgolzijSWBksupS9QOYa29fbO5vEQwGjHd8Yj2OeI8J3S/sZqVqWfYIxqSYZIV3LCxrxEaEl9p3qrP31S+wV1SY3Fdqy63zrIEyqU+nyWSvk8pz7l0ieRrfssR8WvshWBzCGFICyhRldEQJ7SHq/PvvCMPf/s80pePUB7hQ7zbbvGaZeLUYruhYRt3rzFJk6cmNAw0YlbKBRde5d2jbNNmOnfsTUQW7M98cQTLuwxj25VhOgkJaZlJ5O3NyS2GUOQo5kJkzDvLsjT7pUtHSwdnwt5JnAQGK5dJSqTqNr8ImlUT3yUkHPcWKXnuPXWW919AAyztqhfMMm7WE72kbNN+vmaoNJLU+zpzwnPzPSj4ue2RCC9TWjDpoTuQuoS2vls5zeVWRdyvXhM8xFwOaXT6gtOWMNULcZEBr34IE1+5o3/u0yTlr8bso0x2vQgDmz7kpAh2lJUGucTJ7QAP9/8o2fgmfGJjaVjIZBZpFCdMEx+hw4dtEWvLLH6kw320INf9qhTtknDSRvfv5Mn6zyqN13I0oldSF7iNuQ+vIggZJ9jzHJf//rXZdIZIaK60Xc2SSS0loZLWs3GUwkJwgQRiOElruLlc/m0NsPEdlDtPqh8kPXoXeQY055oCY9UH/X/g3uHKHpuHwsd4mHjQ0YEMhsB5BDjsbhLNzvdGW3geUanfkqIqYQ7gGvcMuTxqDfWG9dMn+cZQv7SPM21sXQsBDKHFLJqSZvwCSohZUaX4s5GQAdb3pUpMvWkoih37trpQSAKO3ANXTC9tAUhpHsEAQHJI0IaYkrqmjyloKmoqHCSiD/G7l17PLdh0xVZW5HXTO/KKYKnts+RGZ70NVdJ80sC60D2wRozKYl8McNhCk3vJ5n+jLF+EYGIQJYgIFlEdHij3ikf1dOf+Ywu39LmtDOPaONvVO9OBZ385b7KWFv0nS+zk88UapSDNUvfKeggfBXfOwgCmUMKBXi6qaW7Ioznzp3rJlg0cuwqgt/Z8BHDlZqkhztt792/x83MHqDQxp2XAU/wy8xZs+xtRYSSV5GAEkjLMCVmrpFT+YYNGzznXn5ecrWVrGNbkdeM78NpbYZMYqeGpgQ6/RkCiURYxRIRiAhEBNocAcmejyODoU4u5zNMVgVLlT9D0v3krNJUv/F9kLnhmeJ79iOQOdHHIgjpHdA/a0Ad11Z39QraIOt66LyQxxqlazis3U2IaO2kZL6Ya9uSbFE/duEgfUq1tIIn5aPRU2QVU3LQXB4SUTym30r7l4rQJr279ExtWc9M7sLgR0ErGNo+fWHwkbonCWToF0FbeM7jP3Jy/E9EICIQEYgIRAQiAh+HQOaQQtWUCd+Jn4hT+AwXIKVDvqIm07VI/M5WeKR4ICUNSu5w7sc9dGv9TiQhBBD/i0aZP4ns9NVVsi7si4yGE5V9rnJDRTLYBHnh1tQ4cS6MnAw2Of1cxzY5LP43IhARiAhEBCICEYELQCCjSOEF1DceEhGICEQEIgIRgcxAAK1FKFIQBAtG+Cr1zm/phfOafpf+e/wcEWgnBDLKp7CdMIi3jQhEBCICEYGIQLMQwD8PKxbuLzIUyYWoVtHJyb3EsSDpd7cciQCSQeF4zXHPrVuqnLuUaOloFtzx4DZCIJLCNgI63iYiEBGICEQEsggBEb/HHnvMvvrVr9of/vAHD4ScPn269nC/0jWG+JeTd/V///J/WXH3nh6MSEDiP//0pzZZuWxjiQhkIgLRfJyJrRLrFBGICEQEIgIZj8D/fPRR21W11yoHDbHvfe979vjjj9sdypqB9pAXu9Hs19aUr7zyig3XhgYETV5zzbUJM3M0H2d8+3bECkZS2BFbPT5zRCAiEBGICLQYAbbmXPTaazZU6bQqKytt+fLlNnnSJMtX0mdP/yLiR5Ac+16vlNawrKzcRo8e5b9x8/bMnsAWrfUNdQrWJPer8hKKxIoQtGudWtwg8QItRiCSwhZDGC8QEYgIRAQiAh0RARLrb9myxfbs2ePbm3YpLvZk+2gJ8SdEU8iWrSgFyafL8TU1Ndate/dEYuh21BZu2rTJnn76ac+1O2zoUOvGJhGBzKr+sXRMBKJPYcds9/jUEYGIQEQgItASBKRVIyVZRUWF78L029/9zvbt3Wf/9M//lDAPi1itXrPannzySevWtZvlFijv7tGTds20qfYPt92W2DGkJfdv4bnsulVRUek7ha1YscJz6pb07m2zZ89u4ZXj6ZczApEUXs6tF+seEYgIRAQiAu2CgOfSFfF788037an/+7R1Up7am2+5ORFVLMJIqRhSYd/4+jdsQFmpNTScslMNDXZMpmRUh+0dfVwsrWZh5wIrLy93Yniirk6kdm+7YBlvmjkIoOGOJSIQEYgIRAQiAhGBsyAg8peWjPDMAwgkofTp08d9B9kfmR22UqfpdC7AZMtGBwcOHrR+OtZtypzYTsVT6oiostsWBJUUOu+8866NGTta//+o+Vi/R67QTu3U1reNmsK2RjzeLyIQEYgIRASyAgGI1Y6dO+ypvzxlvUp62bZt2+znP/uZFeCTJwJIIAnBKM88+6y2O+1vC15ZaDNumGEzZ8wUcWx/npUr7earCpQpKCiwpUuXirSeslEKhBGnjaWDIhBJYQdt+PjYEYGIQEQgItAyBFCgFRYU2XXXX2cTJ060rVu3JszCKNbQECaJIf57L83/m9019x6bMmWyb83asju3ztnU/1TjKfvVL39ht99xp82aJbIKoY2lwyIQSWGHbfr44BGBiEBEICJwsQigJaR0kvkVLRtawu3bt9v48eM9JQ3mYVK8QA5LSkrs//zy17Zv/1577/2tNmHcuAR5vNibt9J5REN30S4s//7b31mtoqJfmjfP7rr7bsuD1MbSIRGILd8hmz0+dEQgIhARiAhcCALn8ymEGNYpeGSZSOGOHTtsknIUjhgxwqOS0cIdPnLYdu7c5aloqqurrba21qZMnWrdu3b1W7dnnsJdu3bZq6++6iR2yJAh1pU6icPCB5vWS88SucKFdJYsOCZqCrOgEeMjRAQiAhGBiED7IPDmG2842bv9s3Pt9f9c70msCwsLvTLHjh233/7uP2zI4ArDhHzk+GEbpkTXPZQTMBWI0j7VNkhhUeci69evn/3xj3+UdjPPrpp4tRPbdqpSvG0GIBDZfwY0QqxCRCAiEBGICGQmAufVFMo0vHPnTlu9erWCM/Ls3Xffte98+9uJHU0wHavUKdBklX4nSnlAWZlNnTIlI3Y02bBhg7311lt21113WUN9vZ04cdKOHjtqpaWlZ5i2o6YwM/vmpahVJIWXAtV4zYhARCAiEBHICgTORwpJ40Jgxq5du23d2rU2bfpU69Gjp+UlgzUww2JixvpaJVJY0KnAevTskfguAwI6MGcXKvKYelJHfAwht01LJIVNEcne/0dSmL1tG58sIhARiAhEBFqIwDlJoTSBmIC3Kbhk8aJFds89n7O//PUv9rl77klF8B44eMg2bdroZItj2fauj3YNGTd27Bl+ey2sZrNPd0IrIkjuRHZm8RLem1wtksImgGTxf2PseRY3bny0iEBEICIQEbg0CGAcdk2gSNX4CRPsgx0f2ML5L3sSaNe8Sfv2zsYN9vifH7dFixfbEgWjLJw/XxHKOzgzZUK+NLX7+Kt66hmRwPDuESYff1o8IssRiJrCLG/g+HgRgYhARCAicPEInEtTGFLSQA7XrVtnS5YssTlz5tiYMWM+Qvh8d5C0mbbxFObkRH0gj5dDiZrCy6GVWqeOaV21dS4YrxIRiAhEBCICEYFsQeBcpJDnC/6CwTSML6FrD5N+hHxPCd/5f5J/LhdC6PXH4TCWDoFAbOgO0czxISMCEYGIQETgYhA4Hym8mOtdjudETeHl2GoXV+fLQ3d9cc8Wz4oIRAQiAhGBiEBEICIQEbhABP4/h7LtalzYjeEAAAAASUVORK5CYII=)"
      ]
    },
    {
      "cell_type": "code",
      "metadata": {
        "id": "t-3BoT3GSPpJ"
      },
      "source": [
        "### Build simple CNN ###\n",
        "class pneumoniaNet(nn.Module):\n",
        "  def __init__(self):\n",
        "    super(pneumoniaNet, self).__init__()\n",
        "    self.conv1 = nn.Conv2d(3, 64, kernel_size=3, stride=1, padding=1)\n",
        "    self.pool1 = nn.MaxPool2d(kernel_size=2, stride=2)\n",
        "\n",
        "    self.conv2 = nn.Conv2d(64, 128, kernel_size=3, padding=1)\n",
        "    self.pool2 = nn.MaxPool2d(kernel_size=2, stride=2)\n",
        "\n",
        "    self.conv3 = nn.Conv2d(128, 256, kernel_size=3, padding=1)\n",
        "    self.pool3 = nn.MaxPool2d(kernel_size=2, stride=2)\n",
        "\n",
        "    self.conv4 = nn.Conv2d(256, 512, kernel_size=3, padding=1)\n",
        "    self.pool4 = nn.MaxPool2d(kernel_size=2, stride=2)\n",
        "\n",
        "\n",
        "    self.conv5_1 = nn.Conv2d(512, 512, kernel_size=3, padding=1)\n",
        "    self.pool5_1 = nn.MaxPool2d(kernel_size=2, stride=2)\n",
        "\n",
        "    self.conv5_2 = nn.Conv2d(512, 512, kernel_size=3, padding=1)\n",
        "    self.pool5_2 = nn.MaxPool2d(kernel_size=2, stride=2)\n",
        "\n",
        "    self.fc6 = nn.Linear(512*7*7, 4096) ### (inputnode=25088, outputnode=4096)\n",
        "    self.fc7 = nn.Linear(4096, 2)\n",
        "\n",
        "\n",
        "  def forward(self, input): # 1 x 3 x 224 x 224\n",
        "    x = self.pool1(F.relu(self.conv1(input)))\n",
        "    x = self.pool2(F.relu(self.conv2(x)))\n",
        "    x = self.pool3(F.relu(self.conv3(x)))\n",
        "    x = self.pool4(F.relu(self.conv4(x)))\n",
        "  \n",
        "    x_5_1 = self.pool5_1(F.relu(self.conv5_1(x)))\n",
        "    x_5_2 = self.pool5_2(F.relu(self.conv5_2(x)))\n",
        "\n",
        "    x = x_5_1 + x_5_2 ### output size of this line is (512,7,7)\n",
        "    x = x.view(-1, 512*7*7) ### change to (1,25088)\n",
        "\n",
        "    x = F.relu(self.fc6(x))\n",
        "    x = self.fc7(x)\n",
        "    return x"
      ],
      "execution_count": null,
      "outputs": []
    },
    {
      "cell_type": "markdown",
      "metadata": {
        "id": "YFlntk8xSj5o"
      },
      "source": [
        "### 4.4 Solution\n",
        "click \"cell hidden\" to show the solution"
      ]
    },
    {
      "cell_type": "code",
      "metadata": {
        "id": "0tTHP776HO0V"
      },
      "source": [
        "### Build simple CNN ###\n",
        "class pneumoniaNet(nn.Module):\n",
        "  def __init__(self):\n",
        "    super(pneumoniaNet, self).__init__()\n",
        "    self.conv1 = nn.Conv2d(3, 64, kernel_size=3, stride=1, padding=1)\n",
        "    self.pool1 = nn.MaxPool2d(kernel_size=2, stride=2)\n",
        "\n",
        "    self.conv2 = nn.Conv2d(64, 128, kernel_size=3, padding=1)\n",
        "    self.pool2 = nn.MaxPool2d(kernel_size=2, stride=2)\n",
        "\n",
        "    self.conv3 = nn.Conv2d(128, 256, kernel_size=3, padding=1)\n",
        "    self.pool3 = nn.MaxPool2d(kernel_size=2, stride=2)\n",
        "\n",
        "    self.conv4 = nn.Conv2d(256, 512, kernel_size=3, padding=1)\n",
        "    self.pool4 = nn.MaxPool2d(kernel_size=2, stride=2)\n",
        "\n",
        "\n",
        "    self.conv5_1 = nn.Conv2d(512, 512, kernel_size=3, padding=1)\n",
        "    self.pool5_1 = nn.MaxPool2d(kernel_size=2, stride=2)\n",
        "\n",
        "    self.conv5_2 = nn.Conv2d(512, 512, kernel_size=3, padding=1)\n",
        "    self.pool5_2 = nn.MaxPool2d(kernel_size=2, stride=2)\n",
        "\n",
        "    self.fc6 = nn.Linear(512*7*7, 4096)\n",
        "    self.fc7 = nn.Linear(4096, 2)\n",
        "\n",
        "\n",
        "  def forward(self, input): # 1 x 3 x 224 x 224\n",
        "    x = self.pool1(F.relu(self.conv1(input)))\n",
        "    x = self.pool2(F.relu(self.conv2(x)))\n",
        "    x = self.pool3(F.relu(self.conv3(x)))\n",
        "    x = self.pool4(F.relu(self.conv4(x)))\n",
        "\n",
        "    ###\n",
        "   \n",
        "    ###\n",
        "    x = x.view(-1, 512*7*7) ### change to (1,25088)\n",
        "    x = F.relu(self.fc6(x))\n",
        "    x = self.fc7(x)\n",
        "    return x"
      ],
      "execution_count": null,
      "outputs": []
    },
    {
      "cell_type": "markdown",
      "metadata": {
        "id": "FaU_BPy8S1NX"
      },
      "source": [
        "## 4.5 Construct the model, optimizer and loss function\n",
        "\n"
      ]
    },
    {
      "cell_type": "code",
      "metadata": {
        "id": "uKqoSO3klZzA"
      },
      "source": [
        "pneuNet = pneumoniaNet()"
      ],
      "execution_count": null,
      "outputs": []
    },
    {
      "cell_type": "markdown",
      "metadata": {
        "id": "t8cNZ7XClhHy"
      },
      "source": [
        "### 4.5.1 Network Debugging"
      ]
    },
    {
      "cell_type": "code",
      "metadata": {
        "id": "qLxhEn_flkxi"
      },
      "source": [
        "output = pneuNet(torch.zeros((1,3,224,224)))"
      ],
      "execution_count": null,
      "outputs": []
    },
    {
      "cell_type": "code",
      "metadata": {
        "id": "ZHm0GuydTPy7"
      },
      "source": [
        "pneuNet.cuda()\n",
        "\n",
        "### TODO : Add loss function and Adam optimizer ##\n",
        "criterion = \n",
        "optimizer = \n",
        "scheduler =\n",
        "\n",
        "pneumoniaTrainDatasetLoader = DataLoader(pneumoniaTrainDataset, batch_size=16, shuffle=True, num_workers=4, pin_memory=True)\n",
        "pneumoniaTestDatasetLoader = DataLoader(pneumoniaTestDataset, batch_size=16, shuffle=False, num_workers=4, pin_memory=True)"
      ],
      "execution_count": null,
      "outputs": []
    },
    {
      "cell_type": "markdown",
      "metadata": {
        "id": "zy4dlzpNdgoy"
      },
      "source": [
        "### 4.5 Solution"
      ]
    },
    {
      "cell_type": "code",
      "metadata": {
        "id": "t2D3P0PrdgzO"
      },
      "source": [
        "#@title\n",
        "pneuNet.cuda()\n",
        "\n",
        "criterion = nn.CrossEntropyLoss()\n",
        "optimizer = optim.Adam(pneuNet.parameters(), lr=0.001)\n",
        "scheduler = optim.lr_scheduler.ReduceLROnPlateau(optimizer, patience=5, verbose=True)\n",
        "\n",
        "pneumoniaTrainDatasetLoader = DataLoader(pneumoniaTrainDataset, batch_size=16, shuffle=True, num_workers=4, pin_memory=True)\n",
        "pneumoniaTestDatasetLoader = DataLoader(pneumoniaTestDataset, batch_size=16, shuffle=False, num_workers=4, pin_memory=True)"
      ],
      "execution_count": null,
      "outputs": []
    },
    {
      "cell_type": "markdown",
      "metadata": {
        "id": "SVDgb4Faakm5"
      },
      "source": [
        "## 4.5 Train the model"
      ]
    },
    {
      "cell_type": "code",
      "metadata": {
        "id": "Aiy7NAytaoPE"
      },
      "source": [
        "### Train and test helper function ###\n",
        "def testModel(testDatasetLoader, net):\n",
        "  net.eval()\n",
        "  correctImages = 0\n",
        "  totalImages = 0\n",
        "  allLabels = []\n",
        "  allPredicted = []\n",
        "  testingProgressbar = tqdm(enumerate(testDatasetLoader), total=len(testDatasetLoader), ncols='100%')\n",
        "  with torch.no_grad():\n",
        "    for batchIdx, batchData in testingProgressbar:\n",
        "      images, labels = batchData\n",
        "      \n",
        "      images, labels = images.cuda(), labels.cuda()\n",
        "      outputs = net(images)\n",
        "      _, predicted = torch.max(outputs, 1)\n",
        "\n",
        "      correctImages += (predicted == labels).sum().item()\n",
        "      totalImages += labels.size(0)\n",
        "\n",
        "      accumulateAccuracy = round((correctImages/totalImages)*100,4)\n",
        "      testingProgressbar.set_description(\"Testing accuracy: {}\".format(accumulateAccuracy ) )\n",
        "    \n",
        "      allLabels.append(labels)\n",
        "      allPredicted.append(predicted)\n",
        "  allLabels = torch.cat(allLabels).cpu().numpy()\n",
        "  allPredicted = torch.cat(allPredicted).cpu().numpy()\n",
        "  return correctImages, totalImages, allLabels, allPredicted\n",
        "\n",
        "def trainAndTestModel(trainDatasetLoader, testDatasetLoader, net, optimizer,scheduler, criterion, trainEpoch):\n",
        "  \n",
        "  bestAccuracy = 0\n",
        "  correctImages = 0\n",
        "  totalImages = 0\n",
        "  for currentEpoch in tqdm(range(trainEpoch), desc='Overall Training Progress:', ncols='100%'):\n",
        "    trainingLoss = 0.0\n",
        "    net.train()\n",
        "    print('Epoch',str(currentEpoch+1),'/',str(trainEpoch))\n",
        "    trainingProgressbar = tqdm(enumerate(trainDatasetLoader), total=len(trainDatasetLoader), ncols='100%')\n",
        "    for batchIdx, batchData in trainingProgressbar:\n",
        "      images, labels = batchData\n",
        "      images, labels = images.cuda(), labels.cuda()\n",
        "\n",
        "      # zero the parameter gradients\n",
        "      optimizer.zero_grad()\n",
        "\n",
        "      # forward + backward + optimize\n",
        "      outputs = net(images)\n",
        "      loss = criterion(outputs, labels)\n",
        "    \n",
        "      _, predicted = torch.max(outputs, 1)\n",
        "      correctImages += (predicted == labels).sum().item()\n",
        "      totalImages += labels.size(0)\n",
        "    \n",
        "      loss.backward()\n",
        "      optimizer.step()\n",
        "      \n",
        "\n",
        "      trainingLoss += loss.item()\n",
        "      accumulateAccuracy = round((correctImages/totalImages)*100,4)\n",
        "      trainingProgressbar.set_description(\"Training accuracy: {} loss: {}\".format(accumulateAccuracy, round(loss.item(),4) ) )\n",
        "    scheduler.step(trainingLoss)\n",
        "    correctImages, totalImages, allLabels, allPredicted = testModel(testDatasetLoader, net)\n",
        "    testAccuracy = round((correctImages/totalImages)*100,2)\n",
        "\n",
        "    print('='*10)\n",
        "    \n",
        "    if testAccuracy > bestAccuracy:\n",
        "      bestAccuracy = testAccuracy\n",
        "      bestPredicted = allPredicted\n",
        "      bestNet = net\n",
        "\n",
        "  return bestAccuracy, bestPredicted, allLabels, bestNet"
      ],
      "execution_count": null,
      "outputs": []
    },
    {
      "cell_type": "code",
      "metadata": {
        "id": "uSIG4qh1ao6r"
      },
      "source": [
        "### TODO : Train the model by using trainAndTestModel function ###\n",
        "allLabels, bestNet = trainAndTestModel(, \n",
        "                                       trainEpoch=3)"
      ],
      "execution_count": null,
      "outputs": []
    },
    {
      "cell_type": "markdown",
      "metadata": {
        "id": "i1C8f4hcav0u"
      },
      "source": [
        "### 4.5 Solution\n",
        "click \"cell hidden\" to show the solution"
      ]
    },
    {
      "cell_type": "code",
      "metadata": {
        "id": "Q4gcWt8qav_A"
      },
      "source": [
        "#@title\n",
        "bestAccuracy, bestPredicted, allLabels, bestNet = trainAndTestModel(pneumoniaTrainDatasetLoader, pneumoniaTestDatasetLoader, \n",
        "                                                                    pneuNet, \n",
        "                                                                    optimizer, scheduler, criterion, \n",
        "                                                                    trainEpoch=3)"
      ],
      "execution_count": null,
      "outputs": []
    },
    {
      "cell_type": "markdown",
      "metadata": {
        "id": "ZIQB3MRxfoMv"
      },
      "source": [
        "## 4.6 Find the confusion matrix and calculate TP, TN, FP, and FN"
      ]
    },
    {
      "cell_type": "code",
      "metadata": {
        "id": "wVR-Ho82dEmw"
      },
      "source": [
        "### Confusion matrix plot helper function from https://www.kaggle.com/grfiv4/plot-a-confusion-matrix ###\n",
        "def plot_confusion_matrix(cm,target_names,title='Confusion matrix',cmap=None,normalize=True):\n",
        "    import matplotlib.pyplot as plt\n",
        "    import numpy as np\n",
        "    import itertools\n",
        "\n",
        "    accuracy = np.trace(cm) / float(np.sum(cm))\n",
        "    misclass = 1 - accuracy\n",
        "\n",
        "    if cmap is None:\n",
        "        cmap = plt.get_cmap('Blues')\n",
        "\n",
        "    plt.figure(figsize=(8, 6))\n",
        "    plt.imshow(cm, interpolation='nearest', cmap=cmap)\n",
        "    plt.title(title)\n",
        "    plt.colorbar()\n",
        "\n",
        "    if target_names is not None:\n",
        "        tick_marks = np.arange(len(target_names))\n",
        "        plt.xticks(tick_marks, target_names, rotation=45)\n",
        "        plt.yticks(tick_marks, target_names)\n",
        "\n",
        "    if normalize:\n",
        "        cm = cm.astype('float') / cm.sum(axis=1)[:, np.newaxis]\n",
        "\n",
        "\n",
        "    thresh = cm.max() / 1.5 if normalize else cm.max() / 2\n",
        "    for i, j in itertools.product(range(cm.shape[0]), range(cm.shape[1])):\n",
        "        if normalize:\n",
        "            plt.text(j, i, \"{:0.4f}\".format(cm[i, j]),\n",
        "                     horizontalalignment=\"center\",\n",
        "                     color=\"white\" if cm[i, j] > thresh else \"black\")\n",
        "        else:\n",
        "            plt.text(j, i, \"{:,}\".format(cm[i, j]),\n",
        "                     horizontalalignment=\"center\",\n",
        "                     color=\"white\" if cm[i, j] > thresh else \"black\")\n",
        "            \n",
        "    plt.tight_layout()\n",
        "    plt.ylabel('True label')\n",
        "    plt.xlabel('Predicted label\\naccuracy={:0.4f}; misclass={:0.4f}'.format(accuracy, misclass))\n",
        "    plt.show()"
      ],
      "execution_count": null,
      "outputs": []
    },
    {
      "cell_type": "code",
      "metadata": {
        "id": "ywFnP5HgdFwF"
      },
      "source": [
        "confusionMatrix = confusion_matrix(allLabels, bestPredicted)\n",
        "plot_confusion_matrix(cm           = confusionMatrix, \n",
        "                      normalize    = False,\n",
        "                      target_names = pneumoniaTrainDataset.classes,\n",
        "                      title        = \"Pneumonia Classification Confusion Matrix\")\n",
        "tn, fp, fn, tp = confusionMatrix.ravel()\n",
        "print('TP:{} TN:{} FP:{} FN:{}'.format(tn, fp, fn, tp))"
      ],
      "execution_count": null,
      "outputs": []
    },
    {
      "cell_type": "markdown",
      "metadata": {
        "id": "geKIuYbMlxhx"
      },
      "source": [
        "## 4.7 Show Classification Results"
      ]
    },
    {
      "cell_type": "code",
      "metadata": {
        "id": "VcDcsDHOlxEj"
      },
      "source": [
        "def showRandomSamples(labels, predicted, testDataset, sampleNum=5):\n",
        "  equals = labels == predicted\n",
        "  correctIdx = np.where(equals == 1)[0].tolist()\n",
        "  incorrectIdx = np.where(equals == 0)[0].tolist()\n",
        "\n",
        "  randomCorrectIdx = random.sample(correctIdx, sampleNum)\n",
        "  randomIncorrectIdx  = random.sample(incorrectIdx, sampleNum)\n",
        "\n",
        "  _, figure = plt.subplots(2,sampleNum,figsize=(30,10))\n",
        "\n",
        "  ### Plot Correct ###\n",
        "  for imageIdx in range(len(randomCorrectIdx)):\n",
        "    image, className = getImageFromDataset(testDataset, randomCorrectIdx[imageIdx])\n",
        "    figure[0,imageIdx].imshow(image,cmap='gray')\n",
        "    figure[0,imageIdx].title.set_text('[CORRECT] '+className)\n",
        "\n",
        "  for imageIdx in range(len(randomIncorrectIdx)):\n",
        "    image, className = getImageFromDataset(testDataset, randomIncorrectIdx[imageIdx])\n",
        "    figure[1,imageIdx].imshow(image,cmap='gray')\n",
        "    predictedClassName = testDataset.classes[predicted[randomIncorrectIdx[imageIdx]]]\n",
        "    figure[1,imageIdx].title.set_text('Actual:'+className+' Predicted:' + predictedClassName)\n",
        "\n",
        "  plt.show()"
      ],
      "execution_count": null,
      "outputs": []
    },
    {
      "cell_type": "code",
      "metadata": {
        "id": "f5YzfpBHmn-o"
      },
      "source": [
        "showRandomSamples(allLabels,bestPredicted,pneumoniaTestDataset,sampleNum=4)"
      ],
      "execution_count": null,
      "outputs": []
    },
    {
      "cell_type": "markdown",
      "metadata": {
        "id": "LZYf3dfUkk40"
      },
      "source": [
        "## 4.8 Model Interpretability with GradCAM"
      ]
    },
    {
      "cell_type": "code",
      "metadata": {
        "id": "19DeXeC9hvdZ"
      },
      "source": [
        "def getLayer(model, layerName):\n",
        "    for name in layerName.split(\".\"):\n",
        "        model = getattr(model, name)\n",
        "    return model\n",
        "\n",
        "def scale(x):\n",
        "    x -= x.min()\n",
        "    x /= x.max() + np.spacing(1)\n",
        "    x *= 255\n",
        "    return np.array(x, dtype=np.uint8)\n",
        "\n",
        "def overlayHeatmap(img, grad):\n",
        "    imgnp = np.array(img)\n",
        "    grad = grad.squeeze().cpu().detach().numpy()\n",
        "    gradImg = scale(grad)\n",
        "    heatmap = cv2.applyColorMap(gradImg, cv2.COLORMAP_JET)\n",
        "    heatmap = heatmap[:, :, ::-1] # convert to rgb\n",
        "    return cv2.addWeighted(imgnp, 0.5, heatmap, 0.5, 0)\n",
        "\n",
        "def attribute(preprocImageTensor, originalInputImage ,net ,layername):\n",
        "    output = net(preprocImageTensor)\n",
        "    classNo = torch.argmax(output)\n",
        "    \n",
        "    \n",
        "    intermediateLayer = getLayer(net, layername)\n",
        "    layerGC = LayerGradCam(net, intermediateLayer)\n",
        "    \n",
        "    attr = layerGC.attribute(preprocImageTensor, classNo)\n",
        "    heatmap = overlayHeatmap(originalInputImage, LayerAttribution.interpolate(attr, originalInputImage.shape[0:2], 'bilinear'))\n",
        "    return heatmap, classNo.item()"
      ],
      "execution_count": null,
      "outputs": []
    },
    {
      "cell_type": "code",
      "metadata": {
        "id": "3xwsBjTIh00c"
      },
      "source": [
        "sampleImage = cv2.imread('chest_xray/test/PNEUMONIA/person112_bacteria_538.jpeg')\n",
        "sampleImage = cv2.resize(sampleImage, (224,224))\n",
        "plt.imshow(sampleImage)\n",
        "\n",
        "sampleTensor = ((sampleImage / 255) - [0.485, 0.456, 0.406]) / [0.229, 0.224, 0.225]\n",
        "\n",
        "sampleTensor = torch.from_numpy(sampleTensor).permute(2,0,1).unsqueeze(0).float().cuda()\n",
        "sampleTensor.cuda()\n",
        "print(sampleTensor.shape)"
      ],
      "execution_count": null,
      "outputs": []
    },
    {
      "cell_type": "code",
      "metadata": {
        "id": "rRNf_XBFh6jI"
      },
      "source": [
        "heatMap, classNo = attribute(sampleTensor, sampleImage, bestNet, 'conv5_1') # We typically attach gradcam to last convolution layer\n",
        "plt.imshow(heatMap)\n",
        "print(classNo)"
      ],
      "execution_count": null,
      "outputs": []
    }
  ]
}