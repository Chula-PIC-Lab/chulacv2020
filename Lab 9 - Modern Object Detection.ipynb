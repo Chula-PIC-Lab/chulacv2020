{
  "nbformat": 4,
  "nbformat_minor": 0,
  "metadata": {
    "colab": {
      "name": "Lab 8 - Modern Object Detection",
      "provenance": [],
      "collapsed_sections": [],
      "toc_visible": true
    },
    "kernelspec": {
      "name": "python3",
      "display_name": "Python 3"
    },
    "language_info": {
      "name": "python"
    },
    "accelerator": "GPU"
  },
  "cells": [
    {
      "cell_type": "markdown",
      "metadata": {
        "id": "wrUIhm-p8c6t"
      },
      "source": [
        "#2110443 - Computer Vision (2020/2)\n",
        "\n",
        "#Lab 9 - Modern Object Detection \n",
        "In this lab, we will learn how to use Convolutional Neural Network on object detection problem by using famouse object detection framework <a href=\"https://github.com/open-mmlab/mmdetection\">MMDetection</a>. This notebook includes both coding and written questions. Please hand in this notebook file with all outputs and your answer"
      ]
    },
    {
      "cell_type": "markdown",
      "metadata": {
        "id": "1hj7dEze9C9x"
      },
      "source": [
        "Install prerequisite libraries for MMDetection\n",
        "![mmdetection](https://raw.githubusercontent.com/open-mmlab/mmdetection/master/resources/mmdet-logo.png)"
      ]
    },
    {
      "cell_type": "code",
      "metadata": {
        "id": "onhG6W0rHo_Z"
      },
      "source": [
        "!pip uninstall -y torch torchvision torchtext torchaudio pycocotools # prebuilt mmdetection require PyTorch 1.7.0\n",
        "!pip install torch==1.7.0+cu110 torchvision==0.8.1+cu110 torchaudio==0.7.0 -f https://download.pytorch.org/whl/torch_stable.html\n",
        "!pip install mmcv-full==1.2.7 -f https://download.openmmlab.com/mmcv/dist/cu110/torch1.7.0/index.html\n",
        "!pip install mmdet==2.10.0\n",
        "!pip install mmpycocotools"
      ],
      "execution_count": null,
      "outputs": []
    },
    {
      "cell_type": "code",
      "metadata": {
        "id": "BmRJqnfCQmjz"
      },
      "source": [
        "!rm -rf mmdetection\n",
        "!git clone https://github.com/open-mmlab/mmdetection.git\n",
        "\n",
        "%cd mmdetection\n",
        "!git checkout tags/v2.10.0\n",
        "%cd /content"
      ],
      "execution_count": null,
      "outputs": []
    },
    {
      "cell_type": "markdown",
      "metadata": {
        "id": "-VaJoXA9-Blk"
      },
      "source": [
        "## MMDetection pretrained model (MaskRCNN)"
      ]
    },
    {
      "cell_type": "code",
      "metadata": {
        "id": "S-uyMU2OIgww"
      },
      "source": [
        "import mmcv\n",
        "import numpy as np"
      ],
      "execution_count": null,
      "outputs": []
    },
    {
      "cell_type": "code",
      "metadata": {
        "id": "78rhlVw5LXL9"
      },
      "source": [
        "!mkdir checkpoints\n",
        "!wget -c http://download.openmmlab.com/mmdetection/v2.0/mask_rcnn/mask_rcnn_r50_caffe_fpn_mstrain-poly_3x_coco/mask_rcnn_r50_caffe_fpn_mstrain-poly_3x_coco_bbox_mAP-0.408__segm_mAP-0.37_20200504_163245-42aa3d00.pth \\\n",
        "      -O checkpoints/mask_rcnn_r50_caffe_fpn_mstrain-poly_3x_coco_bbox_mAP-0.408__segm_mAP-0.37_20200504_163245-42aa3d00.pth"
      ],
      "execution_count": null,
      "outputs": []
    },
    {
      "cell_type": "code",
      "metadata": {
        "id": "gmQOIzeILlLD"
      },
      "source": [
        "from mmdet.apis import inference_detector, init_detector, show_result_pyplot\n",
        "\n",
        "# Read MaskRCNN config file\n",
        "config = 'mmdetection/configs/mask_rcnn/mask_rcnn_r50_caffe_fpn_mstrain-poly_3x_coco.py'\n",
        "\n",
        "# MaskRCNN pretrained on COCO dataset\n",
        "checkpoint = 'checkpoints/mask_rcnn_r50_caffe_fpn_mstrain-poly_3x_coco_bbox_mAP-0.408__segm_mAP-0.37_20200504_163245-42aa3d00.pth'\n",
        "\n",
        "# initialize the detector\n",
        "maskRCNNModel = init_detector(config, checkpoint, device='cuda')"
      ],
      "execution_count": null,
      "outputs": []
    },
    {
      "cell_type": "code",
      "metadata": {
        "id": "3G13ocqIL-ls"
      },
      "source": [
        "# Read inputImage and apply detector\n",
        "inputImage = 'mmdetection/demo/demo.jpg'\n",
        "result = inference_detector(maskRCNNModel, inputImage)\n",
        "\n",
        "# Show Result\n",
        "show_result_pyplot(model, img, result, score_thr=0.3)"
      ],
      "execution_count": null,
      "outputs": []
    },
    {
      "cell_type": "markdown",
      "metadata": {
        "id": "4US6hUPu-InP"
      },
      "source": [
        "## Raccoon Dataset\n",
        "![Raccoon Dataset](https://i.imgur.com/cRQJ1PB.png)\n",
        "\n",
        "Dataset URL : https://github.com/datitran/raccoon_dataset <br>\n",
        "This dataset contains 196 images of raccoons and 213 bounding boxes (some images contain two raccoons). This is a single class problem, and images various size and scene condition. It's a great first dataset for getting started with object detection.\n",
        "\n"
      ]
    },
    {
      "cell_type": "markdown",
      "metadata": {
        "id": "4Z5ZfEOV-_I7"
      },
      "source": [
        "Download and extract preprocessed dataset from lab server"
      ]
    },
    {
      "cell_type": "code",
      "metadata": {
        "id": "Cf-rybL6--ZY"
      },
      "source": [
        "!wget http://piclab.ai/classes/cv2020/raccoonsDataset.zip\n",
        "!unzip -q raccoonsDataset.zip"
      ],
      "execution_count": null,
      "outputs": []
    },
    {
      "cell_type": "markdown",
      "metadata": {
        "id": "UUhABcbjACMy"
      },
      "source": [
        "### Dataset Exploration\n",
        "We will use pycocotools to explore this dataset. "
      ]
    },
    {
      "cell_type": "code",
      "metadata": {
        "id": "cxQn5o5QAFxC"
      },
      "source": [
        "from pycocotools.coco import COCO\n",
        "import numpy as np\n",
        "import cv2\n",
        "import matplotlib.pyplot as plt"
      ],
      "execution_count": null,
      "outputs": []
    },
    {
      "cell_type": "code",
      "metadata": {
        "id": "FKtFLthuA_5k"
      },
      "source": [
        "trainLabelFile='raccoons/coco_annotations.json'\n",
        "# initialize COCO api for instance annotations\n",
        "trainCOCOBinding = COCO(trainLabelFile)"
      ],
      "execution_count": null,
      "outputs": []
    },
    {
      "cell_type": "code",
      "metadata": {
        "id": "h2jBXmauBmL2"
      },
      "source": [
        "#display COCO categories and supercategories\n",
        "cats = trainCOCOBinding.loadCats(trainCOCOBinding.getCatIds())\n",
        "nms=[cat['name'] for cat in cats]\n",
        "print('COCO categories: \\n{}\\n'.format(' '.join(nms)))\n",
        "\n",
        "# get all images containing given categories, select one at random\n",
        "catIds = trainCOCOBinding.getCatIds(catNms=['raccoon']);\n",
        "imgIds = trainCOCOBinding.getImgIds(catIds=catIds );\n",
        "\n",
        "randomImgId = np.random.randint(0,len(imgIds))\n",
        "sampleImageData = trainCOCOBinding.loadImgs(imgIds[randomImgId])[0]\n",
        "\n",
        "print('Image Data >>', sampleImageData)\n",
        "\n",
        "sampleImage = cv2.imread('raccoons/'+sampleImageData['file_name'])\n",
        "\n",
        "annIds = trainCOCOBinding.getAnnIds(imgIds=randomImgId, catIds=catIds, iscrowd=None)\n",
        "boxes = trainCOCOBinding.loadAnns(annIds)\n",
        "print('Box Data', boxes)\n",
        "\n",
        "for box in boxes:\n",
        "  x,y,w,h = box['bbox']\n",
        "  cv2.rectangle(sampleImage, (int(x), int(y)), (int(x+w), int(y+h)), (0,255,0), 5)\n",
        "\n",
        "sampleImage = cv2.cvtColor(sampleImage, cv2.COLOR_BGR2RGB)\n",
        "\n",
        "plt.imshow(sampleImage)\n",
        "plt.show()"
      ],
      "execution_count": null,
      "outputs": []
    },
    {
      "cell_type": "markdown",
      "metadata": {
        "id": "8C-P6uBiT308"
      },
      "source": [
        "### Modify MMDetection model configuration"
      ]
    },
    {
      "cell_type": "code",
      "metadata": {
        "id": "-Us_H4ffBuNe"
      },
      "source": [
        "from mmcv import Config\n",
        "\n",
        "!wget -c https://www.piclab.ai/classes/cv2020/ssd300_raccoon.py \\\n",
        "      -O mmdetection/configs/ssd/ssd300_raccoon.py\n",
        "\n",
        "modelConfig = Config.fromfile('mmdetection/configs/ssd/ssd300_raccoon.py') \n",
        "\n",
        "!mkdir checkpoints\n",
        "!wget -c http://download.openmmlab.com/mmdetection/v2.0/ssd/ssd300_coco/ssd300_coco_20200307-a92d2092.pth \\\n",
        "      -O checkpoints/ssd300_coco_20200307-a92d2092.pth\n",
        "\n",
        "print(f'Original Config:\\n{modelConfig.pretty_text}')"
      ],
      "execution_count": null,
      "outputs": []
    },
    {
      "cell_type": "code",
      "metadata": {
        "id": "3-XO052sUT9p"
      },
      "source": [
        "from mmdet.apis import set_random_seed\n",
        "\n",
        "# Modify dataset type and path\n",
        "modelConfig.dataset_type = 'CocoDataset'\n",
        "modelConfig.data_root = './raccoons'\n",
        "modelConfig.classes = ('raccoon',)\n",
        "\n",
        "modelConfig.data.train.type = 'CocoDataset'\n",
        "modelConfig.data.train.classes = ('raccoon',)\n",
        "modelConfig.data.train.data_root = './raccoons'\n",
        "modelConfig.data.train.ann_file = 'coco_annotations.json'\n",
        "modelConfig.data.train.img_prefix = ''\n",
        "\n",
        "modelConfig.data.test.type = 'CocoDataset'\n",
        "modelConfig.data.test.classes =('raccoon',)\n",
        "modelConfig.data.test.data_root = './raccoons'\n",
        "modelConfig.data.test.ann_file = 'coco_annotations.json'\n",
        "modelConfig.data.test.img_prefix = ''\n",
        "\n",
        "modelConfig.data.val.type = 'CocoDataset'\n",
        "modelConfig.data.val.classes =('raccoon',)\n",
        "modelConfig.data.val.data_root = './raccoons'\n",
        "modelConfig.data.val.ann_file = 'coco_annotations.json'\n",
        "modelConfig.data.val.img_prefix = ''\n",
        "\n",
        "# Modify num classes of the model in box head\n",
        "modelConfig.model.bbox_head.num_classes = 1\n",
        "\n",
        "# use pretrained model as start point\n",
        "modelConfig.load_from = 'checkpoints/ssd300_coco_20200307-a92d2092.pth'\n",
        "\n",
        "# Set up working dir to save files and logs.\n",
        "modelConfig.work_dir = './experiments'\n",
        "\n",
        "modelConfig.optimizer.lr = 1e-3\n",
        "modelConfig.lr_config.warmup = None\n",
        "modelConfig.lr_config.policy = 'step'\n",
        "modelConfig.lr_config.step = [5,10]\n",
        "modelConfig.log_config.interval = 10\n",
        "\n",
        "# Evaluation interval\n",
        "modelConfig.evaluation.interval = 5\n",
        "# Checkpoint saving interval\n",
        "modelConfig.checkpoint_config.interval = 5\n",
        "modelConfig.runner.max_epochs = 15\n",
        "\n",
        "# Set seed thus the results are more reproducible\n",
        "modelConfig.seed = 0\n",
        "set_random_seed(0, deterministic=False)\n",
        "modelConfig.gpu_ids = range(1)\n",
        "\n",
        "# We can initialize the logger for training and have a look\n",
        "# at the final config used for training\n",
        "print(f'Modified Config:\\n{modelConfig.pretty_text}')"
      ],
      "execution_count": null,
      "outputs": []
    },
    {
      "cell_type": "markdown",
      "metadata": {
        "id": "l31mBG-U16xN"
      },
      "source": [
        "### Training"
      ]
    },
    {
      "cell_type": "code",
      "metadata": {
        "id": "a0o5ELx5ZrMC"
      },
      "source": [
        "from mmdet.datasets import build_dataset\n",
        "from mmdet.models import build_detector\n",
        "from mmdet.apis import train_detector\n",
        "import mmcv\n",
        "import os\n",
        "\n",
        "# Build dataset\n",
        "datasets = [build_dataset(modelConfig.data.train)]\n",
        "\n",
        "# Build the detector\n",
        "model = build_detector(modelConfig.model, train_cfg=modelConfig.get('train_cfg'), test_cfg=modelConfig.get('test_cfg'))\n",
        "\n",
        "# Create work_dir\n",
        "mmcv.mkdir_or_exist(os.path.abspath(modelConfig.work_dir))\n",
        "train_detector(model, datasets, modelConfig, distributed=False, validate=True)"
      ],
      "execution_count": null,
      "outputs": []
    },
    {
      "cell_type": "markdown",
      "metadata": {
        "id": "Ysaru06J1-7h"
      },
      "source": [
        "### Inference on image!"
      ]
    },
    {
      "cell_type": "code",
      "metadata": {
        "id": "Ntujgji0bsXN"
      },
      "source": [
        "from mmdet.apis import inference_detector, init_detector, show_result_pyplot\n",
        "inputImage = mmcv.imread('raccoons/raccoon-115_jpg.rf.9723b0a68ad8ed8bdb5ccf6a210ba09b.jpg')\n",
        "\n",
        "model.cfg = modelConfig\n",
        "model.CLASSES = ('raccoons',)\n",
        "\n",
        "result = inference_detector(model, inputImage)\n",
        "show_result_pyplot(model, inputImage, result)"
      ],
      "execution_count": null,
      "outputs": []
    },
    {
      "cell_type": "code",
      "metadata": {
        "id": "2eMUz6_Zxmmn"
      },
      "source": [
        ""
      ],
      "execution_count": null,
      "outputs": []
    }
  ]
}